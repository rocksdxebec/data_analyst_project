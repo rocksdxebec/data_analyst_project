{
 "cells": [
  {
   "cell_type": "markdown",
   "metadata": {},
   "source": [
    "## In-depth exploration on the rise of jobs in the data domain\n",
    "\n",
    "#### 1. Introduction to the Data Landscape:\n",
    "\n",
    "In recent years, the global business landscape has undergone a seismic shift, with data emerging as a critical factor driving decision-making across sectors. According to a report from the World Economic Forum, by 2025, the world will produce 463 exabytes of data each day, revealing the sheer volume and potential of data1. Consequently, there's been a surge in demand for professionals skilled in harnessing and making sense of this vast reservoir of information, leading to the rise of jobs such as data scientists, machine learning engineers, and big data engineers.\n",
    "\n",
    "#### 2. The Data Scientist Phenomenon:\n",
    "\n",
    "Often touted as the \"sexiest job of the 21st century\" by the Harvard Business Review2, the role of the data scientist has seen unparalleled growth. Businesses, recognizing the value of data-driven decision-making, have been clamoring to hire experts who can sift through massive datasets, extract insights, and convert them into actionable strategies. As per LinkedIn, data science positions have seen a growth rate of 650% since 20123, illustrating their escalating importance in the contemporary job market.\n",
    "\n",
    "#### 3. Machine Learning Engineers and Scientists:\n",
    "\n",
    "Parallel to the rise of data scientists has been the growth in demand for machine learning engineers and scientists. As industries increasingly turn to automation and artificial intelligence, individuals skilled in creating, testing, and applying machine learning models have become indispensable4. These professionals bridge the gap between theoretical advances in machine learning and their practical application in business settings.\n",
    "\n",
    "#### 4. Big Data Engineers and the Infrastructure Challenge:\n",
    "\n",
    "With the exponential growth in data comes the challenge of storing, processing, and accessing this data efficiently. Enter the big data engineer, responsible for building robust and scalable data infrastructure. Their expertise ensures that the vast streams of data flowing into organizations are structured and accessible, paving the way for meaningful analysis\n",
    "\n",
    "#### 5. Crafting the Blueprint: Data Architects:\n",
    "\n",
    "Data architects play the pivotal role of designing data systems and structures. Their vision helps lay down the roadmap for how data will be stored, utilized, and integrated across platforms and departments6. As businesses transition to being more data-centric, ensuring a sound architecture becomes fundamental, and as a result, data architects have found themselves in increasing demand.\n",
    "\n",
    "#### 6. The Principle Data Scientist and Leadership in Data:\n",
    "\n",
    "While entry and mid-level data roles are burgeoning, there's also been a rise in leadership positions like the principle data scientist. These individuals don't just possess technical know-how; they also carry a strategic mindset that helps steer data-driven initiatives at an organizational level. They play a role in both hands-on data analysis and guiding a team to align with larger business objectives\n",
    "\n",
    "#### 7. Conclusion and Future Prospects:\n",
    "\n",
    "The rise of these roles underlines the larger trend towards a world increasingly driven by data. As businesses continue to recognize the power of data in providing a competitive edge, the demand for these professions is only set to grow. Individuals looking to future-proof their careers would do well to consider the expansive and promising field of data science and its associated roles.\n",
    "\n",
    "1. [How much data is generated each day?](https://www.weforum.org/agenda/2019/04/how-much-data-is-generated-each-day-cf4bddf29f/)\n",
    "2. [Data Scientist: The Sexiest Job of the 21st Century](https://hbr.org/2012/10/data-scientist-the-sexiest-job-of-the-21st-century)"
   ]
  },
  {
   "cell_type": "code",
   "execution_count": 1,
   "metadata": {},
   "outputs": [],
   "source": [
    "# data\n",
    "import pandas as pd\n",
    "import numpy as np\n",
    "\n",
    "# visualization\n",
    "import matplotlib as mpl\n",
    "import matplotlib.pyplot as plt\n",
    "import seaborn as sns\n",
    "import plotly.express as px\n",
    "import plotly.figure_factory as ff\n",
    "import plotly.graph_objects as go\n",
    "from wordcloud import WordCloud"
   ]
  },
  {
   "cell_type": "markdown",
   "metadata": {},
   "source": [
    "## Importing the dataset from the file"
   ]
  },
  {
   "cell_type": "code",
   "execution_count": 2,
   "metadata": {},
   "outputs": [
    {
     "data": {
      "text/html": [
       "<div>\n",
       "<style scoped>\n",
       "    .dataframe tbody tr th:only-of-type {\n",
       "        vertical-align: middle;\n",
       "    }\n",
       "\n",
       "    .dataframe tbody tr th {\n",
       "        vertical-align: top;\n",
       "    }\n",
       "\n",
       "    .dataframe thead th {\n",
       "        text-align: right;\n",
       "    }\n",
       "</style>\n",
       "<table border=\"1\" class=\"dataframe\">\n",
       "  <thead>\n",
       "    <tr style=\"text-align: right;\">\n",
       "      <th></th>\n",
       "      <th>Unnamed: 0</th>\n",
       "      <th>work_year</th>\n",
       "      <th>experience_level</th>\n",
       "      <th>employment_type</th>\n",
       "      <th>job_title</th>\n",
       "      <th>salary</th>\n",
       "      <th>salary_currency</th>\n",
       "      <th>salary_in_usd</th>\n",
       "      <th>employee_residence</th>\n",
       "      <th>remote_ratio</th>\n",
       "      <th>company_location</th>\n",
       "      <th>company_size</th>\n",
       "    </tr>\n",
       "  </thead>\n",
       "  <tbody>\n",
       "    <tr>\n",
       "      <th>0</th>\n",
       "      <td>0</td>\n",
       "      <td>2020</td>\n",
       "      <td>MI</td>\n",
       "      <td>FT</td>\n",
       "      <td>Data Scientist</td>\n",
       "      <td>70000</td>\n",
       "      <td>EUR</td>\n",
       "      <td>79833</td>\n",
       "      <td>DE</td>\n",
       "      <td>0</td>\n",
       "      <td>DE</td>\n",
       "      <td>L</td>\n",
       "    </tr>\n",
       "    <tr>\n",
       "      <th>1</th>\n",
       "      <td>1</td>\n",
       "      <td>2020</td>\n",
       "      <td>SE</td>\n",
       "      <td>FT</td>\n",
       "      <td>Machine Learning Scientist</td>\n",
       "      <td>260000</td>\n",
       "      <td>USD</td>\n",
       "      <td>260000</td>\n",
       "      <td>JP</td>\n",
       "      <td>0</td>\n",
       "      <td>JP</td>\n",
       "      <td>S</td>\n",
       "    </tr>\n",
       "    <tr>\n",
       "      <th>2</th>\n",
       "      <td>2</td>\n",
       "      <td>2020</td>\n",
       "      <td>SE</td>\n",
       "      <td>FT</td>\n",
       "      <td>Big Data Engineer</td>\n",
       "      <td>85000</td>\n",
       "      <td>GBP</td>\n",
       "      <td>109024</td>\n",
       "      <td>GB</td>\n",
       "      <td>50</td>\n",
       "      <td>GB</td>\n",
       "      <td>M</td>\n",
       "    </tr>\n",
       "    <tr>\n",
       "      <th>3</th>\n",
       "      <td>3</td>\n",
       "      <td>2020</td>\n",
       "      <td>MI</td>\n",
       "      <td>FT</td>\n",
       "      <td>Product Data Analyst</td>\n",
       "      <td>20000</td>\n",
       "      <td>USD</td>\n",
       "      <td>20000</td>\n",
       "      <td>HN</td>\n",
       "      <td>0</td>\n",
       "      <td>HN</td>\n",
       "      <td>S</td>\n",
       "    </tr>\n",
       "    <tr>\n",
       "      <th>4</th>\n",
       "      <td>4</td>\n",
       "      <td>2020</td>\n",
       "      <td>SE</td>\n",
       "      <td>FT</td>\n",
       "      <td>Machine Learning Engineer</td>\n",
       "      <td>150000</td>\n",
       "      <td>USD</td>\n",
       "      <td>150000</td>\n",
       "      <td>US</td>\n",
       "      <td>50</td>\n",
       "      <td>US</td>\n",
       "      <td>L</td>\n",
       "    </tr>\n",
       "    <tr>\n",
       "      <th>5</th>\n",
       "      <td>5</td>\n",
       "      <td>2020</td>\n",
       "      <td>EN</td>\n",
       "      <td>FT</td>\n",
       "      <td>Data Analyst</td>\n",
       "      <td>72000</td>\n",
       "      <td>USD</td>\n",
       "      <td>72000</td>\n",
       "      <td>US</td>\n",
       "      <td>100</td>\n",
       "      <td>US</td>\n",
       "      <td>L</td>\n",
       "    </tr>\n",
       "    <tr>\n",
       "      <th>6</th>\n",
       "      <td>6</td>\n",
       "      <td>2020</td>\n",
       "      <td>SE</td>\n",
       "      <td>FT</td>\n",
       "      <td>Lead Data Scientist</td>\n",
       "      <td>190000</td>\n",
       "      <td>USD</td>\n",
       "      <td>190000</td>\n",
       "      <td>US</td>\n",
       "      <td>100</td>\n",
       "      <td>US</td>\n",
       "      <td>S</td>\n",
       "    </tr>\n",
       "    <tr>\n",
       "      <th>7</th>\n",
       "      <td>7</td>\n",
       "      <td>2020</td>\n",
       "      <td>MI</td>\n",
       "      <td>FT</td>\n",
       "      <td>Data Scientist</td>\n",
       "      <td>11000000</td>\n",
       "      <td>HUF</td>\n",
       "      <td>35735</td>\n",
       "      <td>HU</td>\n",
       "      <td>50</td>\n",
       "      <td>HU</td>\n",
       "      <td>L</td>\n",
       "    </tr>\n",
       "    <tr>\n",
       "      <th>8</th>\n",
       "      <td>8</td>\n",
       "      <td>2020</td>\n",
       "      <td>MI</td>\n",
       "      <td>FT</td>\n",
       "      <td>Business Data Analyst</td>\n",
       "      <td>135000</td>\n",
       "      <td>USD</td>\n",
       "      <td>135000</td>\n",
       "      <td>US</td>\n",
       "      <td>100</td>\n",
       "      <td>US</td>\n",
       "      <td>L</td>\n",
       "    </tr>\n",
       "    <tr>\n",
       "      <th>9</th>\n",
       "      <td>9</td>\n",
       "      <td>2020</td>\n",
       "      <td>SE</td>\n",
       "      <td>FT</td>\n",
       "      <td>Lead Data Engineer</td>\n",
       "      <td>125000</td>\n",
       "      <td>USD</td>\n",
       "      <td>125000</td>\n",
       "      <td>NZ</td>\n",
       "      <td>50</td>\n",
       "      <td>NZ</td>\n",
       "      <td>S</td>\n",
       "    </tr>\n",
       "  </tbody>\n",
       "</table>\n",
       "</div>"
      ],
      "text/plain": [
       "   Unnamed: 0  work_year experience_level employment_type  \\\n",
       "0           0       2020               MI              FT   \n",
       "1           1       2020               SE              FT   \n",
       "2           2       2020               SE              FT   \n",
       "3           3       2020               MI              FT   \n",
       "4           4       2020               SE              FT   \n",
       "5           5       2020               EN              FT   \n",
       "6           6       2020               SE              FT   \n",
       "7           7       2020               MI              FT   \n",
       "8           8       2020               MI              FT   \n",
       "9           9       2020               SE              FT   \n",
       "\n",
       "                    job_title    salary salary_currency  salary_in_usd  \\\n",
       "0              Data Scientist     70000             EUR          79833   \n",
       "1  Machine Learning Scientist    260000             USD         260000   \n",
       "2           Big Data Engineer     85000             GBP         109024   \n",
       "3        Product Data Analyst     20000             USD          20000   \n",
       "4   Machine Learning Engineer    150000             USD         150000   \n",
       "5                Data Analyst     72000             USD          72000   \n",
       "6         Lead Data Scientist    190000             USD         190000   \n",
       "7              Data Scientist  11000000             HUF          35735   \n",
       "8       Business Data Analyst    135000             USD         135000   \n",
       "9          Lead Data Engineer    125000             USD         125000   \n",
       "\n",
       "  employee_residence  remote_ratio company_location company_size  \n",
       "0                 DE             0               DE            L  \n",
       "1                 JP             0               JP            S  \n",
       "2                 GB            50               GB            M  \n",
       "3                 HN             0               HN            S  \n",
       "4                 US            50               US            L  \n",
       "5                 US           100               US            L  \n",
       "6                 US           100               US            S  \n",
       "7                 HU            50               HU            L  \n",
       "8                 US           100               US            L  \n",
       "9                 NZ            50               NZ            S  "
      ]
     },
     "execution_count": 2,
     "metadata": {},
     "output_type": "execute_result"
    }
   ],
   "source": [
    "df = pd.read_csv('./data/ds_salaries.csv')\n",
    "df.head(10)"
   ]
  },
  {
   "cell_type": "markdown",
   "metadata": {},
   "source": [
    "#### Detailed info about the columns and its respective values is given below:\n",
    "\n",
    "1. work_year: The year the salary was paid\n",
    "\n",
    "2. experience_level: The experience level in the job during the year with the following possible values:\n",
    "\n",
    "- EN = Entry-level / Junior;\n",
    "- MI = Mid-level / Intermediate;\n",
    "- SE = Senior-level / Expert;\n",
    "- EX = Executive-level / Director\n",
    "\n",
    "3. employment_type: The type of employement for the role:\n",
    "\n",
    "- PT = Part-time;\n",
    "- FT = Full-time;\n",
    "- CT = Contract;\n",
    "- FL = Freelance;\n",
    "\n",
    "4. job_title: The role worked in during the year.\n",
    "\n",
    "5. salary: The total gross salary amount paid.\n",
    "\n",
    "6. salary_currency: The currency of the salary paid as an ISO 4217 currency code.\n",
    "\n",
    "7. salary_in_usd: The salary in USD (FX rate divided by avg. USD rate for the respective year via fxdata.foorilla.com).\n",
    "\n",
    "8. employee_residence: Employee's primary country of residence in during the work year as an ISO 3166 country code(Alpha-2 code).\n",
    "\n",
    "9. remote_ratio: The overall amount of work done remotely, possible values are as follows:\n",
    "\n",
    "- 0 = No remote work (less than 20%);\n",
    "- 50 = Partially remote;\n",
    "- 100 = Fully remote (more than 80%)\n",
    "\n",
    "10. company_location: The country of the employer's main office or contracting branch as an ISO 3166 country code(Alpha-2 code).\n",
    "\n",
    "11. company_size: The average number of people that worked for the company during the year:\n",
    "\n",
    "- S = less than 50 employees (small);\n",
    "- M = 50 to 250 employees (medium);\n",
    "- L = more than 250 employees (large)\n",
    "\n"
   ]
  },
  {
   "cell_type": "markdown",
   "metadata": {},
   "source": [
    "## 1. Data Pre-Processing\n",
    "\n",
    "This process will first begin by finding the null values within the dataframe.\n",
    "\n",
    "#### 1.1 Finding the NULL and N/A values within the dataframe\n"
   ]
  },
  {
   "cell_type": "code",
   "execution_count": 3,
   "metadata": {},
   "outputs": [
    {
     "name": "stdout",
     "output_type": "stream",
     "text": [
      "The NULL counts are:\n",
      " Unnamed: 0            0\n",
      "work_year             0\n",
      "experience_level      0\n",
      "employment_type       0\n",
      "job_title             0\n",
      "salary                0\n",
      "salary_currency       0\n",
      "salary_in_usd         0\n",
      "employee_residence    0\n",
      "remote_ratio          0\n",
      "company_location      0\n",
      "company_size          0\n",
      "dtype: int64\n",
      "\n",
      "The N/A counts are:\n",
      " Unnamed: 0            0\n",
      "work_year             0\n",
      "experience_level      0\n",
      "employment_type       0\n",
      "job_title             0\n",
      "salary                0\n",
      "salary_currency       0\n",
      "salary_in_usd         0\n",
      "employee_residence    0\n",
      "remote_ratio          0\n",
      "company_location      0\n",
      "company_size          0\n",
      "dtype: int64\n"
     ]
    }
   ],
   "source": [
    "null_counts = df.isnull().sum()\n",
    "print(\"The NULL counts are:\\n\",null_counts)\n",
    "\n",
    "na_counts = df.isna().sum()\n",
    "print(\"\\nThe N/A counts are:\\n\",na_counts)"
   ]
  },
  {
   "cell_type": "code",
   "execution_count": 4,
   "metadata": {},
   "outputs": [],
   "source": [
    "df = df.iloc[:,1:]"
   ]
  },
  {
   "cell_type": "markdown",
   "metadata": {},
   "source": [
    "#### 1.3 Replacing values within dataframe\n",
    "\n",
    "There are no NULL and N/A values so we move onto replacing some values within the dataframe. Replace all the abbreviations within columns such as 'experience_level', 'employment_type', 'employee_residence', 'company_location' and 'company_size'. Also replace 'remote ratio' from numbers to full-names."
   ]
  },
  {
   "cell_type": "code",
   "execution_count": 5,
   "metadata": {},
   "outputs": [],
   "source": [
    "# Replacing experience level\n",
    "df.experience_level.replace(['EN','MI','SE','EX'],['Entry-level/Junior','Mid-level/Intermediate','Senior-level/Expert','Executive-level/Director'],inplace=True)\n",
    "\n",
    "# Replacing employment type\n",
    "employment_type = {'FT':'Full Time',\n",
    "                    'PT':'Part Time',\n",
    "                    'CT':'Contract',\n",
    "                    'FL':'Freelance'}\n",
    "\n",
    "df['employment_type'] = df['employment_type'].map(employment_type)\n",
    "\n",
    "# Replacing remote ratio\n",
    "df.remote_ratio.replace([100,50,0],['Fully Remote','Partially Remote','On-site'], inplace=True)\n",
    "\n",
    "# ISO code\n",
    "ISO_CODE = {\n",
    "    'AD': 'Andorra',\n",
    "\t'AE': 'United Arab Emirates',\n",
    "\t'AF': 'Afghanistan',\n",
    "\t'AG': 'Antigua & Barbuda',\n",
    "\t'AI': 'Anguilla',\n",
    "\t'AL': 'Albania',\n",
    "\t'AM': 'Armenia',\n",
    "\t'AN': 'Netherlands Antilles',\n",
    "\t'AO': 'Angola',\n",
    "\t'AQ': 'Antarctica',\n",
    "\t'AR': 'Argentina',\n",
    "\t'AS': 'American Samoa',\n",
    "\t'AT': 'Austria',\n",
    "\t'AU': 'Australia',\n",
    "\t'AW': 'Aruba',\n",
    "\t'AZ': 'Azerbaijan',\n",
    "\t'BA': 'Bosnia and Herzegovina',\n",
    "\t'BB': 'Barbados',\n",
    "\t'BD': 'Bangladesh',\n",
    "\t'BE': 'Belgium',\n",
    "\t'BF': 'Burkina Faso',\n",
    "\t'BG': 'Bulgaria',\n",
    "\t'BH': 'Bahrain',\n",
    "\t'BI': 'Burundi',\n",
    "\t'BJ': 'Benin',\n",
    "\t'BM': 'Bermuda',\n",
    "\t'BN': 'Brunei Darussalam',\n",
    "\t'BO': 'Bolivia',\n",
    "\t'BR': 'Brazil',\n",
    "\t'BS': 'Bahama',\n",
    "\t'BT': 'Bhutan',\n",
    "\t'BU': 'Burma (no longer exists)',\n",
    "\t'BV': 'Bouvet Island',\n",
    "\t'BW': 'Botswana',\n",
    "\t'BY': 'Belarus',\n",
    "\t'BZ': 'Belize',\n",
    "\t'CA': 'Canada',\n",
    "\t'CC': 'Cocos (Keeling) Islands',\n",
    "\t'CF': 'Central African Republic',\n",
    "\t'CG': 'Congo',\n",
    "\t'CH': 'Switzerland',\n",
    "\t'CI': 'Côte D\\'ivoire (Ivory Coast)',\n",
    "\t'CK': 'Cook Iislands',\n",
    "\t'CL': 'Chile',\n",
    "\t'CM': 'Cameroon',\n",
    "\t'CN': 'China',\n",
    "\t'CO': 'Colombia',\n",
    "\t'CR': 'Costa Rica',\n",
    "\t'CS': 'Czechoslovakia (no longer exists)',\n",
    "\t'CU': 'Cuba',\n",
    "\t'CV': 'Cape Verde',\n",
    "\t'CX': 'Christmas Island',\n",
    "\t'CY': 'Cyprus',\n",
    "\t'CZ': 'Czech Republic',\n",
    "\t'DD': 'German Democratic Republic (no longer exists)',\n",
    "\t'DE': 'Germany',\n",
    "\t'DJ': 'Djibouti',\n",
    "\t'DK': 'Denmark',\n",
    "\t'DM': 'Dominica',\n",
    "\t'DO': 'Dominican Republic',\n",
    "\t'DZ': 'Algeria',\n",
    "\t'EC': 'Ecuador',\n",
    "\t'EE': 'Estonia',\n",
    "\t'EG': 'Egypt',\n",
    "\t'EH': 'Western Sahara',\n",
    "\t'ER': 'Eritrea',\n",
    "\t'ES': 'Spain',\n",
    "\t'ET': 'Ethiopia',\n",
    "\t'FI': 'Finland',\n",
    "\t'FJ': 'Fiji',\n",
    "\t'FK': 'Falkland Islands (Malvinas)',\n",
    "\t'FM': 'Micronesia',\n",
    "\t'FO': 'Faroe Islands',\n",
    "\t'FR': 'France',\n",
    "\t'FX': 'France, Metropolitan',\n",
    "\t'GA': 'Gabon',\n",
    "\t'GB': 'United Kingdom (Great Britain)',\n",
    "\t'GD': 'Grenada',\n",
    "\t'GE': 'Georgia',\n",
    "\t'GF': 'French Guiana',\n",
    "\t'GH': 'Ghana',\n",
    "\t'GI': 'Gibraltar',\n",
    "\t'GL': 'Greenland',\n",
    "\t'GM': 'Gambia',\n",
    "\t'GN': 'Guinea',\n",
    "\t'GP': 'Guadeloupe',\n",
    "\t'GQ': 'Equatorial Guinea',\n",
    "\t'GR': 'Greece',\n",
    "\t'GS': 'South Georgia and the South Sandwich Islands',\n",
    "\t'GT': 'Guatemala',\n",
    "\t'GU': 'Guam',\n",
    "\t'GW': 'Guinea-Bissau',\n",
    "\t'GY': 'Guyana',\n",
    "\t'HK': 'Hong Kong',\n",
    "\t'HM': 'Heard & McDonald Islands',\n",
    "\t'HN': 'Honduras',\n",
    "\t'HR': 'Croatia',\n",
    "\t'HT': 'Haiti',\n",
    "\t'HU': 'Hungary',\n",
    "\t'ID': 'Indonesia',\n",
    "\t'IE': 'Ireland',\n",
    "\t'IL': 'Israel',\n",
    "\t'IN': 'India',\n",
    "\t'IO': 'British Indian Ocean Territory',\n",
    "\t'IQ': 'Iraq',\n",
    "\t'IR': 'Islamic Republic of Iran',\n",
    "\t'IS': 'Iceland',\n",
    "\t'IT': 'Italy',\n",
    "\t'JM': 'Jamaica',\n",
    "\t'JO': 'Jordan',\n",
    "\t'JP': 'Japan',\n",
    "\t'KE': 'Kenya',\n",
    "\t'KG': 'Kyrgyzstan',\n",
    "\t'KH': 'Cambodia',\n",
    "\t'KI': 'Kiribati',\n",
    "\t'KM': 'Comoros',\n",
    "\t'KN': 'St. Kitts and Nevis',\n",
    "\t'KP': 'Korea, Democratic People\\'s Republic of',\n",
    "\t'KR': 'Korea, Republic of',\n",
    "\t'KW': 'Kuwait',\n",
    "\t'KY': 'Cayman Islands',\n",
    "\t'KZ': 'Kazakhstan',\n",
    "\t'LA': 'Lao People\\'s Democratic Republic',\n",
    "\t'LB': 'Lebanon',\n",
    "\t'LC': 'Saint Lucia',\n",
    "\t'LI': 'Liechtenstein',\n",
    "\t'LK': 'Sri Lanka',\n",
    "\t'LR': 'Liberia',\n",
    "\t'LS': 'Lesotho',\n",
    "\t'LT': 'Lithuania',\n",
    "\t'LU': 'Luxembourg',\n",
    "\t'LV': 'Latvia',\n",
    "\t'LY': 'Libyan Arab Jamahiriya',\n",
    "\t'MA': 'Morocco',\n",
    "\t'MC': 'Monaco',\n",
    "\t'MD': 'Moldova, Republic of',\n",
    "\t'MG': 'Madagascar',\n",
    "\t'MH': 'Marshall Islands',\n",
    "\t'ML': 'Mali',\n",
    "\t'MN': 'Mongolia',\n",
    "\t'MM': 'Myanmar',\n",
    "\t'MO': 'Macau',\n",
    "\t'MP': 'Northern Mariana Islands',\n",
    "\t'MQ': 'Martinique',\n",
    "\t'MR': 'Mauritania',\n",
    "\t'MS': 'Monserrat',\n",
    "\t'MT': 'Malta',\n",
    "\t'MU': 'Mauritius',\n",
    "\t'MV': 'Maldives',\n",
    "\t'MW': 'Malawi',\n",
    "\t'MX': 'Mexico',\n",
    "\t'MY': 'Malaysia',\n",
    "\t'MZ': 'Mozambique',\n",
    "\t'NA': 'Namibia',\n",
    "\t'NC': 'New Caledonia',\n",
    "\t'NE': 'Niger',\n",
    "\t'NF': 'Norfolk Island',\n",
    "\t'NG': 'Nigeria',\n",
    "\t'NI': 'Nicaragua',\n",
    "\t'NL': 'Netherlands',\n",
    "\t'NO': 'Norway',\n",
    "\t'NP': 'Nepal',\n",
    "\t'NR': 'Nauru',\n",
    "\t'NT': 'Neutral Zone (no longer exists)',\n",
    "\t'NU': 'Niue',\n",
    "\t'NZ': 'New Zealand',\n",
    "\t'OM': 'Oman',\n",
    "\t'PA': 'Panama',\n",
    "\t'PE': 'Peru',\n",
    "\t'PF': 'French Polynesia',\n",
    "\t'PG': 'Papua New Guinea',\n",
    "\t'PH': 'Philippines',\n",
    "\t'PK': 'Pakistan',\n",
    "\t'PL': 'Poland',\n",
    "\t'PM': 'St. Pierre & Miquelon',\n",
    "\t'PN': 'Pitcairn',\n",
    "\t'PR': 'Puerto Rico',\n",
    "\t'PT': 'Portugal',\n",
    "\t'PW': 'Palau',\n",
    "\t'PY': 'Paraguay',\n",
    "\t'QA': 'Qatar',\n",
    "\t'RE': 'Réunion',\n",
    "\t'RO': 'Romania',\n",
    "\t'RU': 'Russian Federation',\n",
    "\t'RW': 'Rwanda',\n",
    "\t'SA': 'Saudi Arabia',\n",
    "\t'SB': 'Solomon Islands',\n",
    "\t'SC': 'Seychelles',\n",
    "\t'SD': 'Sudan',\n",
    "\t'SE': 'Sweden',\n",
    "\t'SG': 'Singapore',\n",
    "\t'SH': 'St. Helena',\n",
    "\t'SI': 'Slovenia',\n",
    "\t'SJ': 'Svalbard & Jan Mayen Islands',\n",
    "\t'SK': 'Slovakia',\n",
    "\t'SL': 'Sierra Leone',\n",
    "\t'SM': 'San Marino',\n",
    "\t'SN': 'Senegal',\n",
    "\t'SO': 'Somalia',\n",
    "\t'SR': 'Suriname',\n",
    "\t'ST': 'Sao Tome & Principe',\n",
    "\t'SU': 'Union of Soviet Socialist Republics (no longer exists)',\n",
    "\t'SV': 'El Salvador',\n",
    "\t'SY': 'Syrian Arab Republic',\n",
    "\t'SZ': 'Swaziland',\n",
    "\t'TC': 'Turks & Caicos Islands',\n",
    "\t'TD': 'Chad',\n",
    "\t'TF': 'French Southern Territories',\n",
    "\t'TG': 'Togo',\n",
    "\t'TH': 'Thailand',\n",
    "\t'TJ': 'Tajikistan',\n",
    "\t'TK': 'Tokelau',\n",
    "\t'TM': 'Turkmenistan',\n",
    "\t'TN': 'Tunisia',\n",
    "\t'TO': 'Tonga',\n",
    "\t'TP': 'East Timor',\n",
    "\t'TR': 'Turkey',\n",
    "\t'TT': 'Trinidad & Tobago',\n",
    "\t'TV': 'Tuvalu',\n",
    "\t'TW': 'Taiwan, Province of China',\n",
    "\t'TZ': 'Tanzania, United Republic of',\n",
    "\t'UA': 'Ukraine',\n",
    "\t'UG': 'Uganda',\n",
    "\t'UM': 'United States Minor Outlying Islands',\n",
    "\t'US': 'United States of America',\n",
    "\t'UY': 'Uruguay',\n",
    "\t'UZ': 'Uzbekistan',\n",
    "\t'VA': 'Vatican City State (Holy See)',\n",
    "\t'VC': 'St. Vincent & the Grenadines',\n",
    "\t'VE': 'Venezuela',\n",
    "\t'VG': 'British Virgin Islands',\n",
    "\t'VI': 'United States Virgin Islands',\n",
    "\t'VN': 'Viet Nam',\n",
    "\t'VU': 'Vanuatu',\n",
    "\t'WF': 'Wallis & Futuna Islands',\n",
    "\t'WS': 'Samoa',\n",
    "\t'YD': 'Democratic Yemen (no longer exists)',\n",
    "\t'YE': 'Yemen',\n",
    "\t'YT': 'Mayotte',\n",
    "\t'YU': 'Yugoslavia',\n",
    "\t'ZA': 'South Africa',\n",
    "\t'ZM': 'Zambia',\n",
    "\t'ZR': 'Zaire',\n",
    "\t'ZW': 'Zimbabwe',\n",
    "\t'ZZ': 'Unknown or unspecified country',\n",
    "}\n",
    "\n",
    "df['employee_residence'] = df['employee_residence'].map(ISO_CODE)\n",
    "df['company_location'] = df['company_location'].map(ISO_CODE)\n",
    "\n",
    "# Replacing company size\n",
    "company_size={'S': 'Small',\n",
    "                  'M':'Medium',\n",
    "                  'L':'Large'}\n",
    "df.company_size=df['company_size'].map(company_size)"
   ]
  },
  {
   "cell_type": "code",
   "execution_count": 6,
   "metadata": {},
   "outputs": [
    {
     "data": {
      "text/html": [
       "<div>\n",
       "<style scoped>\n",
       "    .dataframe tbody tr th:only-of-type {\n",
       "        vertical-align: middle;\n",
       "    }\n",
       "\n",
       "    .dataframe tbody tr th {\n",
       "        vertical-align: top;\n",
       "    }\n",
       "\n",
       "    .dataframe thead th {\n",
       "        text-align: right;\n",
       "    }\n",
       "</style>\n",
       "<table border=\"1\" class=\"dataframe\">\n",
       "  <thead>\n",
       "    <tr style=\"text-align: right;\">\n",
       "      <th></th>\n",
       "      <th>work_year</th>\n",
       "      <th>experience_level</th>\n",
       "      <th>employment_type</th>\n",
       "      <th>job_title</th>\n",
       "      <th>salary</th>\n",
       "      <th>salary_currency</th>\n",
       "      <th>salary_in_usd</th>\n",
       "      <th>employee_residence</th>\n",
       "      <th>remote_ratio</th>\n",
       "      <th>company_location</th>\n",
       "      <th>company_size</th>\n",
       "    </tr>\n",
       "  </thead>\n",
       "  <tbody>\n",
       "    <tr>\n",
       "      <th>0</th>\n",
       "      <td>2020</td>\n",
       "      <td>Mid-level/Intermediate</td>\n",
       "      <td>Full Time</td>\n",
       "      <td>Data Scientist</td>\n",
       "      <td>70000</td>\n",
       "      <td>EUR</td>\n",
       "      <td>79833</td>\n",
       "      <td>Germany</td>\n",
       "      <td>On-site</td>\n",
       "      <td>Germany</td>\n",
       "      <td>Large</td>\n",
       "    </tr>\n",
       "    <tr>\n",
       "      <th>1</th>\n",
       "      <td>2020</td>\n",
       "      <td>Senior-level/Expert</td>\n",
       "      <td>Full Time</td>\n",
       "      <td>Machine Learning Scientist</td>\n",
       "      <td>260000</td>\n",
       "      <td>USD</td>\n",
       "      <td>260000</td>\n",
       "      <td>Japan</td>\n",
       "      <td>On-site</td>\n",
       "      <td>Japan</td>\n",
       "      <td>Small</td>\n",
       "    </tr>\n",
       "    <tr>\n",
       "      <th>2</th>\n",
       "      <td>2020</td>\n",
       "      <td>Senior-level/Expert</td>\n",
       "      <td>Full Time</td>\n",
       "      <td>Big Data Engineer</td>\n",
       "      <td>85000</td>\n",
       "      <td>GBP</td>\n",
       "      <td>109024</td>\n",
       "      <td>United Kingdom (Great Britain)</td>\n",
       "      <td>Partially Remote</td>\n",
       "      <td>United Kingdom (Great Britain)</td>\n",
       "      <td>Medium</td>\n",
       "    </tr>\n",
       "    <tr>\n",
       "      <th>3</th>\n",
       "      <td>2020</td>\n",
       "      <td>Mid-level/Intermediate</td>\n",
       "      <td>Full Time</td>\n",
       "      <td>Product Data Analyst</td>\n",
       "      <td>20000</td>\n",
       "      <td>USD</td>\n",
       "      <td>20000</td>\n",
       "      <td>Honduras</td>\n",
       "      <td>On-site</td>\n",
       "      <td>Honduras</td>\n",
       "      <td>Small</td>\n",
       "    </tr>\n",
       "    <tr>\n",
       "      <th>4</th>\n",
       "      <td>2020</td>\n",
       "      <td>Senior-level/Expert</td>\n",
       "      <td>Full Time</td>\n",
       "      <td>Machine Learning Engineer</td>\n",
       "      <td>150000</td>\n",
       "      <td>USD</td>\n",
       "      <td>150000</td>\n",
       "      <td>United States of America</td>\n",
       "      <td>Partially Remote</td>\n",
       "      <td>United States of America</td>\n",
       "      <td>Large</td>\n",
       "    </tr>\n",
       "    <tr>\n",
       "      <th>5</th>\n",
       "      <td>2020</td>\n",
       "      <td>Entry-level/Junior</td>\n",
       "      <td>Full Time</td>\n",
       "      <td>Data Analyst</td>\n",
       "      <td>72000</td>\n",
       "      <td>USD</td>\n",
       "      <td>72000</td>\n",
       "      <td>United States of America</td>\n",
       "      <td>Fully Remote</td>\n",
       "      <td>United States of America</td>\n",
       "      <td>Large</td>\n",
       "    </tr>\n",
       "    <tr>\n",
       "      <th>6</th>\n",
       "      <td>2020</td>\n",
       "      <td>Senior-level/Expert</td>\n",
       "      <td>Full Time</td>\n",
       "      <td>Lead Data Scientist</td>\n",
       "      <td>190000</td>\n",
       "      <td>USD</td>\n",
       "      <td>190000</td>\n",
       "      <td>United States of America</td>\n",
       "      <td>Fully Remote</td>\n",
       "      <td>United States of America</td>\n",
       "      <td>Small</td>\n",
       "    </tr>\n",
       "    <tr>\n",
       "      <th>7</th>\n",
       "      <td>2020</td>\n",
       "      <td>Mid-level/Intermediate</td>\n",
       "      <td>Full Time</td>\n",
       "      <td>Data Scientist</td>\n",
       "      <td>11000000</td>\n",
       "      <td>HUF</td>\n",
       "      <td>35735</td>\n",
       "      <td>Hungary</td>\n",
       "      <td>Partially Remote</td>\n",
       "      <td>Hungary</td>\n",
       "      <td>Large</td>\n",
       "    </tr>\n",
       "    <tr>\n",
       "      <th>8</th>\n",
       "      <td>2020</td>\n",
       "      <td>Mid-level/Intermediate</td>\n",
       "      <td>Full Time</td>\n",
       "      <td>Business Data Analyst</td>\n",
       "      <td>135000</td>\n",
       "      <td>USD</td>\n",
       "      <td>135000</td>\n",
       "      <td>United States of America</td>\n",
       "      <td>Fully Remote</td>\n",
       "      <td>United States of America</td>\n",
       "      <td>Large</td>\n",
       "    </tr>\n",
       "    <tr>\n",
       "      <th>9</th>\n",
       "      <td>2020</td>\n",
       "      <td>Senior-level/Expert</td>\n",
       "      <td>Full Time</td>\n",
       "      <td>Lead Data Engineer</td>\n",
       "      <td>125000</td>\n",
       "      <td>USD</td>\n",
       "      <td>125000</td>\n",
       "      <td>New Zealand</td>\n",
       "      <td>Partially Remote</td>\n",
       "      <td>New Zealand</td>\n",
       "      <td>Small</td>\n",
       "    </tr>\n",
       "    <tr>\n",
       "      <th>10</th>\n",
       "      <td>2020</td>\n",
       "      <td>Entry-level/Junior</td>\n",
       "      <td>Full Time</td>\n",
       "      <td>Data Scientist</td>\n",
       "      <td>45000</td>\n",
       "      <td>EUR</td>\n",
       "      <td>51321</td>\n",
       "      <td>France</td>\n",
       "      <td>On-site</td>\n",
       "      <td>France</td>\n",
       "      <td>Small</td>\n",
       "    </tr>\n",
       "    <tr>\n",
       "      <th>11</th>\n",
       "      <td>2020</td>\n",
       "      <td>Mid-level/Intermediate</td>\n",
       "      <td>Full Time</td>\n",
       "      <td>Data Scientist</td>\n",
       "      <td>3000000</td>\n",
       "      <td>INR</td>\n",
       "      <td>40481</td>\n",
       "      <td>India</td>\n",
       "      <td>On-site</td>\n",
       "      <td>India</td>\n",
       "      <td>Large</td>\n",
       "    </tr>\n",
       "    <tr>\n",
       "      <th>12</th>\n",
       "      <td>2020</td>\n",
       "      <td>Entry-level/Junior</td>\n",
       "      <td>Full Time</td>\n",
       "      <td>Data Scientist</td>\n",
       "      <td>35000</td>\n",
       "      <td>EUR</td>\n",
       "      <td>39916</td>\n",
       "      <td>France</td>\n",
       "      <td>On-site</td>\n",
       "      <td>France</td>\n",
       "      <td>Medium</td>\n",
       "    </tr>\n",
       "    <tr>\n",
       "      <th>13</th>\n",
       "      <td>2020</td>\n",
       "      <td>Mid-level/Intermediate</td>\n",
       "      <td>Full Time</td>\n",
       "      <td>Lead Data Analyst</td>\n",
       "      <td>87000</td>\n",
       "      <td>USD</td>\n",
       "      <td>87000</td>\n",
       "      <td>United States of America</td>\n",
       "      <td>Fully Remote</td>\n",
       "      <td>United States of America</td>\n",
       "      <td>Large</td>\n",
       "    </tr>\n",
       "    <tr>\n",
       "      <th>14</th>\n",
       "      <td>2020</td>\n",
       "      <td>Mid-level/Intermediate</td>\n",
       "      <td>Full Time</td>\n",
       "      <td>Data Analyst</td>\n",
       "      <td>85000</td>\n",
       "      <td>USD</td>\n",
       "      <td>85000</td>\n",
       "      <td>United States of America</td>\n",
       "      <td>Fully Remote</td>\n",
       "      <td>United States of America</td>\n",
       "      <td>Large</td>\n",
       "    </tr>\n",
       "  </tbody>\n",
       "</table>\n",
       "</div>"
      ],
      "text/plain": [
       "    work_year        experience_level employment_type  \\\n",
       "0        2020  Mid-level/Intermediate       Full Time   \n",
       "1        2020     Senior-level/Expert       Full Time   \n",
       "2        2020     Senior-level/Expert       Full Time   \n",
       "3        2020  Mid-level/Intermediate       Full Time   \n",
       "4        2020     Senior-level/Expert       Full Time   \n",
       "5        2020      Entry-level/Junior       Full Time   \n",
       "6        2020     Senior-level/Expert       Full Time   \n",
       "7        2020  Mid-level/Intermediate       Full Time   \n",
       "8        2020  Mid-level/Intermediate       Full Time   \n",
       "9        2020     Senior-level/Expert       Full Time   \n",
       "10       2020      Entry-level/Junior       Full Time   \n",
       "11       2020  Mid-level/Intermediate       Full Time   \n",
       "12       2020      Entry-level/Junior       Full Time   \n",
       "13       2020  Mid-level/Intermediate       Full Time   \n",
       "14       2020  Mid-level/Intermediate       Full Time   \n",
       "\n",
       "                     job_title    salary salary_currency  salary_in_usd  \\\n",
       "0               Data Scientist     70000             EUR          79833   \n",
       "1   Machine Learning Scientist    260000             USD         260000   \n",
       "2            Big Data Engineer     85000             GBP         109024   \n",
       "3         Product Data Analyst     20000             USD          20000   \n",
       "4    Machine Learning Engineer    150000             USD         150000   \n",
       "5                 Data Analyst     72000             USD          72000   \n",
       "6          Lead Data Scientist    190000             USD         190000   \n",
       "7               Data Scientist  11000000             HUF          35735   \n",
       "8        Business Data Analyst    135000             USD         135000   \n",
       "9           Lead Data Engineer    125000             USD         125000   \n",
       "10              Data Scientist     45000             EUR          51321   \n",
       "11              Data Scientist   3000000             INR          40481   \n",
       "12              Data Scientist     35000             EUR          39916   \n",
       "13           Lead Data Analyst     87000             USD          87000   \n",
       "14                Data Analyst     85000             USD          85000   \n",
       "\n",
       "                employee_residence      remote_ratio  \\\n",
       "0                          Germany           On-site   \n",
       "1                            Japan           On-site   \n",
       "2   United Kingdom (Great Britain)  Partially Remote   \n",
       "3                         Honduras           On-site   \n",
       "4         United States of America  Partially Remote   \n",
       "5         United States of America      Fully Remote   \n",
       "6         United States of America      Fully Remote   \n",
       "7                          Hungary  Partially Remote   \n",
       "8         United States of America      Fully Remote   \n",
       "9                      New Zealand  Partially Remote   \n",
       "10                          France           On-site   \n",
       "11                           India           On-site   \n",
       "12                          France           On-site   \n",
       "13        United States of America      Fully Remote   \n",
       "14        United States of America      Fully Remote   \n",
       "\n",
       "                  company_location company_size  \n",
       "0                          Germany        Large  \n",
       "1                            Japan        Small  \n",
       "2   United Kingdom (Great Britain)       Medium  \n",
       "3                         Honduras        Small  \n",
       "4         United States of America        Large  \n",
       "5         United States of America        Large  \n",
       "6         United States of America        Small  \n",
       "7                          Hungary        Large  \n",
       "8         United States of America        Large  \n",
       "9                      New Zealand        Small  \n",
       "10                          France        Small  \n",
       "11                           India        Large  \n",
       "12                          France       Medium  \n",
       "13        United States of America        Large  \n",
       "14        United States of America        Large  "
      ]
     },
     "execution_count": 6,
     "metadata": {},
     "output_type": "execute_result"
    }
   ],
   "source": [
    "df.head(15)"
   ]
  },
  {
   "cell_type": "code",
   "execution_count": 7,
   "metadata": {},
   "outputs": [
    {
     "name": "stdout",
     "output_type": "stream",
     "text": [
      "<class 'pandas.core.frame.DataFrame'>\n",
      "RangeIndex: 607 entries, 0 to 606\n",
      "Data columns (total 11 columns):\n",
      " #   Column              Non-Null Count  Dtype \n",
      "---  ------              --------------  ----- \n",
      " 0   work_year           607 non-null    int64 \n",
      " 1   experience_level    607 non-null    object\n",
      " 2   employment_type     607 non-null    object\n",
      " 3   job_title           607 non-null    object\n",
      " 4   salary              607 non-null    int64 \n",
      " 5   salary_currency     607 non-null    object\n",
      " 6   salary_in_usd       607 non-null    int64 \n",
      " 7   employee_residence  605 non-null    object\n",
      " 8   remote_ratio        607 non-null    object\n",
      " 9   company_location    607 non-null    object\n",
      " 10  company_size        607 non-null    object\n",
      "dtypes: int64(3), object(8)\n",
      "memory usage: 52.3+ KB\n"
     ]
    }
   ],
   "source": [
    "df.info()"
   ]
  },
  {
   "cell_type": "code",
   "execution_count": 8,
   "metadata": {},
   "outputs": [
    {
     "data": {
      "text/html": [
       "<div>\n",
       "<style scoped>\n",
       "    .dataframe tbody tr th:only-of-type {\n",
       "        vertical-align: middle;\n",
       "    }\n",
       "\n",
       "    .dataframe tbody tr th {\n",
       "        vertical-align: top;\n",
       "    }\n",
       "\n",
       "    .dataframe thead th {\n",
       "        text-align: right;\n",
       "    }\n",
       "</style>\n",
       "<table border=\"1\" class=\"dataframe\">\n",
       "  <thead>\n",
       "    <tr style=\"text-align: right;\">\n",
       "      <th></th>\n",
       "      <th>work_year</th>\n",
       "      <th>salary</th>\n",
       "      <th>salary_in_usd</th>\n",
       "    </tr>\n",
       "  </thead>\n",
       "  <tbody>\n",
       "    <tr>\n",
       "      <th>count</th>\n",
       "      <td>607.000000</td>\n",
       "      <td>6.070000e+02</td>\n",
       "      <td>607.000000</td>\n",
       "    </tr>\n",
       "    <tr>\n",
       "      <th>mean</th>\n",
       "      <td>2021.405272</td>\n",
       "      <td>3.240001e+05</td>\n",
       "      <td>112297.869852</td>\n",
       "    </tr>\n",
       "    <tr>\n",
       "      <th>std</th>\n",
       "      <td>0.692133</td>\n",
       "      <td>1.544357e+06</td>\n",
       "      <td>70957.259411</td>\n",
       "    </tr>\n",
       "    <tr>\n",
       "      <th>min</th>\n",
       "      <td>2020.000000</td>\n",
       "      <td>4.000000e+03</td>\n",
       "      <td>2859.000000</td>\n",
       "    </tr>\n",
       "    <tr>\n",
       "      <th>25%</th>\n",
       "      <td>2021.000000</td>\n",
       "      <td>7.000000e+04</td>\n",
       "      <td>62726.000000</td>\n",
       "    </tr>\n",
       "    <tr>\n",
       "      <th>50%</th>\n",
       "      <td>2022.000000</td>\n",
       "      <td>1.150000e+05</td>\n",
       "      <td>101570.000000</td>\n",
       "    </tr>\n",
       "    <tr>\n",
       "      <th>75%</th>\n",
       "      <td>2022.000000</td>\n",
       "      <td>1.650000e+05</td>\n",
       "      <td>150000.000000</td>\n",
       "    </tr>\n",
       "    <tr>\n",
       "      <th>max</th>\n",
       "      <td>2022.000000</td>\n",
       "      <td>3.040000e+07</td>\n",
       "      <td>600000.000000</td>\n",
       "    </tr>\n",
       "  </tbody>\n",
       "</table>\n",
       "</div>"
      ],
      "text/plain": [
       "         work_year        salary  salary_in_usd\n",
       "count   607.000000  6.070000e+02     607.000000\n",
       "mean   2021.405272  3.240001e+05  112297.869852\n",
       "std       0.692133  1.544357e+06   70957.259411\n",
       "min    2020.000000  4.000000e+03    2859.000000\n",
       "25%    2021.000000  7.000000e+04   62726.000000\n",
       "50%    2022.000000  1.150000e+05  101570.000000\n",
       "75%    2022.000000  1.650000e+05  150000.000000\n",
       "max    2022.000000  3.040000e+07  600000.000000"
      ]
     },
     "execution_count": 8,
     "metadata": {},
     "output_type": "execute_result"
    }
   ],
   "source": [
    "df.describe()"
   ]
  },
  {
   "cell_type": "code",
   "execution_count": 9,
   "metadata": {},
   "outputs": [
    {
     "data": {
      "text/plain": [
       "work_year               3\n",
       "experience_level        4\n",
       "employment_type         4\n",
       "job_title              50\n",
       "salary                272\n",
       "salary_currency        17\n",
       "salary_in_usd         369\n",
       "employee_residence     55\n",
       "remote_ratio            3\n",
       "company_location       50\n",
       "company_size            3\n",
       "dtype: int64"
      ]
     },
     "execution_count": 9,
     "metadata": {},
     "output_type": "execute_result"
    }
   ],
   "source": [
    "df.nunique()"
   ]
  },
  {
   "cell_type": "code",
   "execution_count": 10,
   "metadata": {},
   "outputs": [
    {
     "data": {
      "text/plain": [
       "42"
      ]
     },
     "execution_count": 10,
     "metadata": {},
     "output_type": "execute_result"
    }
   ],
   "source": [
    "# Finding duplicates\n",
    "df.duplicated().sum()"
   ]
  },
  {
   "cell_type": "markdown",
   "metadata": {},
   "source": [
    "## 2. Exploratory data analysis\n",
    "\n",
    "This part will delve deeper into the data about its distributed and peform further analysis about the corelation of one to the other."
   ]
  },
  {
   "cell_type": "markdown",
   "metadata": {},
   "source": [
    "#### 2.1 Job distribution in accordance with experience level\n",
    "\n",
    "This will help get a better picture about the job availibility in comparison to the individual's experience level which will show the vitality of the job market and help understand the job market scenario better."
   ]
  },
  {
   "cell_type": "code",
   "execution_count": 11,
   "metadata": {},
   "outputs": [
    {
     "data": {
      "application/vnd.plotly.v1+json": {
       "config": {
        "plotlyServerURL": "https://plot.ly"
       },
       "data": [
        {
         "domain": {
          "x": [
           0,
           1
          ],
          "y": [
           0,
           1
          ]
         },
         "hovertemplate": "label=%{label}<br>value=%{value}<extra></extra>",
         "labels": [
          "Senior-level/Expert",
          "Mid-level/Intermediate",
          "Entry-level/Junior",
          "Executive-level/Director"
         ],
         "legendgroup": "",
         "marker": {
          "line": {
           "color": "#100000",
           "width": 0.2
          }
         },
         "name": "",
         "showlegend": true,
         "textfont": {
          "size": 10
         },
         "textinfo": "label+percent+value",
         "type": "pie",
         "values": [
          280,
          213,
          88,
          26
         ]
        }
       ],
       "layout": {
        "legend": {
         "tracegroupgap": 0
        },
        "piecolorway": [
         "rgb(228, 241, 225)",
         "rgb(180, 217, 204)",
         "rgb(137, 192, 182)",
         "rgb(99, 166, 160)",
         "rgb(68, 140, 138)",
         "rgb(40, 114, 116)",
         "rgb(13, 88, 95)"
        ],
        "template": {
         "data": {
          "bar": [
           {
            "error_x": {
             "color": "#f2f5fa"
            },
            "error_y": {
             "color": "#f2f5fa"
            },
            "marker": {
             "line": {
              "color": "rgb(17,17,17)",
              "width": 0.5
             },
             "pattern": {
              "fillmode": "overlay",
              "size": 10,
              "solidity": 0.2
             }
            },
            "type": "bar"
           }
          ],
          "barpolar": [
           {
            "marker": {
             "line": {
              "color": "rgb(17,17,17)",
              "width": 0.5
             },
             "pattern": {
              "fillmode": "overlay",
              "size": 10,
              "solidity": 0.2
             }
            },
            "type": "barpolar"
           }
          ],
          "carpet": [
           {
            "aaxis": {
             "endlinecolor": "#A2B1C6",
             "gridcolor": "#506784",
             "linecolor": "#506784",
             "minorgridcolor": "#506784",
             "startlinecolor": "#A2B1C6"
            },
            "baxis": {
             "endlinecolor": "#A2B1C6",
             "gridcolor": "#506784",
             "linecolor": "#506784",
             "minorgridcolor": "#506784",
             "startlinecolor": "#A2B1C6"
            },
            "type": "carpet"
           }
          ],
          "choropleth": [
           {
            "colorbar": {
             "outlinewidth": 0,
             "ticks": ""
            },
            "type": "choropleth"
           }
          ],
          "contour": [
           {
            "colorbar": {
             "outlinewidth": 0,
             "ticks": ""
            },
            "colorscale": [
             [
              0,
              "#0d0887"
             ],
             [
              0.1111111111111111,
              "#46039f"
             ],
             [
              0.2222222222222222,
              "#7201a8"
             ],
             [
              0.3333333333333333,
              "#9c179e"
             ],
             [
              0.4444444444444444,
              "#bd3786"
             ],
             [
              0.5555555555555556,
              "#d8576b"
             ],
             [
              0.6666666666666666,
              "#ed7953"
             ],
             [
              0.7777777777777778,
              "#fb9f3a"
             ],
             [
              0.8888888888888888,
              "#fdca26"
             ],
             [
              1,
              "#f0f921"
             ]
            ],
            "type": "contour"
           }
          ],
          "contourcarpet": [
           {
            "colorbar": {
             "outlinewidth": 0,
             "ticks": ""
            },
            "type": "contourcarpet"
           }
          ],
          "heatmap": [
           {
            "colorbar": {
             "outlinewidth": 0,
             "ticks": ""
            },
            "colorscale": [
             [
              0,
              "#0d0887"
             ],
             [
              0.1111111111111111,
              "#46039f"
             ],
             [
              0.2222222222222222,
              "#7201a8"
             ],
             [
              0.3333333333333333,
              "#9c179e"
             ],
             [
              0.4444444444444444,
              "#bd3786"
             ],
             [
              0.5555555555555556,
              "#d8576b"
             ],
             [
              0.6666666666666666,
              "#ed7953"
             ],
             [
              0.7777777777777778,
              "#fb9f3a"
             ],
             [
              0.8888888888888888,
              "#fdca26"
             ],
             [
              1,
              "#f0f921"
             ]
            ],
            "type": "heatmap"
           }
          ],
          "heatmapgl": [
           {
            "colorbar": {
             "outlinewidth": 0,
             "ticks": ""
            },
            "colorscale": [
             [
              0,
              "#0d0887"
             ],
             [
              0.1111111111111111,
              "#46039f"
             ],
             [
              0.2222222222222222,
              "#7201a8"
             ],
             [
              0.3333333333333333,
              "#9c179e"
             ],
             [
              0.4444444444444444,
              "#bd3786"
             ],
             [
              0.5555555555555556,
              "#d8576b"
             ],
             [
              0.6666666666666666,
              "#ed7953"
             ],
             [
              0.7777777777777778,
              "#fb9f3a"
             ],
             [
              0.8888888888888888,
              "#fdca26"
             ],
             [
              1,
              "#f0f921"
             ]
            ],
            "type": "heatmapgl"
           }
          ],
          "histogram": [
           {
            "marker": {
             "pattern": {
              "fillmode": "overlay",
              "size": 10,
              "solidity": 0.2
             }
            },
            "type": "histogram"
           }
          ],
          "histogram2d": [
           {
            "colorbar": {
             "outlinewidth": 0,
             "ticks": ""
            },
            "colorscale": [
             [
              0,
              "#0d0887"
             ],
             [
              0.1111111111111111,
              "#46039f"
             ],
             [
              0.2222222222222222,
              "#7201a8"
             ],
             [
              0.3333333333333333,
              "#9c179e"
             ],
             [
              0.4444444444444444,
              "#bd3786"
             ],
             [
              0.5555555555555556,
              "#d8576b"
             ],
             [
              0.6666666666666666,
              "#ed7953"
             ],
             [
              0.7777777777777778,
              "#fb9f3a"
             ],
             [
              0.8888888888888888,
              "#fdca26"
             ],
             [
              1,
              "#f0f921"
             ]
            ],
            "type": "histogram2d"
           }
          ],
          "histogram2dcontour": [
           {
            "colorbar": {
             "outlinewidth": 0,
             "ticks": ""
            },
            "colorscale": [
             [
              0,
              "#0d0887"
             ],
             [
              0.1111111111111111,
              "#46039f"
             ],
             [
              0.2222222222222222,
              "#7201a8"
             ],
             [
              0.3333333333333333,
              "#9c179e"
             ],
             [
              0.4444444444444444,
              "#bd3786"
             ],
             [
              0.5555555555555556,
              "#d8576b"
             ],
             [
              0.6666666666666666,
              "#ed7953"
             ],
             [
              0.7777777777777778,
              "#fb9f3a"
             ],
             [
              0.8888888888888888,
              "#fdca26"
             ],
             [
              1,
              "#f0f921"
             ]
            ],
            "type": "histogram2dcontour"
           }
          ],
          "mesh3d": [
           {
            "colorbar": {
             "outlinewidth": 0,
             "ticks": ""
            },
            "type": "mesh3d"
           }
          ],
          "parcoords": [
           {
            "line": {
             "colorbar": {
              "outlinewidth": 0,
              "ticks": ""
             }
            },
            "type": "parcoords"
           }
          ],
          "pie": [
           {
            "automargin": true,
            "type": "pie"
           }
          ],
          "scatter": [
           {
            "marker": {
             "line": {
              "color": "#283442"
             }
            },
            "type": "scatter"
           }
          ],
          "scatter3d": [
           {
            "line": {
             "colorbar": {
              "outlinewidth": 0,
              "ticks": ""
             }
            },
            "marker": {
             "colorbar": {
              "outlinewidth": 0,
              "ticks": ""
             }
            },
            "type": "scatter3d"
           }
          ],
          "scattercarpet": [
           {
            "marker": {
             "colorbar": {
              "outlinewidth": 0,
              "ticks": ""
             }
            },
            "type": "scattercarpet"
           }
          ],
          "scattergeo": [
           {
            "marker": {
             "colorbar": {
              "outlinewidth": 0,
              "ticks": ""
             }
            },
            "type": "scattergeo"
           }
          ],
          "scattergl": [
           {
            "marker": {
             "line": {
              "color": "#283442"
             }
            },
            "type": "scattergl"
           }
          ],
          "scattermapbox": [
           {
            "marker": {
             "colorbar": {
              "outlinewidth": 0,
              "ticks": ""
             }
            },
            "type": "scattermapbox"
           }
          ],
          "scatterpolar": [
           {
            "marker": {
             "colorbar": {
              "outlinewidth": 0,
              "ticks": ""
             }
            },
            "type": "scatterpolar"
           }
          ],
          "scatterpolargl": [
           {
            "marker": {
             "colorbar": {
              "outlinewidth": 0,
              "ticks": ""
             }
            },
            "type": "scatterpolargl"
           }
          ],
          "scatterternary": [
           {
            "marker": {
             "colorbar": {
              "outlinewidth": 0,
              "ticks": ""
             }
            },
            "type": "scatterternary"
           }
          ],
          "surface": [
           {
            "colorbar": {
             "outlinewidth": 0,
             "ticks": ""
            },
            "colorscale": [
             [
              0,
              "#0d0887"
             ],
             [
              0.1111111111111111,
              "#46039f"
             ],
             [
              0.2222222222222222,
              "#7201a8"
             ],
             [
              0.3333333333333333,
              "#9c179e"
             ],
             [
              0.4444444444444444,
              "#bd3786"
             ],
             [
              0.5555555555555556,
              "#d8576b"
             ],
             [
              0.6666666666666666,
              "#ed7953"
             ],
             [
              0.7777777777777778,
              "#fb9f3a"
             ],
             [
              0.8888888888888888,
              "#fdca26"
             ],
             [
              1,
              "#f0f921"
             ]
            ],
            "type": "surface"
           }
          ],
          "table": [
           {
            "cells": {
             "fill": {
              "color": "#506784"
             },
             "line": {
              "color": "rgb(17,17,17)"
             }
            },
            "header": {
             "fill": {
              "color": "#2a3f5f"
             },
             "line": {
              "color": "rgb(17,17,17)"
             }
            },
            "type": "table"
           }
          ]
         },
         "layout": {
          "annotationdefaults": {
           "arrowcolor": "#f2f5fa",
           "arrowhead": 0,
           "arrowwidth": 1
          },
          "autotypenumbers": "strict",
          "coloraxis": {
           "colorbar": {
            "outlinewidth": 0,
            "ticks": ""
           }
          },
          "colorscale": {
           "diverging": [
            [
             0,
             "#8e0152"
            ],
            [
             0.1,
             "#c51b7d"
            ],
            [
             0.2,
             "#de77ae"
            ],
            [
             0.3,
             "#f1b6da"
            ],
            [
             0.4,
             "#fde0ef"
            ],
            [
             0.5,
             "#f7f7f7"
            ],
            [
             0.6,
             "#e6f5d0"
            ],
            [
             0.7,
             "#b8e186"
            ],
            [
             0.8,
             "#7fbc41"
            ],
            [
             0.9,
             "#4d9221"
            ],
            [
             1,
             "#276419"
            ]
           ],
           "sequential": [
            [
             0,
             "#0d0887"
            ],
            [
             0.1111111111111111,
             "#46039f"
            ],
            [
             0.2222222222222222,
             "#7201a8"
            ],
            [
             0.3333333333333333,
             "#9c179e"
            ],
            [
             0.4444444444444444,
             "#bd3786"
            ],
            [
             0.5555555555555556,
             "#d8576b"
            ],
            [
             0.6666666666666666,
             "#ed7953"
            ],
            [
             0.7777777777777778,
             "#fb9f3a"
            ],
            [
             0.8888888888888888,
             "#fdca26"
            ],
            [
             1,
             "#f0f921"
            ]
           ],
           "sequentialminus": [
            [
             0,
             "#0d0887"
            ],
            [
             0.1111111111111111,
             "#46039f"
            ],
            [
             0.2222222222222222,
             "#7201a8"
            ],
            [
             0.3333333333333333,
             "#9c179e"
            ],
            [
             0.4444444444444444,
             "#bd3786"
            ],
            [
             0.5555555555555556,
             "#d8576b"
            ],
            [
             0.6666666666666666,
             "#ed7953"
            ],
            [
             0.7777777777777778,
             "#fb9f3a"
            ],
            [
             0.8888888888888888,
             "#fdca26"
            ],
            [
             1,
             "#f0f921"
            ]
           ]
          },
          "colorway": [
           "#636efa",
           "#EF553B",
           "#00cc96",
           "#ab63fa",
           "#FFA15A",
           "#19d3f3",
           "#FF6692",
           "#B6E880",
           "#FF97FF",
           "#FECB52"
          ],
          "font": {
           "color": "#f2f5fa"
          },
          "geo": {
           "bgcolor": "rgb(17,17,17)",
           "lakecolor": "rgb(17,17,17)",
           "landcolor": "rgb(17,17,17)",
           "showlakes": true,
           "showland": true,
           "subunitcolor": "#506784"
          },
          "hoverlabel": {
           "align": "left"
          },
          "hovermode": "closest",
          "mapbox": {
           "style": "dark"
          },
          "paper_bgcolor": "rgb(17,17,17)",
          "plot_bgcolor": "rgb(17,17,17)",
          "polar": {
           "angularaxis": {
            "gridcolor": "#506784",
            "linecolor": "#506784",
            "ticks": ""
           },
           "bgcolor": "rgb(17,17,17)",
           "radialaxis": {
            "gridcolor": "#506784",
            "linecolor": "#506784",
            "ticks": ""
           }
          },
          "scene": {
           "xaxis": {
            "backgroundcolor": "rgb(17,17,17)",
            "gridcolor": "#506784",
            "gridwidth": 2,
            "linecolor": "#506784",
            "showbackground": true,
            "ticks": "",
            "zerolinecolor": "#C8D4E3"
           },
           "yaxis": {
            "backgroundcolor": "rgb(17,17,17)",
            "gridcolor": "#506784",
            "gridwidth": 2,
            "linecolor": "#506784",
            "showbackground": true,
            "ticks": "",
            "zerolinecolor": "#C8D4E3"
           },
           "zaxis": {
            "backgroundcolor": "rgb(17,17,17)",
            "gridcolor": "#506784",
            "gridwidth": 2,
            "linecolor": "#506784",
            "showbackground": true,
            "ticks": "",
            "zerolinecolor": "#C8D4E3"
           }
          },
          "shapedefaults": {
           "line": {
            "color": "#f2f5fa"
           }
          },
          "sliderdefaults": {
           "bgcolor": "#C8D4E3",
           "bordercolor": "rgb(17,17,17)",
           "borderwidth": 1,
           "tickwidth": 0
          },
          "ternary": {
           "aaxis": {
            "gridcolor": "#506784",
            "linecolor": "#506784",
            "ticks": ""
           },
           "baxis": {
            "gridcolor": "#506784",
            "linecolor": "#506784",
            "ticks": ""
           },
           "bgcolor": "rgb(17,17,17)",
           "caxis": {
            "gridcolor": "#506784",
            "linecolor": "#506784",
            "ticks": ""
           }
          },
          "title": {
           "x": 0.05
          },
          "updatemenudefaults": {
           "bgcolor": "#506784",
           "borderwidth": 0
          },
          "xaxis": {
           "automargin": true,
           "gridcolor": "#283442",
           "linecolor": "#506784",
           "ticks": "",
           "title": {
            "standoff": 15
           },
           "zerolinecolor": "#283442",
           "zerolinewidth": 2
          },
          "yaxis": {
           "automargin": true,
           "gridcolor": "#283442",
           "linecolor": "#506784",
           "ticks": "",
           "title": {
            "standoff": 15
           },
           "zerolinecolor": "#283442",
           "zerolinewidth": 2
          }
         }
        },
        "title": {
         "text": "Pie distribution in accordance with the level of exprience"
        }
       }
      }
     },
     "metadata": {},
     "output_type": "display_data"
    }
   ],
   "source": [
    "exp_level = df['experience_level'].value_counts()\n",
    "fig = px.pie(\n",
    "    values = exp_level.values,\n",
    "    names = exp_level.index,\n",
    "    color_discrete_sequence=px.colors.sequential.Mint,\n",
    "    title='Pie distribution in accordance with the level of exprience',\n",
    "    template='plotly_dark'\n",
    ")\n",
    "fig.update_traces(\n",
    "    textinfo='label+percent+value',\n",
    "    textfont_size=10,\n",
    "    marker=dict(line=dict(color='#100000', width=0.2)))\n",
    "fig.show()"
   ]
  },
  {
   "cell_type": "markdown",
   "metadata": {},
   "source": [
    "#### 2.2 Job demand as per the job title\n",
    "\n",
    "We will plot a barplot which will help us understand the job demand in accordance with the job title."
   ]
  },
  {
   "cell_type": "code",
   "execution_count": 12,
   "metadata": {},
   "outputs": [
    {
     "data": {
      "application/vnd.plotly.v1+json": {
       "config": {
        "plotlyServerURL": "https://plot.ly"
       },
       "data": [
        {
         "alignmentgroup": "True",
         "hovertemplate": "color=Data Scientist<br>x=%{x}<br>y=%{y}<br>text=%{text}<extra></extra>",
         "legendgroup": "Data Scientist",
         "marker": {
          "color": "rgb(228, 241, 225)",
          "pattern": {
           "shape": ""
          }
         },
         "name": "Data Scientist",
         "offsetgroup": "Data Scientist",
         "orientation": "v",
         "showlegend": true,
         "text": [
          143
         ],
         "textposition": "auto",
         "type": "bar",
         "x": [
          "Data Scientist"
         ],
         "xaxis": "x",
         "y": [
          143
         ],
         "yaxis": "y"
        },
        {
         "alignmentgroup": "True",
         "hovertemplate": "color=Data Engineer<br>x=%{x}<br>y=%{y}<br>text=%{text}<extra></extra>",
         "legendgroup": "Data Engineer",
         "marker": {
          "color": "rgb(180, 217, 204)",
          "pattern": {
           "shape": ""
          }
         },
         "name": "Data Engineer",
         "offsetgroup": "Data Engineer",
         "orientation": "v",
         "showlegend": true,
         "text": [
          132
         ],
         "textposition": "auto",
         "type": "bar",
         "x": [
          "Data Engineer"
         ],
         "xaxis": "x",
         "y": [
          132
         ],
         "yaxis": "y"
        },
        {
         "alignmentgroup": "True",
         "hovertemplate": "color=Data Analyst<br>x=%{x}<br>y=%{y}<br>text=%{text}<extra></extra>",
         "legendgroup": "Data Analyst",
         "marker": {
          "color": "rgb(137, 192, 182)",
          "pattern": {
           "shape": ""
          }
         },
         "name": "Data Analyst",
         "offsetgroup": "Data Analyst",
         "orientation": "v",
         "showlegend": true,
         "text": [
          97
         ],
         "textposition": "auto",
         "type": "bar",
         "x": [
          "Data Analyst"
         ],
         "xaxis": "x",
         "y": [
          97
         ],
         "yaxis": "y"
        },
        {
         "alignmentgroup": "True",
         "hovertemplate": "color=Machine Learning Engineer<br>x=%{x}<br>y=%{y}<br>text=%{text}<extra></extra>",
         "legendgroup": "Machine Learning Engineer",
         "marker": {
          "color": "rgb(99, 166, 160)",
          "pattern": {
           "shape": ""
          }
         },
         "name": "Machine Learning Engineer",
         "offsetgroup": "Machine Learning Engineer",
         "orientation": "v",
         "showlegend": true,
         "text": [
          41
         ],
         "textposition": "auto",
         "type": "bar",
         "x": [
          "Machine Learning Engineer"
         ],
         "xaxis": "x",
         "y": [
          41
         ],
         "yaxis": "y"
        },
        {
         "alignmentgroup": "True",
         "hovertemplate": "color=Research Scientist<br>x=%{x}<br>y=%{y}<br>text=%{text}<extra></extra>",
         "legendgroup": "Research Scientist",
         "marker": {
          "color": "rgb(68, 140, 138)",
          "pattern": {
           "shape": ""
          }
         },
         "name": "Research Scientist",
         "offsetgroup": "Research Scientist",
         "orientation": "v",
         "showlegend": true,
         "text": [
          16
         ],
         "textposition": "auto",
         "type": "bar",
         "x": [
          "Research Scientist"
         ],
         "xaxis": "x",
         "y": [
          16
         ],
         "yaxis": "y"
        },
        {
         "alignmentgroup": "True",
         "hovertemplate": "color=Data Science Manager<br>x=%{x}<br>y=%{y}<br>text=%{text}<extra></extra>",
         "legendgroup": "Data Science Manager",
         "marker": {
          "color": "rgb(40, 114, 116)",
          "pattern": {
           "shape": ""
          }
         },
         "name": "Data Science Manager",
         "offsetgroup": "Data Science Manager",
         "orientation": "v",
         "showlegend": true,
         "text": [
          12
         ],
         "textposition": "auto",
         "type": "bar",
         "x": [
          "Data Science Manager"
         ],
         "xaxis": "x",
         "y": [
          12
         ],
         "yaxis": "y"
        },
        {
         "alignmentgroup": "True",
         "hovertemplate": "color=Data Architect<br>x=%{x}<br>y=%{y}<br>text=%{text}<extra></extra>",
         "legendgroup": "Data Architect",
         "marker": {
          "color": "rgb(13, 88, 95)",
          "pattern": {
           "shape": ""
          }
         },
         "name": "Data Architect",
         "offsetgroup": "Data Architect",
         "orientation": "v",
         "showlegend": true,
         "text": [
          11
         ],
         "textposition": "auto",
         "type": "bar",
         "x": [
          "Data Architect"
         ],
         "xaxis": "x",
         "y": [
          11
         ],
         "yaxis": "y"
        },
        {
         "alignmentgroup": "True",
         "hovertemplate": "color=Big Data Engineer<br>x=%{x}<br>y=%{y}<br>text=%{text}<extra></extra>",
         "legendgroup": "Big Data Engineer",
         "marker": {
          "color": "rgb(228, 241, 225)",
          "pattern": {
           "shape": ""
          }
         },
         "name": "Big Data Engineer",
         "offsetgroup": "Big Data Engineer",
         "orientation": "v",
         "showlegend": true,
         "text": [
          8
         ],
         "textposition": "auto",
         "type": "bar",
         "x": [
          "Big Data Engineer"
         ],
         "xaxis": "x",
         "y": [
          8
         ],
         "yaxis": "y"
        },
        {
         "alignmentgroup": "True",
         "hovertemplate": "color=Machine Learning Scientist<br>x=%{x}<br>y=%{y}<br>text=%{text}<extra></extra>",
         "legendgroup": "Machine Learning Scientist",
         "marker": {
          "color": "rgb(180, 217, 204)",
          "pattern": {
           "shape": ""
          }
         },
         "name": "Machine Learning Scientist",
         "offsetgroup": "Machine Learning Scientist",
         "orientation": "v",
         "showlegend": true,
         "text": [
          8
         ],
         "textposition": "auto",
         "type": "bar",
         "x": [
          "Machine Learning Scientist"
         ],
         "xaxis": "x",
         "y": [
          8
         ],
         "yaxis": "y"
        },
        {
         "alignmentgroup": "True",
         "hovertemplate": "color=Principal Data Scientist<br>x=%{x}<br>y=%{y}<br>text=%{text}<extra></extra>",
         "legendgroup": "Principal Data Scientist",
         "marker": {
          "color": "rgb(137, 192, 182)",
          "pattern": {
           "shape": ""
          }
         },
         "name": "Principal Data Scientist",
         "offsetgroup": "Principal Data Scientist",
         "orientation": "v",
         "showlegend": true,
         "text": [
          7
         ],
         "textposition": "auto",
         "type": "bar",
         "x": [
          "Principal Data Scientist"
         ],
         "xaxis": "x",
         "y": [
          7
         ],
         "yaxis": "y"
        },
        {
         "alignmentgroup": "True",
         "hovertemplate": "color=AI Scientist<br>x=%{x}<br>y=%{y}<br>text=%{text}<extra></extra>",
         "legendgroup": "AI Scientist",
         "marker": {
          "color": "rgb(99, 166, 160)",
          "pattern": {
           "shape": ""
          }
         },
         "name": "AI Scientist",
         "offsetgroup": "AI Scientist",
         "orientation": "v",
         "showlegend": true,
         "text": [
          7
         ],
         "textposition": "auto",
         "type": "bar",
         "x": [
          "AI Scientist"
         ],
         "xaxis": "x",
         "y": [
          7
         ],
         "yaxis": "y"
        },
        {
         "alignmentgroup": "True",
         "hovertemplate": "color=Data Science Consultant<br>x=%{x}<br>y=%{y}<br>text=%{text}<extra></extra>",
         "legendgroup": "Data Science Consultant",
         "marker": {
          "color": "rgb(68, 140, 138)",
          "pattern": {
           "shape": ""
          }
         },
         "name": "Data Science Consultant",
         "offsetgroup": "Data Science Consultant",
         "orientation": "v",
         "showlegend": true,
         "text": [
          7
         ],
         "textposition": "auto",
         "type": "bar",
         "x": [
          "Data Science Consultant"
         ],
         "xaxis": "x",
         "y": [
          7
         ],
         "yaxis": "y"
        },
        {
         "alignmentgroup": "True",
         "hovertemplate": "color=Director of Data Science<br>x=%{x}<br>y=%{y}<br>text=%{text}<extra></extra>",
         "legendgroup": "Director of Data Science",
         "marker": {
          "color": "rgb(40, 114, 116)",
          "pattern": {
           "shape": ""
          }
         },
         "name": "Director of Data Science",
         "offsetgroup": "Director of Data Science",
         "orientation": "v",
         "showlegend": true,
         "text": [
          7
         ],
         "textposition": "auto",
         "type": "bar",
         "x": [
          "Director of Data Science"
         ],
         "xaxis": "x",
         "y": [
          7
         ],
         "yaxis": "y"
        },
        {
         "alignmentgroup": "True",
         "hovertemplate": "color=Data Analytics Manager<br>x=%{x}<br>y=%{y}<br>text=%{text}<extra></extra>",
         "legendgroup": "Data Analytics Manager",
         "marker": {
          "color": "rgb(13, 88, 95)",
          "pattern": {
           "shape": ""
          }
         },
         "name": "Data Analytics Manager",
         "offsetgroup": "Data Analytics Manager",
         "orientation": "v",
         "showlegend": true,
         "text": [
          7
         ],
         "textposition": "auto",
         "type": "bar",
         "x": [
          "Data Analytics Manager"
         ],
         "xaxis": "x",
         "y": [
          7
         ],
         "yaxis": "y"
        },
        {
         "alignmentgroup": "True",
         "hovertemplate": "color=ML Engineer<br>x=%{x}<br>y=%{y}<br>text=%{text}<extra></extra>",
         "legendgroup": "ML Engineer",
         "marker": {
          "color": "rgb(228, 241, 225)",
          "pattern": {
           "shape": ""
          }
         },
         "name": "ML Engineer",
         "offsetgroup": "ML Engineer",
         "orientation": "v",
         "showlegend": true,
         "text": [
          6
         ],
         "textposition": "auto",
         "type": "bar",
         "x": [
          "ML Engineer"
         ],
         "xaxis": "x",
         "y": [
          6
         ],
         "yaxis": "y"
        },
        {
         "alignmentgroup": "True",
         "hovertemplate": "color=Computer Vision Engineer<br>x=%{x}<br>y=%{y}<br>text=%{text}<extra></extra>",
         "legendgroup": "Computer Vision Engineer",
         "marker": {
          "color": "rgb(180, 217, 204)",
          "pattern": {
           "shape": ""
          }
         },
         "name": "Computer Vision Engineer",
         "offsetgroup": "Computer Vision Engineer",
         "orientation": "v",
         "showlegend": true,
         "text": [
          6
         ],
         "textposition": "auto",
         "type": "bar",
         "x": [
          "Computer Vision Engineer"
         ],
         "xaxis": "x",
         "y": [
          6
         ],
         "yaxis": "y"
        },
        {
         "alignmentgroup": "True",
         "hovertemplate": "color=BI Data Analyst<br>x=%{x}<br>y=%{y}<br>text=%{text}<extra></extra>",
         "legendgroup": "BI Data Analyst",
         "marker": {
          "color": "rgb(137, 192, 182)",
          "pattern": {
           "shape": ""
          }
         },
         "name": "BI Data Analyst",
         "offsetgroup": "BI Data Analyst",
         "orientation": "v",
         "showlegend": true,
         "text": [
          6
         ],
         "textposition": "auto",
         "type": "bar",
         "x": [
          "BI Data Analyst"
         ],
         "xaxis": "x",
         "y": [
          6
         ],
         "yaxis": "y"
        },
        {
         "alignmentgroup": "True",
         "hovertemplate": "color=Lead Data Engineer<br>x=%{x}<br>y=%{y}<br>text=%{text}<extra></extra>",
         "legendgroup": "Lead Data Engineer",
         "marker": {
          "color": "rgb(99, 166, 160)",
          "pattern": {
           "shape": ""
          }
         },
         "name": "Lead Data Engineer",
         "offsetgroup": "Lead Data Engineer",
         "orientation": "v",
         "showlegend": true,
         "text": [
          6
         ],
         "textposition": "auto",
         "type": "bar",
         "x": [
          "Lead Data Engineer"
         ],
         "xaxis": "x",
         "y": [
          6
         ],
         "yaxis": "y"
        },
        {
         "alignmentgroup": "True",
         "hovertemplate": "color=Data Engineering Manager<br>x=%{x}<br>y=%{y}<br>text=%{text}<extra></extra>",
         "legendgroup": "Data Engineering Manager",
         "marker": {
          "color": "rgb(68, 140, 138)",
          "pattern": {
           "shape": ""
          }
         },
         "name": "Data Engineering Manager",
         "offsetgroup": "Data Engineering Manager",
         "orientation": "v",
         "showlegend": true,
         "text": [
          5
         ],
         "textposition": "auto",
         "type": "bar",
         "x": [
          "Data Engineering Manager"
         ],
         "xaxis": "x",
         "y": [
          5
         ],
         "yaxis": "y"
        },
        {
         "alignmentgroup": "True",
         "hovertemplate": "color=Business Data Analyst<br>x=%{x}<br>y=%{y}<br>text=%{text}<extra></extra>",
         "legendgroup": "Business Data Analyst",
         "marker": {
          "color": "rgb(40, 114, 116)",
          "pattern": {
           "shape": ""
          }
         },
         "name": "Business Data Analyst",
         "offsetgroup": "Business Data Analyst",
         "orientation": "v",
         "showlegend": true,
         "text": [
          5
         ],
         "textposition": "auto",
         "type": "bar",
         "x": [
          "Business Data Analyst"
         ],
         "xaxis": "x",
         "y": [
          5
         ],
         "yaxis": "y"
        },
        {
         "alignmentgroup": "True",
         "hovertemplate": "color=Head of Data<br>x=%{x}<br>y=%{y}<br>text=%{text}<extra></extra>",
         "legendgroup": "Head of Data",
         "marker": {
          "color": "rgb(13, 88, 95)",
          "pattern": {
           "shape": ""
          }
         },
         "name": "Head of Data",
         "offsetgroup": "Head of Data",
         "orientation": "v",
         "showlegend": true,
         "text": [
          5
         ],
         "textposition": "auto",
         "type": "bar",
         "x": [
          "Head of Data"
         ],
         "xaxis": "x",
         "y": [
          5
         ],
         "yaxis": "y"
        },
        {
         "alignmentgroup": "True",
         "hovertemplate": "color=Applied Data Scientist<br>x=%{x}<br>y=%{y}<br>text=%{text}<extra></extra>",
         "legendgroup": "Applied Data Scientist",
         "marker": {
          "color": "rgb(228, 241, 225)",
          "pattern": {
           "shape": ""
          }
         },
         "name": "Applied Data Scientist",
         "offsetgroup": "Applied Data Scientist",
         "orientation": "v",
         "showlegend": true,
         "text": [
          5
         ],
         "textposition": "auto",
         "type": "bar",
         "x": [
          "Applied Data Scientist"
         ],
         "xaxis": "x",
         "y": [
          5
         ],
         "yaxis": "y"
        },
        {
         "alignmentgroup": "True",
         "hovertemplate": "color=Applied Machine Learning Scientist<br>x=%{x}<br>y=%{y}<br>text=%{text}<extra></extra>",
         "legendgroup": "Applied Machine Learning Scientist",
         "marker": {
          "color": "rgb(180, 217, 204)",
          "pattern": {
           "shape": ""
          }
         },
         "name": "Applied Machine Learning Scientist",
         "offsetgroup": "Applied Machine Learning Scientist",
         "orientation": "v",
         "showlegend": true,
         "text": [
          4
         ],
         "textposition": "auto",
         "type": "bar",
         "x": [
          "Applied Machine Learning Scientist"
         ],
         "xaxis": "x",
         "y": [
          4
         ],
         "yaxis": "y"
        },
        {
         "alignmentgroup": "True",
         "hovertemplate": "color=Head of Data Science<br>x=%{x}<br>y=%{y}<br>text=%{text}<extra></extra>",
         "legendgroup": "Head of Data Science",
         "marker": {
          "color": "rgb(137, 192, 182)",
          "pattern": {
           "shape": ""
          }
         },
         "name": "Head of Data Science",
         "offsetgroup": "Head of Data Science",
         "orientation": "v",
         "showlegend": true,
         "text": [
          4
         ],
         "textposition": "auto",
         "type": "bar",
         "x": [
          "Head of Data Science"
         ],
         "xaxis": "x",
         "y": [
          4
         ],
         "yaxis": "y"
        },
        {
         "alignmentgroup": "True",
         "hovertemplate": "color=Analytics Engineer<br>x=%{x}<br>y=%{y}<br>text=%{text}<extra></extra>",
         "legendgroup": "Analytics Engineer",
         "marker": {
          "color": "rgb(99, 166, 160)",
          "pattern": {
           "shape": ""
          }
         },
         "name": "Analytics Engineer",
         "offsetgroup": "Analytics Engineer",
         "orientation": "v",
         "showlegend": true,
         "text": [
          4
         ],
         "textposition": "auto",
         "type": "bar",
         "x": [
          "Analytics Engineer"
         ],
         "xaxis": "x",
         "y": [
          4
         ],
         "yaxis": "y"
        },
        {
         "alignmentgroup": "True",
         "hovertemplate": "color=Data Analytics Engineer<br>x=%{x}<br>y=%{y}<br>text=%{text}<extra></extra>",
         "legendgroup": "Data Analytics Engineer",
         "marker": {
          "color": "rgb(68, 140, 138)",
          "pattern": {
           "shape": ""
          }
         },
         "name": "Data Analytics Engineer",
         "offsetgroup": "Data Analytics Engineer",
         "orientation": "v",
         "showlegend": true,
         "text": [
          4
         ],
         "textposition": "auto",
         "type": "bar",
         "x": [
          "Data Analytics Engineer"
         ],
         "xaxis": "x",
         "y": [
          4
         ],
         "yaxis": "y"
        },
        {
         "alignmentgroup": "True",
         "hovertemplate": "color=Machine Learning Developer<br>x=%{x}<br>y=%{y}<br>text=%{text}<extra></extra>",
         "legendgroup": "Machine Learning Developer",
         "marker": {
          "color": "rgb(40, 114, 116)",
          "pattern": {
           "shape": ""
          }
         },
         "name": "Machine Learning Developer",
         "offsetgroup": "Machine Learning Developer",
         "orientation": "v",
         "showlegend": true,
         "text": [
          3
         ],
         "textposition": "auto",
         "type": "bar",
         "x": [
          "Machine Learning Developer"
         ],
         "xaxis": "x",
         "y": [
          3
         ],
         "yaxis": "y"
        },
        {
         "alignmentgroup": "True",
         "hovertemplate": "color=Machine Learning Infrastructure Engineer<br>x=%{x}<br>y=%{y}<br>text=%{text}<extra></extra>",
         "legendgroup": "Machine Learning Infrastructure Engineer",
         "marker": {
          "color": "rgb(13, 88, 95)",
          "pattern": {
           "shape": ""
          }
         },
         "name": "Machine Learning Infrastructure Engineer",
         "offsetgroup": "Machine Learning Infrastructure Engineer",
         "orientation": "v",
         "showlegend": true,
         "text": [
          3
         ],
         "textposition": "auto",
         "type": "bar",
         "x": [
          "Machine Learning Infrastructure Engineer"
         ],
         "xaxis": "x",
         "y": [
          3
         ],
         "yaxis": "y"
        },
        {
         "alignmentgroup": "True",
         "hovertemplate": "color=Lead Data Scientist<br>x=%{x}<br>y=%{y}<br>text=%{text}<extra></extra>",
         "legendgroup": "Lead Data Scientist",
         "marker": {
          "color": "rgb(228, 241, 225)",
          "pattern": {
           "shape": ""
          }
         },
         "name": "Lead Data Scientist",
         "offsetgroup": "Lead Data Scientist",
         "orientation": "v",
         "showlegend": true,
         "text": [
          3
         ],
         "textposition": "auto",
         "type": "bar",
         "x": [
          "Lead Data Scientist"
         ],
         "xaxis": "x",
         "y": [
          3
         ],
         "yaxis": "y"
        },
        {
         "alignmentgroup": "True",
         "hovertemplate": "color=Computer Vision Software Engineer<br>x=%{x}<br>y=%{y}<br>text=%{text}<extra></extra>",
         "legendgroup": "Computer Vision Software Engineer",
         "marker": {
          "color": "rgb(180, 217, 204)",
          "pattern": {
           "shape": ""
          }
         },
         "name": "Computer Vision Software Engineer",
         "offsetgroup": "Computer Vision Software Engineer",
         "orientation": "v",
         "showlegend": true,
         "text": [
          3
         ],
         "textposition": "auto",
         "type": "bar",
         "x": [
          "Computer Vision Software Engineer"
         ],
         "xaxis": "x",
         "y": [
          3
         ],
         "yaxis": "y"
        },
        {
         "alignmentgroup": "True",
         "hovertemplate": "color=Lead Data Analyst<br>x=%{x}<br>y=%{y}<br>text=%{text}<extra></extra>",
         "legendgroup": "Lead Data Analyst",
         "marker": {
          "color": "rgb(137, 192, 182)",
          "pattern": {
           "shape": ""
          }
         },
         "name": "Lead Data Analyst",
         "offsetgroup": "Lead Data Analyst",
         "orientation": "v",
         "showlegend": true,
         "text": [
          3
         ],
         "textposition": "auto",
         "type": "bar",
         "x": [
          "Lead Data Analyst"
         ],
         "xaxis": "x",
         "y": [
          3
         ],
         "yaxis": "y"
        },
        {
         "alignmentgroup": "True",
         "hovertemplate": "color=Data Science Engineer<br>x=%{x}<br>y=%{y}<br>text=%{text}<extra></extra>",
         "legendgroup": "Data Science Engineer",
         "marker": {
          "color": "rgb(99, 166, 160)",
          "pattern": {
           "shape": ""
          }
         },
         "name": "Data Science Engineer",
         "offsetgroup": "Data Science Engineer",
         "orientation": "v",
         "showlegend": true,
         "text": [
          3
         ],
         "textposition": "auto",
         "type": "bar",
         "x": [
          "Data Science Engineer"
         ],
         "xaxis": "x",
         "y": [
          3
         ],
         "yaxis": "y"
        },
        {
         "alignmentgroup": "True",
         "hovertemplate": "color=Principal Data Engineer<br>x=%{x}<br>y=%{y}<br>text=%{text}<extra></extra>",
         "legendgroup": "Principal Data Engineer",
         "marker": {
          "color": "rgb(68, 140, 138)",
          "pattern": {
           "shape": ""
          }
         },
         "name": "Principal Data Engineer",
         "offsetgroup": "Principal Data Engineer",
         "orientation": "v",
         "showlegend": true,
         "text": [
          3
         ],
         "textposition": "auto",
         "type": "bar",
         "x": [
          "Principal Data Engineer"
         ],
         "xaxis": "x",
         "y": [
          3
         ],
         "yaxis": "y"
        },
        {
         "alignmentgroup": "True",
         "hovertemplate": "color=Principal Data Analyst<br>x=%{x}<br>y=%{y}<br>text=%{text}<extra></extra>",
         "legendgroup": "Principal Data Analyst",
         "marker": {
          "color": "rgb(40, 114, 116)",
          "pattern": {
           "shape": ""
          }
         },
         "name": "Principal Data Analyst",
         "offsetgroup": "Principal Data Analyst",
         "orientation": "v",
         "showlegend": true,
         "text": [
          2
         ],
         "textposition": "auto",
         "type": "bar",
         "x": [
          "Principal Data Analyst"
         ],
         "xaxis": "x",
         "y": [
          2
         ],
         "yaxis": "y"
        },
        {
         "alignmentgroup": "True",
         "hovertemplate": "color=ETL Developer<br>x=%{x}<br>y=%{y}<br>text=%{text}<extra></extra>",
         "legendgroup": "ETL Developer",
         "marker": {
          "color": "rgb(13, 88, 95)",
          "pattern": {
           "shape": ""
          }
         },
         "name": "ETL Developer",
         "offsetgroup": "ETL Developer",
         "orientation": "v",
         "showlegend": true,
         "text": [
          2
         ],
         "textposition": "auto",
         "type": "bar",
         "x": [
          "ETL Developer"
         ],
         "xaxis": "x",
         "y": [
          2
         ],
         "yaxis": "y"
        },
        {
         "alignmentgroup": "True",
         "hovertemplate": "color=Product Data Analyst<br>x=%{x}<br>y=%{y}<br>text=%{text}<extra></extra>",
         "legendgroup": "Product Data Analyst",
         "marker": {
          "color": "rgb(228, 241, 225)",
          "pattern": {
           "shape": ""
          }
         },
         "name": "Product Data Analyst",
         "offsetgroup": "Product Data Analyst",
         "orientation": "v",
         "showlegend": true,
         "text": [
          2
         ],
         "textposition": "auto",
         "type": "bar",
         "x": [
          "Product Data Analyst"
         ],
         "xaxis": "x",
         "y": [
          2
         ],
         "yaxis": "y"
        },
        {
         "alignmentgroup": "True",
         "hovertemplate": "color=Director of Data Engineering<br>x=%{x}<br>y=%{y}<br>text=%{text}<extra></extra>",
         "legendgroup": "Director of Data Engineering",
         "marker": {
          "color": "rgb(180, 217, 204)",
          "pattern": {
           "shape": ""
          }
         },
         "name": "Director of Data Engineering",
         "offsetgroup": "Director of Data Engineering",
         "orientation": "v",
         "showlegend": true,
         "text": [
          2
         ],
         "textposition": "auto",
         "type": "bar",
         "x": [
          "Director of Data Engineering"
         ],
         "xaxis": "x",
         "y": [
          2
         ],
         "yaxis": "y"
        },
        {
         "alignmentgroup": "True",
         "hovertemplate": "color=Financial Data Analyst<br>x=%{x}<br>y=%{y}<br>text=%{text}<extra></extra>",
         "legendgroup": "Financial Data Analyst",
         "marker": {
          "color": "rgb(137, 192, 182)",
          "pattern": {
           "shape": ""
          }
         },
         "name": "Financial Data Analyst",
         "offsetgroup": "Financial Data Analyst",
         "orientation": "v",
         "showlegend": true,
         "text": [
          2
         ],
         "textposition": "auto",
         "type": "bar",
         "x": [
          "Financial Data Analyst"
         ],
         "xaxis": "x",
         "y": [
          2
         ],
         "yaxis": "y"
        },
        {
         "alignmentgroup": "True",
         "hovertemplate": "color=Cloud Data Engineer<br>x=%{x}<br>y=%{y}<br>text=%{text}<extra></extra>",
         "legendgroup": "Cloud Data Engineer",
         "marker": {
          "color": "rgb(99, 166, 160)",
          "pattern": {
           "shape": ""
          }
         },
         "name": "Cloud Data Engineer",
         "offsetgroup": "Cloud Data Engineer",
         "orientation": "v",
         "showlegend": true,
         "text": [
          2
         ],
         "textposition": "auto",
         "type": "bar",
         "x": [
          "Cloud Data Engineer"
         ],
         "xaxis": "x",
         "y": [
          2
         ],
         "yaxis": "y"
        },
        {
         "alignmentgroup": "True",
         "hovertemplate": "color=Lead Machine Learning Engineer<br>x=%{x}<br>y=%{y}<br>text=%{text}<extra></extra>",
         "legendgroup": "Lead Machine Learning Engineer",
         "marker": {
          "color": "rgb(68, 140, 138)",
          "pattern": {
           "shape": ""
          }
         },
         "name": "Lead Machine Learning Engineer",
         "offsetgroup": "Lead Machine Learning Engineer",
         "orientation": "v",
         "showlegend": true,
         "text": [
          1
         ],
         "textposition": "auto",
         "type": "bar",
         "x": [
          "Lead Machine Learning Engineer"
         ],
         "xaxis": "x",
         "y": [
          1
         ],
         "yaxis": "y"
        },
        {
         "alignmentgroup": "True",
         "hovertemplate": "color=NLP Engineer<br>x=%{x}<br>y=%{y}<br>text=%{text}<extra></extra>",
         "legendgroup": "NLP Engineer",
         "marker": {
          "color": "rgb(40, 114, 116)",
          "pattern": {
           "shape": ""
          }
         },
         "name": "NLP Engineer",
         "offsetgroup": "NLP Engineer",
         "orientation": "v",
         "showlegend": true,
         "text": [
          1
         ],
         "textposition": "auto",
         "type": "bar",
         "x": [
          "NLP Engineer"
         ],
         "xaxis": "x",
         "y": [
          1
         ],
         "yaxis": "y"
        },
        {
         "alignmentgroup": "True",
         "hovertemplate": "color=Head of Machine Learning<br>x=%{x}<br>y=%{y}<br>text=%{text}<extra></extra>",
         "legendgroup": "Head of Machine Learning",
         "marker": {
          "color": "rgb(13, 88, 95)",
          "pattern": {
           "shape": ""
          }
         },
         "name": "Head of Machine Learning",
         "offsetgroup": "Head of Machine Learning",
         "orientation": "v",
         "showlegend": true,
         "text": [
          1
         ],
         "textposition": "auto",
         "type": "bar",
         "x": [
          "Head of Machine Learning"
         ],
         "xaxis": "x",
         "y": [
          1
         ],
         "yaxis": "y"
        },
        {
         "alignmentgroup": "True",
         "hovertemplate": "color=3D Computer Vision Researcher<br>x=%{x}<br>y=%{y}<br>text=%{text}<extra></extra>",
         "legendgroup": "3D Computer Vision Researcher",
         "marker": {
          "color": "rgb(228, 241, 225)",
          "pattern": {
           "shape": ""
          }
         },
         "name": "3D Computer Vision Researcher",
         "offsetgroup": "3D Computer Vision Researcher",
         "orientation": "v",
         "showlegend": true,
         "text": [
          1
         ],
         "textposition": "auto",
         "type": "bar",
         "x": [
          "3D Computer Vision Researcher"
         ],
         "xaxis": "x",
         "y": [
          1
         ],
         "yaxis": "y"
        },
        {
         "alignmentgroup": "True",
         "hovertemplate": "color=Data Specialist<br>x=%{x}<br>y=%{y}<br>text=%{text}<extra></extra>",
         "legendgroup": "Data Specialist",
         "marker": {
          "color": "rgb(180, 217, 204)",
          "pattern": {
           "shape": ""
          }
         },
         "name": "Data Specialist",
         "offsetgroup": "Data Specialist",
         "orientation": "v",
         "showlegend": true,
         "text": [
          1
         ],
         "textposition": "auto",
         "type": "bar",
         "x": [
          "Data Specialist"
         ],
         "xaxis": "x",
         "y": [
          1
         ],
         "yaxis": "y"
        },
        {
         "alignmentgroup": "True",
         "hovertemplate": "color=Staff Data Scientist<br>x=%{x}<br>y=%{y}<br>text=%{text}<extra></extra>",
         "legendgroup": "Staff Data Scientist",
         "marker": {
          "color": "rgb(137, 192, 182)",
          "pattern": {
           "shape": ""
          }
         },
         "name": "Staff Data Scientist",
         "offsetgroup": "Staff Data Scientist",
         "orientation": "v",
         "showlegend": true,
         "text": [
          1
         ],
         "textposition": "auto",
         "type": "bar",
         "x": [
          "Staff Data Scientist"
         ],
         "xaxis": "x",
         "y": [
          1
         ],
         "yaxis": "y"
        },
        {
         "alignmentgroup": "True",
         "hovertemplate": "color=Big Data Architect<br>x=%{x}<br>y=%{y}<br>text=%{text}<extra></extra>",
         "legendgroup": "Big Data Architect",
         "marker": {
          "color": "rgb(99, 166, 160)",
          "pattern": {
           "shape": ""
          }
         },
         "name": "Big Data Architect",
         "offsetgroup": "Big Data Architect",
         "orientation": "v",
         "showlegend": true,
         "text": [
          1
         ],
         "textposition": "auto",
         "type": "bar",
         "x": [
          "Big Data Architect"
         ],
         "xaxis": "x",
         "y": [
          1
         ],
         "yaxis": "y"
        },
        {
         "alignmentgroup": "True",
         "hovertemplate": "color=Finance Data Analyst<br>x=%{x}<br>y=%{y}<br>text=%{text}<extra></extra>",
         "legendgroup": "Finance Data Analyst",
         "marker": {
          "color": "rgb(68, 140, 138)",
          "pattern": {
           "shape": ""
          }
         },
         "name": "Finance Data Analyst",
         "offsetgroup": "Finance Data Analyst",
         "orientation": "v",
         "showlegend": true,
         "text": [
          1
         ],
         "textposition": "auto",
         "type": "bar",
         "x": [
          "Finance Data Analyst"
         ],
         "xaxis": "x",
         "y": [
          1
         ],
         "yaxis": "y"
        },
        {
         "alignmentgroup": "True",
         "hovertemplate": "color=Marketing Data Analyst<br>x=%{x}<br>y=%{y}<br>text=%{text}<extra></extra>",
         "legendgroup": "Marketing Data Analyst",
         "marker": {
          "color": "rgb(40, 114, 116)",
          "pattern": {
           "shape": ""
          }
         },
         "name": "Marketing Data Analyst",
         "offsetgroup": "Marketing Data Analyst",
         "orientation": "v",
         "showlegend": true,
         "text": [
          1
         ],
         "textposition": "auto",
         "type": "bar",
         "x": [
          "Marketing Data Analyst"
         ],
         "xaxis": "x",
         "y": [
          1
         ],
         "yaxis": "y"
        },
        {
         "alignmentgroup": "True",
         "hovertemplate": "color=Machine Learning Manager<br>x=%{x}<br>y=%{y}<br>text=%{text}<extra></extra>",
         "legendgroup": "Machine Learning Manager",
         "marker": {
          "color": "rgb(13, 88, 95)",
          "pattern": {
           "shape": ""
          }
         },
         "name": "Machine Learning Manager",
         "offsetgroup": "Machine Learning Manager",
         "orientation": "v",
         "showlegend": true,
         "text": [
          1
         ],
         "textposition": "auto",
         "type": "bar",
         "x": [
          "Machine Learning Manager"
         ],
         "xaxis": "x",
         "y": [
          1
         ],
         "yaxis": "y"
        },
        {
         "alignmentgroup": "True",
         "hovertemplate": "color=Data Analytics Lead<br>x=%{x}<br>y=%{y}<br>text=%{text}<extra></extra>",
         "legendgroup": "Data Analytics Lead",
         "marker": {
          "color": "rgb(228, 241, 225)",
          "pattern": {
           "shape": ""
          }
         },
         "name": "Data Analytics Lead",
         "offsetgroup": "Data Analytics Lead",
         "orientation": "v",
         "showlegend": true,
         "text": [
          1
         ],
         "textposition": "auto",
         "type": "bar",
         "x": [
          "Data Analytics Lead"
         ],
         "xaxis": "x",
         "y": [
          1
         ],
         "yaxis": "y"
        }
       ],
       "layout": {
        "barmode": "relative",
        "font": {
         "family": "Franklin Gothic",
         "size": 10
        },
        "legend": {
         "title": {
          "text": "color"
         },
         "tracegroupgap": 0
        },
        "template": {
         "data": {
          "bar": [
           {
            "error_x": {
             "color": "#f2f5fa"
            },
            "error_y": {
             "color": "#f2f5fa"
            },
            "marker": {
             "line": {
              "color": "rgb(17,17,17)",
              "width": 0.5
             },
             "pattern": {
              "fillmode": "overlay",
              "size": 10,
              "solidity": 0.2
             }
            },
            "type": "bar"
           }
          ],
          "barpolar": [
           {
            "marker": {
             "line": {
              "color": "rgb(17,17,17)",
              "width": 0.5
             },
             "pattern": {
              "fillmode": "overlay",
              "size": 10,
              "solidity": 0.2
             }
            },
            "type": "barpolar"
           }
          ],
          "carpet": [
           {
            "aaxis": {
             "endlinecolor": "#A2B1C6",
             "gridcolor": "#506784",
             "linecolor": "#506784",
             "minorgridcolor": "#506784",
             "startlinecolor": "#A2B1C6"
            },
            "baxis": {
             "endlinecolor": "#A2B1C6",
             "gridcolor": "#506784",
             "linecolor": "#506784",
             "minorgridcolor": "#506784",
             "startlinecolor": "#A2B1C6"
            },
            "type": "carpet"
           }
          ],
          "choropleth": [
           {
            "colorbar": {
             "outlinewidth": 0,
             "ticks": ""
            },
            "type": "choropleth"
           }
          ],
          "contour": [
           {
            "colorbar": {
             "outlinewidth": 0,
             "ticks": ""
            },
            "colorscale": [
             [
              0,
              "#0d0887"
             ],
             [
              0.1111111111111111,
              "#46039f"
             ],
             [
              0.2222222222222222,
              "#7201a8"
             ],
             [
              0.3333333333333333,
              "#9c179e"
             ],
             [
              0.4444444444444444,
              "#bd3786"
             ],
             [
              0.5555555555555556,
              "#d8576b"
             ],
             [
              0.6666666666666666,
              "#ed7953"
             ],
             [
              0.7777777777777778,
              "#fb9f3a"
             ],
             [
              0.8888888888888888,
              "#fdca26"
             ],
             [
              1,
              "#f0f921"
             ]
            ],
            "type": "contour"
           }
          ],
          "contourcarpet": [
           {
            "colorbar": {
             "outlinewidth": 0,
             "ticks": ""
            },
            "type": "contourcarpet"
           }
          ],
          "heatmap": [
           {
            "colorbar": {
             "outlinewidth": 0,
             "ticks": ""
            },
            "colorscale": [
             [
              0,
              "#0d0887"
             ],
             [
              0.1111111111111111,
              "#46039f"
             ],
             [
              0.2222222222222222,
              "#7201a8"
             ],
             [
              0.3333333333333333,
              "#9c179e"
             ],
             [
              0.4444444444444444,
              "#bd3786"
             ],
             [
              0.5555555555555556,
              "#d8576b"
             ],
             [
              0.6666666666666666,
              "#ed7953"
             ],
             [
              0.7777777777777778,
              "#fb9f3a"
             ],
             [
              0.8888888888888888,
              "#fdca26"
             ],
             [
              1,
              "#f0f921"
             ]
            ],
            "type": "heatmap"
           }
          ],
          "heatmapgl": [
           {
            "colorbar": {
             "outlinewidth": 0,
             "ticks": ""
            },
            "colorscale": [
             [
              0,
              "#0d0887"
             ],
             [
              0.1111111111111111,
              "#46039f"
             ],
             [
              0.2222222222222222,
              "#7201a8"
             ],
             [
              0.3333333333333333,
              "#9c179e"
             ],
             [
              0.4444444444444444,
              "#bd3786"
             ],
             [
              0.5555555555555556,
              "#d8576b"
             ],
             [
              0.6666666666666666,
              "#ed7953"
             ],
             [
              0.7777777777777778,
              "#fb9f3a"
             ],
             [
              0.8888888888888888,
              "#fdca26"
             ],
             [
              1,
              "#f0f921"
             ]
            ],
            "type": "heatmapgl"
           }
          ],
          "histogram": [
           {
            "marker": {
             "pattern": {
              "fillmode": "overlay",
              "size": 10,
              "solidity": 0.2
             }
            },
            "type": "histogram"
           }
          ],
          "histogram2d": [
           {
            "colorbar": {
             "outlinewidth": 0,
             "ticks": ""
            },
            "colorscale": [
             [
              0,
              "#0d0887"
             ],
             [
              0.1111111111111111,
              "#46039f"
             ],
             [
              0.2222222222222222,
              "#7201a8"
             ],
             [
              0.3333333333333333,
              "#9c179e"
             ],
             [
              0.4444444444444444,
              "#bd3786"
             ],
             [
              0.5555555555555556,
              "#d8576b"
             ],
             [
              0.6666666666666666,
              "#ed7953"
             ],
             [
              0.7777777777777778,
              "#fb9f3a"
             ],
             [
              0.8888888888888888,
              "#fdca26"
             ],
             [
              1,
              "#f0f921"
             ]
            ],
            "type": "histogram2d"
           }
          ],
          "histogram2dcontour": [
           {
            "colorbar": {
             "outlinewidth": 0,
             "ticks": ""
            },
            "colorscale": [
             [
              0,
              "#0d0887"
             ],
             [
              0.1111111111111111,
              "#46039f"
             ],
             [
              0.2222222222222222,
              "#7201a8"
             ],
             [
              0.3333333333333333,
              "#9c179e"
             ],
             [
              0.4444444444444444,
              "#bd3786"
             ],
             [
              0.5555555555555556,
              "#d8576b"
             ],
             [
              0.6666666666666666,
              "#ed7953"
             ],
             [
              0.7777777777777778,
              "#fb9f3a"
             ],
             [
              0.8888888888888888,
              "#fdca26"
             ],
             [
              1,
              "#f0f921"
             ]
            ],
            "type": "histogram2dcontour"
           }
          ],
          "mesh3d": [
           {
            "colorbar": {
             "outlinewidth": 0,
             "ticks": ""
            },
            "type": "mesh3d"
           }
          ],
          "parcoords": [
           {
            "line": {
             "colorbar": {
              "outlinewidth": 0,
              "ticks": ""
             }
            },
            "type": "parcoords"
           }
          ],
          "pie": [
           {
            "automargin": true,
            "type": "pie"
           }
          ],
          "scatter": [
           {
            "marker": {
             "line": {
              "color": "#283442"
             }
            },
            "type": "scatter"
           }
          ],
          "scatter3d": [
           {
            "line": {
             "colorbar": {
              "outlinewidth": 0,
              "ticks": ""
             }
            },
            "marker": {
             "colorbar": {
              "outlinewidth": 0,
              "ticks": ""
             }
            },
            "type": "scatter3d"
           }
          ],
          "scattercarpet": [
           {
            "marker": {
             "colorbar": {
              "outlinewidth": 0,
              "ticks": ""
             }
            },
            "type": "scattercarpet"
           }
          ],
          "scattergeo": [
           {
            "marker": {
             "colorbar": {
              "outlinewidth": 0,
              "ticks": ""
             }
            },
            "type": "scattergeo"
           }
          ],
          "scattergl": [
           {
            "marker": {
             "line": {
              "color": "#283442"
             }
            },
            "type": "scattergl"
           }
          ],
          "scattermapbox": [
           {
            "marker": {
             "colorbar": {
              "outlinewidth": 0,
              "ticks": ""
             }
            },
            "type": "scattermapbox"
           }
          ],
          "scatterpolar": [
           {
            "marker": {
             "colorbar": {
              "outlinewidth": 0,
              "ticks": ""
             }
            },
            "type": "scatterpolar"
           }
          ],
          "scatterpolargl": [
           {
            "marker": {
             "colorbar": {
              "outlinewidth": 0,
              "ticks": ""
             }
            },
            "type": "scatterpolargl"
           }
          ],
          "scatterternary": [
           {
            "marker": {
             "colorbar": {
              "outlinewidth": 0,
              "ticks": ""
             }
            },
            "type": "scatterternary"
           }
          ],
          "surface": [
           {
            "colorbar": {
             "outlinewidth": 0,
             "ticks": ""
            },
            "colorscale": [
             [
              0,
              "#0d0887"
             ],
             [
              0.1111111111111111,
              "#46039f"
             ],
             [
              0.2222222222222222,
              "#7201a8"
             ],
             [
              0.3333333333333333,
              "#9c179e"
             ],
             [
              0.4444444444444444,
              "#bd3786"
             ],
             [
              0.5555555555555556,
              "#d8576b"
             ],
             [
              0.6666666666666666,
              "#ed7953"
             ],
             [
              0.7777777777777778,
              "#fb9f3a"
             ],
             [
              0.8888888888888888,
              "#fdca26"
             ],
             [
              1,
              "#f0f921"
             ]
            ],
            "type": "surface"
           }
          ],
          "table": [
           {
            "cells": {
             "fill": {
              "color": "#506784"
             },
             "line": {
              "color": "rgb(17,17,17)"
             }
            },
            "header": {
             "fill": {
              "color": "#2a3f5f"
             },
             "line": {
              "color": "rgb(17,17,17)"
             }
            },
            "type": "table"
           }
          ]
         },
         "layout": {
          "annotationdefaults": {
           "arrowcolor": "#f2f5fa",
           "arrowhead": 0,
           "arrowwidth": 1
          },
          "autotypenumbers": "strict",
          "coloraxis": {
           "colorbar": {
            "outlinewidth": 0,
            "ticks": ""
           }
          },
          "colorscale": {
           "diverging": [
            [
             0,
             "#8e0152"
            ],
            [
             0.1,
             "#c51b7d"
            ],
            [
             0.2,
             "#de77ae"
            ],
            [
             0.3,
             "#f1b6da"
            ],
            [
             0.4,
             "#fde0ef"
            ],
            [
             0.5,
             "#f7f7f7"
            ],
            [
             0.6,
             "#e6f5d0"
            ],
            [
             0.7,
             "#b8e186"
            ],
            [
             0.8,
             "#7fbc41"
            ],
            [
             0.9,
             "#4d9221"
            ],
            [
             1,
             "#276419"
            ]
           ],
           "sequential": [
            [
             0,
             "#0d0887"
            ],
            [
             0.1111111111111111,
             "#46039f"
            ],
            [
             0.2222222222222222,
             "#7201a8"
            ],
            [
             0.3333333333333333,
             "#9c179e"
            ],
            [
             0.4444444444444444,
             "#bd3786"
            ],
            [
             0.5555555555555556,
             "#d8576b"
            ],
            [
             0.6666666666666666,
             "#ed7953"
            ],
            [
             0.7777777777777778,
             "#fb9f3a"
            ],
            [
             0.8888888888888888,
             "#fdca26"
            ],
            [
             1,
             "#f0f921"
            ]
           ],
           "sequentialminus": [
            [
             0,
             "#0d0887"
            ],
            [
             0.1111111111111111,
             "#46039f"
            ],
            [
             0.2222222222222222,
             "#7201a8"
            ],
            [
             0.3333333333333333,
             "#9c179e"
            ],
            [
             0.4444444444444444,
             "#bd3786"
            ],
            [
             0.5555555555555556,
             "#d8576b"
            ],
            [
             0.6666666666666666,
             "#ed7953"
            ],
            [
             0.7777777777777778,
             "#fb9f3a"
            ],
            [
             0.8888888888888888,
             "#fdca26"
            ],
            [
             1,
             "#f0f921"
            ]
           ]
          },
          "colorway": [
           "#636efa",
           "#EF553B",
           "#00cc96",
           "#ab63fa",
           "#FFA15A",
           "#19d3f3",
           "#FF6692",
           "#B6E880",
           "#FF97FF",
           "#FECB52"
          ],
          "font": {
           "color": "#f2f5fa"
          },
          "geo": {
           "bgcolor": "rgb(17,17,17)",
           "lakecolor": "rgb(17,17,17)",
           "landcolor": "rgb(17,17,17)",
           "showlakes": true,
           "showland": true,
           "subunitcolor": "#506784"
          },
          "hoverlabel": {
           "align": "left"
          },
          "hovermode": "closest",
          "mapbox": {
           "style": "dark"
          },
          "paper_bgcolor": "rgb(17,17,17)",
          "plot_bgcolor": "rgb(17,17,17)",
          "polar": {
           "angularaxis": {
            "gridcolor": "#506784",
            "linecolor": "#506784",
            "ticks": ""
           },
           "bgcolor": "rgb(17,17,17)",
           "radialaxis": {
            "gridcolor": "#506784",
            "linecolor": "#506784",
            "ticks": ""
           }
          },
          "scene": {
           "xaxis": {
            "backgroundcolor": "rgb(17,17,17)",
            "gridcolor": "#506784",
            "gridwidth": 2,
            "linecolor": "#506784",
            "showbackground": true,
            "ticks": "",
            "zerolinecolor": "#C8D4E3"
           },
           "yaxis": {
            "backgroundcolor": "rgb(17,17,17)",
            "gridcolor": "#506784",
            "gridwidth": 2,
            "linecolor": "#506784",
            "showbackground": true,
            "ticks": "",
            "zerolinecolor": "#C8D4E3"
           },
           "zaxis": {
            "backgroundcolor": "rgb(17,17,17)",
            "gridcolor": "#506784",
            "gridwidth": 2,
            "linecolor": "#506784",
            "showbackground": true,
            "ticks": "",
            "zerolinecolor": "#C8D4E3"
           }
          },
          "shapedefaults": {
           "line": {
            "color": "#f2f5fa"
           }
          },
          "sliderdefaults": {
           "bgcolor": "#C8D4E3",
           "bordercolor": "rgb(17,17,17)",
           "borderwidth": 1,
           "tickwidth": 0
          },
          "ternary": {
           "aaxis": {
            "gridcolor": "#506784",
            "linecolor": "#506784",
            "ticks": ""
           },
           "baxis": {
            "gridcolor": "#506784",
            "linecolor": "#506784",
            "ticks": ""
           },
           "bgcolor": "rgb(17,17,17)",
           "caxis": {
            "gridcolor": "#506784",
            "linecolor": "#506784",
            "ticks": ""
           }
          },
          "title": {
           "x": 0.05
          },
          "updatemenudefaults": {
           "bgcolor": "#506784",
           "borderwidth": 0
          },
          "xaxis": {
           "automargin": true,
           "gridcolor": "#283442",
           "linecolor": "#506784",
           "ticks": "",
           "title": {
            "standoff": 15
           },
           "zerolinecolor": "#283442",
           "zerolinewidth": 2
          },
          "yaxis": {
           "automargin": true,
           "gridcolor": "#283442",
           "linecolor": "#506784",
           "ticks": "",
           "title": {
            "standoff": 15
           },
           "zerolinecolor": "#283442",
           "zerolinewidth": 2
          }
         }
        },
        "title": {
         "text": "Bar plot distribution in accordance with the job title"
        },
        "xaxis": {
         "anchor": "y",
         "domain": [
          0,
          1
         ],
         "title": {
          "text": "Job Titles"
         }
        },
        "yaxis": {
         "anchor": "x",
         "domain": [
          0,
          1
         ],
         "title": {
          "text": "count"
         }
        }
       }
      }
     },
     "metadata": {},
     "output_type": "display_data"
    }
   ],
   "source": [
    "job_title_list = df['job_title'].value_counts()\n",
    "fig = px.bar(\n",
    "    y = job_title_list.values,\n",
    "    x = job_title_list.index,\n",
    "    color = job_title_list.index,\n",
    "    color_discrete_sequence = px.colors.sequential.Mint,\n",
    "    text = job_title_list.values,\n",
    "    title = 'Bar plot distribution in accordance with the job title',\n",
    "    template = 'plotly_dark'\n",
    ")\n",
    "fig.update_layout(\n",
    "    xaxis_title=\"Job Titles\",\n",
    "    yaxis_title=\"count\",\n",
    "    font = dict(size=10,family=\"Franklin Gothic\"))\n",
    "fig.show()"
   ]
  },
  {
   "cell_type": "markdown",
   "metadata": {},
   "source": [
    "#### 2.3 Job demand as per the type of employment\n",
    "\n",
    "We will plot a barplot which will help us understand the job demand in accordance with the type of employment."
   ]
  },
  {
   "cell_type": "code",
   "execution_count": 13,
   "metadata": {},
   "outputs": [
    {
     "data": {
      "application/vnd.plotly.v1+json": {
       "config": {
        "plotlyServerURL": "https://plot.ly"
       },
       "data": [
        {
         "alignmentgroup": "True",
         "hovertemplate": "color=Full Time<br>x=%{x}<br>y=%{y}<br>text=%{text}<extra></extra>",
         "legendgroup": "Full Time",
         "marker": {
          "color": "rgb(228, 241, 225)",
          "pattern": {
           "shape": ""
          }
         },
         "name": "Full Time",
         "offsetgroup": "Full Time",
         "orientation": "v",
         "showlegend": true,
         "text": [
          588
         ],
         "textposition": "auto",
         "type": "bar",
         "x": [
          "Full Time"
         ],
         "xaxis": "x",
         "y": [
          588
         ],
         "yaxis": "y"
        },
        {
         "alignmentgroup": "True",
         "hovertemplate": "color=Part Time<br>x=%{x}<br>y=%{y}<br>text=%{text}<extra></extra>",
         "legendgroup": "Part Time",
         "marker": {
          "color": "rgb(180, 217, 204)",
          "pattern": {
           "shape": ""
          }
         },
         "name": "Part Time",
         "offsetgroup": "Part Time",
         "orientation": "v",
         "showlegend": true,
         "text": [
          10
         ],
         "textposition": "auto",
         "type": "bar",
         "x": [
          "Part Time"
         ],
         "xaxis": "x",
         "y": [
          10
         ],
         "yaxis": "y"
        },
        {
         "alignmentgroup": "True",
         "hovertemplate": "color=Contract<br>x=%{x}<br>y=%{y}<br>text=%{text}<extra></extra>",
         "legendgroup": "Contract",
         "marker": {
          "color": "rgb(137, 192, 182)",
          "pattern": {
           "shape": ""
          }
         },
         "name": "Contract",
         "offsetgroup": "Contract",
         "orientation": "v",
         "showlegend": true,
         "text": [
          5
         ],
         "textposition": "auto",
         "type": "bar",
         "x": [
          "Contract"
         ],
         "xaxis": "x",
         "y": [
          5
         ],
         "yaxis": "y"
        },
        {
         "alignmentgroup": "True",
         "hovertemplate": "color=Freelance<br>x=%{x}<br>y=%{y}<br>text=%{text}<extra></extra>",
         "legendgroup": "Freelance",
         "marker": {
          "color": "rgb(99, 166, 160)",
          "pattern": {
           "shape": ""
          }
         },
         "name": "Freelance",
         "offsetgroup": "Freelance",
         "orientation": "v",
         "showlegend": true,
         "text": [
          4
         ],
         "textposition": "auto",
         "type": "bar",
         "x": [
          "Freelance"
         ],
         "xaxis": "x",
         "y": [
          4
         ],
         "yaxis": "y"
        }
       ],
       "layout": {
        "barmode": "relative",
        "font": {
         "family": "Franklin Gothic",
         "size": 10
        },
        "legend": {
         "title": {
          "text": "color"
         },
         "tracegroupgap": 0
        },
        "template": {
         "data": {
          "bar": [
           {
            "error_x": {
             "color": "#f2f5fa"
            },
            "error_y": {
             "color": "#f2f5fa"
            },
            "marker": {
             "line": {
              "color": "rgb(17,17,17)",
              "width": 0.5
             },
             "pattern": {
              "fillmode": "overlay",
              "size": 10,
              "solidity": 0.2
             }
            },
            "type": "bar"
           }
          ],
          "barpolar": [
           {
            "marker": {
             "line": {
              "color": "rgb(17,17,17)",
              "width": 0.5
             },
             "pattern": {
              "fillmode": "overlay",
              "size": 10,
              "solidity": 0.2
             }
            },
            "type": "barpolar"
           }
          ],
          "carpet": [
           {
            "aaxis": {
             "endlinecolor": "#A2B1C6",
             "gridcolor": "#506784",
             "linecolor": "#506784",
             "minorgridcolor": "#506784",
             "startlinecolor": "#A2B1C6"
            },
            "baxis": {
             "endlinecolor": "#A2B1C6",
             "gridcolor": "#506784",
             "linecolor": "#506784",
             "minorgridcolor": "#506784",
             "startlinecolor": "#A2B1C6"
            },
            "type": "carpet"
           }
          ],
          "choropleth": [
           {
            "colorbar": {
             "outlinewidth": 0,
             "ticks": ""
            },
            "type": "choropleth"
           }
          ],
          "contour": [
           {
            "colorbar": {
             "outlinewidth": 0,
             "ticks": ""
            },
            "colorscale": [
             [
              0,
              "#0d0887"
             ],
             [
              0.1111111111111111,
              "#46039f"
             ],
             [
              0.2222222222222222,
              "#7201a8"
             ],
             [
              0.3333333333333333,
              "#9c179e"
             ],
             [
              0.4444444444444444,
              "#bd3786"
             ],
             [
              0.5555555555555556,
              "#d8576b"
             ],
             [
              0.6666666666666666,
              "#ed7953"
             ],
             [
              0.7777777777777778,
              "#fb9f3a"
             ],
             [
              0.8888888888888888,
              "#fdca26"
             ],
             [
              1,
              "#f0f921"
             ]
            ],
            "type": "contour"
           }
          ],
          "contourcarpet": [
           {
            "colorbar": {
             "outlinewidth": 0,
             "ticks": ""
            },
            "type": "contourcarpet"
           }
          ],
          "heatmap": [
           {
            "colorbar": {
             "outlinewidth": 0,
             "ticks": ""
            },
            "colorscale": [
             [
              0,
              "#0d0887"
             ],
             [
              0.1111111111111111,
              "#46039f"
             ],
             [
              0.2222222222222222,
              "#7201a8"
             ],
             [
              0.3333333333333333,
              "#9c179e"
             ],
             [
              0.4444444444444444,
              "#bd3786"
             ],
             [
              0.5555555555555556,
              "#d8576b"
             ],
             [
              0.6666666666666666,
              "#ed7953"
             ],
             [
              0.7777777777777778,
              "#fb9f3a"
             ],
             [
              0.8888888888888888,
              "#fdca26"
             ],
             [
              1,
              "#f0f921"
             ]
            ],
            "type": "heatmap"
           }
          ],
          "heatmapgl": [
           {
            "colorbar": {
             "outlinewidth": 0,
             "ticks": ""
            },
            "colorscale": [
             [
              0,
              "#0d0887"
             ],
             [
              0.1111111111111111,
              "#46039f"
             ],
             [
              0.2222222222222222,
              "#7201a8"
             ],
             [
              0.3333333333333333,
              "#9c179e"
             ],
             [
              0.4444444444444444,
              "#bd3786"
             ],
             [
              0.5555555555555556,
              "#d8576b"
             ],
             [
              0.6666666666666666,
              "#ed7953"
             ],
             [
              0.7777777777777778,
              "#fb9f3a"
             ],
             [
              0.8888888888888888,
              "#fdca26"
             ],
             [
              1,
              "#f0f921"
             ]
            ],
            "type": "heatmapgl"
           }
          ],
          "histogram": [
           {
            "marker": {
             "pattern": {
              "fillmode": "overlay",
              "size": 10,
              "solidity": 0.2
             }
            },
            "type": "histogram"
           }
          ],
          "histogram2d": [
           {
            "colorbar": {
             "outlinewidth": 0,
             "ticks": ""
            },
            "colorscale": [
             [
              0,
              "#0d0887"
             ],
             [
              0.1111111111111111,
              "#46039f"
             ],
             [
              0.2222222222222222,
              "#7201a8"
             ],
             [
              0.3333333333333333,
              "#9c179e"
             ],
             [
              0.4444444444444444,
              "#bd3786"
             ],
             [
              0.5555555555555556,
              "#d8576b"
             ],
             [
              0.6666666666666666,
              "#ed7953"
             ],
             [
              0.7777777777777778,
              "#fb9f3a"
             ],
             [
              0.8888888888888888,
              "#fdca26"
             ],
             [
              1,
              "#f0f921"
             ]
            ],
            "type": "histogram2d"
           }
          ],
          "histogram2dcontour": [
           {
            "colorbar": {
             "outlinewidth": 0,
             "ticks": ""
            },
            "colorscale": [
             [
              0,
              "#0d0887"
             ],
             [
              0.1111111111111111,
              "#46039f"
             ],
             [
              0.2222222222222222,
              "#7201a8"
             ],
             [
              0.3333333333333333,
              "#9c179e"
             ],
             [
              0.4444444444444444,
              "#bd3786"
             ],
             [
              0.5555555555555556,
              "#d8576b"
             ],
             [
              0.6666666666666666,
              "#ed7953"
             ],
             [
              0.7777777777777778,
              "#fb9f3a"
             ],
             [
              0.8888888888888888,
              "#fdca26"
             ],
             [
              1,
              "#f0f921"
             ]
            ],
            "type": "histogram2dcontour"
           }
          ],
          "mesh3d": [
           {
            "colorbar": {
             "outlinewidth": 0,
             "ticks": ""
            },
            "type": "mesh3d"
           }
          ],
          "parcoords": [
           {
            "line": {
             "colorbar": {
              "outlinewidth": 0,
              "ticks": ""
             }
            },
            "type": "parcoords"
           }
          ],
          "pie": [
           {
            "automargin": true,
            "type": "pie"
           }
          ],
          "scatter": [
           {
            "marker": {
             "line": {
              "color": "#283442"
             }
            },
            "type": "scatter"
           }
          ],
          "scatter3d": [
           {
            "line": {
             "colorbar": {
              "outlinewidth": 0,
              "ticks": ""
             }
            },
            "marker": {
             "colorbar": {
              "outlinewidth": 0,
              "ticks": ""
             }
            },
            "type": "scatter3d"
           }
          ],
          "scattercarpet": [
           {
            "marker": {
             "colorbar": {
              "outlinewidth": 0,
              "ticks": ""
             }
            },
            "type": "scattercarpet"
           }
          ],
          "scattergeo": [
           {
            "marker": {
             "colorbar": {
              "outlinewidth": 0,
              "ticks": ""
             }
            },
            "type": "scattergeo"
           }
          ],
          "scattergl": [
           {
            "marker": {
             "line": {
              "color": "#283442"
             }
            },
            "type": "scattergl"
           }
          ],
          "scattermapbox": [
           {
            "marker": {
             "colorbar": {
              "outlinewidth": 0,
              "ticks": ""
             }
            },
            "type": "scattermapbox"
           }
          ],
          "scatterpolar": [
           {
            "marker": {
             "colorbar": {
              "outlinewidth": 0,
              "ticks": ""
             }
            },
            "type": "scatterpolar"
           }
          ],
          "scatterpolargl": [
           {
            "marker": {
             "colorbar": {
              "outlinewidth": 0,
              "ticks": ""
             }
            },
            "type": "scatterpolargl"
           }
          ],
          "scatterternary": [
           {
            "marker": {
             "colorbar": {
              "outlinewidth": 0,
              "ticks": ""
             }
            },
            "type": "scatterternary"
           }
          ],
          "surface": [
           {
            "colorbar": {
             "outlinewidth": 0,
             "ticks": ""
            },
            "colorscale": [
             [
              0,
              "#0d0887"
             ],
             [
              0.1111111111111111,
              "#46039f"
             ],
             [
              0.2222222222222222,
              "#7201a8"
             ],
             [
              0.3333333333333333,
              "#9c179e"
             ],
             [
              0.4444444444444444,
              "#bd3786"
             ],
             [
              0.5555555555555556,
              "#d8576b"
             ],
             [
              0.6666666666666666,
              "#ed7953"
             ],
             [
              0.7777777777777778,
              "#fb9f3a"
             ],
             [
              0.8888888888888888,
              "#fdca26"
             ],
             [
              1,
              "#f0f921"
             ]
            ],
            "type": "surface"
           }
          ],
          "table": [
           {
            "cells": {
             "fill": {
              "color": "#506784"
             },
             "line": {
              "color": "rgb(17,17,17)"
             }
            },
            "header": {
             "fill": {
              "color": "#2a3f5f"
             },
             "line": {
              "color": "rgb(17,17,17)"
             }
            },
            "type": "table"
           }
          ]
         },
         "layout": {
          "annotationdefaults": {
           "arrowcolor": "#f2f5fa",
           "arrowhead": 0,
           "arrowwidth": 1
          },
          "autotypenumbers": "strict",
          "coloraxis": {
           "colorbar": {
            "outlinewidth": 0,
            "ticks": ""
           }
          },
          "colorscale": {
           "diverging": [
            [
             0,
             "#8e0152"
            ],
            [
             0.1,
             "#c51b7d"
            ],
            [
             0.2,
             "#de77ae"
            ],
            [
             0.3,
             "#f1b6da"
            ],
            [
             0.4,
             "#fde0ef"
            ],
            [
             0.5,
             "#f7f7f7"
            ],
            [
             0.6,
             "#e6f5d0"
            ],
            [
             0.7,
             "#b8e186"
            ],
            [
             0.8,
             "#7fbc41"
            ],
            [
             0.9,
             "#4d9221"
            ],
            [
             1,
             "#276419"
            ]
           ],
           "sequential": [
            [
             0,
             "#0d0887"
            ],
            [
             0.1111111111111111,
             "#46039f"
            ],
            [
             0.2222222222222222,
             "#7201a8"
            ],
            [
             0.3333333333333333,
             "#9c179e"
            ],
            [
             0.4444444444444444,
             "#bd3786"
            ],
            [
             0.5555555555555556,
             "#d8576b"
            ],
            [
             0.6666666666666666,
             "#ed7953"
            ],
            [
             0.7777777777777778,
             "#fb9f3a"
            ],
            [
             0.8888888888888888,
             "#fdca26"
            ],
            [
             1,
             "#f0f921"
            ]
           ],
           "sequentialminus": [
            [
             0,
             "#0d0887"
            ],
            [
             0.1111111111111111,
             "#46039f"
            ],
            [
             0.2222222222222222,
             "#7201a8"
            ],
            [
             0.3333333333333333,
             "#9c179e"
            ],
            [
             0.4444444444444444,
             "#bd3786"
            ],
            [
             0.5555555555555556,
             "#d8576b"
            ],
            [
             0.6666666666666666,
             "#ed7953"
            ],
            [
             0.7777777777777778,
             "#fb9f3a"
            ],
            [
             0.8888888888888888,
             "#fdca26"
            ],
            [
             1,
             "#f0f921"
            ]
           ]
          },
          "colorway": [
           "#636efa",
           "#EF553B",
           "#00cc96",
           "#ab63fa",
           "#FFA15A",
           "#19d3f3",
           "#FF6692",
           "#B6E880",
           "#FF97FF",
           "#FECB52"
          ],
          "font": {
           "color": "#f2f5fa"
          },
          "geo": {
           "bgcolor": "rgb(17,17,17)",
           "lakecolor": "rgb(17,17,17)",
           "landcolor": "rgb(17,17,17)",
           "showlakes": true,
           "showland": true,
           "subunitcolor": "#506784"
          },
          "hoverlabel": {
           "align": "left"
          },
          "hovermode": "closest",
          "mapbox": {
           "style": "dark"
          },
          "paper_bgcolor": "rgb(17,17,17)",
          "plot_bgcolor": "rgb(17,17,17)",
          "polar": {
           "angularaxis": {
            "gridcolor": "#506784",
            "linecolor": "#506784",
            "ticks": ""
           },
           "bgcolor": "rgb(17,17,17)",
           "radialaxis": {
            "gridcolor": "#506784",
            "linecolor": "#506784",
            "ticks": ""
           }
          },
          "scene": {
           "xaxis": {
            "backgroundcolor": "rgb(17,17,17)",
            "gridcolor": "#506784",
            "gridwidth": 2,
            "linecolor": "#506784",
            "showbackground": true,
            "ticks": "",
            "zerolinecolor": "#C8D4E3"
           },
           "yaxis": {
            "backgroundcolor": "rgb(17,17,17)",
            "gridcolor": "#506784",
            "gridwidth": 2,
            "linecolor": "#506784",
            "showbackground": true,
            "ticks": "",
            "zerolinecolor": "#C8D4E3"
           },
           "zaxis": {
            "backgroundcolor": "rgb(17,17,17)",
            "gridcolor": "#506784",
            "gridwidth": 2,
            "linecolor": "#506784",
            "showbackground": true,
            "ticks": "",
            "zerolinecolor": "#C8D4E3"
           }
          },
          "shapedefaults": {
           "line": {
            "color": "#f2f5fa"
           }
          },
          "sliderdefaults": {
           "bgcolor": "#C8D4E3",
           "bordercolor": "rgb(17,17,17)",
           "borderwidth": 1,
           "tickwidth": 0
          },
          "ternary": {
           "aaxis": {
            "gridcolor": "#506784",
            "linecolor": "#506784",
            "ticks": ""
           },
           "baxis": {
            "gridcolor": "#506784",
            "linecolor": "#506784",
            "ticks": ""
           },
           "bgcolor": "rgb(17,17,17)",
           "caxis": {
            "gridcolor": "#506784",
            "linecolor": "#506784",
            "ticks": ""
           }
          },
          "title": {
           "x": 0.05
          },
          "updatemenudefaults": {
           "bgcolor": "#506784",
           "borderwidth": 0
          },
          "xaxis": {
           "automargin": true,
           "gridcolor": "#283442",
           "linecolor": "#506784",
           "ticks": "",
           "title": {
            "standoff": 15
           },
           "zerolinecolor": "#283442",
           "zerolinewidth": 2
          },
          "yaxis": {
           "automargin": true,
           "gridcolor": "#283442",
           "linecolor": "#506784",
           "ticks": "",
           "title": {
            "standoff": 15
           },
           "zerolinecolor": "#283442",
           "zerolinewidth": 2
          }
         }
        },
        "title": {
         "text": "Bar plot distribution in accordance with the type of employment"
        },
        "xaxis": {
         "anchor": "y",
         "domain": [
          0,
          1
         ],
         "title": {
          "text": "Type of employment"
         }
        },
        "yaxis": {
         "anchor": "x",
         "domain": [
          0,
          1
         ],
         "title": {
          "text": "count"
         }
        }
       }
      }
     },
     "metadata": {},
     "output_type": "display_data"
    }
   ],
   "source": [
    "employment_type_list = df['employment_type'].value_counts()\n",
    "fig = px.bar(\n",
    "    y = employment_type_list.values,\n",
    "    x = employment_type_list.index,\n",
    "    color = employment_type_list.index,\n",
    "    color_discrete_sequence = px.colors.sequential.Mint,\n",
    "    text = employment_type_list.values,\n",
    "    title = 'Bar plot distribution in accordance with the type of employment',\n",
    "    template = 'plotly_dark'\n",
    ")\n",
    "fig.update_layout(\n",
    "    xaxis_title=\"Type of employment\",\n",
    "    yaxis_title=\"count\",\n",
    "    font = dict(size=10,family=\"Franklin Gothic\"))\n",
    "fig.show()"
   ]
  },
  {
   "cell_type": "markdown",
   "metadata": {},
   "source": [
    "#### 2.4 Employee residence and company location\n",
    "\n",
    "We will plot a barplot wherein the employee residence and company location will be plotted on the same graph to compare the distribution."
   ]
  },
  {
   "cell_type": "code",
   "execution_count": 14,
   "metadata": {},
   "outputs": [
    {
     "data": {
      "application/vnd.plotly.v1+json": {
       "config": {
        "plotlyServerURL": "https://plot.ly"
       },
       "data": [
        {
         "marker": {
          "color": "Red"
         },
         "name": "Employee Location",
         "text": [
          355,
          47,
          30,
          28,
          24,
          15,
          14,
          11,
          6,
          4,
          4,
          4,
          4,
          3,
          3,
          3,
          3,
          3,
          3,
          3,
          3,
          2,
          2,
          2,
          2,
          2,
          2,
          2,
          2,
          1,
          1,
          1,
          1,
          1,
          1,
          1,
          1,
          1,
          1,
          1,
          1,
          1,
          1,
          1,
          1,
          1,
          1,
          1,
          1,
          1
         ],
         "type": "bar",
         "x": [
          "United States of America",
          "United Kingdom (Great Britain)",
          "Canada",
          "Germany",
          "India",
          "France",
          "Spain",
          "Greece",
          "Japan",
          "Netherlands",
          "Austria",
          "Portugal",
          "Poland",
          "Luxembourg",
          "Pakistan",
          "Brazil",
          "United Arab Emirates",
          "Mexico",
          "Australia",
          "Turkey",
          "Denmark",
          "Italy",
          "Czech Republic",
          "Slovenia",
          "Russian Federation",
          "Switzerland",
          "Nigeria",
          "China",
          "Belgium",
          "Viet Nam",
          "Estonia",
          "American Samoa",
          "Algeria",
          "Malaysia",
          "Moldova, Republic of",
          "Kenya",
          "Singapore",
          "Colombia",
          "Islamic Republic of Iran",
          "Chile",
          "Malta",
          "Israel",
          "Ukraine",
          "Iraq",
          "Romania",
          "Croatia",
          "New Zealand",
          "Hungary",
          "Honduras",
          "Ireland"
         ],
         "y": [
          355,
          47,
          30,
          28,
          24,
          15,
          14,
          11,
          6,
          4,
          4,
          4,
          4,
          3,
          3,
          3,
          3,
          3,
          3,
          3,
          3,
          2,
          2,
          2,
          2,
          2,
          2,
          2,
          2,
          1,
          1,
          1,
          1,
          1,
          1,
          1,
          1,
          1,
          1,
          1,
          1,
          1,
          1,
          1,
          1,
          1,
          1,
          1,
          1,
          1
         ]
        },
        {
         "marker": {
          "color": "Blue"
         },
         "name": "Company Location",
         "text": [
          332,
          44,
          30,
          29,
          25,
          18,
          15,
          13,
          7,
          6,
          6,
          6,
          5,
          4,
          4,
          4,
          3,
          3,
          3,
          3,
          3,
          2,
          2,
          2,
          2,
          2,
          2,
          2,
          2,
          1,
          1,
          1,
          1,
          1,
          1,
          1,
          1,
          1,
          1,
          1,
          1,
          1,
          1,
          1,
          1,
          1,
          1,
          1,
          1,
          1,
          1,
          1,
          1,
          1,
          1
         ],
         "type": "bar",
         "x": [
          "United States of America",
          "United Kingdom (Great Britain)",
          "India",
          "Canada",
          "Germany",
          "France",
          "Spain",
          "Greece",
          "Japan",
          "Brazil",
          "Pakistan",
          "Portugal",
          "Netherlands",
          "Russian Federation",
          "Italy",
          "Poland",
          "United Arab Emirates",
          "Austria",
          "Viet Nam",
          "Turkey",
          "Australia",
          "Belgium",
          "Slovenia",
          "Romania",
          "Singapore",
          "Hungary",
          "Denmark",
          "Nigeria",
          "Mexico",
          "Croatia",
          "Ireland",
          "Bolivia",
          "Honduras",
          "Estonia",
          "Malaysia",
          "Tunisia",
          "Algeria",
          "Argentina",
          "Czech Republic",
          "Luxembourg",
          "Puerto Rico",
          "New Zealand",
          "Hong Kong",
          "Bulgaria",
          "Kenya",
          "Moldova, Republic of",
          "Colombia",
          "Islamic Republic of Iran",
          "China",
          "Chile",
          "Malta",
          "Ukraine",
          "Iraq",
          "Philippines",
          "Switzerland"
         ],
         "y": [
          332,
          44,
          30,
          29,
          25,
          18,
          15,
          13,
          7,
          6,
          6,
          6,
          5,
          4,
          4,
          4,
          3,
          3,
          3,
          3,
          3,
          2,
          2,
          2,
          2,
          2,
          2,
          2,
          2,
          1,
          1,
          1,
          1,
          1,
          1,
          1,
          1,
          1,
          1,
          1,
          1,
          1,
          1,
          1,
          1,
          1,
          1,
          1,
          1,
          1,
          1,
          1,
          1,
          1,
          1
         ]
        }
       ],
       "layout": {
        "barmode": "group",
        "font": {
         "family": "Franklin Gothic",
         "size": 10
        },
        "template": {
         "data": {
          "bar": [
           {
            "error_x": {
             "color": "#f2f5fa"
            },
            "error_y": {
             "color": "#f2f5fa"
            },
            "marker": {
             "line": {
              "color": "rgb(17,17,17)",
              "width": 0.5
             },
             "pattern": {
              "fillmode": "overlay",
              "size": 10,
              "solidity": 0.2
             }
            },
            "type": "bar"
           }
          ],
          "barpolar": [
           {
            "marker": {
             "line": {
              "color": "rgb(17,17,17)",
              "width": 0.5
             },
             "pattern": {
              "fillmode": "overlay",
              "size": 10,
              "solidity": 0.2
             }
            },
            "type": "barpolar"
           }
          ],
          "carpet": [
           {
            "aaxis": {
             "endlinecolor": "#A2B1C6",
             "gridcolor": "#506784",
             "linecolor": "#506784",
             "minorgridcolor": "#506784",
             "startlinecolor": "#A2B1C6"
            },
            "baxis": {
             "endlinecolor": "#A2B1C6",
             "gridcolor": "#506784",
             "linecolor": "#506784",
             "minorgridcolor": "#506784",
             "startlinecolor": "#A2B1C6"
            },
            "type": "carpet"
           }
          ],
          "choropleth": [
           {
            "colorbar": {
             "outlinewidth": 0,
             "ticks": ""
            },
            "type": "choropleth"
           }
          ],
          "contour": [
           {
            "colorbar": {
             "outlinewidth": 0,
             "ticks": ""
            },
            "colorscale": [
             [
              0,
              "#0d0887"
             ],
             [
              0.1111111111111111,
              "#46039f"
             ],
             [
              0.2222222222222222,
              "#7201a8"
             ],
             [
              0.3333333333333333,
              "#9c179e"
             ],
             [
              0.4444444444444444,
              "#bd3786"
             ],
             [
              0.5555555555555556,
              "#d8576b"
             ],
             [
              0.6666666666666666,
              "#ed7953"
             ],
             [
              0.7777777777777778,
              "#fb9f3a"
             ],
             [
              0.8888888888888888,
              "#fdca26"
             ],
             [
              1,
              "#f0f921"
             ]
            ],
            "type": "contour"
           }
          ],
          "contourcarpet": [
           {
            "colorbar": {
             "outlinewidth": 0,
             "ticks": ""
            },
            "type": "contourcarpet"
           }
          ],
          "heatmap": [
           {
            "colorbar": {
             "outlinewidth": 0,
             "ticks": ""
            },
            "colorscale": [
             [
              0,
              "#0d0887"
             ],
             [
              0.1111111111111111,
              "#46039f"
             ],
             [
              0.2222222222222222,
              "#7201a8"
             ],
             [
              0.3333333333333333,
              "#9c179e"
             ],
             [
              0.4444444444444444,
              "#bd3786"
             ],
             [
              0.5555555555555556,
              "#d8576b"
             ],
             [
              0.6666666666666666,
              "#ed7953"
             ],
             [
              0.7777777777777778,
              "#fb9f3a"
             ],
             [
              0.8888888888888888,
              "#fdca26"
             ],
             [
              1,
              "#f0f921"
             ]
            ],
            "type": "heatmap"
           }
          ],
          "heatmapgl": [
           {
            "colorbar": {
             "outlinewidth": 0,
             "ticks": ""
            },
            "colorscale": [
             [
              0,
              "#0d0887"
             ],
             [
              0.1111111111111111,
              "#46039f"
             ],
             [
              0.2222222222222222,
              "#7201a8"
             ],
             [
              0.3333333333333333,
              "#9c179e"
             ],
             [
              0.4444444444444444,
              "#bd3786"
             ],
             [
              0.5555555555555556,
              "#d8576b"
             ],
             [
              0.6666666666666666,
              "#ed7953"
             ],
             [
              0.7777777777777778,
              "#fb9f3a"
             ],
             [
              0.8888888888888888,
              "#fdca26"
             ],
             [
              1,
              "#f0f921"
             ]
            ],
            "type": "heatmapgl"
           }
          ],
          "histogram": [
           {
            "marker": {
             "pattern": {
              "fillmode": "overlay",
              "size": 10,
              "solidity": 0.2
             }
            },
            "type": "histogram"
           }
          ],
          "histogram2d": [
           {
            "colorbar": {
             "outlinewidth": 0,
             "ticks": ""
            },
            "colorscale": [
             [
              0,
              "#0d0887"
             ],
             [
              0.1111111111111111,
              "#46039f"
             ],
             [
              0.2222222222222222,
              "#7201a8"
             ],
             [
              0.3333333333333333,
              "#9c179e"
             ],
             [
              0.4444444444444444,
              "#bd3786"
             ],
             [
              0.5555555555555556,
              "#d8576b"
             ],
             [
              0.6666666666666666,
              "#ed7953"
             ],
             [
              0.7777777777777778,
              "#fb9f3a"
             ],
             [
              0.8888888888888888,
              "#fdca26"
             ],
             [
              1,
              "#f0f921"
             ]
            ],
            "type": "histogram2d"
           }
          ],
          "histogram2dcontour": [
           {
            "colorbar": {
             "outlinewidth": 0,
             "ticks": ""
            },
            "colorscale": [
             [
              0,
              "#0d0887"
             ],
             [
              0.1111111111111111,
              "#46039f"
             ],
             [
              0.2222222222222222,
              "#7201a8"
             ],
             [
              0.3333333333333333,
              "#9c179e"
             ],
             [
              0.4444444444444444,
              "#bd3786"
             ],
             [
              0.5555555555555556,
              "#d8576b"
             ],
             [
              0.6666666666666666,
              "#ed7953"
             ],
             [
              0.7777777777777778,
              "#fb9f3a"
             ],
             [
              0.8888888888888888,
              "#fdca26"
             ],
             [
              1,
              "#f0f921"
             ]
            ],
            "type": "histogram2dcontour"
           }
          ],
          "mesh3d": [
           {
            "colorbar": {
             "outlinewidth": 0,
             "ticks": ""
            },
            "type": "mesh3d"
           }
          ],
          "parcoords": [
           {
            "line": {
             "colorbar": {
              "outlinewidth": 0,
              "ticks": ""
             }
            },
            "type": "parcoords"
           }
          ],
          "pie": [
           {
            "automargin": true,
            "type": "pie"
           }
          ],
          "scatter": [
           {
            "marker": {
             "line": {
              "color": "#283442"
             }
            },
            "type": "scatter"
           }
          ],
          "scatter3d": [
           {
            "line": {
             "colorbar": {
              "outlinewidth": 0,
              "ticks": ""
             }
            },
            "marker": {
             "colorbar": {
              "outlinewidth": 0,
              "ticks": ""
             }
            },
            "type": "scatter3d"
           }
          ],
          "scattercarpet": [
           {
            "marker": {
             "colorbar": {
              "outlinewidth": 0,
              "ticks": ""
             }
            },
            "type": "scattercarpet"
           }
          ],
          "scattergeo": [
           {
            "marker": {
             "colorbar": {
              "outlinewidth": 0,
              "ticks": ""
             }
            },
            "type": "scattergeo"
           }
          ],
          "scattergl": [
           {
            "marker": {
             "line": {
              "color": "#283442"
             }
            },
            "type": "scattergl"
           }
          ],
          "scattermapbox": [
           {
            "marker": {
             "colorbar": {
              "outlinewidth": 0,
              "ticks": ""
             }
            },
            "type": "scattermapbox"
           }
          ],
          "scatterpolar": [
           {
            "marker": {
             "colorbar": {
              "outlinewidth": 0,
              "ticks": ""
             }
            },
            "type": "scatterpolar"
           }
          ],
          "scatterpolargl": [
           {
            "marker": {
             "colorbar": {
              "outlinewidth": 0,
              "ticks": ""
             }
            },
            "type": "scatterpolargl"
           }
          ],
          "scatterternary": [
           {
            "marker": {
             "colorbar": {
              "outlinewidth": 0,
              "ticks": ""
             }
            },
            "type": "scatterternary"
           }
          ],
          "surface": [
           {
            "colorbar": {
             "outlinewidth": 0,
             "ticks": ""
            },
            "colorscale": [
             [
              0,
              "#0d0887"
             ],
             [
              0.1111111111111111,
              "#46039f"
             ],
             [
              0.2222222222222222,
              "#7201a8"
             ],
             [
              0.3333333333333333,
              "#9c179e"
             ],
             [
              0.4444444444444444,
              "#bd3786"
             ],
             [
              0.5555555555555556,
              "#d8576b"
             ],
             [
              0.6666666666666666,
              "#ed7953"
             ],
             [
              0.7777777777777778,
              "#fb9f3a"
             ],
             [
              0.8888888888888888,
              "#fdca26"
             ],
             [
              1,
              "#f0f921"
             ]
            ],
            "type": "surface"
           }
          ],
          "table": [
           {
            "cells": {
             "fill": {
              "color": "#506784"
             },
             "line": {
              "color": "rgb(17,17,17)"
             }
            },
            "header": {
             "fill": {
              "color": "#2a3f5f"
             },
             "line": {
              "color": "rgb(17,17,17)"
             }
            },
            "type": "table"
           }
          ]
         },
         "layout": {
          "annotationdefaults": {
           "arrowcolor": "#f2f5fa",
           "arrowhead": 0,
           "arrowwidth": 1
          },
          "autotypenumbers": "strict",
          "coloraxis": {
           "colorbar": {
            "outlinewidth": 0,
            "ticks": ""
           }
          },
          "colorscale": {
           "diverging": [
            [
             0,
             "#8e0152"
            ],
            [
             0.1,
             "#c51b7d"
            ],
            [
             0.2,
             "#de77ae"
            ],
            [
             0.3,
             "#f1b6da"
            ],
            [
             0.4,
             "#fde0ef"
            ],
            [
             0.5,
             "#f7f7f7"
            ],
            [
             0.6,
             "#e6f5d0"
            ],
            [
             0.7,
             "#b8e186"
            ],
            [
             0.8,
             "#7fbc41"
            ],
            [
             0.9,
             "#4d9221"
            ],
            [
             1,
             "#276419"
            ]
           ],
           "sequential": [
            [
             0,
             "#0d0887"
            ],
            [
             0.1111111111111111,
             "#46039f"
            ],
            [
             0.2222222222222222,
             "#7201a8"
            ],
            [
             0.3333333333333333,
             "#9c179e"
            ],
            [
             0.4444444444444444,
             "#bd3786"
            ],
            [
             0.5555555555555556,
             "#d8576b"
            ],
            [
             0.6666666666666666,
             "#ed7953"
            ],
            [
             0.7777777777777778,
             "#fb9f3a"
            ],
            [
             0.8888888888888888,
             "#fdca26"
            ],
            [
             1,
             "#f0f921"
            ]
           ],
           "sequentialminus": [
            [
             0,
             "#0d0887"
            ],
            [
             0.1111111111111111,
             "#46039f"
            ],
            [
             0.2222222222222222,
             "#7201a8"
            ],
            [
             0.3333333333333333,
             "#9c179e"
            ],
            [
             0.4444444444444444,
             "#bd3786"
            ],
            [
             0.5555555555555556,
             "#d8576b"
            ],
            [
             0.6666666666666666,
             "#ed7953"
            ],
            [
             0.7777777777777778,
             "#fb9f3a"
            ],
            [
             0.8888888888888888,
             "#fdca26"
            ],
            [
             1,
             "#f0f921"
            ]
           ]
          },
          "colorway": [
           "#636efa",
           "#EF553B",
           "#00cc96",
           "#ab63fa",
           "#FFA15A",
           "#19d3f3",
           "#FF6692",
           "#B6E880",
           "#FF97FF",
           "#FECB52"
          ],
          "font": {
           "color": "#f2f5fa"
          },
          "geo": {
           "bgcolor": "rgb(17,17,17)",
           "lakecolor": "rgb(17,17,17)",
           "landcolor": "rgb(17,17,17)",
           "showlakes": true,
           "showland": true,
           "subunitcolor": "#506784"
          },
          "hoverlabel": {
           "align": "left"
          },
          "hovermode": "closest",
          "mapbox": {
           "style": "dark"
          },
          "paper_bgcolor": "rgb(17,17,17)",
          "plot_bgcolor": "rgb(17,17,17)",
          "polar": {
           "angularaxis": {
            "gridcolor": "#506784",
            "linecolor": "#506784",
            "ticks": ""
           },
           "bgcolor": "rgb(17,17,17)",
           "radialaxis": {
            "gridcolor": "#506784",
            "linecolor": "#506784",
            "ticks": ""
           }
          },
          "scene": {
           "xaxis": {
            "backgroundcolor": "rgb(17,17,17)",
            "gridcolor": "#506784",
            "gridwidth": 2,
            "linecolor": "#506784",
            "showbackground": true,
            "ticks": "",
            "zerolinecolor": "#C8D4E3"
           },
           "yaxis": {
            "backgroundcolor": "rgb(17,17,17)",
            "gridcolor": "#506784",
            "gridwidth": 2,
            "linecolor": "#506784",
            "showbackground": true,
            "ticks": "",
            "zerolinecolor": "#C8D4E3"
           },
           "zaxis": {
            "backgroundcolor": "rgb(17,17,17)",
            "gridcolor": "#506784",
            "gridwidth": 2,
            "linecolor": "#506784",
            "showbackground": true,
            "ticks": "",
            "zerolinecolor": "#C8D4E3"
           }
          },
          "shapedefaults": {
           "line": {
            "color": "#f2f5fa"
           }
          },
          "sliderdefaults": {
           "bgcolor": "#C8D4E3",
           "bordercolor": "rgb(17,17,17)",
           "borderwidth": 1,
           "tickwidth": 0
          },
          "ternary": {
           "aaxis": {
            "gridcolor": "#506784",
            "linecolor": "#506784",
            "ticks": ""
           },
           "baxis": {
            "gridcolor": "#506784",
            "linecolor": "#506784",
            "ticks": ""
           },
           "bgcolor": "rgb(17,17,17)",
           "caxis": {
            "gridcolor": "#506784",
            "linecolor": "#506784",
            "ticks": ""
           }
          },
          "title": {
           "x": 0.05
          },
          "updatemenudefaults": {
           "bgcolor": "#506784",
           "borderwidth": 0
          },
          "xaxis": {
           "automargin": true,
           "gridcolor": "#283442",
           "linecolor": "#506784",
           "ticks": "",
           "title": {
            "standoff": 15
           },
           "zerolinecolor": "#283442",
           "zerolinewidth": 2
          },
          "yaxis": {
           "automargin": true,
           "gridcolor": "#283442",
           "linecolor": "#506784",
           "ticks": "",
           "title": {
            "standoff": 15
           },
           "zerolinecolor": "#283442",
           "zerolinewidth": 2
          }
         }
        },
        "title": {
         "text": "Employee Location and Company Location"
        },
        "xaxis": {
         "tickangle": -45
        }
       }
      }
     },
     "metadata": {},
     "output_type": "display_data"
    }
   ],
   "source": [
    "comp_loc = df['company_location'].value_counts()\n",
    "emp_loc = df['employee_residence'].value_counts()\n",
    "fig = go.Figure(data=[\n",
    "    go.Bar(name='Employee Location', x=comp_loc.index, y=comp_loc.values, text=comp_loc.values, marker_color='Red'),\n",
    "    go.Bar(name='Company Location', x=emp_loc.index, y=emp_loc.values, text=emp_loc.values, marker_color='Blue')\n",
    "])\n",
    "fig.update_layout(barmode='group', xaxis_tickangle=-45,\n",
    "                  title='Employee Location and Company Location',template='plotly_dark',\n",
    "                  font = dict(size=10,family=\"Franklin Gothic\"))\n",
    "fig.show()"
   ]
  },
  {
   "cell_type": "markdown",
   "metadata": {},
   "source": [
    "#### 2.5 Company size distribution\n",
    "\n",
    "We will plot the size distribution of the company to get a better idea of the job market demand."
   ]
  },
  {
   "cell_type": "code",
   "execution_count": 15,
   "metadata": {},
   "outputs": [
    {
     "data": {
      "application/vnd.plotly.v1+json": {
       "config": {
        "plotlyServerURL": "https://plot.ly"
       },
       "data": [
        {
         "alignmentgroup": "True",
         "hovertemplate": "color=Medium<br>x=%{x}<br>y=%{y}<br>text=%{text}<extra></extra>",
         "legendgroup": "Medium",
         "marker": {
          "color": "#000004",
          "pattern": {
           "shape": ""
          }
         },
         "name": "Medium",
         "offsetgroup": "Medium",
         "orientation": "v",
         "showlegend": true,
         "text": [
          326
         ],
         "textposition": "auto",
         "type": "bar",
         "x": [
          "Medium"
         ],
         "xaxis": "x",
         "y": [
          326
         ],
         "yaxis": "y"
        },
        {
         "alignmentgroup": "True",
         "hovertemplate": "color=Large<br>x=%{x}<br>y=%{y}<br>text=%{text}<extra></extra>",
         "legendgroup": "Large",
         "marker": {
          "color": "#1b0c41",
          "pattern": {
           "shape": ""
          }
         },
         "name": "Large",
         "offsetgroup": "Large",
         "orientation": "v",
         "showlegend": true,
         "text": [
          198
         ],
         "textposition": "auto",
         "type": "bar",
         "x": [
          "Large"
         ],
         "xaxis": "x",
         "y": [
          198
         ],
         "yaxis": "y"
        },
        {
         "alignmentgroup": "True",
         "hovertemplate": "color=Small<br>x=%{x}<br>y=%{y}<br>text=%{text}<extra></extra>",
         "legendgroup": "Small",
         "marker": {
          "color": "#4a0c6b",
          "pattern": {
           "shape": ""
          }
         },
         "name": "Small",
         "offsetgroup": "Small",
         "orientation": "v",
         "showlegend": true,
         "text": [
          83
         ],
         "textposition": "auto",
         "type": "bar",
         "x": [
          "Small"
         ],
         "xaxis": "x",
         "y": [
          83
         ],
         "yaxis": "y"
        }
       ],
       "layout": {
        "barmode": "relative",
        "font": {
         "family": "Franklin Gothic",
         "size": 10
        },
        "legend": {
         "title": {
          "text": "color"
         },
         "tracegroupgap": 0
        },
        "template": {
         "data": {
          "bar": [
           {
            "error_x": {
             "color": "#f2f5fa"
            },
            "error_y": {
             "color": "#f2f5fa"
            },
            "marker": {
             "line": {
              "color": "rgb(17,17,17)",
              "width": 0.5
             },
             "pattern": {
              "fillmode": "overlay",
              "size": 10,
              "solidity": 0.2
             }
            },
            "type": "bar"
           }
          ],
          "barpolar": [
           {
            "marker": {
             "line": {
              "color": "rgb(17,17,17)",
              "width": 0.5
             },
             "pattern": {
              "fillmode": "overlay",
              "size": 10,
              "solidity": 0.2
             }
            },
            "type": "barpolar"
           }
          ],
          "carpet": [
           {
            "aaxis": {
             "endlinecolor": "#A2B1C6",
             "gridcolor": "#506784",
             "linecolor": "#506784",
             "minorgridcolor": "#506784",
             "startlinecolor": "#A2B1C6"
            },
            "baxis": {
             "endlinecolor": "#A2B1C6",
             "gridcolor": "#506784",
             "linecolor": "#506784",
             "minorgridcolor": "#506784",
             "startlinecolor": "#A2B1C6"
            },
            "type": "carpet"
           }
          ],
          "choropleth": [
           {
            "colorbar": {
             "outlinewidth": 0,
             "ticks": ""
            },
            "type": "choropleth"
           }
          ],
          "contour": [
           {
            "colorbar": {
             "outlinewidth": 0,
             "ticks": ""
            },
            "colorscale": [
             [
              0,
              "#0d0887"
             ],
             [
              0.1111111111111111,
              "#46039f"
             ],
             [
              0.2222222222222222,
              "#7201a8"
             ],
             [
              0.3333333333333333,
              "#9c179e"
             ],
             [
              0.4444444444444444,
              "#bd3786"
             ],
             [
              0.5555555555555556,
              "#d8576b"
             ],
             [
              0.6666666666666666,
              "#ed7953"
             ],
             [
              0.7777777777777778,
              "#fb9f3a"
             ],
             [
              0.8888888888888888,
              "#fdca26"
             ],
             [
              1,
              "#f0f921"
             ]
            ],
            "type": "contour"
           }
          ],
          "contourcarpet": [
           {
            "colorbar": {
             "outlinewidth": 0,
             "ticks": ""
            },
            "type": "contourcarpet"
           }
          ],
          "heatmap": [
           {
            "colorbar": {
             "outlinewidth": 0,
             "ticks": ""
            },
            "colorscale": [
             [
              0,
              "#0d0887"
             ],
             [
              0.1111111111111111,
              "#46039f"
             ],
             [
              0.2222222222222222,
              "#7201a8"
             ],
             [
              0.3333333333333333,
              "#9c179e"
             ],
             [
              0.4444444444444444,
              "#bd3786"
             ],
             [
              0.5555555555555556,
              "#d8576b"
             ],
             [
              0.6666666666666666,
              "#ed7953"
             ],
             [
              0.7777777777777778,
              "#fb9f3a"
             ],
             [
              0.8888888888888888,
              "#fdca26"
             ],
             [
              1,
              "#f0f921"
             ]
            ],
            "type": "heatmap"
           }
          ],
          "heatmapgl": [
           {
            "colorbar": {
             "outlinewidth": 0,
             "ticks": ""
            },
            "colorscale": [
             [
              0,
              "#0d0887"
             ],
             [
              0.1111111111111111,
              "#46039f"
             ],
             [
              0.2222222222222222,
              "#7201a8"
             ],
             [
              0.3333333333333333,
              "#9c179e"
             ],
             [
              0.4444444444444444,
              "#bd3786"
             ],
             [
              0.5555555555555556,
              "#d8576b"
             ],
             [
              0.6666666666666666,
              "#ed7953"
             ],
             [
              0.7777777777777778,
              "#fb9f3a"
             ],
             [
              0.8888888888888888,
              "#fdca26"
             ],
             [
              1,
              "#f0f921"
             ]
            ],
            "type": "heatmapgl"
           }
          ],
          "histogram": [
           {
            "marker": {
             "pattern": {
              "fillmode": "overlay",
              "size": 10,
              "solidity": 0.2
             }
            },
            "type": "histogram"
           }
          ],
          "histogram2d": [
           {
            "colorbar": {
             "outlinewidth": 0,
             "ticks": ""
            },
            "colorscale": [
             [
              0,
              "#0d0887"
             ],
             [
              0.1111111111111111,
              "#46039f"
             ],
             [
              0.2222222222222222,
              "#7201a8"
             ],
             [
              0.3333333333333333,
              "#9c179e"
             ],
             [
              0.4444444444444444,
              "#bd3786"
             ],
             [
              0.5555555555555556,
              "#d8576b"
             ],
             [
              0.6666666666666666,
              "#ed7953"
             ],
             [
              0.7777777777777778,
              "#fb9f3a"
             ],
             [
              0.8888888888888888,
              "#fdca26"
             ],
             [
              1,
              "#f0f921"
             ]
            ],
            "type": "histogram2d"
           }
          ],
          "histogram2dcontour": [
           {
            "colorbar": {
             "outlinewidth": 0,
             "ticks": ""
            },
            "colorscale": [
             [
              0,
              "#0d0887"
             ],
             [
              0.1111111111111111,
              "#46039f"
             ],
             [
              0.2222222222222222,
              "#7201a8"
             ],
             [
              0.3333333333333333,
              "#9c179e"
             ],
             [
              0.4444444444444444,
              "#bd3786"
             ],
             [
              0.5555555555555556,
              "#d8576b"
             ],
             [
              0.6666666666666666,
              "#ed7953"
             ],
             [
              0.7777777777777778,
              "#fb9f3a"
             ],
             [
              0.8888888888888888,
              "#fdca26"
             ],
             [
              1,
              "#f0f921"
             ]
            ],
            "type": "histogram2dcontour"
           }
          ],
          "mesh3d": [
           {
            "colorbar": {
             "outlinewidth": 0,
             "ticks": ""
            },
            "type": "mesh3d"
           }
          ],
          "parcoords": [
           {
            "line": {
             "colorbar": {
              "outlinewidth": 0,
              "ticks": ""
             }
            },
            "type": "parcoords"
           }
          ],
          "pie": [
           {
            "automargin": true,
            "type": "pie"
           }
          ],
          "scatter": [
           {
            "marker": {
             "line": {
              "color": "#283442"
             }
            },
            "type": "scatter"
           }
          ],
          "scatter3d": [
           {
            "line": {
             "colorbar": {
              "outlinewidth": 0,
              "ticks": ""
             }
            },
            "marker": {
             "colorbar": {
              "outlinewidth": 0,
              "ticks": ""
             }
            },
            "type": "scatter3d"
           }
          ],
          "scattercarpet": [
           {
            "marker": {
             "colorbar": {
              "outlinewidth": 0,
              "ticks": ""
             }
            },
            "type": "scattercarpet"
           }
          ],
          "scattergeo": [
           {
            "marker": {
             "colorbar": {
              "outlinewidth": 0,
              "ticks": ""
             }
            },
            "type": "scattergeo"
           }
          ],
          "scattergl": [
           {
            "marker": {
             "line": {
              "color": "#283442"
             }
            },
            "type": "scattergl"
           }
          ],
          "scattermapbox": [
           {
            "marker": {
             "colorbar": {
              "outlinewidth": 0,
              "ticks": ""
             }
            },
            "type": "scattermapbox"
           }
          ],
          "scatterpolar": [
           {
            "marker": {
             "colorbar": {
              "outlinewidth": 0,
              "ticks": ""
             }
            },
            "type": "scatterpolar"
           }
          ],
          "scatterpolargl": [
           {
            "marker": {
             "colorbar": {
              "outlinewidth": 0,
              "ticks": ""
             }
            },
            "type": "scatterpolargl"
           }
          ],
          "scatterternary": [
           {
            "marker": {
             "colorbar": {
              "outlinewidth": 0,
              "ticks": ""
             }
            },
            "type": "scatterternary"
           }
          ],
          "surface": [
           {
            "colorbar": {
             "outlinewidth": 0,
             "ticks": ""
            },
            "colorscale": [
             [
              0,
              "#0d0887"
             ],
             [
              0.1111111111111111,
              "#46039f"
             ],
             [
              0.2222222222222222,
              "#7201a8"
             ],
             [
              0.3333333333333333,
              "#9c179e"
             ],
             [
              0.4444444444444444,
              "#bd3786"
             ],
             [
              0.5555555555555556,
              "#d8576b"
             ],
             [
              0.6666666666666666,
              "#ed7953"
             ],
             [
              0.7777777777777778,
              "#fb9f3a"
             ],
             [
              0.8888888888888888,
              "#fdca26"
             ],
             [
              1,
              "#f0f921"
             ]
            ],
            "type": "surface"
           }
          ],
          "table": [
           {
            "cells": {
             "fill": {
              "color": "#506784"
             },
             "line": {
              "color": "rgb(17,17,17)"
             }
            },
            "header": {
             "fill": {
              "color": "#2a3f5f"
             },
             "line": {
              "color": "rgb(17,17,17)"
             }
            },
            "type": "table"
           }
          ]
         },
         "layout": {
          "annotationdefaults": {
           "arrowcolor": "#f2f5fa",
           "arrowhead": 0,
           "arrowwidth": 1
          },
          "autotypenumbers": "strict",
          "coloraxis": {
           "colorbar": {
            "outlinewidth": 0,
            "ticks": ""
           }
          },
          "colorscale": {
           "diverging": [
            [
             0,
             "#8e0152"
            ],
            [
             0.1,
             "#c51b7d"
            ],
            [
             0.2,
             "#de77ae"
            ],
            [
             0.3,
             "#f1b6da"
            ],
            [
             0.4,
             "#fde0ef"
            ],
            [
             0.5,
             "#f7f7f7"
            ],
            [
             0.6,
             "#e6f5d0"
            ],
            [
             0.7,
             "#b8e186"
            ],
            [
             0.8,
             "#7fbc41"
            ],
            [
             0.9,
             "#4d9221"
            ],
            [
             1,
             "#276419"
            ]
           ],
           "sequential": [
            [
             0,
             "#0d0887"
            ],
            [
             0.1111111111111111,
             "#46039f"
            ],
            [
             0.2222222222222222,
             "#7201a8"
            ],
            [
             0.3333333333333333,
             "#9c179e"
            ],
            [
             0.4444444444444444,
             "#bd3786"
            ],
            [
             0.5555555555555556,
             "#d8576b"
            ],
            [
             0.6666666666666666,
             "#ed7953"
            ],
            [
             0.7777777777777778,
             "#fb9f3a"
            ],
            [
             0.8888888888888888,
             "#fdca26"
            ],
            [
             1,
             "#f0f921"
            ]
           ],
           "sequentialminus": [
            [
             0,
             "#0d0887"
            ],
            [
             0.1111111111111111,
             "#46039f"
            ],
            [
             0.2222222222222222,
             "#7201a8"
            ],
            [
             0.3333333333333333,
             "#9c179e"
            ],
            [
             0.4444444444444444,
             "#bd3786"
            ],
            [
             0.5555555555555556,
             "#d8576b"
            ],
            [
             0.6666666666666666,
             "#ed7953"
            ],
            [
             0.7777777777777778,
             "#fb9f3a"
            ],
            [
             0.8888888888888888,
             "#fdca26"
            ],
            [
             1,
             "#f0f921"
            ]
           ]
          },
          "colorway": [
           "#636efa",
           "#EF553B",
           "#00cc96",
           "#ab63fa",
           "#FFA15A",
           "#19d3f3",
           "#FF6692",
           "#B6E880",
           "#FF97FF",
           "#FECB52"
          ],
          "font": {
           "color": "#f2f5fa"
          },
          "geo": {
           "bgcolor": "rgb(17,17,17)",
           "lakecolor": "rgb(17,17,17)",
           "landcolor": "rgb(17,17,17)",
           "showlakes": true,
           "showland": true,
           "subunitcolor": "#506784"
          },
          "hoverlabel": {
           "align": "left"
          },
          "hovermode": "closest",
          "mapbox": {
           "style": "dark"
          },
          "paper_bgcolor": "rgb(17,17,17)",
          "plot_bgcolor": "rgb(17,17,17)",
          "polar": {
           "angularaxis": {
            "gridcolor": "#506784",
            "linecolor": "#506784",
            "ticks": ""
           },
           "bgcolor": "rgb(17,17,17)",
           "radialaxis": {
            "gridcolor": "#506784",
            "linecolor": "#506784",
            "ticks": ""
           }
          },
          "scene": {
           "xaxis": {
            "backgroundcolor": "rgb(17,17,17)",
            "gridcolor": "#506784",
            "gridwidth": 2,
            "linecolor": "#506784",
            "showbackground": true,
            "ticks": "",
            "zerolinecolor": "#C8D4E3"
           },
           "yaxis": {
            "backgroundcolor": "rgb(17,17,17)",
            "gridcolor": "#506784",
            "gridwidth": 2,
            "linecolor": "#506784",
            "showbackground": true,
            "ticks": "",
            "zerolinecolor": "#C8D4E3"
           },
           "zaxis": {
            "backgroundcolor": "rgb(17,17,17)",
            "gridcolor": "#506784",
            "gridwidth": 2,
            "linecolor": "#506784",
            "showbackground": true,
            "ticks": "",
            "zerolinecolor": "#C8D4E3"
           }
          },
          "shapedefaults": {
           "line": {
            "color": "#f2f5fa"
           }
          },
          "sliderdefaults": {
           "bgcolor": "#C8D4E3",
           "bordercolor": "rgb(17,17,17)",
           "borderwidth": 1,
           "tickwidth": 0
          },
          "ternary": {
           "aaxis": {
            "gridcolor": "#506784",
            "linecolor": "#506784",
            "ticks": ""
           },
           "baxis": {
            "gridcolor": "#506784",
            "linecolor": "#506784",
            "ticks": ""
           },
           "bgcolor": "rgb(17,17,17)",
           "caxis": {
            "gridcolor": "#506784",
            "linecolor": "#506784",
            "ticks": ""
           }
          },
          "title": {
           "x": 0.05
          },
          "updatemenudefaults": {
           "bgcolor": "#506784",
           "borderwidth": 0
          },
          "xaxis": {
           "automargin": true,
           "gridcolor": "#283442",
           "linecolor": "#506784",
           "ticks": "",
           "title": {
            "standoff": 15
           },
           "zerolinecolor": "#283442",
           "zerolinewidth": 2
          },
          "yaxis": {
           "automargin": true,
           "gridcolor": "#283442",
           "linecolor": "#506784",
           "ticks": "",
           "title": {
            "standoff": 15
           },
           "zerolinecolor": "#283442",
           "zerolinewidth": 2
          }
         }
        },
        "title": {
         "text": "Company Size distribution"
        },
        "xaxis": {
         "anchor": "y",
         "domain": [
          0,
          1
         ],
         "title": {
          "text": "Company Size"
         }
        },
        "yaxis": {
         "anchor": "x",
         "domain": [
          0,
          1
         ],
         "title": {
          "text": "count"
         }
        }
       }
      }
     },
     "metadata": {},
     "output_type": "display_data"
    }
   ],
   "source": [
    "group_dist = df['company_size'].value_counts()\n",
    "fig = px.bar(x = group_dist.index, y = group_dist.values,\n",
    "             text = group_dist.values,\n",
    "             color = group_dist.index,\n",
    "             color_discrete_sequence=px.colors.sequential.Inferno,\n",
    "             title = 'Company Size distribution',\n",
    "             template = 'plotly_dark'\n",
    "             )\n",
    "fig.update_layout(\n",
    "    xaxis_title=\"Company Size\",\n",
    "    yaxis_title=\"count\",\n",
    "    font = dict(size=10,family=\"Franklin Gothic\"))\n",
    "fig.show()"
   ]
  },
  {
   "cell_type": "markdown",
   "metadata": {},
   "source": [
    "#### 2.6 Remote work distribution\n",
    "\n",
    "we will also plot the barplot distribution for remote ratio of the work needed. "
   ]
  },
  {
   "cell_type": "code",
   "execution_count": 16,
   "metadata": {},
   "outputs": [
    {
     "data": {
      "application/vnd.plotly.v1+json": {
       "config": {
        "plotlyServerURL": "https://plot.ly"
       },
       "data": [
        {
         "alignmentgroup": "True",
         "hovertemplate": "color=Fully Remote<br>x=%{x}<br>y=%{y}<br>text=%{text}<extra></extra>",
         "legendgroup": "Fully Remote",
         "marker": {
          "color": "rgb(253, 253, 204)",
          "pattern": {
           "shape": ""
          }
         },
         "name": "Fully Remote",
         "offsetgroup": "Fully Remote",
         "orientation": "v",
         "showlegend": true,
         "text": [
          381
         ],
         "textposition": "auto",
         "type": "bar",
         "x": [
          "Fully Remote"
         ],
         "xaxis": "x",
         "y": [
          381
         ],
         "yaxis": "y"
        },
        {
         "alignmentgroup": "True",
         "hovertemplate": "color=On-site<br>x=%{x}<br>y=%{y}<br>text=%{text}<extra></extra>",
         "legendgroup": "On-site",
         "marker": {
          "color": "rgb(206, 236, 179)",
          "pattern": {
           "shape": ""
          }
         },
         "name": "On-site",
         "offsetgroup": "On-site",
         "orientation": "v",
         "showlegend": true,
         "text": [
          127
         ],
         "textposition": "auto",
         "type": "bar",
         "x": [
          "On-site"
         ],
         "xaxis": "x",
         "y": [
          127
         ],
         "yaxis": "y"
        },
        {
         "alignmentgroup": "True",
         "hovertemplate": "color=Partially Remote<br>x=%{x}<br>y=%{y}<br>text=%{text}<extra></extra>",
         "legendgroup": "Partially Remote",
         "marker": {
          "color": "rgb(156, 219, 165)",
          "pattern": {
           "shape": ""
          }
         },
         "name": "Partially Remote",
         "offsetgroup": "Partially Remote",
         "orientation": "v",
         "showlegend": true,
         "text": [
          99
         ],
         "textposition": "auto",
         "type": "bar",
         "x": [
          "Partially Remote"
         ],
         "xaxis": "x",
         "y": [
          99
         ],
         "yaxis": "y"
        }
       ],
       "layout": {
        "barmode": "relative",
        "font": {
         "family": "Franklin Gothic",
         "size": 10
        },
        "legend": {
         "title": {
          "text": "color"
         },
         "tracegroupgap": 0
        },
        "template": {
         "data": {
          "bar": [
           {
            "error_x": {
             "color": "#f2f5fa"
            },
            "error_y": {
             "color": "#f2f5fa"
            },
            "marker": {
             "line": {
              "color": "rgb(17,17,17)",
              "width": 0.5
             },
             "pattern": {
              "fillmode": "overlay",
              "size": 10,
              "solidity": 0.2
             }
            },
            "type": "bar"
           }
          ],
          "barpolar": [
           {
            "marker": {
             "line": {
              "color": "rgb(17,17,17)",
              "width": 0.5
             },
             "pattern": {
              "fillmode": "overlay",
              "size": 10,
              "solidity": 0.2
             }
            },
            "type": "barpolar"
           }
          ],
          "carpet": [
           {
            "aaxis": {
             "endlinecolor": "#A2B1C6",
             "gridcolor": "#506784",
             "linecolor": "#506784",
             "minorgridcolor": "#506784",
             "startlinecolor": "#A2B1C6"
            },
            "baxis": {
             "endlinecolor": "#A2B1C6",
             "gridcolor": "#506784",
             "linecolor": "#506784",
             "minorgridcolor": "#506784",
             "startlinecolor": "#A2B1C6"
            },
            "type": "carpet"
           }
          ],
          "choropleth": [
           {
            "colorbar": {
             "outlinewidth": 0,
             "ticks": ""
            },
            "type": "choropleth"
           }
          ],
          "contour": [
           {
            "colorbar": {
             "outlinewidth": 0,
             "ticks": ""
            },
            "colorscale": [
             [
              0,
              "#0d0887"
             ],
             [
              0.1111111111111111,
              "#46039f"
             ],
             [
              0.2222222222222222,
              "#7201a8"
             ],
             [
              0.3333333333333333,
              "#9c179e"
             ],
             [
              0.4444444444444444,
              "#bd3786"
             ],
             [
              0.5555555555555556,
              "#d8576b"
             ],
             [
              0.6666666666666666,
              "#ed7953"
             ],
             [
              0.7777777777777778,
              "#fb9f3a"
             ],
             [
              0.8888888888888888,
              "#fdca26"
             ],
             [
              1,
              "#f0f921"
             ]
            ],
            "type": "contour"
           }
          ],
          "contourcarpet": [
           {
            "colorbar": {
             "outlinewidth": 0,
             "ticks": ""
            },
            "type": "contourcarpet"
           }
          ],
          "heatmap": [
           {
            "colorbar": {
             "outlinewidth": 0,
             "ticks": ""
            },
            "colorscale": [
             [
              0,
              "#0d0887"
             ],
             [
              0.1111111111111111,
              "#46039f"
             ],
             [
              0.2222222222222222,
              "#7201a8"
             ],
             [
              0.3333333333333333,
              "#9c179e"
             ],
             [
              0.4444444444444444,
              "#bd3786"
             ],
             [
              0.5555555555555556,
              "#d8576b"
             ],
             [
              0.6666666666666666,
              "#ed7953"
             ],
             [
              0.7777777777777778,
              "#fb9f3a"
             ],
             [
              0.8888888888888888,
              "#fdca26"
             ],
             [
              1,
              "#f0f921"
             ]
            ],
            "type": "heatmap"
           }
          ],
          "heatmapgl": [
           {
            "colorbar": {
             "outlinewidth": 0,
             "ticks": ""
            },
            "colorscale": [
             [
              0,
              "#0d0887"
             ],
             [
              0.1111111111111111,
              "#46039f"
             ],
             [
              0.2222222222222222,
              "#7201a8"
             ],
             [
              0.3333333333333333,
              "#9c179e"
             ],
             [
              0.4444444444444444,
              "#bd3786"
             ],
             [
              0.5555555555555556,
              "#d8576b"
             ],
             [
              0.6666666666666666,
              "#ed7953"
             ],
             [
              0.7777777777777778,
              "#fb9f3a"
             ],
             [
              0.8888888888888888,
              "#fdca26"
             ],
             [
              1,
              "#f0f921"
             ]
            ],
            "type": "heatmapgl"
           }
          ],
          "histogram": [
           {
            "marker": {
             "pattern": {
              "fillmode": "overlay",
              "size": 10,
              "solidity": 0.2
             }
            },
            "type": "histogram"
           }
          ],
          "histogram2d": [
           {
            "colorbar": {
             "outlinewidth": 0,
             "ticks": ""
            },
            "colorscale": [
             [
              0,
              "#0d0887"
             ],
             [
              0.1111111111111111,
              "#46039f"
             ],
             [
              0.2222222222222222,
              "#7201a8"
             ],
             [
              0.3333333333333333,
              "#9c179e"
             ],
             [
              0.4444444444444444,
              "#bd3786"
             ],
             [
              0.5555555555555556,
              "#d8576b"
             ],
             [
              0.6666666666666666,
              "#ed7953"
             ],
             [
              0.7777777777777778,
              "#fb9f3a"
             ],
             [
              0.8888888888888888,
              "#fdca26"
             ],
             [
              1,
              "#f0f921"
             ]
            ],
            "type": "histogram2d"
           }
          ],
          "histogram2dcontour": [
           {
            "colorbar": {
             "outlinewidth": 0,
             "ticks": ""
            },
            "colorscale": [
             [
              0,
              "#0d0887"
             ],
             [
              0.1111111111111111,
              "#46039f"
             ],
             [
              0.2222222222222222,
              "#7201a8"
             ],
             [
              0.3333333333333333,
              "#9c179e"
             ],
             [
              0.4444444444444444,
              "#bd3786"
             ],
             [
              0.5555555555555556,
              "#d8576b"
             ],
             [
              0.6666666666666666,
              "#ed7953"
             ],
             [
              0.7777777777777778,
              "#fb9f3a"
             ],
             [
              0.8888888888888888,
              "#fdca26"
             ],
             [
              1,
              "#f0f921"
             ]
            ],
            "type": "histogram2dcontour"
           }
          ],
          "mesh3d": [
           {
            "colorbar": {
             "outlinewidth": 0,
             "ticks": ""
            },
            "type": "mesh3d"
           }
          ],
          "parcoords": [
           {
            "line": {
             "colorbar": {
              "outlinewidth": 0,
              "ticks": ""
             }
            },
            "type": "parcoords"
           }
          ],
          "pie": [
           {
            "automargin": true,
            "type": "pie"
           }
          ],
          "scatter": [
           {
            "marker": {
             "line": {
              "color": "#283442"
             }
            },
            "type": "scatter"
           }
          ],
          "scatter3d": [
           {
            "line": {
             "colorbar": {
              "outlinewidth": 0,
              "ticks": ""
             }
            },
            "marker": {
             "colorbar": {
              "outlinewidth": 0,
              "ticks": ""
             }
            },
            "type": "scatter3d"
           }
          ],
          "scattercarpet": [
           {
            "marker": {
             "colorbar": {
              "outlinewidth": 0,
              "ticks": ""
             }
            },
            "type": "scattercarpet"
           }
          ],
          "scattergeo": [
           {
            "marker": {
             "colorbar": {
              "outlinewidth": 0,
              "ticks": ""
             }
            },
            "type": "scattergeo"
           }
          ],
          "scattergl": [
           {
            "marker": {
             "line": {
              "color": "#283442"
             }
            },
            "type": "scattergl"
           }
          ],
          "scattermapbox": [
           {
            "marker": {
             "colorbar": {
              "outlinewidth": 0,
              "ticks": ""
             }
            },
            "type": "scattermapbox"
           }
          ],
          "scatterpolar": [
           {
            "marker": {
             "colorbar": {
              "outlinewidth": 0,
              "ticks": ""
             }
            },
            "type": "scatterpolar"
           }
          ],
          "scatterpolargl": [
           {
            "marker": {
             "colorbar": {
              "outlinewidth": 0,
              "ticks": ""
             }
            },
            "type": "scatterpolargl"
           }
          ],
          "scatterternary": [
           {
            "marker": {
             "colorbar": {
              "outlinewidth": 0,
              "ticks": ""
             }
            },
            "type": "scatterternary"
           }
          ],
          "surface": [
           {
            "colorbar": {
             "outlinewidth": 0,
             "ticks": ""
            },
            "colorscale": [
             [
              0,
              "#0d0887"
             ],
             [
              0.1111111111111111,
              "#46039f"
             ],
             [
              0.2222222222222222,
              "#7201a8"
             ],
             [
              0.3333333333333333,
              "#9c179e"
             ],
             [
              0.4444444444444444,
              "#bd3786"
             ],
             [
              0.5555555555555556,
              "#d8576b"
             ],
             [
              0.6666666666666666,
              "#ed7953"
             ],
             [
              0.7777777777777778,
              "#fb9f3a"
             ],
             [
              0.8888888888888888,
              "#fdca26"
             ],
             [
              1,
              "#f0f921"
             ]
            ],
            "type": "surface"
           }
          ],
          "table": [
           {
            "cells": {
             "fill": {
              "color": "#506784"
             },
             "line": {
              "color": "rgb(17,17,17)"
             }
            },
            "header": {
             "fill": {
              "color": "#2a3f5f"
             },
             "line": {
              "color": "rgb(17,17,17)"
             }
            },
            "type": "table"
           }
          ]
         },
         "layout": {
          "annotationdefaults": {
           "arrowcolor": "#f2f5fa",
           "arrowhead": 0,
           "arrowwidth": 1
          },
          "autotypenumbers": "strict",
          "coloraxis": {
           "colorbar": {
            "outlinewidth": 0,
            "ticks": ""
           }
          },
          "colorscale": {
           "diverging": [
            [
             0,
             "#8e0152"
            ],
            [
             0.1,
             "#c51b7d"
            ],
            [
             0.2,
             "#de77ae"
            ],
            [
             0.3,
             "#f1b6da"
            ],
            [
             0.4,
             "#fde0ef"
            ],
            [
             0.5,
             "#f7f7f7"
            ],
            [
             0.6,
             "#e6f5d0"
            ],
            [
             0.7,
             "#b8e186"
            ],
            [
             0.8,
             "#7fbc41"
            ],
            [
             0.9,
             "#4d9221"
            ],
            [
             1,
             "#276419"
            ]
           ],
           "sequential": [
            [
             0,
             "#0d0887"
            ],
            [
             0.1111111111111111,
             "#46039f"
            ],
            [
             0.2222222222222222,
             "#7201a8"
            ],
            [
             0.3333333333333333,
             "#9c179e"
            ],
            [
             0.4444444444444444,
             "#bd3786"
            ],
            [
             0.5555555555555556,
             "#d8576b"
            ],
            [
             0.6666666666666666,
             "#ed7953"
            ],
            [
             0.7777777777777778,
             "#fb9f3a"
            ],
            [
             0.8888888888888888,
             "#fdca26"
            ],
            [
             1,
             "#f0f921"
            ]
           ],
           "sequentialminus": [
            [
             0,
             "#0d0887"
            ],
            [
             0.1111111111111111,
             "#46039f"
            ],
            [
             0.2222222222222222,
             "#7201a8"
            ],
            [
             0.3333333333333333,
             "#9c179e"
            ],
            [
             0.4444444444444444,
             "#bd3786"
            ],
            [
             0.5555555555555556,
             "#d8576b"
            ],
            [
             0.6666666666666666,
             "#ed7953"
            ],
            [
             0.7777777777777778,
             "#fb9f3a"
            ],
            [
             0.8888888888888888,
             "#fdca26"
            ],
            [
             1,
             "#f0f921"
            ]
           ]
          },
          "colorway": [
           "#636efa",
           "#EF553B",
           "#00cc96",
           "#ab63fa",
           "#FFA15A",
           "#19d3f3",
           "#FF6692",
           "#B6E880",
           "#FF97FF",
           "#FECB52"
          ],
          "font": {
           "color": "#f2f5fa"
          },
          "geo": {
           "bgcolor": "rgb(17,17,17)",
           "lakecolor": "rgb(17,17,17)",
           "landcolor": "rgb(17,17,17)",
           "showlakes": true,
           "showland": true,
           "subunitcolor": "#506784"
          },
          "hoverlabel": {
           "align": "left"
          },
          "hovermode": "closest",
          "mapbox": {
           "style": "dark"
          },
          "paper_bgcolor": "rgb(17,17,17)",
          "plot_bgcolor": "rgb(17,17,17)",
          "polar": {
           "angularaxis": {
            "gridcolor": "#506784",
            "linecolor": "#506784",
            "ticks": ""
           },
           "bgcolor": "rgb(17,17,17)",
           "radialaxis": {
            "gridcolor": "#506784",
            "linecolor": "#506784",
            "ticks": ""
           }
          },
          "scene": {
           "xaxis": {
            "backgroundcolor": "rgb(17,17,17)",
            "gridcolor": "#506784",
            "gridwidth": 2,
            "linecolor": "#506784",
            "showbackground": true,
            "ticks": "",
            "zerolinecolor": "#C8D4E3"
           },
           "yaxis": {
            "backgroundcolor": "rgb(17,17,17)",
            "gridcolor": "#506784",
            "gridwidth": 2,
            "linecolor": "#506784",
            "showbackground": true,
            "ticks": "",
            "zerolinecolor": "#C8D4E3"
           },
           "zaxis": {
            "backgroundcolor": "rgb(17,17,17)",
            "gridcolor": "#506784",
            "gridwidth": 2,
            "linecolor": "#506784",
            "showbackground": true,
            "ticks": "",
            "zerolinecolor": "#C8D4E3"
           }
          },
          "shapedefaults": {
           "line": {
            "color": "#f2f5fa"
           }
          },
          "sliderdefaults": {
           "bgcolor": "#C8D4E3",
           "bordercolor": "rgb(17,17,17)",
           "borderwidth": 1,
           "tickwidth": 0
          },
          "ternary": {
           "aaxis": {
            "gridcolor": "#506784",
            "linecolor": "#506784",
            "ticks": ""
           },
           "baxis": {
            "gridcolor": "#506784",
            "linecolor": "#506784",
            "ticks": ""
           },
           "bgcolor": "rgb(17,17,17)",
           "caxis": {
            "gridcolor": "#506784",
            "linecolor": "#506784",
            "ticks": ""
           }
          },
          "title": {
           "x": 0.05
          },
          "updatemenudefaults": {
           "bgcolor": "#506784",
           "borderwidth": 0
          },
          "xaxis": {
           "automargin": true,
           "gridcolor": "#283442",
           "linecolor": "#506784",
           "ticks": "",
           "title": {
            "standoff": 15
           },
           "zerolinecolor": "#283442",
           "zerolinewidth": 2
          },
          "yaxis": {
           "automargin": true,
           "gridcolor": "#283442",
           "linecolor": "#506784",
           "ticks": "",
           "title": {
            "standoff": 15
           },
           "zerolinecolor": "#283442",
           "zerolinewidth": 2
          }
         }
        },
        "title": {
         "text": "Remote ratio work distribution"
        },
        "xaxis": {
         "anchor": "y",
         "domain": [
          0,
          1
         ],
         "title": {
          "text": "Remote ratio"
         }
        },
        "yaxis": {
         "anchor": "x",
         "domain": [
          0,
          1
         ],
         "title": {
          "text": "count"
         }
        }
       }
      }
     },
     "metadata": {},
     "output_type": "display_data"
    }
   ],
   "source": [
    "rem_rat = df['remote_ratio'].value_counts()\n",
    "fig = px.bar(x = rem_rat.index, y = rem_rat.values,\n",
    "             text = rem_rat.values,\n",
    "             color = rem_rat.index,\n",
    "             color_discrete_sequence=px.colors.sequential.deep,\n",
    "             title = 'Remote ratio work distribution',\n",
    "             template = 'plotly_dark'\n",
    "             )\n",
    "fig.update_layout(\n",
    "    xaxis_title=\"Remote ratio\",\n",
    "    yaxis_title=\"count\",\n",
    "    font = dict(size=10,family=\"Franklin Gothic\"))\n",
    "fig.show()"
   ]
  },
  {
   "cell_type": "markdown",
   "metadata": {},
   "source": [
    "#### 2.7 Salary based on company location\n",
    "\n",
    "Now the Salary distribution for the data jobs all across the world based on its location."
   ]
  },
  {
   "cell_type": "code",
   "execution_count": 19,
   "metadata": {},
   "outputs": [
    {
     "data": {
      "application/vnd.plotly.v1+json": {
       "config": {
        "plotlyServerURL": "https://plot.ly"
       },
       "data": [
        {
         "alignmentgroup": "True",
         "hovertemplate": "color=Algeria<br>x=%{x}<br>y=%{y}<br>text=%{text}<extra></extra>",
         "legendgroup": "Algeria",
         "marker": {
          "color": "rgb(75, 41, 145)",
          "pattern": {
           "shape": ""
          }
         },
         "name": "Algeria",
         "offsetgroup": "Algeria",
         "orientation": "v",
         "showlegend": true,
         "text": [
          100000
         ],
         "textposition": "auto",
         "type": "bar",
         "x": [
          "Algeria"
         ],
         "xaxis": "x",
         "y": [
          100000
         ],
         "yaxis": "y"
        },
        {
         "alignmentgroup": "True",
         "hovertemplate": "color=American Samoa<br>x=%{x}<br>y=%{y}<br>text=%{text}<extra></extra>",
         "legendgroup": "American Samoa",
         "marker": {
          "color": "rgb(135, 44, 162)",
          "pattern": {
           "shape": ""
          }
         },
         "name": "American Samoa",
         "offsetgroup": "American Samoa",
         "orientation": "v",
         "showlegend": true,
         "text": [
          18053
         ],
         "textposition": "auto",
         "type": "bar",
         "x": [
          "American Samoa"
         ],
         "xaxis": "x",
         "y": [
          18053
         ],
         "yaxis": "y"
        },
        {
         "alignmentgroup": "True",
         "hovertemplate": "color=Australia<br>x=%{x}<br>y=%{y}<br>text=%{text}<extra></extra>",
         "legendgroup": "Australia",
         "marker": {
          "color": "rgb(192, 54, 157)",
          "pattern": {
           "shape": ""
          }
         },
         "name": "Australia",
         "offsetgroup": "Australia",
         "orientation": "v",
         "showlegend": true,
         "text": [
          108042.66666666667
         ],
         "textposition": "auto",
         "type": "bar",
         "x": [
          "Australia"
         ],
         "xaxis": "x",
         "y": [
          108042.66666666667
         ],
         "yaxis": "y"
        },
        {
         "alignmentgroup": "True",
         "hovertemplate": "color=Austria<br>x=%{x}<br>y=%{y}<br>text=%{text}<extra></extra>",
         "legendgroup": "Austria",
         "marker": {
          "color": "rgb(234, 79, 136)",
          "pattern": {
           "shape": ""
          }
         },
         "name": "Austria",
         "offsetgroup": "Austria",
         "orientation": "v",
         "showlegend": true,
         "text": [
          72920.75
         ],
         "textposition": "auto",
         "type": "bar",
         "x": [
          "Austria"
         ],
         "xaxis": "x",
         "y": [
          72920.75
         ],
         "yaxis": "y"
        },
        {
         "alignmentgroup": "True",
         "hovertemplate": "color=Belgium<br>x=%{x}<br>y=%{y}<br>text=%{text}<extra></extra>",
         "legendgroup": "Belgium",
         "marker": {
          "color": "rgb(250, 120, 118)",
          "pattern": {
           "shape": ""
          }
         },
         "name": "Belgium",
         "offsetgroup": "Belgium",
         "orientation": "v",
         "showlegend": true,
         "text": [
          85699
         ],
         "textposition": "auto",
         "type": "bar",
         "x": [
          "Belgium"
         ],
         "xaxis": "x",
         "y": [
          85699
         ],
         "yaxis": "y"
        },
        {
         "alignmentgroup": "True",
         "hovertemplate": "color=Brazil<br>x=%{x}<br>y=%{y}<br>text=%{text}<extra></extra>",
         "legendgroup": "Brazil",
         "marker": {
          "color": "rgb(246, 169, 122)",
          "pattern": {
           "shape": ""
          }
         },
         "name": "Brazil",
         "offsetgroup": "Brazil",
         "orientation": "v",
         "showlegend": true,
         "text": [
          18602.666666666668
         ],
         "textposition": "auto",
         "type": "bar",
         "x": [
          "Brazil"
         ],
         "xaxis": "x",
         "y": [
          18602.666666666668
         ],
         "yaxis": "y"
        },
        {
         "alignmentgroup": "True",
         "hovertemplate": "color=Canada<br>x=%{x}<br>y=%{y}<br>text=%{text}<extra></extra>",
         "legendgroup": "Canada",
         "marker": {
          "color": "rgb(237, 217, 163)",
          "pattern": {
           "shape": ""
          }
         },
         "name": "Canada",
         "offsetgroup": "Canada",
         "orientation": "v",
         "showlegend": true,
         "text": [
          99823.73333333334
         ],
         "textposition": "auto",
         "type": "bar",
         "x": [
          "Canada"
         ],
         "xaxis": "x",
         "y": [
          99823.73333333334
         ],
         "yaxis": "y"
        },
        {
         "alignmentgroup": "True",
         "hovertemplate": "color=Chile<br>x=%{x}<br>y=%{y}<br>text=%{text}<extra></extra>",
         "legendgroup": "Chile",
         "marker": {
          "color": "rgb(75, 41, 145)",
          "pattern": {
           "shape": ""
          }
         },
         "name": "Chile",
         "offsetgroup": "Chile",
         "orientation": "v",
         "showlegend": true,
         "text": [
          40038
         ],
         "textposition": "auto",
         "type": "bar",
         "x": [
          "Chile"
         ],
         "xaxis": "x",
         "y": [
          40038
         ],
         "yaxis": "y"
        },
        {
         "alignmentgroup": "True",
         "hovertemplate": "color=China<br>x=%{x}<br>y=%{y}<br>text=%{text}<extra></extra>",
         "legendgroup": "China",
         "marker": {
          "color": "rgb(135, 44, 162)",
          "pattern": {
           "shape": ""
          }
         },
         "name": "China",
         "offsetgroup": "China",
         "orientation": "v",
         "showlegend": true,
         "text": [
          71665.5
         ],
         "textposition": "auto",
         "type": "bar",
         "x": [
          "China"
         ],
         "xaxis": "x",
         "y": [
          71665.5
         ],
         "yaxis": "y"
        },
        {
         "alignmentgroup": "True",
         "hovertemplate": "color=Colombia<br>x=%{x}<br>y=%{y}<br>text=%{text}<extra></extra>",
         "legendgroup": "Colombia",
         "marker": {
          "color": "rgb(192, 54, 157)",
          "pattern": {
           "shape": ""
          }
         },
         "name": "Colombia",
         "offsetgroup": "Colombia",
         "orientation": "v",
         "showlegend": true,
         "text": [
          21844
         ],
         "textposition": "auto",
         "type": "bar",
         "x": [
          "Colombia"
         ],
         "xaxis": "x",
         "y": [
          21844
         ],
         "yaxis": "y"
        },
        {
         "alignmentgroup": "True",
         "hovertemplate": "color=Croatia<br>x=%{x}<br>y=%{y}<br>text=%{text}<extra></extra>",
         "legendgroup": "Croatia",
         "marker": {
          "color": "rgb(234, 79, 136)",
          "pattern": {
           "shape": ""
          }
         },
         "name": "Croatia",
         "offsetgroup": "Croatia",
         "orientation": "v",
         "showlegend": true,
         "text": [
          45618
         ],
         "textposition": "auto",
         "type": "bar",
         "x": [
          "Croatia"
         ],
         "xaxis": "x",
         "y": [
          45618
         ],
         "yaxis": "y"
        },
        {
         "alignmentgroup": "True",
         "hovertemplate": "color=Czech Republic<br>x=%{x}<br>y=%{y}<br>text=%{text}<extra></extra>",
         "legendgroup": "Czech Republic",
         "marker": {
          "color": "rgb(250, 120, 118)",
          "pattern": {
           "shape": ""
          }
         },
         "name": "Czech Republic",
         "offsetgroup": "Czech Republic",
         "orientation": "v",
         "showlegend": true,
         "text": [
          50937
         ],
         "textposition": "auto",
         "type": "bar",
         "x": [
          "Czech Republic"
         ],
         "xaxis": "x",
         "y": [
          50937
         ],
         "yaxis": "y"
        },
        {
         "alignmentgroup": "True",
         "hovertemplate": "color=Denmark<br>x=%{x}<br>y=%{y}<br>text=%{text}<extra></extra>",
         "legendgroup": "Denmark",
         "marker": {
          "color": "rgb(246, 169, 122)",
          "pattern": {
           "shape": ""
          }
         },
         "name": "Denmark",
         "offsetgroup": "Denmark",
         "orientation": "v",
         "showlegend": true,
         "text": [
          54386.333333333336
         ],
         "textposition": "auto",
         "type": "bar",
         "x": [
          "Denmark"
         ],
         "xaxis": "x",
         "y": [
          54386.333333333336
         ],
         "yaxis": "y"
        },
        {
         "alignmentgroup": "True",
         "hovertemplate": "color=Estonia<br>x=%{x}<br>y=%{y}<br>text=%{text}<extra></extra>",
         "legendgroup": "Estonia",
         "marker": {
          "color": "rgb(237, 217, 163)",
          "pattern": {
           "shape": ""
          }
         },
         "name": "Estonia",
         "offsetgroup": "Estonia",
         "orientation": "v",
         "showlegend": true,
         "text": [
          32974
         ],
         "textposition": "auto",
         "type": "bar",
         "x": [
          "Estonia"
         ],
         "xaxis": "x",
         "y": [
          32974
         ],
         "yaxis": "y"
        },
        {
         "alignmentgroup": "True",
         "hovertemplate": "color=France<br>x=%{x}<br>y=%{y}<br>text=%{text}<extra></extra>",
         "legendgroup": "France",
         "marker": {
          "color": "rgb(75, 41, 145)",
          "pattern": {
           "shape": ""
          }
         },
         "name": "France",
         "offsetgroup": "France",
         "orientation": "v",
         "showlegend": true,
         "text": [
          63970.666666666664
         ],
         "textposition": "auto",
         "type": "bar",
         "x": [
          "France"
         ],
         "xaxis": "x",
         "y": [
          63970.666666666664
         ],
         "yaxis": "y"
        },
        {
         "alignmentgroup": "True",
         "hovertemplate": "color=Germany<br>x=%{x}<br>y=%{y}<br>text=%{text}<extra></extra>",
         "legendgroup": "Germany",
         "marker": {
          "color": "rgb(135, 44, 162)",
          "pattern": {
           "shape": ""
          }
         },
         "name": "Germany",
         "offsetgroup": "Germany",
         "orientation": "v",
         "showlegend": true,
         "text": [
          81887.21428571429
         ],
         "textposition": "auto",
         "type": "bar",
         "x": [
          "Germany"
         ],
         "xaxis": "x",
         "y": [
          81887.21428571429
         ],
         "yaxis": "y"
        },
        {
         "alignmentgroup": "True",
         "hovertemplate": "color=Greece<br>x=%{x}<br>y=%{y}<br>text=%{text}<extra></extra>",
         "legendgroup": "Greece",
         "marker": {
          "color": "rgb(192, 54, 157)",
          "pattern": {
           "shape": ""
          }
         },
         "name": "Greece",
         "offsetgroup": "Greece",
         "orientation": "v",
         "showlegend": true,
         "text": [
          52293.09090909091
         ],
         "textposition": "auto",
         "type": "bar",
         "x": [
          "Greece"
         ],
         "xaxis": "x",
         "y": [
          52293.09090909091
         ],
         "yaxis": "y"
        },
        {
         "alignmentgroup": "True",
         "hovertemplate": "color=Honduras<br>x=%{x}<br>y=%{y}<br>text=%{text}<extra></extra>",
         "legendgroup": "Honduras",
         "marker": {
          "color": "rgb(234, 79, 136)",
          "pattern": {
           "shape": ""
          }
         },
         "name": "Honduras",
         "offsetgroup": "Honduras",
         "orientation": "v",
         "showlegend": true,
         "text": [
          20000
         ],
         "textposition": "auto",
         "type": "bar",
         "x": [
          "Honduras"
         ],
         "xaxis": "x",
         "y": [
          20000
         ],
         "yaxis": "y"
        },
        {
         "alignmentgroup": "True",
         "hovertemplate": "color=Hungary<br>x=%{x}<br>y=%{y}<br>text=%{text}<extra></extra>",
         "legendgroup": "Hungary",
         "marker": {
          "color": "rgb(250, 120, 118)",
          "pattern": {
           "shape": ""
          }
         },
         "name": "Hungary",
         "offsetgroup": "Hungary",
         "orientation": "v",
         "showlegend": true,
         "text": [
          35735
         ],
         "textposition": "auto",
         "type": "bar",
         "x": [
          "Hungary"
         ],
         "xaxis": "x",
         "y": [
          35735
         ],
         "yaxis": "y"
        },
        {
         "alignmentgroup": "True",
         "hovertemplate": "color=India<br>x=%{x}<br>y=%{y}<br>text=%{text}<extra></extra>",
         "legendgroup": "India",
         "marker": {
          "color": "rgb(246, 169, 122)",
          "pattern": {
           "shape": ""
          }
         },
         "name": "India",
         "offsetgroup": "India",
         "orientation": "v",
         "showlegend": true,
         "text": [
          28581.75
         ],
         "textposition": "auto",
         "type": "bar",
         "x": [
          "India"
         ],
         "xaxis": "x",
         "y": [
          28581.75
         ],
         "yaxis": "y"
        },
        {
         "alignmentgroup": "True",
         "hovertemplate": "color=Iraq<br>x=%{x}<br>y=%{y}<br>text=%{text}<extra></extra>",
         "legendgroup": "Iraq",
         "marker": {
          "color": "rgb(237, 217, 163)",
          "pattern": {
           "shape": ""
          }
         },
         "name": "Iraq",
         "offsetgroup": "Iraq",
         "orientation": "v",
         "showlegend": true,
         "text": [
          100000
         ],
         "textposition": "auto",
         "type": "bar",
         "x": [
          "Iraq"
         ],
         "xaxis": "x",
         "y": [
          100000
         ],
         "yaxis": "y"
        },
        {
         "alignmentgroup": "True",
         "hovertemplate": "color=Ireland<br>x=%{x}<br>y=%{y}<br>text=%{text}<extra></extra>",
         "legendgroup": "Ireland",
         "marker": {
          "color": "rgb(75, 41, 145)",
          "pattern": {
           "shape": ""
          }
         },
         "name": "Ireland",
         "offsetgroup": "Ireland",
         "orientation": "v",
         "showlegend": true,
         "text": [
          71444
         ],
         "textposition": "auto",
         "type": "bar",
         "x": [
          "Ireland"
         ],
         "xaxis": "x",
         "y": [
          71444
         ],
         "yaxis": "y"
        },
        {
         "alignmentgroup": "True",
         "hovertemplate": "color=Islamic Republic of Iran<br>x=%{x}<br>y=%{y}<br>text=%{text}<extra></extra>",
         "legendgroup": "Islamic Republic of Iran",
         "marker": {
          "color": "rgb(135, 44, 162)",
          "pattern": {
           "shape": ""
          }
         },
         "name": "Islamic Republic of Iran",
         "offsetgroup": "Islamic Republic of Iran",
         "orientation": "v",
         "showlegend": true,
         "text": [
          4000
         ],
         "textposition": "auto",
         "type": "bar",
         "x": [
          "Islamic Republic of Iran"
         ],
         "xaxis": "x",
         "y": [
          4000
         ],
         "yaxis": "y"
        },
        {
         "alignmentgroup": "True",
         "hovertemplate": "color=Israel<br>x=%{x}<br>y=%{y}<br>text=%{text}<extra></extra>",
         "legendgroup": "Israel",
         "marker": {
          "color": "rgb(192, 54, 157)",
          "pattern": {
           "shape": ""
          }
         },
         "name": "Israel",
         "offsetgroup": "Israel",
         "orientation": "v",
         "showlegend": true,
         "text": [
          119059
         ],
         "textposition": "auto",
         "type": "bar",
         "x": [
          "Israel"
         ],
         "xaxis": "x",
         "y": [
          119059
         ],
         "yaxis": "y"
        },
        {
         "alignmentgroup": "True",
         "hovertemplate": "color=Italy<br>x=%{x}<br>y=%{y}<br>text=%{text}<extra></extra>",
         "legendgroup": "Italy",
         "marker": {
          "color": "rgb(234, 79, 136)",
          "pattern": {
           "shape": ""
          }
         },
         "name": "Italy",
         "offsetgroup": "Italy",
         "orientation": "v",
         "showlegend": true,
         "text": [
          36366.5
         ],
         "textposition": "auto",
         "type": "bar",
         "x": [
          "Italy"
         ],
         "xaxis": "x",
         "y": [
          36366.5
         ],
         "yaxis": "y"
        },
        {
         "alignmentgroup": "True",
         "hovertemplate": "color=Japan<br>x=%{x}<br>y=%{y}<br>text=%{text}<extra></extra>",
         "legendgroup": "Japan",
         "marker": {
          "color": "rgb(250, 120, 118)",
          "pattern": {
           "shape": ""
          }
         },
         "name": "Japan",
         "offsetgroup": "Japan",
         "orientation": "v",
         "showlegend": true,
         "text": [
          114127.33333333333
         ],
         "textposition": "auto",
         "type": "bar",
         "x": [
          "Japan"
         ],
         "xaxis": "x",
         "y": [
          114127.33333333333
         ],
         "yaxis": "y"
        },
        {
         "alignmentgroup": "True",
         "hovertemplate": "color=Kenya<br>x=%{x}<br>y=%{y}<br>text=%{text}<extra></extra>",
         "legendgroup": "Kenya",
         "marker": {
          "color": "rgb(246, 169, 122)",
          "pattern": {
           "shape": ""
          }
         },
         "name": "Kenya",
         "offsetgroup": "Kenya",
         "orientation": "v",
         "showlegend": true,
         "text": [
          9272
         ],
         "textposition": "auto",
         "type": "bar",
         "x": [
          "Kenya"
         ],
         "xaxis": "x",
         "y": [
          9272
         ],
         "yaxis": "y"
        },
        {
         "alignmentgroup": "True",
         "hovertemplate": "color=Luxembourg<br>x=%{x}<br>y=%{y}<br>text=%{text}<extra></extra>",
         "legendgroup": "Luxembourg",
         "marker": {
          "color": "rgb(237, 217, 163)",
          "pattern": {
           "shape": ""
          }
         },
         "name": "Luxembourg",
         "offsetgroup": "Luxembourg",
         "orientation": "v",
         "showlegend": true,
         "text": [
          43942.666666666664
         ],
         "textposition": "auto",
         "type": "bar",
         "x": [
          "Luxembourg"
         ],
         "xaxis": "x",
         "y": [
          43942.666666666664
         ],
         "yaxis": "y"
        },
        {
         "alignmentgroup": "True",
         "hovertemplate": "color=Malaysia<br>x=%{x}<br>y=%{y}<br>text=%{text}<extra></extra>",
         "legendgroup": "Malaysia",
         "marker": {
          "color": "rgb(75, 41, 145)",
          "pattern": {
           "shape": ""
          }
         },
         "name": "Malaysia",
         "offsetgroup": "Malaysia",
         "orientation": "v",
         "showlegend": true,
         "text": [
          40000
         ],
         "textposition": "auto",
         "type": "bar",
         "x": [
          "Malaysia"
         ],
         "xaxis": "x",
         "y": [
          40000
         ],
         "yaxis": "y"
        },
        {
         "alignmentgroup": "True",
         "hovertemplate": "color=Malta<br>x=%{x}<br>y=%{y}<br>text=%{text}<extra></extra>",
         "legendgroup": "Malta",
         "marker": {
          "color": "rgb(135, 44, 162)",
          "pattern": {
           "shape": ""
          }
         },
         "name": "Malta",
         "offsetgroup": "Malta",
         "orientation": "v",
         "showlegend": true,
         "text": [
          28369
         ],
         "textposition": "auto",
         "type": "bar",
         "x": [
          "Malta"
         ],
         "xaxis": "x",
         "y": [
          28369
         ],
         "yaxis": "y"
        },
        {
         "alignmentgroup": "True",
         "hovertemplate": "color=Mexico<br>x=%{x}<br>y=%{y}<br>text=%{text}<extra></extra>",
         "legendgroup": "Mexico",
         "marker": {
          "color": "rgb(192, 54, 157)",
          "pattern": {
           "shape": ""
          }
         },
         "name": "Mexico",
         "offsetgroup": "Mexico",
         "orientation": "v",
         "showlegend": true,
         "text": [
          32123.333333333332
         ],
         "textposition": "auto",
         "type": "bar",
         "x": [
          "Mexico"
         ],
         "xaxis": "x",
         "y": [
          32123.333333333332
         ],
         "yaxis": "y"
        },
        {
         "alignmentgroup": "True",
         "hovertemplate": "color=Moldova, Republic of<br>x=%{x}<br>y=%{y}<br>text=%{text}<extra></extra>",
         "legendgroup": "Moldova, Republic of",
         "marker": {
          "color": "rgb(234, 79, 136)",
          "pattern": {
           "shape": ""
          }
         },
         "name": "Moldova, Republic of",
         "offsetgroup": "Moldova, Republic of",
         "orientation": "v",
         "showlegend": true,
         "text": [
          18000
         ],
         "textposition": "auto",
         "type": "bar",
         "x": [
          "Moldova, Republic of"
         ],
         "xaxis": "x",
         "y": [
          18000
         ],
         "yaxis": "y"
        },
        {
         "alignmentgroup": "True",
         "hovertemplate": "color=Netherlands<br>x=%{x}<br>y=%{y}<br>text=%{text}<extra></extra>",
         "legendgroup": "Netherlands",
         "marker": {
          "color": "rgb(250, 120, 118)",
          "pattern": {
           "shape": ""
          }
         },
         "name": "Netherlands",
         "offsetgroup": "Netherlands",
         "orientation": "v",
         "showlegend": true,
         "text": [
          54945.75
         ],
         "textposition": "auto",
         "type": "bar",
         "x": [
          "Netherlands"
         ],
         "xaxis": "x",
         "y": [
          54945.75
         ],
         "yaxis": "y"
        },
        {
         "alignmentgroup": "True",
         "hovertemplate": "color=New Zealand<br>x=%{x}<br>y=%{y}<br>text=%{text}<extra></extra>",
         "legendgroup": "New Zealand",
         "marker": {
          "color": "rgb(246, 169, 122)",
          "pattern": {
           "shape": ""
          }
         },
         "name": "New Zealand",
         "offsetgroup": "New Zealand",
         "orientation": "v",
         "showlegend": true,
         "text": [
          125000
         ],
         "textposition": "auto",
         "type": "bar",
         "x": [
          "New Zealand"
         ],
         "xaxis": "x",
         "y": [
          125000
         ],
         "yaxis": "y"
        },
        {
         "alignmentgroup": "True",
         "hovertemplate": "color=Nigeria<br>x=%{x}<br>y=%{y}<br>text=%{text}<extra></extra>",
         "legendgroup": "Nigeria",
         "marker": {
          "color": "rgb(237, 217, 163)",
          "pattern": {
           "shape": ""
          }
         },
         "name": "Nigeria",
         "offsetgroup": "Nigeria",
         "orientation": "v",
         "showlegend": true,
         "text": [
          30000
         ],
         "textposition": "auto",
         "type": "bar",
         "x": [
          "Nigeria"
         ],
         "xaxis": "x",
         "y": [
          30000
         ],
         "yaxis": "y"
        },
        {
         "alignmentgroup": "True",
         "hovertemplate": "color=Pakistan<br>x=%{x}<br>y=%{y}<br>text=%{text}<extra></extra>",
         "legendgroup": "Pakistan",
         "marker": {
          "color": "rgb(75, 41, 145)",
          "pattern": {
           "shape": ""
          }
         },
         "name": "Pakistan",
         "offsetgroup": "Pakistan",
         "orientation": "v",
         "showlegend": true,
         "text": [
          13333.333333333334
         ],
         "textposition": "auto",
         "type": "bar",
         "x": [
          "Pakistan"
         ],
         "xaxis": "x",
         "y": [
          13333.333333333334
         ],
         "yaxis": "y"
        },
        {
         "alignmentgroup": "True",
         "hovertemplate": "color=Poland<br>x=%{x}<br>y=%{y}<br>text=%{text}<extra></extra>",
         "legendgroup": "Poland",
         "marker": {
          "color": "rgb(135, 44, 162)",
          "pattern": {
           "shape": ""
          }
         },
         "name": "Poland",
         "offsetgroup": "Poland",
         "orientation": "v",
         "showlegend": true,
         "text": [
          66082.5
         ],
         "textposition": "auto",
         "type": "bar",
         "x": [
          "Poland"
         ],
         "xaxis": "x",
         "y": [
          66082.5
         ],
         "yaxis": "y"
        },
        {
         "alignmentgroup": "True",
         "hovertemplate": "color=Portugal<br>x=%{x}<br>y=%{y}<br>text=%{text}<extra></extra>",
         "legendgroup": "Portugal",
         "marker": {
          "color": "rgb(192, 54, 157)",
          "pattern": {
           "shape": ""
          }
         },
         "name": "Portugal",
         "offsetgroup": "Portugal",
         "orientation": "v",
         "showlegend": true,
         "text": [
          47793.75
         ],
         "textposition": "auto",
         "type": "bar",
         "x": [
          "Portugal"
         ],
         "xaxis": "x",
         "y": [
          47793.75
         ],
         "yaxis": "y"
        },
        {
         "alignmentgroup": "True",
         "hovertemplate": "color=Romania<br>x=%{x}<br>y=%{y}<br>text=%{text}<extra></extra>",
         "legendgroup": "Romania",
         "marker": {
          "color": "rgb(234, 79, 136)",
          "pattern": {
           "shape": ""
          }
         },
         "name": "Romania",
         "offsetgroup": "Romania",
         "orientation": "v",
         "showlegend": true,
         "text": [
          60000
         ],
         "textposition": "auto",
         "type": "bar",
         "x": [
          "Romania"
         ],
         "xaxis": "x",
         "y": [
          60000
         ],
         "yaxis": "y"
        },
        {
         "alignmentgroup": "True",
         "hovertemplate": "color=Russian Federation<br>x=%{x}<br>y=%{y}<br>text=%{text}<extra></extra>",
         "legendgroup": "Russian Federation",
         "marker": {
          "color": "rgb(250, 120, 118)",
          "pattern": {
           "shape": ""
          }
         },
         "name": "Russian Federation",
         "offsetgroup": "Russian Federation",
         "orientation": "v",
         "showlegend": true,
         "text": [
          157500
         ],
         "textposition": "auto",
         "type": "bar",
         "x": [
          "Russian Federation"
         ],
         "xaxis": "x",
         "y": [
          157500
         ],
         "yaxis": "y"
        },
        {
         "alignmentgroup": "True",
         "hovertemplate": "color=Singapore<br>x=%{x}<br>y=%{y}<br>text=%{text}<extra></extra>",
         "legendgroup": "Singapore",
         "marker": {
          "color": "rgb(246, 169, 122)",
          "pattern": {
           "shape": ""
          }
         },
         "name": "Singapore",
         "offsetgroup": "Singapore",
         "orientation": "v",
         "showlegend": true,
         "text": [
          89294
         ],
         "textposition": "auto",
         "type": "bar",
         "x": [
          "Singapore"
         ],
         "xaxis": "x",
         "y": [
          89294
         ],
         "yaxis": "y"
        },
        {
         "alignmentgroup": "True",
         "hovertemplate": "color=Slovenia<br>x=%{x}<br>y=%{y}<br>text=%{text}<extra></extra>",
         "legendgroup": "Slovenia",
         "marker": {
          "color": "rgb(237, 217, 163)",
          "pattern": {
           "shape": ""
          }
         },
         "name": "Slovenia",
         "offsetgroup": "Slovenia",
         "orientation": "v",
         "showlegend": true,
         "text": [
          63831
         ],
         "textposition": "auto",
         "type": "bar",
         "x": [
          "Slovenia"
         ],
         "xaxis": "x",
         "y": [
          63831
         ],
         "yaxis": "y"
        },
        {
         "alignmentgroup": "True",
         "hovertemplate": "color=Spain<br>x=%{x}<br>y=%{y}<br>text=%{text}<extra></extra>",
         "legendgroup": "Spain",
         "marker": {
          "color": "rgb(75, 41, 145)",
          "pattern": {
           "shape": ""
          }
         },
         "name": "Spain",
         "offsetgroup": "Spain",
         "orientation": "v",
         "showlegend": true,
         "text": [
          53060.142857142855
         ],
         "textposition": "auto",
         "type": "bar",
         "x": [
          "Spain"
         ],
         "xaxis": "x",
         "y": [
          53060.142857142855
         ],
         "yaxis": "y"
        },
        {
         "alignmentgroup": "True",
         "hovertemplate": "color=Switzerland<br>x=%{x}<br>y=%{y}<br>text=%{text}<extra></extra>",
         "legendgroup": "Switzerland",
         "marker": {
          "color": "rgb(135, 44, 162)",
          "pattern": {
           "shape": ""
          }
         },
         "name": "Switzerland",
         "offsetgroup": "Switzerland",
         "orientation": "v",
         "showlegend": true,
         "text": [
          64114
         ],
         "textposition": "auto",
         "type": "bar",
         "x": [
          "Switzerland"
         ],
         "xaxis": "x",
         "y": [
          64114
         ],
         "yaxis": "y"
        },
        {
         "alignmentgroup": "True",
         "hovertemplate": "color=Turkey<br>x=%{x}<br>y=%{y}<br>text=%{text}<extra></extra>",
         "legendgroup": "Turkey",
         "marker": {
          "color": "rgb(192, 54, 157)",
          "pattern": {
           "shape": ""
          }
         },
         "name": "Turkey",
         "offsetgroup": "Turkey",
         "orientation": "v",
         "showlegend": true,
         "text": [
          20096.666666666668
         ],
         "textposition": "auto",
         "type": "bar",
         "x": [
          "Turkey"
         ],
         "xaxis": "x",
         "y": [
          20096.666666666668
         ],
         "yaxis": "y"
        },
        {
         "alignmentgroup": "True",
         "hovertemplate": "color=Ukraine<br>x=%{x}<br>y=%{y}<br>text=%{text}<extra></extra>",
         "legendgroup": "Ukraine",
         "marker": {
          "color": "rgb(234, 79, 136)",
          "pattern": {
           "shape": ""
          }
         },
         "name": "Ukraine",
         "offsetgroup": "Ukraine",
         "orientation": "v",
         "showlegend": true,
         "text": [
          13400
         ],
         "textposition": "auto",
         "type": "bar",
         "x": [
          "Ukraine"
         ],
         "xaxis": "x",
         "y": [
          13400
         ],
         "yaxis": "y"
        },
        {
         "alignmentgroup": "True",
         "hovertemplate": "color=United Arab Emirates<br>x=%{x}<br>y=%{y}<br>text=%{text}<extra></extra>",
         "legendgroup": "United Arab Emirates",
         "marker": {
          "color": "rgb(250, 120, 118)",
          "pattern": {
           "shape": ""
          }
         },
         "name": "United Arab Emirates",
         "offsetgroup": "United Arab Emirates",
         "orientation": "v",
         "showlegend": true,
         "text": [
          100000
         ],
         "textposition": "auto",
         "type": "bar",
         "x": [
          "United Arab Emirates"
         ],
         "xaxis": "x",
         "y": [
          100000
         ],
         "yaxis": "y"
        },
        {
         "alignmentgroup": "True",
         "hovertemplate": "color=United Kingdom (Great Britain)<br>x=%{x}<br>y=%{y}<br>text=%{text}<extra></extra>",
         "legendgroup": "United Kingdom (Great Britain)",
         "marker": {
          "color": "rgb(246, 169, 122)",
          "pattern": {
           "shape": ""
          }
         },
         "name": "United Kingdom (Great Britain)",
         "offsetgroup": "United Kingdom (Great Britain)",
         "orientation": "v",
         "showlegend": true,
         "text": [
          81583.0425531915
         ],
         "textposition": "auto",
         "type": "bar",
         "x": [
          "United Kingdom (Great Britain)"
         ],
         "xaxis": "x",
         "y": [
          81583.0425531915
         ],
         "yaxis": "y"
        },
        {
         "alignmentgroup": "True",
         "hovertemplate": "color=United States of America<br>x=%{x}<br>y=%{y}<br>text=%{text}<extra></extra>",
         "legendgroup": "United States of America",
         "marker": {
          "color": "rgb(237, 217, 163)",
          "pattern": {
           "shape": ""
          }
         },
         "name": "United States of America",
         "offsetgroup": "United States of America",
         "orientation": "v",
         "showlegend": true,
         "text": [
          144055.26197183097
         ],
         "textposition": "auto",
         "type": "bar",
         "x": [
          "United States of America"
         ],
         "xaxis": "x",
         "y": [
          144055.26197183097
         ],
         "yaxis": "y"
        },
        {
         "alignmentgroup": "True",
         "hovertemplate": "color=Viet Nam<br>x=%{x}<br>y=%{y}<br>text=%{text}<extra></extra>",
         "legendgroup": "Viet Nam",
         "marker": {
          "color": "rgb(75, 41, 145)",
          "pattern": {
           "shape": ""
          }
         },
         "name": "Viet Nam",
         "offsetgroup": "Viet Nam",
         "orientation": "v",
         "showlegend": true,
         "text": [
          4000
         ],
         "textposition": "auto",
         "type": "bar",
         "x": [
          "Viet Nam"
         ],
         "xaxis": "x",
         "y": [
          4000
         ],
         "yaxis": "y"
        }
       ],
       "layout": {
        "barmode": "relative",
        "font": {
         "family": "Franklin Gothic",
         "size": 10
        },
        "legend": {
         "title": {
          "text": "color"
         },
         "tracegroupgap": 0
        },
        "template": {
         "data": {
          "bar": [
           {
            "error_x": {
             "color": "#f2f5fa"
            },
            "error_y": {
             "color": "#f2f5fa"
            },
            "marker": {
             "line": {
              "color": "rgb(17,17,17)",
              "width": 0.5
             },
             "pattern": {
              "fillmode": "overlay",
              "size": 10,
              "solidity": 0.2
             }
            },
            "type": "bar"
           }
          ],
          "barpolar": [
           {
            "marker": {
             "line": {
              "color": "rgb(17,17,17)",
              "width": 0.5
             },
             "pattern": {
              "fillmode": "overlay",
              "size": 10,
              "solidity": 0.2
             }
            },
            "type": "barpolar"
           }
          ],
          "carpet": [
           {
            "aaxis": {
             "endlinecolor": "#A2B1C6",
             "gridcolor": "#506784",
             "linecolor": "#506784",
             "minorgridcolor": "#506784",
             "startlinecolor": "#A2B1C6"
            },
            "baxis": {
             "endlinecolor": "#A2B1C6",
             "gridcolor": "#506784",
             "linecolor": "#506784",
             "minorgridcolor": "#506784",
             "startlinecolor": "#A2B1C6"
            },
            "type": "carpet"
           }
          ],
          "choropleth": [
           {
            "colorbar": {
             "outlinewidth": 0,
             "ticks": ""
            },
            "type": "choropleth"
           }
          ],
          "contour": [
           {
            "colorbar": {
             "outlinewidth": 0,
             "ticks": ""
            },
            "colorscale": [
             [
              0,
              "#0d0887"
             ],
             [
              0.1111111111111111,
              "#46039f"
             ],
             [
              0.2222222222222222,
              "#7201a8"
             ],
             [
              0.3333333333333333,
              "#9c179e"
             ],
             [
              0.4444444444444444,
              "#bd3786"
             ],
             [
              0.5555555555555556,
              "#d8576b"
             ],
             [
              0.6666666666666666,
              "#ed7953"
             ],
             [
              0.7777777777777778,
              "#fb9f3a"
             ],
             [
              0.8888888888888888,
              "#fdca26"
             ],
             [
              1,
              "#f0f921"
             ]
            ],
            "type": "contour"
           }
          ],
          "contourcarpet": [
           {
            "colorbar": {
             "outlinewidth": 0,
             "ticks": ""
            },
            "type": "contourcarpet"
           }
          ],
          "heatmap": [
           {
            "colorbar": {
             "outlinewidth": 0,
             "ticks": ""
            },
            "colorscale": [
             [
              0,
              "#0d0887"
             ],
             [
              0.1111111111111111,
              "#46039f"
             ],
             [
              0.2222222222222222,
              "#7201a8"
             ],
             [
              0.3333333333333333,
              "#9c179e"
             ],
             [
              0.4444444444444444,
              "#bd3786"
             ],
             [
              0.5555555555555556,
              "#d8576b"
             ],
             [
              0.6666666666666666,
              "#ed7953"
             ],
             [
              0.7777777777777778,
              "#fb9f3a"
             ],
             [
              0.8888888888888888,
              "#fdca26"
             ],
             [
              1,
              "#f0f921"
             ]
            ],
            "type": "heatmap"
           }
          ],
          "heatmapgl": [
           {
            "colorbar": {
             "outlinewidth": 0,
             "ticks": ""
            },
            "colorscale": [
             [
              0,
              "#0d0887"
             ],
             [
              0.1111111111111111,
              "#46039f"
             ],
             [
              0.2222222222222222,
              "#7201a8"
             ],
             [
              0.3333333333333333,
              "#9c179e"
             ],
             [
              0.4444444444444444,
              "#bd3786"
             ],
             [
              0.5555555555555556,
              "#d8576b"
             ],
             [
              0.6666666666666666,
              "#ed7953"
             ],
             [
              0.7777777777777778,
              "#fb9f3a"
             ],
             [
              0.8888888888888888,
              "#fdca26"
             ],
             [
              1,
              "#f0f921"
             ]
            ],
            "type": "heatmapgl"
           }
          ],
          "histogram": [
           {
            "marker": {
             "pattern": {
              "fillmode": "overlay",
              "size": 10,
              "solidity": 0.2
             }
            },
            "type": "histogram"
           }
          ],
          "histogram2d": [
           {
            "colorbar": {
             "outlinewidth": 0,
             "ticks": ""
            },
            "colorscale": [
             [
              0,
              "#0d0887"
             ],
             [
              0.1111111111111111,
              "#46039f"
             ],
             [
              0.2222222222222222,
              "#7201a8"
             ],
             [
              0.3333333333333333,
              "#9c179e"
             ],
             [
              0.4444444444444444,
              "#bd3786"
             ],
             [
              0.5555555555555556,
              "#d8576b"
             ],
             [
              0.6666666666666666,
              "#ed7953"
             ],
             [
              0.7777777777777778,
              "#fb9f3a"
             ],
             [
              0.8888888888888888,
              "#fdca26"
             ],
             [
              1,
              "#f0f921"
             ]
            ],
            "type": "histogram2d"
           }
          ],
          "histogram2dcontour": [
           {
            "colorbar": {
             "outlinewidth": 0,
             "ticks": ""
            },
            "colorscale": [
             [
              0,
              "#0d0887"
             ],
             [
              0.1111111111111111,
              "#46039f"
             ],
             [
              0.2222222222222222,
              "#7201a8"
             ],
             [
              0.3333333333333333,
              "#9c179e"
             ],
             [
              0.4444444444444444,
              "#bd3786"
             ],
             [
              0.5555555555555556,
              "#d8576b"
             ],
             [
              0.6666666666666666,
              "#ed7953"
             ],
             [
              0.7777777777777778,
              "#fb9f3a"
             ],
             [
              0.8888888888888888,
              "#fdca26"
             ],
             [
              1,
              "#f0f921"
             ]
            ],
            "type": "histogram2dcontour"
           }
          ],
          "mesh3d": [
           {
            "colorbar": {
             "outlinewidth": 0,
             "ticks": ""
            },
            "type": "mesh3d"
           }
          ],
          "parcoords": [
           {
            "line": {
             "colorbar": {
              "outlinewidth": 0,
              "ticks": ""
             }
            },
            "type": "parcoords"
           }
          ],
          "pie": [
           {
            "automargin": true,
            "type": "pie"
           }
          ],
          "scatter": [
           {
            "marker": {
             "line": {
              "color": "#283442"
             }
            },
            "type": "scatter"
           }
          ],
          "scatter3d": [
           {
            "line": {
             "colorbar": {
              "outlinewidth": 0,
              "ticks": ""
             }
            },
            "marker": {
             "colorbar": {
              "outlinewidth": 0,
              "ticks": ""
             }
            },
            "type": "scatter3d"
           }
          ],
          "scattercarpet": [
           {
            "marker": {
             "colorbar": {
              "outlinewidth": 0,
              "ticks": ""
             }
            },
            "type": "scattercarpet"
           }
          ],
          "scattergeo": [
           {
            "marker": {
             "colorbar": {
              "outlinewidth": 0,
              "ticks": ""
             }
            },
            "type": "scattergeo"
           }
          ],
          "scattergl": [
           {
            "marker": {
             "line": {
              "color": "#283442"
             }
            },
            "type": "scattergl"
           }
          ],
          "scattermapbox": [
           {
            "marker": {
             "colorbar": {
              "outlinewidth": 0,
              "ticks": ""
             }
            },
            "type": "scattermapbox"
           }
          ],
          "scatterpolar": [
           {
            "marker": {
             "colorbar": {
              "outlinewidth": 0,
              "ticks": ""
             }
            },
            "type": "scatterpolar"
           }
          ],
          "scatterpolargl": [
           {
            "marker": {
             "colorbar": {
              "outlinewidth": 0,
              "ticks": ""
             }
            },
            "type": "scatterpolargl"
           }
          ],
          "scatterternary": [
           {
            "marker": {
             "colorbar": {
              "outlinewidth": 0,
              "ticks": ""
             }
            },
            "type": "scatterternary"
           }
          ],
          "surface": [
           {
            "colorbar": {
             "outlinewidth": 0,
             "ticks": ""
            },
            "colorscale": [
             [
              0,
              "#0d0887"
             ],
             [
              0.1111111111111111,
              "#46039f"
             ],
             [
              0.2222222222222222,
              "#7201a8"
             ],
             [
              0.3333333333333333,
              "#9c179e"
             ],
             [
              0.4444444444444444,
              "#bd3786"
             ],
             [
              0.5555555555555556,
              "#d8576b"
             ],
             [
              0.6666666666666666,
              "#ed7953"
             ],
             [
              0.7777777777777778,
              "#fb9f3a"
             ],
             [
              0.8888888888888888,
              "#fdca26"
             ],
             [
              1,
              "#f0f921"
             ]
            ],
            "type": "surface"
           }
          ],
          "table": [
           {
            "cells": {
             "fill": {
              "color": "#506784"
             },
             "line": {
              "color": "rgb(17,17,17)"
             }
            },
            "header": {
             "fill": {
              "color": "#2a3f5f"
             },
             "line": {
              "color": "rgb(17,17,17)"
             }
            },
            "type": "table"
           }
          ]
         },
         "layout": {
          "annotationdefaults": {
           "arrowcolor": "#f2f5fa",
           "arrowhead": 0,
           "arrowwidth": 1
          },
          "autotypenumbers": "strict",
          "coloraxis": {
           "colorbar": {
            "outlinewidth": 0,
            "ticks": ""
           }
          },
          "colorscale": {
           "diverging": [
            [
             0,
             "#8e0152"
            ],
            [
             0.1,
             "#c51b7d"
            ],
            [
             0.2,
             "#de77ae"
            ],
            [
             0.3,
             "#f1b6da"
            ],
            [
             0.4,
             "#fde0ef"
            ],
            [
             0.5,
             "#f7f7f7"
            ],
            [
             0.6,
             "#e6f5d0"
            ],
            [
             0.7,
             "#b8e186"
            ],
            [
             0.8,
             "#7fbc41"
            ],
            [
             0.9,
             "#4d9221"
            ],
            [
             1,
             "#276419"
            ]
           ],
           "sequential": [
            [
             0,
             "#0d0887"
            ],
            [
             0.1111111111111111,
             "#46039f"
            ],
            [
             0.2222222222222222,
             "#7201a8"
            ],
            [
             0.3333333333333333,
             "#9c179e"
            ],
            [
             0.4444444444444444,
             "#bd3786"
            ],
            [
             0.5555555555555556,
             "#d8576b"
            ],
            [
             0.6666666666666666,
             "#ed7953"
            ],
            [
             0.7777777777777778,
             "#fb9f3a"
            ],
            [
             0.8888888888888888,
             "#fdca26"
            ],
            [
             1,
             "#f0f921"
            ]
           ],
           "sequentialminus": [
            [
             0,
             "#0d0887"
            ],
            [
             0.1111111111111111,
             "#46039f"
            ],
            [
             0.2222222222222222,
             "#7201a8"
            ],
            [
             0.3333333333333333,
             "#9c179e"
            ],
            [
             0.4444444444444444,
             "#bd3786"
            ],
            [
             0.5555555555555556,
             "#d8576b"
            ],
            [
             0.6666666666666666,
             "#ed7953"
            ],
            [
             0.7777777777777778,
             "#fb9f3a"
            ],
            [
             0.8888888888888888,
             "#fdca26"
            ],
            [
             1,
             "#f0f921"
            ]
           ]
          },
          "colorway": [
           "#636efa",
           "#EF553B",
           "#00cc96",
           "#ab63fa",
           "#FFA15A",
           "#19d3f3",
           "#FF6692",
           "#B6E880",
           "#FF97FF",
           "#FECB52"
          ],
          "font": {
           "color": "#f2f5fa"
          },
          "geo": {
           "bgcolor": "rgb(17,17,17)",
           "lakecolor": "rgb(17,17,17)",
           "landcolor": "rgb(17,17,17)",
           "showlakes": true,
           "showland": true,
           "subunitcolor": "#506784"
          },
          "hoverlabel": {
           "align": "left"
          },
          "hovermode": "closest",
          "mapbox": {
           "style": "dark"
          },
          "paper_bgcolor": "rgb(17,17,17)",
          "plot_bgcolor": "rgb(17,17,17)",
          "polar": {
           "angularaxis": {
            "gridcolor": "#506784",
            "linecolor": "#506784",
            "ticks": ""
           },
           "bgcolor": "rgb(17,17,17)",
           "radialaxis": {
            "gridcolor": "#506784",
            "linecolor": "#506784",
            "ticks": ""
           }
          },
          "scene": {
           "xaxis": {
            "backgroundcolor": "rgb(17,17,17)",
            "gridcolor": "#506784",
            "gridwidth": 2,
            "linecolor": "#506784",
            "showbackground": true,
            "ticks": "",
            "zerolinecolor": "#C8D4E3"
           },
           "yaxis": {
            "backgroundcolor": "rgb(17,17,17)",
            "gridcolor": "#506784",
            "gridwidth": 2,
            "linecolor": "#506784",
            "showbackground": true,
            "ticks": "",
            "zerolinecolor": "#C8D4E3"
           },
           "zaxis": {
            "backgroundcolor": "rgb(17,17,17)",
            "gridcolor": "#506784",
            "gridwidth": 2,
            "linecolor": "#506784",
            "showbackground": true,
            "ticks": "",
            "zerolinecolor": "#C8D4E3"
           }
          },
          "shapedefaults": {
           "line": {
            "color": "#f2f5fa"
           }
          },
          "sliderdefaults": {
           "bgcolor": "#C8D4E3",
           "bordercolor": "rgb(17,17,17)",
           "borderwidth": 1,
           "tickwidth": 0
          },
          "ternary": {
           "aaxis": {
            "gridcolor": "#506784",
            "linecolor": "#506784",
            "ticks": ""
           },
           "baxis": {
            "gridcolor": "#506784",
            "linecolor": "#506784",
            "ticks": ""
           },
           "bgcolor": "rgb(17,17,17)",
           "caxis": {
            "gridcolor": "#506784",
            "linecolor": "#506784",
            "ticks": ""
           }
          },
          "title": {
           "x": 0.05
          },
          "updatemenudefaults": {
           "bgcolor": "#506784",
           "borderwidth": 0
          },
          "xaxis": {
           "automargin": true,
           "gridcolor": "#283442",
           "linecolor": "#506784",
           "ticks": "",
           "title": {
            "standoff": 15
           },
           "zerolinecolor": "#283442",
           "zerolinewidth": 2
          },
          "yaxis": {
           "automargin": true,
           "gridcolor": "#283442",
           "linecolor": "#506784",
           "ticks": "",
           "title": {
            "standoff": 15
           },
           "zerolinecolor": "#283442",
           "zerolinewidth": 2
          }
         }
        },
        "title": {
         "text": "Avg salary distribution based on its location"
        },
        "xaxis": {
         "anchor": "y",
         "domain": [
          0,
          1
         ],
         "title": {
          "text": "Company location"
         }
        },
        "yaxis": {
         "anchor": "x",
         "domain": [
          0,
          1
         ],
         "title": {
          "text": "Average salary (in USD)"
         }
        }
       }
      }
     },
     "metadata": {},
     "output_type": "display_data"
    }
   ],
   "source": [
    "sal_dis = df.groupby('company_location')['salary_in_usd'].mean()\n",
    "fig = px.bar(x = sal_dis.index, y = sal_dis.values,\n",
    "             text = sal_dis.values,\n",
    "             color = sal_dis.index,\n",
    "             color_discrete_sequence=px.colors.sequential.Agsunset,\n",
    "             title = 'Avg salary distribution based on its location',\n",
    "             template = 'plotly_dark'\n",
    "             )\n",
    "fig.update_layout(\n",
    "    xaxis_title=\"Company location\",\n",
    "    yaxis_title=\"Average salary (in USD)\",\n",
    "    font = dict(size=10,family=\"Franklin Gothic\"))\n",
    "fig.show()"
   ]
  },
  {
   "cell_type": "markdown",
   "metadata": {},
   "source": [
    "#### 2.8 Job percentage as per the year\n",
    "\n",
    "This pie-chart will show the distribution as per the year"
   ]
  },
  {
   "cell_type": "code",
   "execution_count": 20,
   "metadata": {},
   "outputs": [
    {
     "data": {
      "application/vnd.plotly.v1+json": {
       "config": {
        "plotlyServerURL": "https://plot.ly"
       },
       "data": [
        {
         "domain": {
          "x": [
           0,
           1
          ],
          "y": [
           0,
           1
          ]
         },
         "hovertemplate": "label=%{label}<br>value=%{value}<extra></extra>",
         "labels": [
          2022,
          2021,
          2020
         ],
         "legendgroup": "",
         "marker": {
          "line": {
           "color": "#100000",
           "width": 0.2
          }
         },
         "name": "",
         "showlegend": true,
         "textfont": {
          "size": 10
         },
         "textinfo": "label+percent+value",
         "type": "pie",
         "values": [
          318,
          217,
          72
         ]
        }
       ],
       "layout": {
        "legend": {
         "tracegroupgap": 0
        },
        "piecolorway": [
         "#0d0887",
         "#46039f",
         "#7201a8",
         "#9c179e",
         "#bd3786",
         "#d8576b",
         "#ed7953",
         "#fb9f3a",
         "#fdca26",
         "#f0f921"
        ],
        "template": {
         "data": {
          "bar": [
           {
            "error_x": {
             "color": "#f2f5fa"
            },
            "error_y": {
             "color": "#f2f5fa"
            },
            "marker": {
             "line": {
              "color": "rgb(17,17,17)",
              "width": 0.5
             },
             "pattern": {
              "fillmode": "overlay",
              "size": 10,
              "solidity": 0.2
             }
            },
            "type": "bar"
           }
          ],
          "barpolar": [
           {
            "marker": {
             "line": {
              "color": "rgb(17,17,17)",
              "width": 0.5
             },
             "pattern": {
              "fillmode": "overlay",
              "size": 10,
              "solidity": 0.2
             }
            },
            "type": "barpolar"
           }
          ],
          "carpet": [
           {
            "aaxis": {
             "endlinecolor": "#A2B1C6",
             "gridcolor": "#506784",
             "linecolor": "#506784",
             "minorgridcolor": "#506784",
             "startlinecolor": "#A2B1C6"
            },
            "baxis": {
             "endlinecolor": "#A2B1C6",
             "gridcolor": "#506784",
             "linecolor": "#506784",
             "minorgridcolor": "#506784",
             "startlinecolor": "#A2B1C6"
            },
            "type": "carpet"
           }
          ],
          "choropleth": [
           {
            "colorbar": {
             "outlinewidth": 0,
             "ticks": ""
            },
            "type": "choropleth"
           }
          ],
          "contour": [
           {
            "colorbar": {
             "outlinewidth": 0,
             "ticks": ""
            },
            "colorscale": [
             [
              0,
              "#0d0887"
             ],
             [
              0.1111111111111111,
              "#46039f"
             ],
             [
              0.2222222222222222,
              "#7201a8"
             ],
             [
              0.3333333333333333,
              "#9c179e"
             ],
             [
              0.4444444444444444,
              "#bd3786"
             ],
             [
              0.5555555555555556,
              "#d8576b"
             ],
             [
              0.6666666666666666,
              "#ed7953"
             ],
             [
              0.7777777777777778,
              "#fb9f3a"
             ],
             [
              0.8888888888888888,
              "#fdca26"
             ],
             [
              1,
              "#f0f921"
             ]
            ],
            "type": "contour"
           }
          ],
          "contourcarpet": [
           {
            "colorbar": {
             "outlinewidth": 0,
             "ticks": ""
            },
            "type": "contourcarpet"
           }
          ],
          "heatmap": [
           {
            "colorbar": {
             "outlinewidth": 0,
             "ticks": ""
            },
            "colorscale": [
             [
              0,
              "#0d0887"
             ],
             [
              0.1111111111111111,
              "#46039f"
             ],
             [
              0.2222222222222222,
              "#7201a8"
             ],
             [
              0.3333333333333333,
              "#9c179e"
             ],
             [
              0.4444444444444444,
              "#bd3786"
             ],
             [
              0.5555555555555556,
              "#d8576b"
             ],
             [
              0.6666666666666666,
              "#ed7953"
             ],
             [
              0.7777777777777778,
              "#fb9f3a"
             ],
             [
              0.8888888888888888,
              "#fdca26"
             ],
             [
              1,
              "#f0f921"
             ]
            ],
            "type": "heatmap"
           }
          ],
          "heatmapgl": [
           {
            "colorbar": {
             "outlinewidth": 0,
             "ticks": ""
            },
            "colorscale": [
             [
              0,
              "#0d0887"
             ],
             [
              0.1111111111111111,
              "#46039f"
             ],
             [
              0.2222222222222222,
              "#7201a8"
             ],
             [
              0.3333333333333333,
              "#9c179e"
             ],
             [
              0.4444444444444444,
              "#bd3786"
             ],
             [
              0.5555555555555556,
              "#d8576b"
             ],
             [
              0.6666666666666666,
              "#ed7953"
             ],
             [
              0.7777777777777778,
              "#fb9f3a"
             ],
             [
              0.8888888888888888,
              "#fdca26"
             ],
             [
              1,
              "#f0f921"
             ]
            ],
            "type": "heatmapgl"
           }
          ],
          "histogram": [
           {
            "marker": {
             "pattern": {
              "fillmode": "overlay",
              "size": 10,
              "solidity": 0.2
             }
            },
            "type": "histogram"
           }
          ],
          "histogram2d": [
           {
            "colorbar": {
             "outlinewidth": 0,
             "ticks": ""
            },
            "colorscale": [
             [
              0,
              "#0d0887"
             ],
             [
              0.1111111111111111,
              "#46039f"
             ],
             [
              0.2222222222222222,
              "#7201a8"
             ],
             [
              0.3333333333333333,
              "#9c179e"
             ],
             [
              0.4444444444444444,
              "#bd3786"
             ],
             [
              0.5555555555555556,
              "#d8576b"
             ],
             [
              0.6666666666666666,
              "#ed7953"
             ],
             [
              0.7777777777777778,
              "#fb9f3a"
             ],
             [
              0.8888888888888888,
              "#fdca26"
             ],
             [
              1,
              "#f0f921"
             ]
            ],
            "type": "histogram2d"
           }
          ],
          "histogram2dcontour": [
           {
            "colorbar": {
             "outlinewidth": 0,
             "ticks": ""
            },
            "colorscale": [
             [
              0,
              "#0d0887"
             ],
             [
              0.1111111111111111,
              "#46039f"
             ],
             [
              0.2222222222222222,
              "#7201a8"
             ],
             [
              0.3333333333333333,
              "#9c179e"
             ],
             [
              0.4444444444444444,
              "#bd3786"
             ],
             [
              0.5555555555555556,
              "#d8576b"
             ],
             [
              0.6666666666666666,
              "#ed7953"
             ],
             [
              0.7777777777777778,
              "#fb9f3a"
             ],
             [
              0.8888888888888888,
              "#fdca26"
             ],
             [
              1,
              "#f0f921"
             ]
            ],
            "type": "histogram2dcontour"
           }
          ],
          "mesh3d": [
           {
            "colorbar": {
             "outlinewidth": 0,
             "ticks": ""
            },
            "type": "mesh3d"
           }
          ],
          "parcoords": [
           {
            "line": {
             "colorbar": {
              "outlinewidth": 0,
              "ticks": ""
             }
            },
            "type": "parcoords"
           }
          ],
          "pie": [
           {
            "automargin": true,
            "type": "pie"
           }
          ],
          "scatter": [
           {
            "marker": {
             "line": {
              "color": "#283442"
             }
            },
            "type": "scatter"
           }
          ],
          "scatter3d": [
           {
            "line": {
             "colorbar": {
              "outlinewidth": 0,
              "ticks": ""
             }
            },
            "marker": {
             "colorbar": {
              "outlinewidth": 0,
              "ticks": ""
             }
            },
            "type": "scatter3d"
           }
          ],
          "scattercarpet": [
           {
            "marker": {
             "colorbar": {
              "outlinewidth": 0,
              "ticks": ""
             }
            },
            "type": "scattercarpet"
           }
          ],
          "scattergeo": [
           {
            "marker": {
             "colorbar": {
              "outlinewidth": 0,
              "ticks": ""
             }
            },
            "type": "scattergeo"
           }
          ],
          "scattergl": [
           {
            "marker": {
             "line": {
              "color": "#283442"
             }
            },
            "type": "scattergl"
           }
          ],
          "scattermapbox": [
           {
            "marker": {
             "colorbar": {
              "outlinewidth": 0,
              "ticks": ""
             }
            },
            "type": "scattermapbox"
           }
          ],
          "scatterpolar": [
           {
            "marker": {
             "colorbar": {
              "outlinewidth": 0,
              "ticks": ""
             }
            },
            "type": "scatterpolar"
           }
          ],
          "scatterpolargl": [
           {
            "marker": {
             "colorbar": {
              "outlinewidth": 0,
              "ticks": ""
             }
            },
            "type": "scatterpolargl"
           }
          ],
          "scatterternary": [
           {
            "marker": {
             "colorbar": {
              "outlinewidth": 0,
              "ticks": ""
             }
            },
            "type": "scatterternary"
           }
          ],
          "surface": [
           {
            "colorbar": {
             "outlinewidth": 0,
             "ticks": ""
            },
            "colorscale": [
             [
              0,
              "#0d0887"
             ],
             [
              0.1111111111111111,
              "#46039f"
             ],
             [
              0.2222222222222222,
              "#7201a8"
             ],
             [
              0.3333333333333333,
              "#9c179e"
             ],
             [
              0.4444444444444444,
              "#bd3786"
             ],
             [
              0.5555555555555556,
              "#d8576b"
             ],
             [
              0.6666666666666666,
              "#ed7953"
             ],
             [
              0.7777777777777778,
              "#fb9f3a"
             ],
             [
              0.8888888888888888,
              "#fdca26"
             ],
             [
              1,
              "#f0f921"
             ]
            ],
            "type": "surface"
           }
          ],
          "table": [
           {
            "cells": {
             "fill": {
              "color": "#506784"
             },
             "line": {
              "color": "rgb(17,17,17)"
             }
            },
            "header": {
             "fill": {
              "color": "#2a3f5f"
             },
             "line": {
              "color": "rgb(17,17,17)"
             }
            },
            "type": "table"
           }
          ]
         },
         "layout": {
          "annotationdefaults": {
           "arrowcolor": "#f2f5fa",
           "arrowhead": 0,
           "arrowwidth": 1
          },
          "autotypenumbers": "strict",
          "coloraxis": {
           "colorbar": {
            "outlinewidth": 0,
            "ticks": ""
           }
          },
          "colorscale": {
           "diverging": [
            [
             0,
             "#8e0152"
            ],
            [
             0.1,
             "#c51b7d"
            ],
            [
             0.2,
             "#de77ae"
            ],
            [
             0.3,
             "#f1b6da"
            ],
            [
             0.4,
             "#fde0ef"
            ],
            [
             0.5,
             "#f7f7f7"
            ],
            [
             0.6,
             "#e6f5d0"
            ],
            [
             0.7,
             "#b8e186"
            ],
            [
             0.8,
             "#7fbc41"
            ],
            [
             0.9,
             "#4d9221"
            ],
            [
             1,
             "#276419"
            ]
           ],
           "sequential": [
            [
             0,
             "#0d0887"
            ],
            [
             0.1111111111111111,
             "#46039f"
            ],
            [
             0.2222222222222222,
             "#7201a8"
            ],
            [
             0.3333333333333333,
             "#9c179e"
            ],
            [
             0.4444444444444444,
             "#bd3786"
            ],
            [
             0.5555555555555556,
             "#d8576b"
            ],
            [
             0.6666666666666666,
             "#ed7953"
            ],
            [
             0.7777777777777778,
             "#fb9f3a"
            ],
            [
             0.8888888888888888,
             "#fdca26"
            ],
            [
             1,
             "#f0f921"
            ]
           ],
           "sequentialminus": [
            [
             0,
             "#0d0887"
            ],
            [
             0.1111111111111111,
             "#46039f"
            ],
            [
             0.2222222222222222,
             "#7201a8"
            ],
            [
             0.3333333333333333,
             "#9c179e"
            ],
            [
             0.4444444444444444,
             "#bd3786"
            ],
            [
             0.5555555555555556,
             "#d8576b"
            ],
            [
             0.6666666666666666,
             "#ed7953"
            ],
            [
             0.7777777777777778,
             "#fb9f3a"
            ],
            [
             0.8888888888888888,
             "#fdca26"
            ],
            [
             1,
             "#f0f921"
            ]
           ]
          },
          "colorway": [
           "#636efa",
           "#EF553B",
           "#00cc96",
           "#ab63fa",
           "#FFA15A",
           "#19d3f3",
           "#FF6692",
           "#B6E880",
           "#FF97FF",
           "#FECB52"
          ],
          "font": {
           "color": "#f2f5fa"
          },
          "geo": {
           "bgcolor": "rgb(17,17,17)",
           "lakecolor": "rgb(17,17,17)",
           "landcolor": "rgb(17,17,17)",
           "showlakes": true,
           "showland": true,
           "subunitcolor": "#506784"
          },
          "hoverlabel": {
           "align": "left"
          },
          "hovermode": "closest",
          "mapbox": {
           "style": "dark"
          },
          "paper_bgcolor": "rgb(17,17,17)",
          "plot_bgcolor": "rgb(17,17,17)",
          "polar": {
           "angularaxis": {
            "gridcolor": "#506784",
            "linecolor": "#506784",
            "ticks": ""
           },
           "bgcolor": "rgb(17,17,17)",
           "radialaxis": {
            "gridcolor": "#506784",
            "linecolor": "#506784",
            "ticks": ""
           }
          },
          "scene": {
           "xaxis": {
            "backgroundcolor": "rgb(17,17,17)",
            "gridcolor": "#506784",
            "gridwidth": 2,
            "linecolor": "#506784",
            "showbackground": true,
            "ticks": "",
            "zerolinecolor": "#C8D4E3"
           },
           "yaxis": {
            "backgroundcolor": "rgb(17,17,17)",
            "gridcolor": "#506784",
            "gridwidth": 2,
            "linecolor": "#506784",
            "showbackground": true,
            "ticks": "",
            "zerolinecolor": "#C8D4E3"
           },
           "zaxis": {
            "backgroundcolor": "rgb(17,17,17)",
            "gridcolor": "#506784",
            "gridwidth": 2,
            "linecolor": "#506784",
            "showbackground": true,
            "ticks": "",
            "zerolinecolor": "#C8D4E3"
           }
          },
          "shapedefaults": {
           "line": {
            "color": "#f2f5fa"
           }
          },
          "sliderdefaults": {
           "bgcolor": "#C8D4E3",
           "bordercolor": "rgb(17,17,17)",
           "borderwidth": 1,
           "tickwidth": 0
          },
          "ternary": {
           "aaxis": {
            "gridcolor": "#506784",
            "linecolor": "#506784",
            "ticks": ""
           },
           "baxis": {
            "gridcolor": "#506784",
            "linecolor": "#506784",
            "ticks": ""
           },
           "bgcolor": "rgb(17,17,17)",
           "caxis": {
            "gridcolor": "#506784",
            "linecolor": "#506784",
            "ticks": ""
           }
          },
          "title": {
           "x": 0.05
          },
          "updatemenudefaults": {
           "bgcolor": "#506784",
           "borderwidth": 0
          },
          "xaxis": {
           "automargin": true,
           "gridcolor": "#283442",
           "linecolor": "#506784",
           "ticks": "",
           "title": {
            "standoff": 15
           },
           "zerolinecolor": "#283442",
           "zerolinewidth": 2
          },
          "yaxis": {
           "automargin": true,
           "gridcolor": "#283442",
           "linecolor": "#506784",
           "ticks": "",
           "title": {
            "standoff": 15
           },
           "zerolinecolor": "#283442",
           "zerolinewidth": 2
          }
         }
        },
        "title": {
         "text": "Pie distribution in accordance with the year"
        }
       }
      }
     },
     "metadata": {},
     "output_type": "display_data"
    }
   ],
   "source": [
    "year_dis = df['work_year'].value_counts()\n",
    "fig = px.pie(\n",
    "    values = year_dis.values,\n",
    "    names = year_dis.index,\n",
    "    color_discrete_sequence=px.colors.sequential.Plasma,\n",
    "    title='Pie distribution in accordance with the year',\n",
    "    template='plotly_dark'\n",
    ")\n",
    "fig.update_traces(\n",
    "    textinfo='label+percent+value',\n",
    "    textfont_size=10,\n",
    "    marker=dict(line=dict(color='#100000', width=0.2)))\n",
    "fig.show()"
   ]
  },
  {
   "cell_type": "markdown",
   "metadata": {},
   "source": [
    "#### 2.9 Job title w.r.t experience level\n",
    "\n",
    "This stacked barplot will show the distribution of each job title with respect to the experience level for each job and show the final count."
   ]
  },
  {
   "cell_type": "code",
   "execution_count": 40,
   "metadata": {},
   "outputs": [
    {
     "data": {
      "application/vnd.plotly.v1+json": {
       "config": {
        "plotlyServerURL": "https://plot.ly"
       },
       "data": [
        {
         "marker": {
          "color": "Red"
         },
         "name": "Entry-level/Junior",
         "text": [
          22,
          12,
          12,
          9,
          5,
          4,
          4,
          3,
          3,
          2,
          2,
          2,
          2,
          1,
          1,
          1,
          1,
          1,
          1
         ],
         "type": "bar",
         "x": [
          "Data Scientist",
          "Data Analyst",
          "Data Engineer",
          "Machine Learning Engineer",
          "Data Science Consultant",
          "AI Scientist",
          "Research Scientist",
          "Computer Vision Engineer",
          "Big Data Engineer",
          "Computer Vision Software Engineer",
          "Business Data Analyst",
          "BI Data Analyst",
          "ML Engineer",
          "Applied Data Scientist",
          "Financial Data Analyst",
          "Machine Learning Developer",
          "Applied Machine Learning Scientist",
          "Machine Learning Scientist",
          "Data Analytics Engineer"
         ],
         "y": [
          22,
          12,
          12,
          9,
          5,
          4,
          4,
          3,
          3,
          2,
          2,
          2,
          2,
          1,
          1,
          1,
          1,
          1,
          1
         ]
        },
        {
         "marker": {
          "color": "Green"
         },
         "name": "Executive-level/Director",
         "text": [
          22,
          12,
          12,
          9,
          5,
          4,
          4,
          3,
          3,
          2,
          2,
          2,
          2,
          1,
          1,
          1,
          1,
          1,
          1
         ],
         "type": "bar",
         "x": [
          "Data Scientist",
          "Data Analyst",
          "Data Engineer",
          "Machine Learning Engineer",
          "Data Science Consultant",
          "AI Scientist",
          "Research Scientist",
          "Computer Vision Engineer",
          "Big Data Engineer",
          "Computer Vision Software Engineer",
          "Business Data Analyst",
          "BI Data Analyst",
          "ML Engineer",
          "Applied Data Scientist",
          "Financial Data Analyst",
          "Machine Learning Developer",
          "Applied Machine Learning Scientist",
          "Machine Learning Scientist",
          "Data Analytics Engineer"
         ],
         "y": [
          22,
          12,
          12,
          9,
          5,
          4,
          4,
          3,
          3,
          2,
          2,
          2,
          2,
          1,
          1,
          1,
          1,
          1,
          1
         ]
        },
        {
         "marker": {
          "color": "Blue"
         },
         "name": "Mid-level/Intermediate",
         "text": [
          22,
          12,
          12,
          9,
          5,
          4,
          4,
          3,
          3,
          2,
          2,
          2,
          2,
          1,
          1,
          1,
          1,
          1,
          1
         ],
         "type": "bar",
         "x": [
          "Data Scientist",
          "Data Analyst",
          "Data Engineer",
          "Machine Learning Engineer",
          "Data Science Consultant",
          "AI Scientist",
          "Research Scientist",
          "Computer Vision Engineer",
          "Big Data Engineer",
          "Computer Vision Software Engineer",
          "Business Data Analyst",
          "BI Data Analyst",
          "ML Engineer",
          "Applied Data Scientist",
          "Financial Data Analyst",
          "Machine Learning Developer",
          "Applied Machine Learning Scientist",
          "Machine Learning Scientist",
          "Data Analytics Engineer"
         ],
         "y": [
          22,
          12,
          12,
          9,
          5,
          4,
          4,
          3,
          3,
          2,
          2,
          2,
          2,
          1,
          1,
          1,
          1,
          1,
          1
         ]
        },
        {
         "marker": {
          "color": "Yellow"
         },
         "name": "Senior-level/Expert",
         "text": [
          22,
          12,
          12,
          9,
          5,
          4,
          4,
          3,
          3,
          2,
          2,
          2,
          2,
          1,
          1,
          1,
          1,
          1,
          1
         ],
         "type": "bar",
         "x": [
          "Data Scientist",
          "Data Analyst",
          "Data Engineer",
          "Machine Learning Engineer",
          "Data Science Consultant",
          "AI Scientist",
          "Research Scientist",
          "Computer Vision Engineer",
          "Big Data Engineer",
          "Computer Vision Software Engineer",
          "Business Data Analyst",
          "BI Data Analyst",
          "ML Engineer",
          "Applied Data Scientist",
          "Financial Data Analyst",
          "Machine Learning Developer",
          "Applied Machine Learning Scientist",
          "Machine Learning Scientist",
          "Data Analytics Engineer"
         ],
         "y": [
          22,
          12,
          12,
          9,
          5,
          4,
          4,
          3,
          3,
          2,
          2,
          2,
          2,
          1,
          1,
          1,
          1,
          1,
          1
         ]
        }
       ],
       "layout": {
        "barmode": "stack",
        "font": {
         "family": "Franklin Gothic",
         "size": 10
        },
        "template": {
         "data": {
          "bar": [
           {
            "error_x": {
             "color": "#f2f5fa"
            },
            "error_y": {
             "color": "#f2f5fa"
            },
            "marker": {
             "line": {
              "color": "rgb(17,17,17)",
              "width": 0.5
             },
             "pattern": {
              "fillmode": "overlay",
              "size": 10,
              "solidity": 0.2
             }
            },
            "type": "bar"
           }
          ],
          "barpolar": [
           {
            "marker": {
             "line": {
              "color": "rgb(17,17,17)",
              "width": 0.5
             },
             "pattern": {
              "fillmode": "overlay",
              "size": 10,
              "solidity": 0.2
             }
            },
            "type": "barpolar"
           }
          ],
          "carpet": [
           {
            "aaxis": {
             "endlinecolor": "#A2B1C6",
             "gridcolor": "#506784",
             "linecolor": "#506784",
             "minorgridcolor": "#506784",
             "startlinecolor": "#A2B1C6"
            },
            "baxis": {
             "endlinecolor": "#A2B1C6",
             "gridcolor": "#506784",
             "linecolor": "#506784",
             "minorgridcolor": "#506784",
             "startlinecolor": "#A2B1C6"
            },
            "type": "carpet"
           }
          ],
          "choropleth": [
           {
            "colorbar": {
             "outlinewidth": 0,
             "ticks": ""
            },
            "type": "choropleth"
           }
          ],
          "contour": [
           {
            "colorbar": {
             "outlinewidth": 0,
             "ticks": ""
            },
            "colorscale": [
             [
              0,
              "#0d0887"
             ],
             [
              0.1111111111111111,
              "#46039f"
             ],
             [
              0.2222222222222222,
              "#7201a8"
             ],
             [
              0.3333333333333333,
              "#9c179e"
             ],
             [
              0.4444444444444444,
              "#bd3786"
             ],
             [
              0.5555555555555556,
              "#d8576b"
             ],
             [
              0.6666666666666666,
              "#ed7953"
             ],
             [
              0.7777777777777778,
              "#fb9f3a"
             ],
             [
              0.8888888888888888,
              "#fdca26"
             ],
             [
              1,
              "#f0f921"
             ]
            ],
            "type": "contour"
           }
          ],
          "contourcarpet": [
           {
            "colorbar": {
             "outlinewidth": 0,
             "ticks": ""
            },
            "type": "contourcarpet"
           }
          ],
          "heatmap": [
           {
            "colorbar": {
             "outlinewidth": 0,
             "ticks": ""
            },
            "colorscale": [
             [
              0,
              "#0d0887"
             ],
             [
              0.1111111111111111,
              "#46039f"
             ],
             [
              0.2222222222222222,
              "#7201a8"
             ],
             [
              0.3333333333333333,
              "#9c179e"
             ],
             [
              0.4444444444444444,
              "#bd3786"
             ],
             [
              0.5555555555555556,
              "#d8576b"
             ],
             [
              0.6666666666666666,
              "#ed7953"
             ],
             [
              0.7777777777777778,
              "#fb9f3a"
             ],
             [
              0.8888888888888888,
              "#fdca26"
             ],
             [
              1,
              "#f0f921"
             ]
            ],
            "type": "heatmap"
           }
          ],
          "heatmapgl": [
           {
            "colorbar": {
             "outlinewidth": 0,
             "ticks": ""
            },
            "colorscale": [
             [
              0,
              "#0d0887"
             ],
             [
              0.1111111111111111,
              "#46039f"
             ],
             [
              0.2222222222222222,
              "#7201a8"
             ],
             [
              0.3333333333333333,
              "#9c179e"
             ],
             [
              0.4444444444444444,
              "#bd3786"
             ],
             [
              0.5555555555555556,
              "#d8576b"
             ],
             [
              0.6666666666666666,
              "#ed7953"
             ],
             [
              0.7777777777777778,
              "#fb9f3a"
             ],
             [
              0.8888888888888888,
              "#fdca26"
             ],
             [
              1,
              "#f0f921"
             ]
            ],
            "type": "heatmapgl"
           }
          ],
          "histogram": [
           {
            "marker": {
             "pattern": {
              "fillmode": "overlay",
              "size": 10,
              "solidity": 0.2
             }
            },
            "type": "histogram"
           }
          ],
          "histogram2d": [
           {
            "colorbar": {
             "outlinewidth": 0,
             "ticks": ""
            },
            "colorscale": [
             [
              0,
              "#0d0887"
             ],
             [
              0.1111111111111111,
              "#46039f"
             ],
             [
              0.2222222222222222,
              "#7201a8"
             ],
             [
              0.3333333333333333,
              "#9c179e"
             ],
             [
              0.4444444444444444,
              "#bd3786"
             ],
             [
              0.5555555555555556,
              "#d8576b"
             ],
             [
              0.6666666666666666,
              "#ed7953"
             ],
             [
              0.7777777777777778,
              "#fb9f3a"
             ],
             [
              0.8888888888888888,
              "#fdca26"
             ],
             [
              1,
              "#f0f921"
             ]
            ],
            "type": "histogram2d"
           }
          ],
          "histogram2dcontour": [
           {
            "colorbar": {
             "outlinewidth": 0,
             "ticks": ""
            },
            "colorscale": [
             [
              0,
              "#0d0887"
             ],
             [
              0.1111111111111111,
              "#46039f"
             ],
             [
              0.2222222222222222,
              "#7201a8"
             ],
             [
              0.3333333333333333,
              "#9c179e"
             ],
             [
              0.4444444444444444,
              "#bd3786"
             ],
             [
              0.5555555555555556,
              "#d8576b"
             ],
             [
              0.6666666666666666,
              "#ed7953"
             ],
             [
              0.7777777777777778,
              "#fb9f3a"
             ],
             [
              0.8888888888888888,
              "#fdca26"
             ],
             [
              1,
              "#f0f921"
             ]
            ],
            "type": "histogram2dcontour"
           }
          ],
          "mesh3d": [
           {
            "colorbar": {
             "outlinewidth": 0,
             "ticks": ""
            },
            "type": "mesh3d"
           }
          ],
          "parcoords": [
           {
            "line": {
             "colorbar": {
              "outlinewidth": 0,
              "ticks": ""
             }
            },
            "type": "parcoords"
           }
          ],
          "pie": [
           {
            "automargin": true,
            "type": "pie"
           }
          ],
          "scatter": [
           {
            "marker": {
             "line": {
              "color": "#283442"
             }
            },
            "type": "scatter"
           }
          ],
          "scatter3d": [
           {
            "line": {
             "colorbar": {
              "outlinewidth": 0,
              "ticks": ""
             }
            },
            "marker": {
             "colorbar": {
              "outlinewidth": 0,
              "ticks": ""
             }
            },
            "type": "scatter3d"
           }
          ],
          "scattercarpet": [
           {
            "marker": {
             "colorbar": {
              "outlinewidth": 0,
              "ticks": ""
             }
            },
            "type": "scattercarpet"
           }
          ],
          "scattergeo": [
           {
            "marker": {
             "colorbar": {
              "outlinewidth": 0,
              "ticks": ""
             }
            },
            "type": "scattergeo"
           }
          ],
          "scattergl": [
           {
            "marker": {
             "line": {
              "color": "#283442"
             }
            },
            "type": "scattergl"
           }
          ],
          "scattermapbox": [
           {
            "marker": {
             "colorbar": {
              "outlinewidth": 0,
              "ticks": ""
             }
            },
            "type": "scattermapbox"
           }
          ],
          "scatterpolar": [
           {
            "marker": {
             "colorbar": {
              "outlinewidth": 0,
              "ticks": ""
             }
            },
            "type": "scatterpolar"
           }
          ],
          "scatterpolargl": [
           {
            "marker": {
             "colorbar": {
              "outlinewidth": 0,
              "ticks": ""
             }
            },
            "type": "scatterpolargl"
           }
          ],
          "scatterternary": [
           {
            "marker": {
             "colorbar": {
              "outlinewidth": 0,
              "ticks": ""
             }
            },
            "type": "scatterternary"
           }
          ],
          "surface": [
           {
            "colorbar": {
             "outlinewidth": 0,
             "ticks": ""
            },
            "colorscale": [
             [
              0,
              "#0d0887"
             ],
             [
              0.1111111111111111,
              "#46039f"
             ],
             [
              0.2222222222222222,
              "#7201a8"
             ],
             [
              0.3333333333333333,
              "#9c179e"
             ],
             [
              0.4444444444444444,
              "#bd3786"
             ],
             [
              0.5555555555555556,
              "#d8576b"
             ],
             [
              0.6666666666666666,
              "#ed7953"
             ],
             [
              0.7777777777777778,
              "#fb9f3a"
             ],
             [
              0.8888888888888888,
              "#fdca26"
             ],
             [
              1,
              "#f0f921"
             ]
            ],
            "type": "surface"
           }
          ],
          "table": [
           {
            "cells": {
             "fill": {
              "color": "#506784"
             },
             "line": {
              "color": "rgb(17,17,17)"
             }
            },
            "header": {
             "fill": {
              "color": "#2a3f5f"
             },
             "line": {
              "color": "rgb(17,17,17)"
             }
            },
            "type": "table"
           }
          ]
         },
         "layout": {
          "annotationdefaults": {
           "arrowcolor": "#f2f5fa",
           "arrowhead": 0,
           "arrowwidth": 1
          },
          "autotypenumbers": "strict",
          "coloraxis": {
           "colorbar": {
            "outlinewidth": 0,
            "ticks": ""
           }
          },
          "colorscale": {
           "diverging": [
            [
             0,
             "#8e0152"
            ],
            [
             0.1,
             "#c51b7d"
            ],
            [
             0.2,
             "#de77ae"
            ],
            [
             0.3,
             "#f1b6da"
            ],
            [
             0.4,
             "#fde0ef"
            ],
            [
             0.5,
             "#f7f7f7"
            ],
            [
             0.6,
             "#e6f5d0"
            ],
            [
             0.7,
             "#b8e186"
            ],
            [
             0.8,
             "#7fbc41"
            ],
            [
             0.9,
             "#4d9221"
            ],
            [
             1,
             "#276419"
            ]
           ],
           "sequential": [
            [
             0,
             "#0d0887"
            ],
            [
             0.1111111111111111,
             "#46039f"
            ],
            [
             0.2222222222222222,
             "#7201a8"
            ],
            [
             0.3333333333333333,
             "#9c179e"
            ],
            [
             0.4444444444444444,
             "#bd3786"
            ],
            [
             0.5555555555555556,
             "#d8576b"
            ],
            [
             0.6666666666666666,
             "#ed7953"
            ],
            [
             0.7777777777777778,
             "#fb9f3a"
            ],
            [
             0.8888888888888888,
             "#fdca26"
            ],
            [
             1,
             "#f0f921"
            ]
           ],
           "sequentialminus": [
            [
             0,
             "#0d0887"
            ],
            [
             0.1111111111111111,
             "#46039f"
            ],
            [
             0.2222222222222222,
             "#7201a8"
            ],
            [
             0.3333333333333333,
             "#9c179e"
            ],
            [
             0.4444444444444444,
             "#bd3786"
            ],
            [
             0.5555555555555556,
             "#d8576b"
            ],
            [
             0.6666666666666666,
             "#ed7953"
            ],
            [
             0.7777777777777778,
             "#fb9f3a"
            ],
            [
             0.8888888888888888,
             "#fdca26"
            ],
            [
             1,
             "#f0f921"
            ]
           ]
          },
          "colorway": [
           "#636efa",
           "#EF553B",
           "#00cc96",
           "#ab63fa",
           "#FFA15A",
           "#19d3f3",
           "#FF6692",
           "#B6E880",
           "#FF97FF",
           "#FECB52"
          ],
          "font": {
           "color": "#f2f5fa"
          },
          "geo": {
           "bgcolor": "rgb(17,17,17)",
           "lakecolor": "rgb(17,17,17)",
           "landcolor": "rgb(17,17,17)",
           "showlakes": true,
           "showland": true,
           "subunitcolor": "#506784"
          },
          "hoverlabel": {
           "align": "left"
          },
          "hovermode": "closest",
          "mapbox": {
           "style": "dark"
          },
          "paper_bgcolor": "rgb(17,17,17)",
          "plot_bgcolor": "rgb(17,17,17)",
          "polar": {
           "angularaxis": {
            "gridcolor": "#506784",
            "linecolor": "#506784",
            "ticks": ""
           },
           "bgcolor": "rgb(17,17,17)",
           "radialaxis": {
            "gridcolor": "#506784",
            "linecolor": "#506784",
            "ticks": ""
           }
          },
          "scene": {
           "xaxis": {
            "backgroundcolor": "rgb(17,17,17)",
            "gridcolor": "#506784",
            "gridwidth": 2,
            "linecolor": "#506784",
            "showbackground": true,
            "ticks": "",
            "zerolinecolor": "#C8D4E3"
           },
           "yaxis": {
            "backgroundcolor": "rgb(17,17,17)",
            "gridcolor": "#506784",
            "gridwidth": 2,
            "linecolor": "#506784",
            "showbackground": true,
            "ticks": "",
            "zerolinecolor": "#C8D4E3"
           },
           "zaxis": {
            "backgroundcolor": "rgb(17,17,17)",
            "gridcolor": "#506784",
            "gridwidth": 2,
            "linecolor": "#506784",
            "showbackground": true,
            "ticks": "",
            "zerolinecolor": "#C8D4E3"
           }
          },
          "shapedefaults": {
           "line": {
            "color": "#f2f5fa"
           }
          },
          "sliderdefaults": {
           "bgcolor": "#C8D4E3",
           "bordercolor": "rgb(17,17,17)",
           "borderwidth": 1,
           "tickwidth": 0
          },
          "ternary": {
           "aaxis": {
            "gridcolor": "#506784",
            "linecolor": "#506784",
            "ticks": ""
           },
           "baxis": {
            "gridcolor": "#506784",
            "linecolor": "#506784",
            "ticks": ""
           },
           "bgcolor": "rgb(17,17,17)",
           "caxis": {
            "gridcolor": "#506784",
            "linecolor": "#506784",
            "ticks": ""
           }
          },
          "title": {
           "x": 0.05
          },
          "updatemenudefaults": {
           "bgcolor": "#506784",
           "borderwidth": 0
          },
          "xaxis": {
           "automargin": true,
           "gridcolor": "#283442",
           "linecolor": "#506784",
           "ticks": "",
           "title": {
            "standoff": 15
           },
           "zerolinecolor": "#283442",
           "zerolinewidth": 2
          },
          "yaxis": {
           "automargin": true,
           "gridcolor": "#283442",
           "linecolor": "#506784",
           "ticks": "",
           "title": {
            "standoff": 15
           },
           "zerolinecolor": "#283442",
           "zerolinewidth": 2
          }
         }
        },
        "title": {
         "text": "Job title for each type of experience level"
        },
        "xaxis": {
         "tickangle": -45
        }
       }
      }
     },
     "metadata": {},
     "output_type": "display_data"
    }
   ],
   "source": [
    "job_level = df.groupby(['experience_level','job_title']).size()\n",
    "\n",
    "entry = job_level['Entry-level/Junior'].sort_values(ascending=False)\n",
    "exec = job_level['Executive-level/Director'].sort_values(ascending=False)\n",
    "mid = job_level['Mid-level/Intermediate'].sort_values(ascending=False)\n",
    "senior = job_level['Senior-level/Expert'].sort_values(ascending=False)\n",
    "\n",
    "fig = go.Figure(\n",
    "    data = [\n",
    "        go.Bar(name='Entry-level/Junior', x=entry.index, y=entry.values, text=entry.values, marker_color='Red'),\n",
    "        go.Bar(name='Executive-level/Director', x=entry.index, y=entry.values, text=entry.values, marker_color='Green'),\n",
    "        go.Bar(name='Mid-level/Intermediate', x=entry.index, y=entry.values, text=entry.values, marker_color='Blue'),\n",
    "        go.Bar(name='Senior-level/Expert', x=entry.index, y=entry.values, text=entry.values, marker_color='Yellow'),\n",
    "    ]\n",
    ")\n",
    "fig.update_layout(\n",
    "    barmode = 'stack', xaxis_tickangle = -45,\n",
    "    title = 'Job title for each type of experience level',\n",
    "    font = dict(family=\"Franklin Gothic\", size=10),\n",
    "    template='plotly_dark'\n",
    ")\n",
    "fig.show()"
   ]
  },
  {
   "cell_type": "markdown",
   "metadata": {},
   "source": [
    "#### 2.10 Company size w.r.t experience level\n",
    "\n",
    "This stacked barplot will show the distribution of the size of the comapny with respect to the experience level for each company size and show the final count."
   ]
  },
  {
   "cell_type": "code",
   "execution_count": 41,
   "metadata": {},
   "outputs": [
    {
     "data": {
      "application/vnd.plotly.v1+json": {
       "config": {
        "plotlyServerURL": "https://plot.ly"
       },
       "data": [
        {
         "marker": {
          "color": "Red"
         },
         "name": "Entry-level/Junior",
         "text": [
          30,
          29,
          29
         ],
         "type": "bar",
         "x": [
          "Medium",
          "Large",
          "Small"
         ],
         "y": [
          30,
          29,
          29
         ]
        },
        {
         "marker": {
          "color": "Green"
         },
         "name": "Executive-level/Director",
         "text": [
          30,
          29,
          29
         ],
         "type": "bar",
         "x": [
          "Medium",
          "Large",
          "Small"
         ],
         "y": [
          30,
          29,
          29
         ]
        },
        {
         "marker": {
          "color": "Blue"
         },
         "name": "Mid-level/Intermediate",
         "text": [
          30,
          29,
          29
         ],
         "type": "bar",
         "x": [
          "Medium",
          "Large",
          "Small"
         ],
         "y": [
          30,
          29,
          29
         ]
        },
        {
         "marker": {
          "color": "Yellow"
         },
         "name": "Senior-level/Expert",
         "text": [
          30,
          29,
          29
         ],
         "type": "bar",
         "x": [
          "Medium",
          "Large",
          "Small"
         ],
         "y": [
          30,
          29,
          29
         ]
        }
       ],
       "layout": {
        "barmode": "stack",
        "font": {
         "family": "Franklin Gothic",
         "size": 10
        },
        "template": {
         "data": {
          "bar": [
           {
            "error_x": {
             "color": "#f2f5fa"
            },
            "error_y": {
             "color": "#f2f5fa"
            },
            "marker": {
             "line": {
              "color": "rgb(17,17,17)",
              "width": 0.5
             },
             "pattern": {
              "fillmode": "overlay",
              "size": 10,
              "solidity": 0.2
             }
            },
            "type": "bar"
           }
          ],
          "barpolar": [
           {
            "marker": {
             "line": {
              "color": "rgb(17,17,17)",
              "width": 0.5
             },
             "pattern": {
              "fillmode": "overlay",
              "size": 10,
              "solidity": 0.2
             }
            },
            "type": "barpolar"
           }
          ],
          "carpet": [
           {
            "aaxis": {
             "endlinecolor": "#A2B1C6",
             "gridcolor": "#506784",
             "linecolor": "#506784",
             "minorgridcolor": "#506784",
             "startlinecolor": "#A2B1C6"
            },
            "baxis": {
             "endlinecolor": "#A2B1C6",
             "gridcolor": "#506784",
             "linecolor": "#506784",
             "minorgridcolor": "#506784",
             "startlinecolor": "#A2B1C6"
            },
            "type": "carpet"
           }
          ],
          "choropleth": [
           {
            "colorbar": {
             "outlinewidth": 0,
             "ticks": ""
            },
            "type": "choropleth"
           }
          ],
          "contour": [
           {
            "colorbar": {
             "outlinewidth": 0,
             "ticks": ""
            },
            "colorscale": [
             [
              0,
              "#0d0887"
             ],
             [
              0.1111111111111111,
              "#46039f"
             ],
             [
              0.2222222222222222,
              "#7201a8"
             ],
             [
              0.3333333333333333,
              "#9c179e"
             ],
             [
              0.4444444444444444,
              "#bd3786"
             ],
             [
              0.5555555555555556,
              "#d8576b"
             ],
             [
              0.6666666666666666,
              "#ed7953"
             ],
             [
              0.7777777777777778,
              "#fb9f3a"
             ],
             [
              0.8888888888888888,
              "#fdca26"
             ],
             [
              1,
              "#f0f921"
             ]
            ],
            "type": "contour"
           }
          ],
          "contourcarpet": [
           {
            "colorbar": {
             "outlinewidth": 0,
             "ticks": ""
            },
            "type": "contourcarpet"
           }
          ],
          "heatmap": [
           {
            "colorbar": {
             "outlinewidth": 0,
             "ticks": ""
            },
            "colorscale": [
             [
              0,
              "#0d0887"
             ],
             [
              0.1111111111111111,
              "#46039f"
             ],
             [
              0.2222222222222222,
              "#7201a8"
             ],
             [
              0.3333333333333333,
              "#9c179e"
             ],
             [
              0.4444444444444444,
              "#bd3786"
             ],
             [
              0.5555555555555556,
              "#d8576b"
             ],
             [
              0.6666666666666666,
              "#ed7953"
             ],
             [
              0.7777777777777778,
              "#fb9f3a"
             ],
             [
              0.8888888888888888,
              "#fdca26"
             ],
             [
              1,
              "#f0f921"
             ]
            ],
            "type": "heatmap"
           }
          ],
          "heatmapgl": [
           {
            "colorbar": {
             "outlinewidth": 0,
             "ticks": ""
            },
            "colorscale": [
             [
              0,
              "#0d0887"
             ],
             [
              0.1111111111111111,
              "#46039f"
             ],
             [
              0.2222222222222222,
              "#7201a8"
             ],
             [
              0.3333333333333333,
              "#9c179e"
             ],
             [
              0.4444444444444444,
              "#bd3786"
             ],
             [
              0.5555555555555556,
              "#d8576b"
             ],
             [
              0.6666666666666666,
              "#ed7953"
             ],
             [
              0.7777777777777778,
              "#fb9f3a"
             ],
             [
              0.8888888888888888,
              "#fdca26"
             ],
             [
              1,
              "#f0f921"
             ]
            ],
            "type": "heatmapgl"
           }
          ],
          "histogram": [
           {
            "marker": {
             "pattern": {
              "fillmode": "overlay",
              "size": 10,
              "solidity": 0.2
             }
            },
            "type": "histogram"
           }
          ],
          "histogram2d": [
           {
            "colorbar": {
             "outlinewidth": 0,
             "ticks": ""
            },
            "colorscale": [
             [
              0,
              "#0d0887"
             ],
             [
              0.1111111111111111,
              "#46039f"
             ],
             [
              0.2222222222222222,
              "#7201a8"
             ],
             [
              0.3333333333333333,
              "#9c179e"
             ],
             [
              0.4444444444444444,
              "#bd3786"
             ],
             [
              0.5555555555555556,
              "#d8576b"
             ],
             [
              0.6666666666666666,
              "#ed7953"
             ],
             [
              0.7777777777777778,
              "#fb9f3a"
             ],
             [
              0.8888888888888888,
              "#fdca26"
             ],
             [
              1,
              "#f0f921"
             ]
            ],
            "type": "histogram2d"
           }
          ],
          "histogram2dcontour": [
           {
            "colorbar": {
             "outlinewidth": 0,
             "ticks": ""
            },
            "colorscale": [
             [
              0,
              "#0d0887"
             ],
             [
              0.1111111111111111,
              "#46039f"
             ],
             [
              0.2222222222222222,
              "#7201a8"
             ],
             [
              0.3333333333333333,
              "#9c179e"
             ],
             [
              0.4444444444444444,
              "#bd3786"
             ],
             [
              0.5555555555555556,
              "#d8576b"
             ],
             [
              0.6666666666666666,
              "#ed7953"
             ],
             [
              0.7777777777777778,
              "#fb9f3a"
             ],
             [
              0.8888888888888888,
              "#fdca26"
             ],
             [
              1,
              "#f0f921"
             ]
            ],
            "type": "histogram2dcontour"
           }
          ],
          "mesh3d": [
           {
            "colorbar": {
             "outlinewidth": 0,
             "ticks": ""
            },
            "type": "mesh3d"
           }
          ],
          "parcoords": [
           {
            "line": {
             "colorbar": {
              "outlinewidth": 0,
              "ticks": ""
             }
            },
            "type": "parcoords"
           }
          ],
          "pie": [
           {
            "automargin": true,
            "type": "pie"
           }
          ],
          "scatter": [
           {
            "marker": {
             "line": {
              "color": "#283442"
             }
            },
            "type": "scatter"
           }
          ],
          "scatter3d": [
           {
            "line": {
             "colorbar": {
              "outlinewidth": 0,
              "ticks": ""
             }
            },
            "marker": {
             "colorbar": {
              "outlinewidth": 0,
              "ticks": ""
             }
            },
            "type": "scatter3d"
           }
          ],
          "scattercarpet": [
           {
            "marker": {
             "colorbar": {
              "outlinewidth": 0,
              "ticks": ""
             }
            },
            "type": "scattercarpet"
           }
          ],
          "scattergeo": [
           {
            "marker": {
             "colorbar": {
              "outlinewidth": 0,
              "ticks": ""
             }
            },
            "type": "scattergeo"
           }
          ],
          "scattergl": [
           {
            "marker": {
             "line": {
              "color": "#283442"
             }
            },
            "type": "scattergl"
           }
          ],
          "scattermapbox": [
           {
            "marker": {
             "colorbar": {
              "outlinewidth": 0,
              "ticks": ""
             }
            },
            "type": "scattermapbox"
           }
          ],
          "scatterpolar": [
           {
            "marker": {
             "colorbar": {
              "outlinewidth": 0,
              "ticks": ""
             }
            },
            "type": "scatterpolar"
           }
          ],
          "scatterpolargl": [
           {
            "marker": {
             "colorbar": {
              "outlinewidth": 0,
              "ticks": ""
             }
            },
            "type": "scatterpolargl"
           }
          ],
          "scatterternary": [
           {
            "marker": {
             "colorbar": {
              "outlinewidth": 0,
              "ticks": ""
             }
            },
            "type": "scatterternary"
           }
          ],
          "surface": [
           {
            "colorbar": {
             "outlinewidth": 0,
             "ticks": ""
            },
            "colorscale": [
             [
              0,
              "#0d0887"
             ],
             [
              0.1111111111111111,
              "#46039f"
             ],
             [
              0.2222222222222222,
              "#7201a8"
             ],
             [
              0.3333333333333333,
              "#9c179e"
             ],
             [
              0.4444444444444444,
              "#bd3786"
             ],
             [
              0.5555555555555556,
              "#d8576b"
             ],
             [
              0.6666666666666666,
              "#ed7953"
             ],
             [
              0.7777777777777778,
              "#fb9f3a"
             ],
             [
              0.8888888888888888,
              "#fdca26"
             ],
             [
              1,
              "#f0f921"
             ]
            ],
            "type": "surface"
           }
          ],
          "table": [
           {
            "cells": {
             "fill": {
              "color": "#506784"
             },
             "line": {
              "color": "rgb(17,17,17)"
             }
            },
            "header": {
             "fill": {
              "color": "#2a3f5f"
             },
             "line": {
              "color": "rgb(17,17,17)"
             }
            },
            "type": "table"
           }
          ]
         },
         "layout": {
          "annotationdefaults": {
           "arrowcolor": "#f2f5fa",
           "arrowhead": 0,
           "arrowwidth": 1
          },
          "autotypenumbers": "strict",
          "coloraxis": {
           "colorbar": {
            "outlinewidth": 0,
            "ticks": ""
           }
          },
          "colorscale": {
           "diverging": [
            [
             0,
             "#8e0152"
            ],
            [
             0.1,
             "#c51b7d"
            ],
            [
             0.2,
             "#de77ae"
            ],
            [
             0.3,
             "#f1b6da"
            ],
            [
             0.4,
             "#fde0ef"
            ],
            [
             0.5,
             "#f7f7f7"
            ],
            [
             0.6,
             "#e6f5d0"
            ],
            [
             0.7,
             "#b8e186"
            ],
            [
             0.8,
             "#7fbc41"
            ],
            [
             0.9,
             "#4d9221"
            ],
            [
             1,
             "#276419"
            ]
           ],
           "sequential": [
            [
             0,
             "#0d0887"
            ],
            [
             0.1111111111111111,
             "#46039f"
            ],
            [
             0.2222222222222222,
             "#7201a8"
            ],
            [
             0.3333333333333333,
             "#9c179e"
            ],
            [
             0.4444444444444444,
             "#bd3786"
            ],
            [
             0.5555555555555556,
             "#d8576b"
            ],
            [
             0.6666666666666666,
             "#ed7953"
            ],
            [
             0.7777777777777778,
             "#fb9f3a"
            ],
            [
             0.8888888888888888,
             "#fdca26"
            ],
            [
             1,
             "#f0f921"
            ]
           ],
           "sequentialminus": [
            [
             0,
             "#0d0887"
            ],
            [
             0.1111111111111111,
             "#46039f"
            ],
            [
             0.2222222222222222,
             "#7201a8"
            ],
            [
             0.3333333333333333,
             "#9c179e"
            ],
            [
             0.4444444444444444,
             "#bd3786"
            ],
            [
             0.5555555555555556,
             "#d8576b"
            ],
            [
             0.6666666666666666,
             "#ed7953"
            ],
            [
             0.7777777777777778,
             "#fb9f3a"
            ],
            [
             0.8888888888888888,
             "#fdca26"
            ],
            [
             1,
             "#f0f921"
            ]
           ]
          },
          "colorway": [
           "#636efa",
           "#EF553B",
           "#00cc96",
           "#ab63fa",
           "#FFA15A",
           "#19d3f3",
           "#FF6692",
           "#B6E880",
           "#FF97FF",
           "#FECB52"
          ],
          "font": {
           "color": "#f2f5fa"
          },
          "geo": {
           "bgcolor": "rgb(17,17,17)",
           "lakecolor": "rgb(17,17,17)",
           "landcolor": "rgb(17,17,17)",
           "showlakes": true,
           "showland": true,
           "subunitcolor": "#506784"
          },
          "hoverlabel": {
           "align": "left"
          },
          "hovermode": "closest",
          "mapbox": {
           "style": "dark"
          },
          "paper_bgcolor": "rgb(17,17,17)",
          "plot_bgcolor": "rgb(17,17,17)",
          "polar": {
           "angularaxis": {
            "gridcolor": "#506784",
            "linecolor": "#506784",
            "ticks": ""
           },
           "bgcolor": "rgb(17,17,17)",
           "radialaxis": {
            "gridcolor": "#506784",
            "linecolor": "#506784",
            "ticks": ""
           }
          },
          "scene": {
           "xaxis": {
            "backgroundcolor": "rgb(17,17,17)",
            "gridcolor": "#506784",
            "gridwidth": 2,
            "linecolor": "#506784",
            "showbackground": true,
            "ticks": "",
            "zerolinecolor": "#C8D4E3"
           },
           "yaxis": {
            "backgroundcolor": "rgb(17,17,17)",
            "gridcolor": "#506784",
            "gridwidth": 2,
            "linecolor": "#506784",
            "showbackground": true,
            "ticks": "",
            "zerolinecolor": "#C8D4E3"
           },
           "zaxis": {
            "backgroundcolor": "rgb(17,17,17)",
            "gridcolor": "#506784",
            "gridwidth": 2,
            "linecolor": "#506784",
            "showbackground": true,
            "ticks": "",
            "zerolinecolor": "#C8D4E3"
           }
          },
          "shapedefaults": {
           "line": {
            "color": "#f2f5fa"
           }
          },
          "sliderdefaults": {
           "bgcolor": "#C8D4E3",
           "bordercolor": "rgb(17,17,17)",
           "borderwidth": 1,
           "tickwidth": 0
          },
          "ternary": {
           "aaxis": {
            "gridcolor": "#506784",
            "linecolor": "#506784",
            "ticks": ""
           },
           "baxis": {
            "gridcolor": "#506784",
            "linecolor": "#506784",
            "ticks": ""
           },
           "bgcolor": "rgb(17,17,17)",
           "caxis": {
            "gridcolor": "#506784",
            "linecolor": "#506784",
            "ticks": ""
           }
          },
          "title": {
           "x": 0.05
          },
          "updatemenudefaults": {
           "bgcolor": "#506784",
           "borderwidth": 0
          },
          "xaxis": {
           "automargin": true,
           "gridcolor": "#283442",
           "linecolor": "#506784",
           "ticks": "",
           "title": {
            "standoff": 15
           },
           "zerolinecolor": "#283442",
           "zerolinewidth": 2
          },
          "yaxis": {
           "automargin": true,
           "gridcolor": "#283442",
           "linecolor": "#506784",
           "ticks": "",
           "title": {
            "standoff": 15
           },
           "zerolinecolor": "#283442",
           "zerolinewidth": 2
          }
         }
        },
        "title": {
         "text": "Job title for each type of experience level"
        },
        "xaxis": {
         "tickangle": -45
        }
       }
      }
     },
     "metadata": {},
     "output_type": "display_data"
    }
   ],
   "source": [
    "comp_level = df.groupby(['experience_level','company_size']).size()\n",
    "\n",
    "entry = comp_level['Entry-level/Junior'].sort_values(ascending=False)\n",
    "exec = comp_level['Executive-level/Director'].sort_values(ascending=False)\n",
    "mid = comp_level['Mid-level/Intermediate'].sort_values(ascending=False)\n",
    "senior = comp_level['Senior-level/Expert'].sort_values(ascending=False)\n",
    "\n",
    "\n",
    "fig = go.Figure(\n",
    "    data = [\n",
    "        go.Bar(name='Entry-level/Junior', x=entry.index, y=entry.values, text=entry.values, marker_color='Red'),\n",
    "        go.Bar(name='Executive-level/Director', x=entry.index, y=entry.values, text=entry.values, marker_color='Green'),\n",
    "        go.Bar(name='Mid-level/Intermediate', x=entry.index, y=entry.values, text=entry.values, marker_color='Blue'),\n",
    "        go.Bar(name='Senior-level/Expert', x=entry.index, y=entry.values, text=entry.values, marker_color='Yellow'),\n",
    "    ]\n",
    ")\n",
    "fig.update_layout(\n",
    "    barmode = 'stack', xaxis_tickangle = -45,\n",
    "    title = 'Job title for each type of experience level',\n",
    "    font = dict(family=\"Franklin Gothic\", size=10),\n",
    "    template='plotly_dark'\n",
    ")\n",
    "fig.show()"
   ]
  },
  {
   "cell_type": "markdown",
   "metadata": {},
   "source": [
    "## 3 Multi-variable analysis\n",
    "\n",
    "In this part of the project we will try to establish the corelation b/w different aspects of columns and their direct corelation with one another.\n",
    "\n",
    "#### 3.1 Finding co-relation b/w experience level, salary and company size\n",
    "\n",
    "We will try plotting boxplots and then compare from the figure to get the right analysis"
   ]
  },
  {
   "cell_type": "code",
   "execution_count": 32,
   "metadata": {},
   "outputs": [
    {
     "data": {
      "application/vnd.plotly.v1+json": {
       "config": {
        "plotlyServerURL": "https://plot.ly"
       },
       "data": [
        {
         "alignmentgroup": "True",
         "hovertemplate": "company_size=Large<br>Experience level=%{x}<br>Salary=%{y}<extra></extra>",
         "legendgroup": "Large",
         "marker": {
          "color": "#636efa"
         },
         "name": "Large",
         "notched": false,
         "offsetgroup": "Large",
         "orientation": "v",
         "showlegend": true,
         "type": "box",
         "x": [
          "Mid-level/Intermediate",
          "Senior-level/Expert",
          "Entry-level/Junior",
          "Mid-level/Intermediate",
          "Mid-level/Intermediate",
          "Mid-level/Intermediate",
          "Mid-level/Intermediate",
          "Mid-level/Intermediate",
          "Mid-level/Intermediate",
          "Mid-level/Intermediate",
          "Senior-level/Expert",
          "Mid-level/Intermediate",
          "Executive-level/Director",
          "Entry-level/Junior",
          "Entry-level/Junior",
          "Senior-level/Expert",
          "Entry-level/Junior",
          "Senior-level/Expert",
          "Mid-level/Intermediate",
          "Mid-level/Intermediate",
          "Mid-level/Intermediate",
          "Entry-level/Junior",
          "Executive-level/Director",
          "Mid-level/Intermediate",
          "Mid-level/Intermediate",
          "Senior-level/Expert",
          "Mid-level/Intermediate",
          "Mid-level/Intermediate",
          "Entry-level/Junior",
          "Entry-level/Junior",
          "Senior-level/Expert",
          "Mid-level/Intermediate",
          "Senior-level/Expert",
          "Entry-level/Junior",
          "Executive-level/Director",
          "Executive-level/Director",
          "Senior-level/Expert",
          "Mid-level/Intermediate",
          "Senior-level/Expert",
          "Mid-level/Intermediate",
          "Mid-level/Intermediate",
          "Executive-level/Director",
          "Mid-level/Intermediate",
          "Mid-level/Intermediate",
          "Senior-level/Expert",
          "Senior-level/Expert",
          "Mid-level/Intermediate",
          "Senior-level/Expert",
          "Entry-level/Junior",
          "Mid-level/Intermediate",
          "Mid-level/Intermediate",
          "Mid-level/Intermediate",
          "Senior-level/Expert",
          "Mid-level/Intermediate",
          "Mid-level/Intermediate",
          "Mid-level/Intermediate",
          "Mid-level/Intermediate",
          "Mid-level/Intermediate",
          "Entry-level/Junior",
          "Senior-level/Expert",
          "Mid-level/Intermediate",
          "Entry-level/Junior",
          "Mid-level/Intermediate",
          "Mid-level/Intermediate",
          "Entry-level/Junior",
          "Mid-level/Intermediate",
          "Senior-level/Expert",
          "Senior-level/Expert",
          "Mid-level/Intermediate",
          "Senior-level/Expert",
          "Senior-level/Expert",
          "Mid-level/Intermediate",
          "Mid-level/Intermediate",
          "Senior-level/Expert",
          "Mid-level/Intermediate",
          "Entry-level/Junior",
          "Senior-level/Expert",
          "Senior-level/Expert",
          "Mid-level/Intermediate",
          "Executive-level/Director",
          "Mid-level/Intermediate",
          "Entry-level/Junior",
          "Senior-level/Expert",
          "Entry-level/Junior",
          "Executive-level/Director",
          "Mid-level/Intermediate",
          "Mid-level/Intermediate",
          "Mid-level/Intermediate",
          "Senior-level/Expert",
          "Senior-level/Expert",
          "Senior-level/Expert",
          "Mid-level/Intermediate",
          "Mid-level/Intermediate",
          "Mid-level/Intermediate",
          "Mid-level/Intermediate",
          "Senior-level/Expert",
          "Senior-level/Expert",
          "Senior-level/Expert",
          "Senior-level/Expert",
          "Mid-level/Intermediate",
          "Senior-level/Expert",
          "Senior-level/Expert",
          "Mid-level/Intermediate",
          "Mid-level/Intermediate",
          "Senior-level/Expert",
          "Mid-level/Intermediate",
          "Senior-level/Expert",
          "Mid-level/Intermediate",
          "Entry-level/Junior",
          "Senior-level/Expert",
          "Mid-level/Intermediate",
          "Senior-level/Expert",
          "Mid-level/Intermediate",
          "Mid-level/Intermediate",
          "Mid-level/Intermediate",
          "Senior-level/Expert",
          "Mid-level/Intermediate",
          "Senior-level/Expert",
          "Entry-level/Junior",
          "Senior-level/Expert",
          "Senior-level/Expert",
          "Mid-level/Intermediate",
          "Senior-level/Expert",
          "Mid-level/Intermediate",
          "Mid-level/Intermediate",
          "Senior-level/Expert",
          "Mid-level/Intermediate",
          "Entry-level/Junior",
          "Senior-level/Expert",
          "Mid-level/Intermediate",
          "Executive-level/Director",
          "Mid-level/Intermediate",
          "Mid-level/Intermediate",
          "Senior-level/Expert",
          "Executive-level/Director",
          "Mid-level/Intermediate",
          "Senior-level/Expert",
          "Senior-level/Expert",
          "Entry-level/Junior",
          "Entry-level/Junior",
          "Entry-level/Junior",
          "Senior-level/Expert",
          "Senior-level/Expert",
          "Entry-level/Junior",
          "Mid-level/Intermediate",
          "Entry-level/Junior",
          "Mid-level/Intermediate",
          "Mid-level/Intermediate",
          "Senior-level/Expert",
          "Senior-level/Expert",
          "Mid-level/Intermediate",
          "Mid-level/Intermediate",
          "Senior-level/Expert",
          "Senior-level/Expert",
          "Senior-level/Expert",
          "Senior-level/Expert",
          "Executive-level/Director",
          "Entry-level/Junior",
          "Senior-level/Expert",
          "Senior-level/Expert",
          "Senior-level/Expert",
          "Senior-level/Expert",
          "Senior-level/Expert",
          "Senior-level/Expert",
          "Mid-level/Intermediate",
          "Mid-level/Intermediate",
          "Senior-level/Expert",
          "Senior-level/Expert",
          "Senior-level/Expert",
          "Senior-level/Expert",
          "Senior-level/Expert",
          "Entry-level/Junior",
          "Executive-level/Director",
          "Mid-level/Intermediate",
          "Mid-level/Intermediate",
          "Mid-level/Intermediate",
          "Entry-level/Junior",
          "Mid-level/Intermediate",
          "Senior-level/Expert",
          "Mid-level/Intermediate",
          "Senior-level/Expert",
          "Entry-level/Junior",
          "Senior-level/Expert",
          "Entry-level/Junior",
          "Mid-level/Intermediate",
          "Mid-level/Intermediate",
          "Mid-level/Intermediate",
          "Entry-level/Junior",
          "Mid-level/Intermediate",
          "Mid-level/Intermediate",
          "Mid-level/Intermediate",
          "Senior-level/Expert",
          "Senior-level/Expert",
          "Mid-level/Intermediate",
          "Senior-level/Expert",
          "Senior-level/Expert",
          "Senior-level/Expert",
          "Mid-level/Intermediate"
         ],
         "x0": " ",
         "xaxis": "x",
         "y": [
          79833,
          150000,
          72000,
          35735,
          135000,
          40481,
          87000,
          85000,
          8000,
          6072,
          47899,
          115000,
          325000,
          42000,
          100000,
          117104,
          70000,
          68428,
          46759,
          74130,
          103000,
          250000,
          79833,
          106000,
          112872,
          188000,
          105000,
          70139,
          91000,
          54742,
          120000,
          110000,
          412000,
          82528,
          150000,
          235000,
          53192,
          270000,
          79197,
          140000,
          54238,
          153667,
          28476,
          110000,
          170000,
          88654,
          19609,
          276000,
          29751,
          89294,
          450000,
          75000,
          150000,
          36259,
          62000,
          73000,
          51519,
          187442,
          30428,
          94564,
          45391,
          225000,
          50000,
          200000,
          110037,
          151000,
          40570,
          220000,
          135000,
          240000,
          150000,
          100000,
          90000,
          153000,
          75774,
          13400,
          144000,
          127221,
          423000,
          230000,
          28369,
          63831,
          165000,
          80000,
          250000,
          150000,
          170000,
          82528,
          235000,
          60757,
          174000,
          40038,
          22611,
          90734,
          26005,
          61896,
          152000,
          174000,
          96113,
          147000,
          24342,
          54094,
          37825,
          160000,
          200000,
          20000,
          120000,
          24823,
          5882,
          185000,
          90734,
          140000,
          46597,
          116914,
          56256,
          225000,
          88654,
          135000,
          16228,
          200000,
          200000,
          180000,
          103691,
          80000,
          110000,
          165000,
          72212,
          36643,
          96282,
          115000,
          600000,
          93000,
          200000,
          185000,
          141846,
          130000,
          63831,
          66265,
          72500,
          76833,
          58000,
          55000,
          20171,
          59102,
          112000,
          100000,
          69741,
          69999,
          94665,
          102839,
          109000,
          51064,
          180000,
          120000,
          113000,
          160000,
          79039,
          37300,
          215300,
          158200,
          209100,
          154600,
          183600,
          60000,
          160000,
          112300,
          100800,
          140400,
          215300,
          209100,
          154600,
          21983,
          196979,
          37236,
          31615,
          58255,
          100000,
          54957,
          144000,
          35590,
          93427,
          52396,
          62651,
          40000,
          87425,
          75000,
          64849,
          120000,
          157000,
          70912,
          122346,
          380000,
          405000,
          135000,
          177000,
          205300,
          140400,
          200000
         ],
         "y0": " ",
         "yaxis": "y"
        },
        {
         "alignmentgroup": "True",
         "hovertemplate": "company_size=Small<br>Experience level=%{x}<br>Salary=%{y}<extra></extra>",
         "legendgroup": "Small",
         "marker": {
          "color": "#EF553B"
         },
         "name": "Small",
         "notched": false,
         "offsetgroup": "Small",
         "orientation": "v",
         "showlegend": true,
         "type": "box",
         "x": [
          "Senior-level/Expert",
          "Mid-level/Intermediate",
          "Senior-level/Expert",
          "Senior-level/Expert",
          "Entry-level/Junior",
          "Entry-level/Junior",
          "Senior-level/Expert",
          "Senior-level/Expert",
          "Mid-level/Intermediate",
          "Entry-level/Junior",
          "Entry-level/Junior",
          "Mid-level/Intermediate",
          "Entry-level/Junior",
          "Mid-level/Intermediate",
          "Entry-level/Junior",
          "Entry-level/Junior",
          "Senior-level/Expert",
          "Entry-level/Junior",
          "Senior-level/Expert",
          "Entry-level/Junior",
          "Entry-level/Junior",
          "Entry-level/Junior",
          "Senior-level/Expert",
          "Mid-level/Intermediate",
          "Mid-level/Intermediate",
          "Mid-level/Intermediate",
          "Senior-level/Expert",
          "Entry-level/Junior",
          "Entry-level/Junior",
          "Mid-level/Intermediate",
          "Senior-level/Expert",
          "Senior-level/Expert",
          "Entry-level/Junior",
          "Senior-level/Expert",
          "Mid-level/Intermediate",
          "Entry-level/Junior",
          "Entry-level/Junior",
          "Entry-level/Junior",
          "Mid-level/Intermediate",
          "Mid-level/Intermediate",
          "Mid-level/Intermediate",
          "Senior-level/Expert",
          "Senior-level/Expert",
          "Entry-level/Junior",
          "Entry-level/Junior",
          "Entry-level/Junior",
          "Mid-level/Intermediate",
          "Entry-level/Junior",
          "Mid-level/Intermediate",
          "Executive-level/Director",
          "Senior-level/Expert",
          "Mid-level/Intermediate",
          "Mid-level/Intermediate",
          "Entry-level/Junior",
          "Entry-level/Junior",
          "Senior-level/Expert",
          "Mid-level/Intermediate",
          "Mid-level/Intermediate",
          "Mid-level/Intermediate",
          "Entry-level/Junior",
          "Executive-level/Director",
          "Senior-level/Expert",
          "Senior-level/Expert",
          "Mid-level/Intermediate",
          "Entry-level/Junior",
          "Entry-level/Junior",
          "Mid-level/Intermediate",
          "Mid-level/Intermediate",
          "Senior-level/Expert",
          "Entry-level/Junior",
          "Mid-level/Intermediate",
          "Executive-level/Director",
          "Mid-level/Intermediate",
          "Mid-level/Intermediate",
          "Senior-level/Expert",
          "Senior-level/Expert",
          "Mid-level/Intermediate",
          "Mid-level/Intermediate",
          "Entry-level/Junior",
          "Entry-level/Junior",
          "Senior-level/Expert",
          "Mid-level/Intermediate",
          "Mid-level/Intermediate"
         ],
         "x0": " ",
         "xaxis": "x",
         "y": [
          260000,
          20000,
          190000,
          125000,
          51321,
          41689,
          114047,
          33511,
          59303,
          10000,
          138000,
          45760,
          15966,
          76958,
          6072,
          45896,
          60000,
          21669,
          45618,
          62726,
          49268,
          105000,
          91237,
          62726,
          42197,
          47282,
          80000,
          76833,
          12000,
          95746,
          115000,
          103160,
          90000,
          120000,
          9466,
          20000,
          100000,
          100000,
          63711,
          77364,
          82500,
          160000,
          168000,
          125000,
          55000,
          60000,
          2859,
          81000,
          5679,
          69741,
          76833,
          74000,
          18000,
          9272,
          90000,
          50000,
          12901,
          56738,
          66022,
          28609,
          416000,
          87738,
          256000,
          110000,
          18053,
          90000,
          16904,
          25532,
          160000,
          85000,
          58000,
          118187,
          58000,
          120000,
          120000,
          65000,
          75000,
          32974,
          150000,
          65000,
          71444,
          48000,
          20000
         ],
         "y0": " ",
         "yaxis": "y"
        },
        {
         "alignmentgroup": "True",
         "hovertemplate": "company_size=Medium<br>Experience level=%{x}<br>Salary=%{y}<extra></extra>",
         "legendgroup": "Medium",
         "marker": {
          "color": "#00cc96"
         },
         "name": "Medium",
         "notched": false,
         "offsetgroup": "Medium",
         "orientation": "v",
         "showlegend": true,
         "type": "box",
         "x": [
          "Senior-level/Expert",
          "Entry-level/Junior",
          "Entry-level/Junior",
          "Mid-level/Intermediate",
          "Mid-level/Intermediate",
          "Mid-level/Intermediate",
          "Mid-level/Intermediate",
          "Mid-level/Intermediate",
          "Senior-level/Expert",
          "Mid-level/Intermediate",
          "Mid-level/Intermediate",
          "Mid-level/Intermediate",
          "Mid-level/Intermediate",
          "Senior-level/Expert",
          "Mid-level/Intermediate",
          "Mid-level/Intermediate",
          "Entry-level/Junior",
          "Entry-level/Junior",
          "Entry-level/Junior",
          "Senior-level/Expert",
          "Senior-level/Expert",
          "Entry-level/Junior",
          "Mid-level/Intermediate",
          "Mid-level/Intermediate",
          "Senior-level/Expert",
          "Entry-level/Junior",
          "Entry-level/Junior",
          "Entry-level/Junior",
          "Mid-level/Intermediate",
          "Senior-level/Expert",
          "Mid-level/Intermediate",
          "Entry-level/Junior",
          "Senior-level/Expert",
          "Mid-level/Intermediate",
          "Mid-level/Intermediate",
          "Mid-level/Intermediate",
          "Senior-level/Expert",
          "Executive-level/Director",
          "Executive-level/Director",
          "Mid-level/Intermediate",
          "Mid-level/Intermediate",
          "Senior-level/Expert",
          "Entry-level/Junior",
          "Mid-level/Intermediate",
          "Senior-level/Expert",
          "Senior-level/Expert",
          "Entry-level/Junior",
          "Mid-level/Intermediate",
          "Mid-level/Intermediate",
          "Senior-level/Expert",
          "Mid-level/Intermediate",
          "Mid-level/Intermediate",
          "Entry-level/Junior",
          "Entry-level/Junior",
          "Mid-level/Intermediate",
          "Senior-level/Expert",
          "Entry-level/Junior",
          "Senior-level/Expert",
          "Senior-level/Expert",
          "Mid-level/Intermediate",
          "Mid-level/Intermediate",
          "Mid-level/Intermediate",
          "Entry-level/Junior",
          "Senior-level/Expert",
          "Senior-level/Expert",
          "Entry-level/Junior",
          "Senior-level/Expert",
          "Senior-level/Expert",
          "Senior-level/Expert",
          "Senior-level/Expert",
          "Mid-level/Intermediate",
          "Mid-level/Intermediate",
          "Mid-level/Intermediate",
          "Mid-level/Intermediate",
          "Senior-level/Expert",
          "Senior-level/Expert",
          "Senior-level/Expert",
          "Senior-level/Expert",
          "Senior-level/Expert",
          "Senior-level/Expert",
          "Senior-level/Expert",
          "Senior-level/Expert",
          "Entry-level/Junior",
          "Senior-level/Expert",
          "Senior-level/Expert",
          "Mid-level/Intermediate",
          "Mid-level/Intermediate",
          "Executive-level/Director",
          "Executive-level/Director",
          "Mid-level/Intermediate",
          "Mid-level/Intermediate",
          "Mid-level/Intermediate",
          "Mid-level/Intermediate",
          "Senior-level/Expert",
          "Entry-level/Junior",
          "Senior-level/Expert",
          "Senior-level/Expert",
          "Senior-level/Expert",
          "Senior-level/Expert",
          "Senior-level/Expert",
          "Senior-level/Expert",
          "Senior-level/Expert",
          "Executive-level/Director",
          "Executive-level/Director",
          "Senior-level/Expert",
          "Mid-level/Intermediate",
          "Senior-level/Expert",
          "Senior-level/Expert",
          "Senior-level/Expert",
          "Senior-level/Expert",
          "Senior-level/Expert",
          "Senior-level/Expert",
          "Mid-level/Intermediate",
          "Senior-level/Expert",
          "Senior-level/Expert",
          "Senior-level/Expert",
          "Senior-level/Expert",
          "Senior-level/Expert",
          "Executive-level/Director",
          "Executive-level/Director",
          "Executive-level/Director",
          "Senior-level/Expert",
          "Senior-level/Expert",
          "Senior-level/Expert",
          "Senior-level/Expert",
          "Senior-level/Expert",
          "Senior-level/Expert",
          "Senior-level/Expert",
          "Senior-level/Expert",
          "Senior-level/Expert",
          "Senior-level/Expert",
          "Senior-level/Expert",
          "Senior-level/Expert",
          "Senior-level/Expert",
          "Senior-level/Expert",
          "Senior-level/Expert",
          "Senior-level/Expert",
          "Senior-level/Expert",
          "Senior-level/Expert",
          "Senior-level/Expert",
          "Senior-level/Expert",
          "Executive-level/Director",
          "Senior-level/Expert",
          "Senior-level/Expert",
          "Senior-level/Expert",
          "Senior-level/Expert",
          "Mid-level/Intermediate",
          "Mid-level/Intermediate",
          "Senior-level/Expert",
          "Senior-level/Expert",
          "Senior-level/Expert",
          "Senior-level/Expert",
          "Senior-level/Expert",
          "Senior-level/Expert",
          "Senior-level/Expert",
          "Senior-level/Expert",
          "Senior-level/Expert",
          "Senior-level/Expert",
          "Senior-level/Expert",
          "Mid-level/Intermediate",
          "Mid-level/Intermediate",
          "Mid-level/Intermediate",
          "Senior-level/Expert",
          "Senior-level/Expert",
          "Senior-level/Expert",
          "Senior-level/Expert",
          "Mid-level/Intermediate",
          "Mid-level/Intermediate",
          "Senior-level/Expert",
          "Senior-level/Expert",
          "Senior-level/Expert",
          "Mid-level/Intermediate",
          "Mid-level/Intermediate",
          "Senior-level/Expert",
          "Mid-level/Intermediate",
          "Mid-level/Intermediate",
          "Mid-level/Intermediate",
          "Mid-level/Intermediate",
          "Mid-level/Intermediate",
          "Mid-level/Intermediate",
          "Senior-level/Expert",
          "Mid-level/Intermediate",
          "Mid-level/Intermediate",
          "Mid-level/Intermediate",
          "Senior-level/Expert",
          "Senior-level/Expert",
          "Mid-level/Intermediate",
          "Mid-level/Intermediate",
          "Mid-level/Intermediate",
          "Mid-level/Intermediate",
          "Mid-level/Intermediate",
          "Mid-level/Intermediate",
          "Mid-level/Intermediate",
          "Mid-level/Intermediate",
          "Mid-level/Intermediate",
          "Mid-level/Intermediate",
          "Mid-level/Intermediate",
          "Senior-level/Expert",
          "Senior-level/Expert",
          "Mid-level/Intermediate",
          "Mid-level/Intermediate",
          "Mid-level/Intermediate",
          "Mid-level/Intermediate",
          "Mid-level/Intermediate",
          "Senior-level/Expert",
          "Senior-level/Expert",
          "Mid-level/Intermediate",
          "Entry-level/Junior",
          "Senior-level/Expert",
          "Senior-level/Expert",
          "Mid-level/Intermediate",
          "Entry-level/Junior",
          "Senior-level/Expert",
          "Entry-level/Junior",
          "Senior-level/Expert",
          "Senior-level/Expert",
          "Senior-level/Expert",
          "Mid-level/Intermediate",
          "Mid-level/Intermediate",
          "Senior-level/Expert",
          "Senior-level/Expert",
          "Mid-level/Intermediate",
          "Mid-level/Intermediate",
          "Senior-level/Expert",
          "Senior-level/Expert",
          "Mid-level/Intermediate",
          "Mid-level/Intermediate",
          "Executive-level/Director",
          "Executive-level/Director",
          "Senior-level/Expert",
          "Senior-level/Expert",
          "Senior-level/Expert",
          "Entry-level/Junior",
          "Mid-level/Intermediate",
          "Entry-level/Junior",
          "Senior-level/Expert",
          "Senior-level/Expert",
          "Senior-level/Expert",
          "Mid-level/Intermediate",
          "Entry-level/Junior",
          "Senior-level/Expert",
          "Senior-level/Expert",
          "Entry-level/Junior",
          "Entry-level/Junior",
          "Senior-level/Expert",
          "Mid-level/Intermediate",
          "Mid-level/Intermediate",
          "Entry-level/Junior",
          "Mid-level/Intermediate",
          "Senior-level/Expert",
          "Senior-level/Expert",
          "Senior-level/Expert",
          "Mid-level/Intermediate",
          "Mid-level/Intermediate",
          "Senior-level/Expert",
          "Senior-level/Expert",
          "Senior-level/Expert",
          "Senior-level/Expert",
          "Senior-level/Expert",
          "Senior-level/Expert",
          "Mid-level/Intermediate",
          "Mid-level/Intermediate",
          "Senior-level/Expert",
          "Senior-level/Expert",
          "Mid-level/Intermediate",
          "Mid-level/Intermediate",
          "Senior-level/Expert",
          "Senior-level/Expert",
          "Senior-level/Expert",
          "Senior-level/Expert",
          "Senior-level/Expert",
          "Senior-level/Expert",
          "Senior-level/Expert",
          "Senior-level/Expert",
          "Senior-level/Expert",
          "Senior-level/Expert",
          "Senior-level/Expert",
          "Senior-level/Expert",
          "Senior-level/Expert",
          "Senior-level/Expert",
          "Senior-level/Expert",
          "Senior-level/Expert",
          "Senior-level/Expert",
          "Senior-level/Expert",
          "Senior-level/Expert",
          "Senior-level/Expert",
          "Senior-level/Expert",
          "Mid-level/Intermediate",
          "Senior-level/Expert",
          "Senior-level/Expert",
          "Senior-level/Expert",
          "Senior-level/Expert",
          "Senior-level/Expert",
          "Senior-level/Expert",
          "Senior-level/Expert",
          "Senior-level/Expert",
          "Senior-level/Expert",
          "Senior-level/Expert",
          "Senior-level/Expert",
          "Senior-level/Expert",
          "Senior-level/Expert",
          "Senior-level/Expert",
          "Senior-level/Expert",
          "Senior-level/Expert",
          "Senior-level/Expert",
          "Senior-level/Expert",
          "Mid-level/Intermediate",
          "Senior-level/Expert",
          "Senior-level/Expert",
          "Senior-level/Expert",
          "Senior-level/Expert",
          "Senior-level/Expert",
          "Senior-level/Expert",
          "Senior-level/Expert",
          "Senior-level/Expert",
          "Senior-level/Expert",
          "Senior-level/Expert",
          "Senior-level/Expert",
          "Mid-level/Intermediate",
          "Mid-level/Intermediate",
          "Entry-level/Junior",
          "Entry-level/Junior",
          "Senior-level/Expert",
          "Senior-level/Expert",
          "Senior-level/Expert",
          "Senior-level/Expert"
         ],
         "x0": " ",
         "xaxis": "x",
         "y": [
          109024,
          39916,
          5707,
          56000,
          43331,
          98000,
          450000,
          50180,
          148261,
          38776,
          118000,
          138350,
          130800,
          190200,
          100000,
          5409,
          80000,
          59102,
          70000,
          150000,
          113476,
          12000,
          40189,
          60000,
          200000,
          50000,
          10354,
          49646,
          38400,
          24000,
          90000,
          80000,
          82744,
          62649,
          150000,
          119059,
          120000,
          85000,
          130026,
          12000,
          4000,
          50000,
          21844,
          61467,
          195000,
          165000,
          24823,
          88654,
          33808,
          71786,
          63810,
          46809,
          4000,
          21637,
          12103,
          170000,
          28399,
          99703,
          173762,
          93150,
          111775,
          28016,
          65013,
          18907,
          77684,
          100000,
          105000,
          135000,
          155000,
          120600,
          130000,
          90000,
          170000,
          150000,
          102100,
          84900,
          136620,
          99360,
          117789,
          104702,
          146000,
          123000,
          52351,
          99000,
          116000,
          106260,
          126500,
          242000,
          200000,
          65438,
          39263,
          78526,
          52351,
          165220,
          45807,
          120160,
          90320,
          181940,
          132320,
          220110,
          160080,
          124190,
          130000,
          110000,
          170000,
          115500,
          112900,
          90320,
          112900,
          90320,
          165400,
          132320,
          167000,
          243900,
          136600,
          109280,
          128875,
          93700,
          224000,
          167875,
          175000,
          156600,
          108800,
          95550,
          135000,
          161342,
          137141,
          167000,
          123000,
          78526,
          65438,
          150000,
          211500,
          192400,
          90700,
          130000,
          61300,
          130000,
          61300,
          138600,
          136000,
          135000,
          170000,
          123000,
          189650,
          164996,
          54957,
          54957,
          132000,
          165400,
          208775,
          147800,
          136994,
          101570,
          128875,
          93700,
          132320,
          164000,
          155000,
          124333,
          98158,
          120000,
          112900,
          90320,
          145000,
          105400,
          87932,
          117789,
          115934,
          81666,
          175000,
          98158,
          52351,
          180000,
          71982,
          45807,
          65949,
          49461,
          78526,
          58894,
          260000,
          63900,
          241000,
          159000,
          180000,
          80000,
          82900,
          49461,
          39263,
          43966,
          32974,
          87932,
          76940,
          104702,
          91614,
          65949,
          87932,
          189650,
          164996,
          43966,
          32974,
          98158,
          78526,
          76940,
          180000,
          80000,
          78791,
          125000,
          105000,
          87932,
          18442,
          18442,
          162674,
          120000,
          104890,
          100000,
          140000,
          135000,
          50000,
          220000,
          140000,
          183228,
          91614,
          185100,
          220000,
          200000,
          120000,
          324000,
          216000,
          210000,
          120000,
          230000,
          100000,
          100000,
          31875,
          200000,
          78791,
          100000,
          153000,
          58035,
          165000,
          115000,
          86703,
          20000,
          152500,
          68147,
          69336,
          10000,
          78000,
          135000,
          100000,
          90320,
          85000,
          75000,
          214000,
          192600,
          266400,
          213120,
          112900,
          155000,
          141300,
          102100,
          115934,
          81666,
          206699,
          99100,
          130000,
          115000,
          110500,
          130000,
          99050,
          160000,
          176000,
          144000,
          200100,
          160000,
          145000,
          70500,
          205300,
          140400,
          205300,
          184700,
          175100,
          140250,
          116150,
          54000,
          170000,
          65438,
          80000,
          140000,
          210000,
          140000,
          100000,
          69000,
          210000,
          140000,
          210000,
          150075,
          100000,
          25000,
          126500,
          106260,
          220110,
          160080,
          105000,
          110925,
          45807,
          140000,
          99000,
          60000,
          192564,
          144854,
          230000,
          150000,
          150260,
          109280,
          210000,
          170000,
          160000,
          130000,
          67000,
          52000,
          154000,
          126000,
          129000,
          150000
         ],
         "y0": " ",
         "yaxis": "y"
        }
       ],
       "layout": {
        "boxmode": "group",
        "legend": {
         "title": {
          "text": "company_size"
         },
         "tracegroupgap": 0
        },
        "template": {
         "data": {
          "bar": [
           {
            "error_x": {
             "color": "#f2f5fa"
            },
            "error_y": {
             "color": "#f2f5fa"
            },
            "marker": {
             "line": {
              "color": "rgb(17,17,17)",
              "width": 0.5
             },
             "pattern": {
              "fillmode": "overlay",
              "size": 10,
              "solidity": 0.2
             }
            },
            "type": "bar"
           }
          ],
          "barpolar": [
           {
            "marker": {
             "line": {
              "color": "rgb(17,17,17)",
              "width": 0.5
             },
             "pattern": {
              "fillmode": "overlay",
              "size": 10,
              "solidity": 0.2
             }
            },
            "type": "barpolar"
           }
          ],
          "carpet": [
           {
            "aaxis": {
             "endlinecolor": "#A2B1C6",
             "gridcolor": "#506784",
             "linecolor": "#506784",
             "minorgridcolor": "#506784",
             "startlinecolor": "#A2B1C6"
            },
            "baxis": {
             "endlinecolor": "#A2B1C6",
             "gridcolor": "#506784",
             "linecolor": "#506784",
             "minorgridcolor": "#506784",
             "startlinecolor": "#A2B1C6"
            },
            "type": "carpet"
           }
          ],
          "choropleth": [
           {
            "colorbar": {
             "outlinewidth": 0,
             "ticks": ""
            },
            "type": "choropleth"
           }
          ],
          "contour": [
           {
            "colorbar": {
             "outlinewidth": 0,
             "ticks": ""
            },
            "colorscale": [
             [
              0,
              "#0d0887"
             ],
             [
              0.1111111111111111,
              "#46039f"
             ],
             [
              0.2222222222222222,
              "#7201a8"
             ],
             [
              0.3333333333333333,
              "#9c179e"
             ],
             [
              0.4444444444444444,
              "#bd3786"
             ],
             [
              0.5555555555555556,
              "#d8576b"
             ],
             [
              0.6666666666666666,
              "#ed7953"
             ],
             [
              0.7777777777777778,
              "#fb9f3a"
             ],
             [
              0.8888888888888888,
              "#fdca26"
             ],
             [
              1,
              "#f0f921"
             ]
            ],
            "type": "contour"
           }
          ],
          "contourcarpet": [
           {
            "colorbar": {
             "outlinewidth": 0,
             "ticks": ""
            },
            "type": "contourcarpet"
           }
          ],
          "heatmap": [
           {
            "colorbar": {
             "outlinewidth": 0,
             "ticks": ""
            },
            "colorscale": [
             [
              0,
              "#0d0887"
             ],
             [
              0.1111111111111111,
              "#46039f"
             ],
             [
              0.2222222222222222,
              "#7201a8"
             ],
             [
              0.3333333333333333,
              "#9c179e"
             ],
             [
              0.4444444444444444,
              "#bd3786"
             ],
             [
              0.5555555555555556,
              "#d8576b"
             ],
             [
              0.6666666666666666,
              "#ed7953"
             ],
             [
              0.7777777777777778,
              "#fb9f3a"
             ],
             [
              0.8888888888888888,
              "#fdca26"
             ],
             [
              1,
              "#f0f921"
             ]
            ],
            "type": "heatmap"
           }
          ],
          "heatmapgl": [
           {
            "colorbar": {
             "outlinewidth": 0,
             "ticks": ""
            },
            "colorscale": [
             [
              0,
              "#0d0887"
             ],
             [
              0.1111111111111111,
              "#46039f"
             ],
             [
              0.2222222222222222,
              "#7201a8"
             ],
             [
              0.3333333333333333,
              "#9c179e"
             ],
             [
              0.4444444444444444,
              "#bd3786"
             ],
             [
              0.5555555555555556,
              "#d8576b"
             ],
             [
              0.6666666666666666,
              "#ed7953"
             ],
             [
              0.7777777777777778,
              "#fb9f3a"
             ],
             [
              0.8888888888888888,
              "#fdca26"
             ],
             [
              1,
              "#f0f921"
             ]
            ],
            "type": "heatmapgl"
           }
          ],
          "histogram": [
           {
            "marker": {
             "pattern": {
              "fillmode": "overlay",
              "size": 10,
              "solidity": 0.2
             }
            },
            "type": "histogram"
           }
          ],
          "histogram2d": [
           {
            "colorbar": {
             "outlinewidth": 0,
             "ticks": ""
            },
            "colorscale": [
             [
              0,
              "#0d0887"
             ],
             [
              0.1111111111111111,
              "#46039f"
             ],
             [
              0.2222222222222222,
              "#7201a8"
             ],
             [
              0.3333333333333333,
              "#9c179e"
             ],
             [
              0.4444444444444444,
              "#bd3786"
             ],
             [
              0.5555555555555556,
              "#d8576b"
             ],
             [
              0.6666666666666666,
              "#ed7953"
             ],
             [
              0.7777777777777778,
              "#fb9f3a"
             ],
             [
              0.8888888888888888,
              "#fdca26"
             ],
             [
              1,
              "#f0f921"
             ]
            ],
            "type": "histogram2d"
           }
          ],
          "histogram2dcontour": [
           {
            "colorbar": {
             "outlinewidth": 0,
             "ticks": ""
            },
            "colorscale": [
             [
              0,
              "#0d0887"
             ],
             [
              0.1111111111111111,
              "#46039f"
             ],
             [
              0.2222222222222222,
              "#7201a8"
             ],
             [
              0.3333333333333333,
              "#9c179e"
             ],
             [
              0.4444444444444444,
              "#bd3786"
             ],
             [
              0.5555555555555556,
              "#d8576b"
             ],
             [
              0.6666666666666666,
              "#ed7953"
             ],
             [
              0.7777777777777778,
              "#fb9f3a"
             ],
             [
              0.8888888888888888,
              "#fdca26"
             ],
             [
              1,
              "#f0f921"
             ]
            ],
            "type": "histogram2dcontour"
           }
          ],
          "mesh3d": [
           {
            "colorbar": {
             "outlinewidth": 0,
             "ticks": ""
            },
            "type": "mesh3d"
           }
          ],
          "parcoords": [
           {
            "line": {
             "colorbar": {
              "outlinewidth": 0,
              "ticks": ""
             }
            },
            "type": "parcoords"
           }
          ],
          "pie": [
           {
            "automargin": true,
            "type": "pie"
           }
          ],
          "scatter": [
           {
            "marker": {
             "line": {
              "color": "#283442"
             }
            },
            "type": "scatter"
           }
          ],
          "scatter3d": [
           {
            "line": {
             "colorbar": {
              "outlinewidth": 0,
              "ticks": ""
             }
            },
            "marker": {
             "colorbar": {
              "outlinewidth": 0,
              "ticks": ""
             }
            },
            "type": "scatter3d"
           }
          ],
          "scattercarpet": [
           {
            "marker": {
             "colorbar": {
              "outlinewidth": 0,
              "ticks": ""
             }
            },
            "type": "scattercarpet"
           }
          ],
          "scattergeo": [
           {
            "marker": {
             "colorbar": {
              "outlinewidth": 0,
              "ticks": ""
             }
            },
            "type": "scattergeo"
           }
          ],
          "scattergl": [
           {
            "marker": {
             "line": {
              "color": "#283442"
             }
            },
            "type": "scattergl"
           }
          ],
          "scattermapbox": [
           {
            "marker": {
             "colorbar": {
              "outlinewidth": 0,
              "ticks": ""
             }
            },
            "type": "scattermapbox"
           }
          ],
          "scatterpolar": [
           {
            "marker": {
             "colorbar": {
              "outlinewidth": 0,
              "ticks": ""
             }
            },
            "type": "scatterpolar"
           }
          ],
          "scatterpolargl": [
           {
            "marker": {
             "colorbar": {
              "outlinewidth": 0,
              "ticks": ""
             }
            },
            "type": "scatterpolargl"
           }
          ],
          "scatterternary": [
           {
            "marker": {
             "colorbar": {
              "outlinewidth": 0,
              "ticks": ""
             }
            },
            "type": "scatterternary"
           }
          ],
          "surface": [
           {
            "colorbar": {
             "outlinewidth": 0,
             "ticks": ""
            },
            "colorscale": [
             [
              0,
              "#0d0887"
             ],
             [
              0.1111111111111111,
              "#46039f"
             ],
             [
              0.2222222222222222,
              "#7201a8"
             ],
             [
              0.3333333333333333,
              "#9c179e"
             ],
             [
              0.4444444444444444,
              "#bd3786"
             ],
             [
              0.5555555555555556,
              "#d8576b"
             ],
             [
              0.6666666666666666,
              "#ed7953"
             ],
             [
              0.7777777777777778,
              "#fb9f3a"
             ],
             [
              0.8888888888888888,
              "#fdca26"
             ],
             [
              1,
              "#f0f921"
             ]
            ],
            "type": "surface"
           }
          ],
          "table": [
           {
            "cells": {
             "fill": {
              "color": "#506784"
             },
             "line": {
              "color": "rgb(17,17,17)"
             }
            },
            "header": {
             "fill": {
              "color": "#2a3f5f"
             },
             "line": {
              "color": "rgb(17,17,17)"
             }
            },
            "type": "table"
           }
          ]
         },
         "layout": {
          "annotationdefaults": {
           "arrowcolor": "#f2f5fa",
           "arrowhead": 0,
           "arrowwidth": 1
          },
          "autotypenumbers": "strict",
          "coloraxis": {
           "colorbar": {
            "outlinewidth": 0,
            "ticks": ""
           }
          },
          "colorscale": {
           "diverging": [
            [
             0,
             "#8e0152"
            ],
            [
             0.1,
             "#c51b7d"
            ],
            [
             0.2,
             "#de77ae"
            ],
            [
             0.3,
             "#f1b6da"
            ],
            [
             0.4,
             "#fde0ef"
            ],
            [
             0.5,
             "#f7f7f7"
            ],
            [
             0.6,
             "#e6f5d0"
            ],
            [
             0.7,
             "#b8e186"
            ],
            [
             0.8,
             "#7fbc41"
            ],
            [
             0.9,
             "#4d9221"
            ],
            [
             1,
             "#276419"
            ]
           ],
           "sequential": [
            [
             0,
             "#0d0887"
            ],
            [
             0.1111111111111111,
             "#46039f"
            ],
            [
             0.2222222222222222,
             "#7201a8"
            ],
            [
             0.3333333333333333,
             "#9c179e"
            ],
            [
             0.4444444444444444,
             "#bd3786"
            ],
            [
             0.5555555555555556,
             "#d8576b"
            ],
            [
             0.6666666666666666,
             "#ed7953"
            ],
            [
             0.7777777777777778,
             "#fb9f3a"
            ],
            [
             0.8888888888888888,
             "#fdca26"
            ],
            [
             1,
             "#f0f921"
            ]
           ],
           "sequentialminus": [
            [
             0,
             "#0d0887"
            ],
            [
             0.1111111111111111,
             "#46039f"
            ],
            [
             0.2222222222222222,
             "#7201a8"
            ],
            [
             0.3333333333333333,
             "#9c179e"
            ],
            [
             0.4444444444444444,
             "#bd3786"
            ],
            [
             0.5555555555555556,
             "#d8576b"
            ],
            [
             0.6666666666666666,
             "#ed7953"
            ],
            [
             0.7777777777777778,
             "#fb9f3a"
            ],
            [
             0.8888888888888888,
             "#fdca26"
            ],
            [
             1,
             "#f0f921"
            ]
           ]
          },
          "colorway": [
           "#636efa",
           "#EF553B",
           "#00cc96",
           "#ab63fa",
           "#FFA15A",
           "#19d3f3",
           "#FF6692",
           "#B6E880",
           "#FF97FF",
           "#FECB52"
          ],
          "font": {
           "color": "#f2f5fa"
          },
          "geo": {
           "bgcolor": "rgb(17,17,17)",
           "lakecolor": "rgb(17,17,17)",
           "landcolor": "rgb(17,17,17)",
           "showlakes": true,
           "showland": true,
           "subunitcolor": "#506784"
          },
          "hoverlabel": {
           "align": "left"
          },
          "hovermode": "closest",
          "mapbox": {
           "style": "dark"
          },
          "paper_bgcolor": "rgb(17,17,17)",
          "plot_bgcolor": "rgb(17,17,17)",
          "polar": {
           "angularaxis": {
            "gridcolor": "#506784",
            "linecolor": "#506784",
            "ticks": ""
           },
           "bgcolor": "rgb(17,17,17)",
           "radialaxis": {
            "gridcolor": "#506784",
            "linecolor": "#506784",
            "ticks": ""
           }
          },
          "scene": {
           "xaxis": {
            "backgroundcolor": "rgb(17,17,17)",
            "gridcolor": "#506784",
            "gridwidth": 2,
            "linecolor": "#506784",
            "showbackground": true,
            "ticks": "",
            "zerolinecolor": "#C8D4E3"
           },
           "yaxis": {
            "backgroundcolor": "rgb(17,17,17)",
            "gridcolor": "#506784",
            "gridwidth": 2,
            "linecolor": "#506784",
            "showbackground": true,
            "ticks": "",
            "zerolinecolor": "#C8D4E3"
           },
           "zaxis": {
            "backgroundcolor": "rgb(17,17,17)",
            "gridcolor": "#506784",
            "gridwidth": 2,
            "linecolor": "#506784",
            "showbackground": true,
            "ticks": "",
            "zerolinecolor": "#C8D4E3"
           }
          },
          "shapedefaults": {
           "line": {
            "color": "#f2f5fa"
           }
          },
          "sliderdefaults": {
           "bgcolor": "#C8D4E3",
           "bordercolor": "rgb(17,17,17)",
           "borderwidth": 1,
           "tickwidth": 0
          },
          "ternary": {
           "aaxis": {
            "gridcolor": "#506784",
            "linecolor": "#506784",
            "ticks": ""
           },
           "baxis": {
            "gridcolor": "#506784",
            "linecolor": "#506784",
            "ticks": ""
           },
           "bgcolor": "rgb(17,17,17)",
           "caxis": {
            "gridcolor": "#506784",
            "linecolor": "#506784",
            "ticks": ""
           }
          },
          "title": {
           "x": 0.05
          },
          "updatemenudefaults": {
           "bgcolor": "#506784",
           "borderwidth": 0
          },
          "xaxis": {
           "automargin": true,
           "gridcolor": "#283442",
           "linecolor": "#506784",
           "ticks": "",
           "title": {
            "standoff": 15
           },
           "zerolinecolor": "#283442",
           "zerolinewidth": 2
          },
          "yaxis": {
           "automargin": true,
           "gridcolor": "#283442",
           "linecolor": "#506784",
           "ticks": "",
           "title": {
            "standoff": 15
           },
           "zerolinecolor": "#283442",
           "zerolinewidth": 2
          }
         }
        },
        "title": {
         "text": "Co-relation b/w experience Level, salary, and company Size"
        },
        "xaxis": {
         "anchor": "y",
         "categoryarray": [
          "Entry-level/Junior",
          "Mid-level/Intermediate",
          "Senior-level/Expert",
          "Executive-level/Director"
         ],
         "categoryorder": "array",
         "domain": [
          0,
          1
         ],
         "title": {
          "text": "Experience level"
         }
        },
        "yaxis": {
         "anchor": "x",
         "domain": [
          0,
          1
         ],
         "title": {
          "text": "Salary"
         }
        }
       }
      }
     },
     "metadata": {},
     "output_type": "display_data"
    }
   ],
   "source": [
    "exp_list = ['Entry-level/Junior','Mid-level/Intermediate','Senior-level/Expert','Executive-level/Director']\n",
    "fig = px.box(df, \n",
    "             x='experience_level', \n",
    "             y='salary_in_usd', \n",
    "             category_orders={\"experience_level\": exp_list},\n",
    "             color='company_size',\n",
    "             title='Co-relation b/w experience Level, salary, and company Size',\n",
    "             labels={'experience_level': 'Experience level', 'salary_in_usd': 'Salary'},\n",
    "             template='plotly_dark'\n",
    "            )\n",
    "fig.show()"
   ]
  },
  {
   "cell_type": "markdown",
   "metadata": {},
   "source": [
    "#### 3.2 Finding co-relation b/w remote ratio, salary and employment type\n",
    "\n",
    "We will try plotting boxplots and then compare from the figure to get the right analysis"
   ]
  },
  {
   "cell_type": "code",
   "execution_count": 33,
   "metadata": {},
   "outputs": [
    {
     "data": {
      "application/vnd.plotly.v1+json": {
       "config": {
        "plotlyServerURL": "https://plot.ly"
       },
       "data": [
        {
         "alignmentgroup": "True",
         "hovertemplate": "employment_type=Full Time<br>Employment Type=%{x}<br>Salary=%{y}<extra></extra>",
         "legendgroup": "Full Time",
         "marker": {
          "color": "#636efa"
         },
         "name": "Full Time",
         "notched": false,
         "offsetgroup": "Full Time",
         "orientation": "v",
         "showlegend": true,
         "type": "box",
         "x": [
          "On-site",
          "On-site",
          "Partially Remote",
          "On-site",
          "Partially Remote",
          "Fully Remote",
          "Fully Remote",
          "Partially Remote",
          "Fully Remote",
          "Partially Remote",
          "On-site",
          "On-site",
          "On-site",
          "Fully Remote",
          "Fully Remote",
          "Partially Remote",
          "Fully Remote",
          "Fully Remote",
          "Partially Remote",
          "Fully Remote",
          "On-site",
          "Fully Remote",
          "Partially Remote",
          "On-site",
          "On-site",
          "Fully Remote",
          "Partially Remote",
          "On-site",
          "Partially Remote",
          "Fully Remote",
          "Fully Remote",
          "Fully Remote",
          "On-site",
          "Partially Remote",
          "Partially Remote",
          "Fully Remote",
          "Partially Remote",
          "Fully Remote",
          "Fully Remote",
          "Fully Remote",
          "Partially Remote",
          "On-site",
          "Fully Remote",
          "Partially Remote",
          "Fully Remote",
          "Fully Remote",
          "Fully Remote",
          "Partially Remote",
          "On-site",
          "Fully Remote",
          "Partially Remote",
          "Fully Remote",
          "Fully Remote",
          "Fully Remote",
          "Fully Remote",
          "Partially Remote",
          "Fully Remote",
          "Fully Remote",
          "Fully Remote",
          "Fully Remote",
          "Fully Remote",
          "Partially Remote",
          "On-site",
          "Fully Remote",
          "Fully Remote",
          "On-site",
          "Partially Remote",
          "Partially Remote",
          "Partially Remote",
          "Fully Remote",
          "Fully Remote",
          "Partially Remote",
          "Fully Remote",
          "Fully Remote",
          "Fully Remote",
          "Fully Remote",
          "Partially Remote",
          "Fully Remote",
          "Fully Remote",
          "Fully Remote",
          "Partially Remote",
          "Fully Remote",
          "Fully Remote",
          "Fully Remote",
          "Fully Remote",
          "Fully Remote",
          "Fully Remote",
          "On-site",
          "Partially Remote",
          "Partially Remote",
          "Fully Remote",
          "Fully Remote",
          "Fully Remote",
          "On-site",
          "Fully Remote",
          "Partially Remote",
          "On-site",
          "On-site",
          "Partially Remote",
          "Fully Remote",
          "Fully Remote",
          "Fully Remote",
          "Fully Remote",
          "Partially Remote",
          "Fully Remote",
          "Fully Remote",
          "Fully Remote",
          "Fully Remote",
          "Fully Remote",
          "Fully Remote",
          "Fully Remote",
          "Fully Remote",
          "Partially Remote",
          "Fully Remote",
          "Fully Remote",
          "On-site",
          "Fully Remote",
          "Partially Remote",
          "On-site",
          "Fully Remote",
          "Partially Remote",
          "Partially Remote",
          "Partially Remote",
          "Fully Remote",
          "Fully Remote",
          "On-site",
          "Fully Remote",
          "Partially Remote",
          "Partially Remote",
          "On-site",
          "Fully Remote",
          "Fully Remote",
          "On-site",
          "On-site",
          "Fully Remote",
          "Fully Remote",
          "Partially Remote",
          "Partially Remote",
          "Fully Remote",
          "Fully Remote",
          "Fully Remote",
          "On-site",
          "Fully Remote",
          "Fully Remote",
          "Fully Remote",
          "Fully Remote",
          "Partially Remote",
          "Fully Remote",
          "Partially Remote",
          "Fully Remote",
          "Fully Remote",
          "Partially Remote",
          "On-site",
          "Partially Remote",
          "Partially Remote",
          "Partially Remote",
          "Fully Remote",
          "Fully Remote",
          "On-site",
          "Partially Remote",
          "Fully Remote",
          "Fully Remote",
          "Fully Remote",
          "Fully Remote",
          "Fully Remote",
          "Partially Remote",
          "Fully Remote",
          "On-site",
          "Fully Remote",
          "Partially Remote",
          "Fully Remote",
          "On-site",
          "Partially Remote",
          "On-site",
          "Partially Remote",
          "Fully Remote",
          "Fully Remote",
          "Fully Remote",
          "Partially Remote",
          "Partially Remote",
          "Fully Remote",
          "Partially Remote",
          "On-site",
          "Fully Remote",
          "Partially Remote",
          "Partially Remote",
          "Fully Remote",
          "Fully Remote",
          "Partially Remote",
          "Fully Remote",
          "Partially Remote",
          "Fully Remote",
          "Fully Remote",
          "Fully Remote",
          "Fully Remote",
          "On-site",
          "Fully Remote",
          "On-site",
          "On-site",
          "Partially Remote",
          "Partially Remote",
          "Partially Remote",
          "On-site",
          "Partially Remote",
          "Fully Remote",
          "Partially Remote",
          "Fully Remote",
          "Fully Remote",
          "Fully Remote",
          "Partially Remote",
          "On-site",
          "Partially Remote",
          "Fully Remote",
          "Fully Remote",
          "Partially Remote",
          "On-site",
          "Fully Remote",
          "Fully Remote",
          "Fully Remote",
          "Fully Remote",
          "Fully Remote",
          "Fully Remote",
          "On-site",
          "Fully Remote",
          "Fully Remote",
          "On-site",
          "Partially Remote",
          "Fully Remote",
          "Fully Remote",
          "Fully Remote",
          "Fully Remote",
          "Fully Remote",
          "Partially Remote",
          "Partially Remote",
          "On-site",
          "Partially Remote",
          "Fully Remote",
          "Partially Remote",
          "Fully Remote",
          "Fully Remote",
          "Fully Remote",
          "Fully Remote",
          "Partially Remote",
          "Fully Remote",
          "Fully Remote",
          "Partially Remote",
          "On-site",
          "Partially Remote",
          "Partially Remote",
          "Fully Remote",
          "On-site",
          "Fully Remote",
          "Partially Remote",
          "On-site",
          "On-site",
          "Fully Remote",
          "Partially Remote",
          "Fully Remote",
          "On-site",
          "On-site",
          "Fully Remote",
          "Partially Remote",
          "Fully Remote",
          "Partially Remote",
          "Fully Remote",
          "Partially Remote",
          "Fully Remote",
          "Fully Remote",
          "On-site",
          "Partially Remote",
          "Partially Remote",
          "Fully Remote",
          "Partially Remote",
          "Partially Remote",
          "Fully Remote",
          "Fully Remote",
          "Fully Remote",
          "On-site",
          "On-site",
          "Fully Remote",
          "Fully Remote",
          "Fully Remote",
          "Fully Remote",
          "Fully Remote",
          "Fully Remote",
          "On-site",
          "On-site",
          "Fully Remote",
          "Fully Remote",
          "Fully Remote",
          "On-site",
          "On-site",
          "On-site",
          "On-site",
          "Fully Remote",
          "Fully Remote",
          "On-site",
          "On-site",
          "On-site",
          "On-site",
          "Fully Remote",
          "Fully Remote",
          "Fully Remote",
          "Fully Remote",
          "On-site",
          "On-site",
          "On-site",
          "On-site",
          "On-site",
          "On-site",
          "Fully Remote",
          "Fully Remote",
          "Fully Remote",
          "Fully Remote",
          "Fully Remote",
          "Fully Remote",
          "Fully Remote",
          "Fully Remote",
          "Fully Remote",
          "Fully Remote",
          "Fully Remote",
          "Fully Remote",
          "Fully Remote",
          "Fully Remote",
          "Fully Remote",
          "Fully Remote",
          "Fully Remote",
          "Fully Remote",
          "Fully Remote",
          "Fully Remote",
          "Fully Remote",
          "On-site",
          "On-site",
          "On-site",
          "Fully Remote",
          "Fully Remote",
          "Fully Remote",
          "Fully Remote",
          "Fully Remote",
          "On-site",
          "On-site",
          "On-site",
          "Fully Remote",
          "Fully Remote",
          "Fully Remote",
          "Fully Remote",
          "Fully Remote",
          "Fully Remote",
          "Fully Remote",
          "On-site",
          "Fully Remote",
          "On-site",
          "On-site",
          "Fully Remote",
          "Fully Remote",
          "Fully Remote",
          "On-site",
          "On-site",
          "On-site",
          "On-site",
          "Fully Remote",
          "On-site",
          "Fully Remote",
          "Fully Remote",
          "Fully Remote",
          "Fully Remote",
          "Fully Remote",
          "Fully Remote",
          "Fully Remote",
          "Partially Remote",
          "Fully Remote",
          "Fully Remote",
          "On-site",
          "Fully Remote",
          "On-site",
          "On-site",
          "On-site",
          "Fully Remote",
          "Fully Remote",
          "Fully Remote",
          "Fully Remote",
          "Fully Remote",
          "On-site",
          "Fully Remote",
          "Fully Remote",
          "Fully Remote",
          "Fully Remote",
          "On-site",
          "On-site",
          "Fully Remote",
          "On-site",
          "On-site",
          "Fully Remote",
          "Fully Remote",
          "Fully Remote",
          "On-site",
          "On-site",
          "Fully Remote",
          "Fully Remote",
          "Fully Remote",
          "Fully Remote",
          "Fully Remote",
          "Fully Remote",
          "On-site",
          "Fully Remote",
          "Fully Remote",
          "Fully Remote",
          "Fully Remote",
          "On-site",
          "On-site",
          "On-site",
          "Fully Remote",
          "Fully Remote",
          "On-site",
          "Fully Remote",
          "Fully Remote",
          "Fully Remote",
          "Fully Remote",
          "Fully Remote",
          "Fully Remote",
          "Fully Remote",
          "Fully Remote",
          "Fully Remote",
          "On-site",
          "On-site",
          "Fully Remote",
          "Fully Remote",
          "Fully Remote",
          "Fully Remote",
          "On-site",
          "Fully Remote",
          "Fully Remote",
          "Fully Remote",
          "Fully Remote",
          "Fully Remote",
          "Fully Remote",
          "Fully Remote",
          "Partially Remote",
          "Fully Remote",
          "On-site",
          "Partially Remote",
          "Fully Remote",
          "On-site",
          "Fully Remote",
          "Fully Remote",
          "Partially Remote",
          "Partially Remote",
          "Fully Remote",
          "Fully Remote",
          "Fully Remote",
          "Partially Remote",
          "Fully Remote",
          "Fully Remote",
          "Fully Remote",
          "Fully Remote",
          "Fully Remote",
          "Fully Remote",
          "Fully Remote",
          "On-site",
          "On-site",
          "Fully Remote",
          "Fully Remote",
          "Fully Remote",
          "Fully Remote",
          "Fully Remote",
          "Fully Remote",
          "Fully Remote",
          "Fully Remote",
          "Fully Remote",
          "Fully Remote",
          "Fully Remote",
          "Fully Remote",
          "Fully Remote",
          "Fully Remote",
          "Fully Remote",
          "Fully Remote",
          "Partially Remote",
          "Fully Remote",
          "Fully Remote",
          "Partially Remote",
          "Fully Remote",
          "Fully Remote",
          "Fully Remote",
          "Fully Remote",
          "Fully Remote",
          "Fully Remote",
          "Partially Remote",
          "Fully Remote",
          "On-site",
          "Fully Remote",
          "Fully Remote",
          "Fully Remote",
          "Partially Remote",
          "Fully Remote",
          "Fully Remote",
          "On-site",
          "Fully Remote",
          "Fully Remote",
          "Fully Remote",
          "On-site",
          "Fully Remote",
          "Fully Remote",
          "Fully Remote",
          "Fully Remote",
          "Fully Remote",
          "Fully Remote",
          "Fully Remote",
          "Fully Remote",
          "Fully Remote",
          "Fully Remote",
          "Fully Remote",
          "On-site",
          "On-site",
          "Fully Remote",
          "Fully Remote",
          "Fully Remote",
          "Fully Remote",
          "Fully Remote",
          "Fully Remote",
          "On-site",
          "On-site",
          "Fully Remote",
          "Fully Remote",
          "On-site",
          "On-site",
          "Fully Remote",
          "Fully Remote",
          "Fully Remote",
          "Fully Remote",
          "Fully Remote",
          "Fully Remote",
          "On-site",
          "On-site",
          "Fully Remote",
          "Fully Remote",
          "Fully Remote",
          "Fully Remote",
          "Fully Remote",
          "On-site",
          "On-site",
          "On-site",
          "On-site",
          "On-site",
          "Fully Remote",
          "Fully Remote",
          "Fully Remote",
          "On-site",
          "Fully Remote",
          "On-site",
          "Fully Remote",
          "Fully Remote",
          "Fully Remote",
          "Fully Remote",
          "Fully Remote",
          "Fully Remote",
          "Fully Remote",
          "Fully Remote",
          "Fully Remote",
          "Fully Remote",
          "Fully Remote",
          "Fully Remote",
          "Fully Remote",
          "Fully Remote",
          "Fully Remote",
          "Fully Remote",
          "Fully Remote",
          "Fully Remote",
          "On-site",
          "Fully Remote",
          "On-site",
          "Fully Remote",
          "Fully Remote",
          "Fully Remote",
          "Fully Remote",
          "Fully Remote",
          "Fully Remote",
          "Fully Remote",
          "Fully Remote",
          "Fully Remote",
          "Fully Remote",
          "Fully Remote",
          "On-site",
          "On-site",
          "Fully Remote",
          "Fully Remote",
          "On-site",
          "Fully Remote",
          "Fully Remote"
         ],
         "x0": " ",
         "xaxis": "x",
         "y": [
          79833,
          260000,
          109024,
          20000,
          150000,
          72000,
          190000,
          35735,
          135000,
          125000,
          51321,
          40481,
          39916,
          87000,
          85000,
          8000,
          41689,
          114047,
          5707,
          56000,
          43331,
          6072,
          47899,
          98000,
          115000,
          325000,
          42000,
          33511,
          117104,
          59303,
          70000,
          68428,
          450000,
          46759,
          74130,
          103000,
          250000,
          10000,
          138000,
          45760,
          79833,
          50180,
          106000,
          112872,
          76958,
          188000,
          105000,
          70139,
          6072,
          91000,
          45896,
          54742,
          148261,
          38776,
          118000,
          120000,
          138350,
          110000,
          130800,
          412000,
          45618,
          62726,
          49268,
          190200,
          105000,
          91237,
          62726,
          42197,
          82528,
          150000,
          235000,
          53192,
          100000,
          80000,
          79197,
          140000,
          54238,
          47282,
          153667,
          28476,
          59102,
          110000,
          170000,
          80000,
          88654,
          76833,
          19609,
          276000,
          29751,
          89294,
          450000,
          70000,
          95746,
          75000,
          150000,
          36259,
          62000,
          73000,
          51519,
          187442,
          115000,
          150000,
          30428,
          94564,
          113476,
          103160,
          45391,
          225000,
          50000,
          40189,
          90000,
          200000,
          60000,
          200000,
          50000,
          110037,
          151000,
          120000,
          9466,
          20000,
          40570,
          100000,
          49646,
          38400,
          24000,
          100000,
          90000,
          63711,
          77364,
          220000,
          80000,
          135000,
          240000,
          150000,
          82500,
          100000,
          82744,
          62649,
          90000,
          153000,
          160000,
          168000,
          150000,
          75774,
          13400,
          144000,
          127221,
          119059,
          423000,
          120000,
          125000,
          230000,
          85000,
          28369,
          63831,
          130026,
          165000,
          80000,
          250000,
          55000,
          150000,
          170000,
          82528,
          60000,
          235000,
          60757,
          174000,
          2859,
          40038,
          81000,
          5679,
          22611,
          90734,
          26005,
          61896,
          4000,
          50000,
          69741,
          76833,
          74000,
          152000,
          21844,
          18000,
          174000,
          96113,
          147000,
          9272,
          24342,
          54094,
          90000,
          61467,
          195000,
          37825,
          50000,
          160000,
          12901,
          200000,
          165000,
          120000,
          24823,
          56738,
          66022,
          5882,
          24823,
          185000,
          90734,
          88654,
          140000,
          46597,
          116914,
          33808,
          56256,
          225000,
          87738,
          88654,
          135000,
          71786,
          16228,
          256000,
          200000,
          200000,
          180000,
          110000,
          63810,
          46809,
          4000,
          21637,
          103691,
          80000,
          110000,
          165000,
          18053,
          72212,
          36643,
          12103,
          96282,
          170000,
          115000,
          90000,
          600000,
          28399,
          93000,
          99703,
          200000,
          173762,
          185000,
          141846,
          130000,
          63831,
          16904,
          66265,
          25532,
          160000,
          93150,
          111775,
          28016,
          65013,
          72500,
          18907,
          76833,
          85000,
          77684,
          100000,
          58000,
          55000,
          20171,
          59102,
          112000,
          100000,
          69999,
          94665,
          102839,
          109000,
          51064,
          135000,
          155000,
          120600,
          130000,
          90000,
          170000,
          150000,
          102100,
          84900,
          136620,
          99360,
          117789,
          104702,
          146000,
          123000,
          52351,
          99000,
          116000,
          106260,
          126500,
          242000,
          200000,
          65438,
          39263,
          78526,
          52351,
          165220,
          45807,
          120160,
          90320,
          181940,
          132320,
          220110,
          160080,
          180000,
          120000,
          124190,
          130000,
          110000,
          170000,
          115500,
          112900,
          90320,
          112900,
          90320,
          165400,
          132320,
          167000,
          243900,
          136600,
          109280,
          128875,
          93700,
          224000,
          167875,
          175000,
          156600,
          108800,
          95550,
          113000,
          135000,
          161342,
          137141,
          167000,
          123000,
          78526,
          65438,
          150000,
          211500,
          192400,
          90700,
          130000,
          61300,
          130000,
          61300,
          160000,
          138600,
          136000,
          58000,
          135000,
          170000,
          123000,
          189650,
          164996,
          54957,
          54957,
          118187,
          132000,
          165400,
          208775,
          147800,
          136994,
          101570,
          128875,
          93700,
          79039,
          132320,
          37300,
          164000,
          155000,
          124333,
          98158,
          120000,
          112900,
          90320,
          145000,
          105400,
          87932,
          117789,
          215300,
          158200,
          209100,
          154600,
          115934,
          81666,
          175000,
          98158,
          58000,
          183600,
          52351,
          180000,
          71982,
          45807,
          65949,
          49461,
          78526,
          58894,
          260000,
          60000,
          63900,
          160000,
          112300,
          241000,
          159000,
          180000,
          80000,
          82900,
          100800,
          49461,
          140400,
          39263,
          43966,
          32974,
          87932,
          76940,
          104702,
          91614,
          65949,
          87932,
          189650,
          164996,
          43966,
          32974,
          98158,
          78526,
          215300,
          76940,
          209100,
          154600,
          180000,
          21983,
          80000,
          78791,
          196979,
          120000,
          125000,
          37236,
          105000,
          87932,
          18442,
          31615,
          58255,
          100000,
          18442,
          162674,
          120000,
          144000,
          104890,
          100000,
          140000,
          135000,
          50000,
          220000,
          140000,
          183228,
          91614,
          185100,
          220000,
          200000,
          120000,
          120000,
          65000,
          324000,
          216000,
          210000,
          120000,
          230000,
          200000,
          75000,
          35590,
          78791,
          100000,
          153000,
          58035,
          165000,
          93427,
          52396,
          62651,
          32974,
          40000,
          87425,
          115000,
          86703,
          75000,
          64849,
          120000,
          157000,
          150000,
          70912,
          65000,
          71444,
          20000,
          48000,
          152500,
          68147,
          122346,
          380000,
          69336,
          10000,
          20000,
          405000,
          135000,
          177000,
          78000,
          135000,
          100000,
          90320,
          85000,
          75000,
          214000,
          192600,
          266400,
          213120,
          112900,
          155000,
          141300,
          102100,
          115934,
          81666,
          206699,
          99100,
          130000,
          115000,
          110500,
          130000,
          99050,
          160000,
          205300,
          140400,
          176000,
          144000,
          200100,
          160000,
          145000,
          70500,
          205300,
          140400,
          205300,
          184700,
          175100,
          140250,
          116150,
          54000,
          170000,
          65438,
          80000,
          140000,
          210000,
          140000,
          100000,
          69000,
          210000,
          140000,
          210000,
          150075,
          100000,
          25000,
          126500,
          106260,
          220110,
          160080,
          105000,
          110925,
          45807,
          140000,
          99000,
          60000,
          192564,
          144854,
          230000,
          150000,
          150260,
          109280,
          210000,
          170000,
          160000,
          130000,
          67000,
          52000,
          154000,
          126000,
          129000,
          150000,
          200000
         ],
         "y0": " ",
         "yaxis": "y"
        },
        {
         "alignmentgroup": "True",
         "hovertemplate": "employment_type=Contract<br>Employment Type=%{x}<br>Salary=%{y}<extra></extra>",
         "legendgroup": "Contract",
         "marker": {
          "color": "#EF553B"
         },
         "name": "Contract",
         "notched": false,
         "offsetgroup": "Contract",
         "orientation": "v",
         "showlegend": true,
         "type": "box",
         "x": [
          "Fully Remote",
          "Fully Remote",
          "Fully Remote",
          "Fully Remote",
          "Fully Remote"
         ],
         "x0": " ",
         "xaxis": "x",
         "y": [
          100000,
          270000,
          416000,
          105000,
          31875
         ],
         "y0": " ",
         "yaxis": "y"
        },
        {
         "alignmentgroup": "True",
         "hovertemplate": "employment_type=Part Time<br>Employment Type=%{x}<br>Salary=%{y}<extra></extra>",
         "legendgroup": "Part Time",
         "marker": {
          "color": "#00cc96"
         },
         "name": "Part Time",
         "notched": false,
         "offsetgroup": "Part Time",
         "orientation": "v",
         "showlegend": true,
         "type": "box",
         "x": [
          "Fully Remote",
          "Partially Remote",
          "Partially Remote",
          "Fully Remote",
          "Fully Remote",
          "Partially Remote",
          "Partially Remote",
          "Fully Remote",
          "Partially Remote",
          "Partially Remote"
         ],
         "x0": " ",
         "xaxis": "x",
         "y": [
          15966,
          21669,
          5409,
          12000,
          12000,
          10354,
          28609,
          69741,
          54957,
          100000
         ],
         "y0": " ",
         "yaxis": "y"
        },
        {
         "alignmentgroup": "True",
         "hovertemplate": "employment_type=Freelance<br>Employment Type=%{x}<br>Salary=%{y}<extra></extra>",
         "legendgroup": "Freelance",
         "marker": {
          "color": "#ab63fa"
         },
         "name": "Freelance",
         "notched": false,
         "offsetgroup": "Freelance",
         "orientation": "v",
         "showlegend": true,
         "type": "box",
         "x": [
          "Fully Remote",
          "Partially Remote",
          "On-site",
          "Fully Remote"
         ],
         "x0": " ",
         "xaxis": "x",
         "y": [
          60000,
          12000,
          20000,
          100000
         ],
         "y0": " ",
         "yaxis": "y"
        }
       ],
       "layout": {
        "boxmode": "group",
        "legend": {
         "title": {
          "text": "employment_type"
         },
         "tracegroupgap": 0
        },
        "template": {
         "data": {
          "bar": [
           {
            "error_x": {
             "color": "#f2f5fa"
            },
            "error_y": {
             "color": "#f2f5fa"
            },
            "marker": {
             "line": {
              "color": "rgb(17,17,17)",
              "width": 0.5
             },
             "pattern": {
              "fillmode": "overlay",
              "size": 10,
              "solidity": 0.2
             }
            },
            "type": "bar"
           }
          ],
          "barpolar": [
           {
            "marker": {
             "line": {
              "color": "rgb(17,17,17)",
              "width": 0.5
             },
             "pattern": {
              "fillmode": "overlay",
              "size": 10,
              "solidity": 0.2
             }
            },
            "type": "barpolar"
           }
          ],
          "carpet": [
           {
            "aaxis": {
             "endlinecolor": "#A2B1C6",
             "gridcolor": "#506784",
             "linecolor": "#506784",
             "minorgridcolor": "#506784",
             "startlinecolor": "#A2B1C6"
            },
            "baxis": {
             "endlinecolor": "#A2B1C6",
             "gridcolor": "#506784",
             "linecolor": "#506784",
             "minorgridcolor": "#506784",
             "startlinecolor": "#A2B1C6"
            },
            "type": "carpet"
           }
          ],
          "choropleth": [
           {
            "colorbar": {
             "outlinewidth": 0,
             "ticks": ""
            },
            "type": "choropleth"
           }
          ],
          "contour": [
           {
            "colorbar": {
             "outlinewidth": 0,
             "ticks": ""
            },
            "colorscale": [
             [
              0,
              "#0d0887"
             ],
             [
              0.1111111111111111,
              "#46039f"
             ],
             [
              0.2222222222222222,
              "#7201a8"
             ],
             [
              0.3333333333333333,
              "#9c179e"
             ],
             [
              0.4444444444444444,
              "#bd3786"
             ],
             [
              0.5555555555555556,
              "#d8576b"
             ],
             [
              0.6666666666666666,
              "#ed7953"
             ],
             [
              0.7777777777777778,
              "#fb9f3a"
             ],
             [
              0.8888888888888888,
              "#fdca26"
             ],
             [
              1,
              "#f0f921"
             ]
            ],
            "type": "contour"
           }
          ],
          "contourcarpet": [
           {
            "colorbar": {
             "outlinewidth": 0,
             "ticks": ""
            },
            "type": "contourcarpet"
           }
          ],
          "heatmap": [
           {
            "colorbar": {
             "outlinewidth": 0,
             "ticks": ""
            },
            "colorscale": [
             [
              0,
              "#0d0887"
             ],
             [
              0.1111111111111111,
              "#46039f"
             ],
             [
              0.2222222222222222,
              "#7201a8"
             ],
             [
              0.3333333333333333,
              "#9c179e"
             ],
             [
              0.4444444444444444,
              "#bd3786"
             ],
             [
              0.5555555555555556,
              "#d8576b"
             ],
             [
              0.6666666666666666,
              "#ed7953"
             ],
             [
              0.7777777777777778,
              "#fb9f3a"
             ],
             [
              0.8888888888888888,
              "#fdca26"
             ],
             [
              1,
              "#f0f921"
             ]
            ],
            "type": "heatmap"
           }
          ],
          "heatmapgl": [
           {
            "colorbar": {
             "outlinewidth": 0,
             "ticks": ""
            },
            "colorscale": [
             [
              0,
              "#0d0887"
             ],
             [
              0.1111111111111111,
              "#46039f"
             ],
             [
              0.2222222222222222,
              "#7201a8"
             ],
             [
              0.3333333333333333,
              "#9c179e"
             ],
             [
              0.4444444444444444,
              "#bd3786"
             ],
             [
              0.5555555555555556,
              "#d8576b"
             ],
             [
              0.6666666666666666,
              "#ed7953"
             ],
             [
              0.7777777777777778,
              "#fb9f3a"
             ],
             [
              0.8888888888888888,
              "#fdca26"
             ],
             [
              1,
              "#f0f921"
             ]
            ],
            "type": "heatmapgl"
           }
          ],
          "histogram": [
           {
            "marker": {
             "pattern": {
              "fillmode": "overlay",
              "size": 10,
              "solidity": 0.2
             }
            },
            "type": "histogram"
           }
          ],
          "histogram2d": [
           {
            "colorbar": {
             "outlinewidth": 0,
             "ticks": ""
            },
            "colorscale": [
             [
              0,
              "#0d0887"
             ],
             [
              0.1111111111111111,
              "#46039f"
             ],
             [
              0.2222222222222222,
              "#7201a8"
             ],
             [
              0.3333333333333333,
              "#9c179e"
             ],
             [
              0.4444444444444444,
              "#bd3786"
             ],
             [
              0.5555555555555556,
              "#d8576b"
             ],
             [
              0.6666666666666666,
              "#ed7953"
             ],
             [
              0.7777777777777778,
              "#fb9f3a"
             ],
             [
              0.8888888888888888,
              "#fdca26"
             ],
             [
              1,
              "#f0f921"
             ]
            ],
            "type": "histogram2d"
           }
          ],
          "histogram2dcontour": [
           {
            "colorbar": {
             "outlinewidth": 0,
             "ticks": ""
            },
            "colorscale": [
             [
              0,
              "#0d0887"
             ],
             [
              0.1111111111111111,
              "#46039f"
             ],
             [
              0.2222222222222222,
              "#7201a8"
             ],
             [
              0.3333333333333333,
              "#9c179e"
             ],
             [
              0.4444444444444444,
              "#bd3786"
             ],
             [
              0.5555555555555556,
              "#d8576b"
             ],
             [
              0.6666666666666666,
              "#ed7953"
             ],
             [
              0.7777777777777778,
              "#fb9f3a"
             ],
             [
              0.8888888888888888,
              "#fdca26"
             ],
             [
              1,
              "#f0f921"
             ]
            ],
            "type": "histogram2dcontour"
           }
          ],
          "mesh3d": [
           {
            "colorbar": {
             "outlinewidth": 0,
             "ticks": ""
            },
            "type": "mesh3d"
           }
          ],
          "parcoords": [
           {
            "line": {
             "colorbar": {
              "outlinewidth": 0,
              "ticks": ""
             }
            },
            "type": "parcoords"
           }
          ],
          "pie": [
           {
            "automargin": true,
            "type": "pie"
           }
          ],
          "scatter": [
           {
            "marker": {
             "line": {
              "color": "#283442"
             }
            },
            "type": "scatter"
           }
          ],
          "scatter3d": [
           {
            "line": {
             "colorbar": {
              "outlinewidth": 0,
              "ticks": ""
             }
            },
            "marker": {
             "colorbar": {
              "outlinewidth": 0,
              "ticks": ""
             }
            },
            "type": "scatter3d"
           }
          ],
          "scattercarpet": [
           {
            "marker": {
             "colorbar": {
              "outlinewidth": 0,
              "ticks": ""
             }
            },
            "type": "scattercarpet"
           }
          ],
          "scattergeo": [
           {
            "marker": {
             "colorbar": {
              "outlinewidth": 0,
              "ticks": ""
             }
            },
            "type": "scattergeo"
           }
          ],
          "scattergl": [
           {
            "marker": {
             "line": {
              "color": "#283442"
             }
            },
            "type": "scattergl"
           }
          ],
          "scattermapbox": [
           {
            "marker": {
             "colorbar": {
              "outlinewidth": 0,
              "ticks": ""
             }
            },
            "type": "scattermapbox"
           }
          ],
          "scatterpolar": [
           {
            "marker": {
             "colorbar": {
              "outlinewidth": 0,
              "ticks": ""
             }
            },
            "type": "scatterpolar"
           }
          ],
          "scatterpolargl": [
           {
            "marker": {
             "colorbar": {
              "outlinewidth": 0,
              "ticks": ""
             }
            },
            "type": "scatterpolargl"
           }
          ],
          "scatterternary": [
           {
            "marker": {
             "colorbar": {
              "outlinewidth": 0,
              "ticks": ""
             }
            },
            "type": "scatterternary"
           }
          ],
          "surface": [
           {
            "colorbar": {
             "outlinewidth": 0,
             "ticks": ""
            },
            "colorscale": [
             [
              0,
              "#0d0887"
             ],
             [
              0.1111111111111111,
              "#46039f"
             ],
             [
              0.2222222222222222,
              "#7201a8"
             ],
             [
              0.3333333333333333,
              "#9c179e"
             ],
             [
              0.4444444444444444,
              "#bd3786"
             ],
             [
              0.5555555555555556,
              "#d8576b"
             ],
             [
              0.6666666666666666,
              "#ed7953"
             ],
             [
              0.7777777777777778,
              "#fb9f3a"
             ],
             [
              0.8888888888888888,
              "#fdca26"
             ],
             [
              1,
              "#f0f921"
             ]
            ],
            "type": "surface"
           }
          ],
          "table": [
           {
            "cells": {
             "fill": {
              "color": "#506784"
             },
             "line": {
              "color": "rgb(17,17,17)"
             }
            },
            "header": {
             "fill": {
              "color": "#2a3f5f"
             },
             "line": {
              "color": "rgb(17,17,17)"
             }
            },
            "type": "table"
           }
          ]
         },
         "layout": {
          "annotationdefaults": {
           "arrowcolor": "#f2f5fa",
           "arrowhead": 0,
           "arrowwidth": 1
          },
          "autotypenumbers": "strict",
          "coloraxis": {
           "colorbar": {
            "outlinewidth": 0,
            "ticks": ""
           }
          },
          "colorscale": {
           "diverging": [
            [
             0,
             "#8e0152"
            ],
            [
             0.1,
             "#c51b7d"
            ],
            [
             0.2,
             "#de77ae"
            ],
            [
             0.3,
             "#f1b6da"
            ],
            [
             0.4,
             "#fde0ef"
            ],
            [
             0.5,
             "#f7f7f7"
            ],
            [
             0.6,
             "#e6f5d0"
            ],
            [
             0.7,
             "#b8e186"
            ],
            [
             0.8,
             "#7fbc41"
            ],
            [
             0.9,
             "#4d9221"
            ],
            [
             1,
             "#276419"
            ]
           ],
           "sequential": [
            [
             0,
             "#0d0887"
            ],
            [
             0.1111111111111111,
             "#46039f"
            ],
            [
             0.2222222222222222,
             "#7201a8"
            ],
            [
             0.3333333333333333,
             "#9c179e"
            ],
            [
             0.4444444444444444,
             "#bd3786"
            ],
            [
             0.5555555555555556,
             "#d8576b"
            ],
            [
             0.6666666666666666,
             "#ed7953"
            ],
            [
             0.7777777777777778,
             "#fb9f3a"
            ],
            [
             0.8888888888888888,
             "#fdca26"
            ],
            [
             1,
             "#f0f921"
            ]
           ],
           "sequentialminus": [
            [
             0,
             "#0d0887"
            ],
            [
             0.1111111111111111,
             "#46039f"
            ],
            [
             0.2222222222222222,
             "#7201a8"
            ],
            [
             0.3333333333333333,
             "#9c179e"
            ],
            [
             0.4444444444444444,
             "#bd3786"
            ],
            [
             0.5555555555555556,
             "#d8576b"
            ],
            [
             0.6666666666666666,
             "#ed7953"
            ],
            [
             0.7777777777777778,
             "#fb9f3a"
            ],
            [
             0.8888888888888888,
             "#fdca26"
            ],
            [
             1,
             "#f0f921"
            ]
           ]
          },
          "colorway": [
           "#636efa",
           "#EF553B",
           "#00cc96",
           "#ab63fa",
           "#FFA15A",
           "#19d3f3",
           "#FF6692",
           "#B6E880",
           "#FF97FF",
           "#FECB52"
          ],
          "font": {
           "color": "#f2f5fa"
          },
          "geo": {
           "bgcolor": "rgb(17,17,17)",
           "lakecolor": "rgb(17,17,17)",
           "landcolor": "rgb(17,17,17)",
           "showlakes": true,
           "showland": true,
           "subunitcolor": "#506784"
          },
          "hoverlabel": {
           "align": "left"
          },
          "hovermode": "closest",
          "mapbox": {
           "style": "dark"
          },
          "paper_bgcolor": "rgb(17,17,17)",
          "plot_bgcolor": "rgb(17,17,17)",
          "polar": {
           "angularaxis": {
            "gridcolor": "#506784",
            "linecolor": "#506784",
            "ticks": ""
           },
           "bgcolor": "rgb(17,17,17)",
           "radialaxis": {
            "gridcolor": "#506784",
            "linecolor": "#506784",
            "ticks": ""
           }
          },
          "scene": {
           "xaxis": {
            "backgroundcolor": "rgb(17,17,17)",
            "gridcolor": "#506784",
            "gridwidth": 2,
            "linecolor": "#506784",
            "showbackground": true,
            "ticks": "",
            "zerolinecolor": "#C8D4E3"
           },
           "yaxis": {
            "backgroundcolor": "rgb(17,17,17)",
            "gridcolor": "#506784",
            "gridwidth": 2,
            "linecolor": "#506784",
            "showbackground": true,
            "ticks": "",
            "zerolinecolor": "#C8D4E3"
           },
           "zaxis": {
            "backgroundcolor": "rgb(17,17,17)",
            "gridcolor": "#506784",
            "gridwidth": 2,
            "linecolor": "#506784",
            "showbackground": true,
            "ticks": "",
            "zerolinecolor": "#C8D4E3"
           }
          },
          "shapedefaults": {
           "line": {
            "color": "#f2f5fa"
           }
          },
          "sliderdefaults": {
           "bgcolor": "#C8D4E3",
           "bordercolor": "rgb(17,17,17)",
           "borderwidth": 1,
           "tickwidth": 0
          },
          "ternary": {
           "aaxis": {
            "gridcolor": "#506784",
            "linecolor": "#506784",
            "ticks": ""
           },
           "baxis": {
            "gridcolor": "#506784",
            "linecolor": "#506784",
            "ticks": ""
           },
           "bgcolor": "rgb(17,17,17)",
           "caxis": {
            "gridcolor": "#506784",
            "linecolor": "#506784",
            "ticks": ""
           }
          },
          "title": {
           "x": 0.05
          },
          "updatemenudefaults": {
           "bgcolor": "#506784",
           "borderwidth": 0
          },
          "xaxis": {
           "automargin": true,
           "gridcolor": "#283442",
           "linecolor": "#506784",
           "ticks": "",
           "title": {
            "standoff": 15
           },
           "zerolinecolor": "#283442",
           "zerolinewidth": 2
          },
          "yaxis": {
           "automargin": true,
           "gridcolor": "#283442",
           "linecolor": "#506784",
           "ticks": "",
           "title": {
            "standoff": 15
           },
           "zerolinecolor": "#283442",
           "zerolinewidth": 2
          }
         }
        },
        "title": {
         "text": "Co-relation b/w remote ratio, salary, and employment type"
        },
        "xaxis": {
         "anchor": "y",
         "domain": [
          0,
          1
         ],
         "title": {
          "text": "Employment Type"
         }
        },
        "yaxis": {
         "anchor": "x",
         "domain": [
          0,
          1
         ],
         "title": {
          "text": "Salary"
         }
        }
       }
      }
     },
     "metadata": {},
     "output_type": "display_data"
    }
   ],
   "source": [
    "fig = px.box(df, \n",
    "             x='remote_ratio', \n",
    "             y='salary_in_usd', \n",
    "             color='employment_type',\n",
    "             title='Co-relation b/w remote ratio, salary, and employment type',\n",
    "             labels={'remote_ratio': 'Employment Type', 'salary_in_usd': 'Salary'},\n",
    "             template='plotly_dark'\n",
    "            )\n",
    "fig.show()"
   ]
  },
  {
   "cell_type": "markdown",
   "metadata": {},
   "source": [
    "#### 3.3 Finding co-relation b/w experience level, salary and job title on a year basis\n",
    "\n",
    "We will make a scatterplot and then analyze the figure to find the co-relation."
   ]
  },
  {
   "cell_type": "code",
   "execution_count": 47,
   "metadata": {},
   "outputs": [
    {
     "data": {
      "application/vnd.plotly.v1+json": {
       "config": {
        "plotlyServerURL": "https://plot.ly"
       },
       "data": [
        {
         "hovertemplate": "<b>%{hovertext}</b><br><br>job_title=Data Scientist<br>work_year=2020<br>salary_in_usd=%{marker.size}<br>experience_level=%{y}<extra></extra>",
         "hovertext": [
          "Data Scientist",
          "Data Scientist",
          "Data Scientist",
          "Data Scientist",
          "Data Scientist",
          "Data Scientist",
          "Data Scientist",
          "Data Scientist",
          "Data Scientist",
          "Data Scientist",
          "Data Scientist",
          "Data Scientist",
          "Data Scientist",
          "Data Scientist",
          "Data Scientist",
          "Data Scientist",
          "Data Scientist",
          "Data Scientist",
          "Data Scientist",
          "Data Scientist",
          "Data Scientist"
         ],
         "legendgroup": "Data Scientist",
         "marker": {
          "color": "rgb(75, 41, 145)",
          "size": [
           79833,
           35735,
           51321,
           40481,
           39916,
           68428,
           45760,
           76958,
           105000,
           38776,
           118000,
           120000,
           138350,
           21669,
           412000,
           62726,
           49268,
           105000,
           91237,
           62726,
           42197
          ],
          "sizemode": "area",
          "sizeref": 1500,
          "symbol": "circle"
         },
         "mode": "markers",
         "name": "Data Scientist",
         "orientation": "h",
         "showlegend": true,
         "type": "scatter",
         "x": [
          79833,
          35735,
          51321,
          40481,
          39916,
          68428,
          45760,
          76958,
          105000,
          38776,
          118000,
          120000,
          138350,
          21669,
          412000,
          62726,
          49268,
          105000,
          91237,
          62726,
          42197
         ],
         "xaxis": "x",
         "y": [
          "Mid-level/Intermediate",
          "Mid-level/Intermediate",
          "Entry-level/Junior",
          "Mid-level/Intermediate",
          "Entry-level/Junior",
          "Senior-level/Expert",
          "Mid-level/Intermediate",
          "Mid-level/Intermediate",
          "Mid-level/Intermediate",
          "Mid-level/Intermediate",
          "Mid-level/Intermediate",
          "Senior-level/Expert",
          "Mid-level/Intermediate",
          "Entry-level/Junior",
          "Senior-level/Expert",
          "Entry-level/Junior",
          "Entry-level/Junior",
          "Entry-level/Junior",
          "Senior-level/Expert",
          "Mid-level/Intermediate",
          "Mid-level/Intermediate"
         ],
         "yaxis": "y"
        },
        {
         "hovertemplate": "<b>%{hovertext}</b><br><br>job_title=Machine Learning Scientist<br>work_year=2020<br>salary_in_usd=%{marker.size}<br>experience_level=%{y}<extra></extra>",
         "hovertext": [
          "Machine Learning Scientist"
         ],
         "legendgroup": "Machine Learning Scientist",
         "marker": {
          "color": "rgb(135, 44, 162)",
          "size": [
           260000
          ],
          "sizemode": "area",
          "sizeref": 1500,
          "symbol": "circle"
         },
         "mode": "markers",
         "name": "Machine Learning Scientist",
         "orientation": "h",
         "showlegend": true,
         "type": "scatter",
         "x": [
          260000
         ],
         "xaxis": "x",
         "y": [
          "Senior-level/Expert"
         ],
         "yaxis": "y"
        },
        {
         "hovertemplate": "<b>%{hovertext}</b><br><br>job_title=Big Data Engineer<br>work_year=2020<br>salary_in_usd=%{marker.size}<br>experience_level=%{y}<extra></extra>",
         "hovertext": [
          "Big Data Engineer",
          "Big Data Engineer",
          "Big Data Engineer"
         ],
         "legendgroup": "Big Data Engineer",
         "marker": {
          "color": "rgb(192, 54, 157)",
          "size": [
           109024,
           114047,
           70000
          ],
          "sizemode": "area",
          "sizeref": 1500,
          "symbol": "circle"
         },
         "mode": "markers",
         "name": "Big Data Engineer",
         "orientation": "h",
         "showlegend": true,
         "type": "scatter",
         "x": [
          109024,
          114047,
          70000
         ],
         "xaxis": "x",
         "y": [
          "Senior-level/Expert",
          "Senior-level/Expert",
          "Entry-level/Junior"
         ],
         "yaxis": "y"
        },
        {
         "hovertemplate": "<b>%{hovertext}</b><br><br>job_title=Product Data Analyst<br>work_year=2020<br>salary_in_usd=%{marker.size}<br>experience_level=%{y}<extra></extra>",
         "hovertext": [
          "Product Data Analyst",
          "Product Data Analyst"
         ],
         "legendgroup": "Product Data Analyst",
         "marker": {
          "color": "rgb(234, 79, 136)",
          "size": [
           20000,
           6072
          ],
          "sizemode": "area",
          "sizeref": 1500,
          "symbol": "circle"
         },
         "mode": "markers",
         "name": "Product Data Analyst",
         "orientation": "h",
         "showlegend": true,
         "type": "scatter",
         "x": [
          20000,
          6072
         ],
         "xaxis": "x",
         "y": [
          "Mid-level/Intermediate",
          "Mid-level/Intermediate"
         ],
         "yaxis": "y"
        },
        {
         "hovertemplate": "<b>%{hovertext}</b><br><br>job_title=Machine Learning Engineer<br>work_year=2020<br>salary_in_usd=%{marker.size}<br>experience_level=%{y}<extra></extra>",
         "hovertext": [
          "Machine Learning Engineer",
          "Machine Learning Engineer",
          "Machine Learning Engineer",
          "Machine Learning Engineer",
          "Machine Learning Engineer"
         ],
         "legendgroup": "Machine Learning Engineer",
         "marker": {
          "color": "rgb(250, 120, 118)",
          "size": [
           150000,
           43331,
           250000,
           138000,
           45618
          ],
          "sizemode": "area",
          "sizeref": 1500,
          "symbol": "circle"
         },
         "mode": "markers",
         "name": "Machine Learning Engineer",
         "orientation": "h",
         "showlegend": true,
         "type": "scatter",
         "x": [
          150000,
          43331,
          250000,
          138000,
          45618
         ],
         "xaxis": "x",
         "y": [
          "Senior-level/Expert",
          "Mid-level/Intermediate",
          "Entry-level/Junior",
          "Entry-level/Junior",
          "Senior-level/Expert"
         ],
         "yaxis": "y"
        },
        {
         "hovertemplate": "<b>%{hovertext}</b><br><br>job_title=Data Analyst<br>work_year=2020<br>salary_in_usd=%{marker.size}<br>experience_level=%{y}<extra></extra>",
         "hovertext": [
          "Data Analyst",
          "Data Analyst",
          "Data Analyst",
          "Data Analyst",
          "Data Analyst",
          "Data Analyst",
          "Data Analyst"
         ],
         "legendgroup": "Data Analyst",
         "marker": {
          "color": "rgb(246, 169, 122)",
          "size": [
           72000,
           85000,
           8000,
           46759,
           10000,
           6072,
           91000
          ],
          "sizemode": "area",
          "sizeref": 1500,
          "symbol": "circle"
         },
         "mode": "markers",
         "name": "Data Analyst",
         "orientation": "h",
         "showlegend": true,
         "type": "scatter",
         "x": [
          72000,
          85000,
          8000,
          46759,
          10000,
          6072,
          91000
         ],
         "xaxis": "x",
         "y": [
          "Entry-level/Junior",
          "Mid-level/Intermediate",
          "Mid-level/Intermediate",
          "Mid-level/Intermediate",
          "Entry-level/Junior",
          "Entry-level/Junior",
          "Entry-level/Junior"
         ],
         "yaxis": "y"
        },
        {
         "hovertemplate": "<b>%{hovertext}</b><br><br>job_title=Lead Data Scientist<br>work_year=2020<br>salary_in_usd=%{marker.size}<br>experience_level=%{y}<extra></extra>",
         "hovertext": [
          "Lead Data Scientist",
          "Lead Data Scientist"
         ],
         "legendgroup": "Lead Data Scientist",
         "marker": {
          "color": "rgb(237, 217, 163)",
          "size": [
           190000,
           115000
          ],
          "sizemode": "area",
          "sizeref": 1500,
          "symbol": "circle"
         },
         "mode": "markers",
         "name": "Lead Data Scientist",
         "orientation": "h",
         "showlegend": true,
         "type": "scatter",
         "x": [
          190000,
          115000
         ],
         "xaxis": "x",
         "y": [
          "Senior-level/Expert",
          "Mid-level/Intermediate"
         ],
         "yaxis": "y"
        },
        {
         "hovertemplate": "<b>%{hovertext}</b><br><br>job_title=Business Data Analyst<br>work_year=2020<br>salary_in_usd=%{marker.size}<br>experience_level=%{y}<extra></extra>",
         "hovertext": [
          "Business Data Analyst",
          "Business Data Analyst"
         ],
         "legendgroup": "Business Data Analyst",
         "marker": {
          "color": "rgb(75, 41, 145)",
          "size": [
           135000,
           100000
          ],
          "sizemode": "area",
          "sizeref": 1500,
          "symbol": "circle"
         },
         "mode": "markers",
         "name": "Business Data Analyst",
         "orientation": "h",
         "showlegend": true,
         "type": "scatter",
         "x": [
          135000,
          100000
         ],
         "xaxis": "x",
         "y": [
          "Mid-level/Intermediate",
          "Entry-level/Junior"
         ],
         "yaxis": "y"
        },
        {
         "hovertemplate": "<b>%{hovertext}</b><br><br>job_title=Lead Data Engineer<br>work_year=2020<br>salary_in_usd=%{marker.size}<br>experience_level=%{y}<extra></extra>",
         "hovertext": [
          "Lead Data Engineer",
          "Lead Data Engineer"
         ],
         "legendgroup": "Lead Data Engineer",
         "marker": {
          "color": "rgb(135, 44, 162)",
          "size": [
           125000,
           56000
          ],
          "sizemode": "area",
          "sizeref": 1500,
          "symbol": "circle"
         },
         "mode": "markers",
         "name": "Lead Data Engineer",
         "orientation": "h",
         "showlegend": true,
         "type": "scatter",
         "x": [
          125000,
          56000
         ],
         "xaxis": "x",
         "y": [
          "Senior-level/Expert",
          "Mid-level/Intermediate"
         ],
         "yaxis": "y"
        },
        {
         "hovertemplate": "<b>%{hovertext}</b><br><br>job_title=Lead Data Analyst<br>work_year=2020<br>salary_in_usd=%{marker.size}<br>experience_level=%{y}<extra></extra>",
         "hovertext": [
          "Lead Data Analyst"
         ],
         "legendgroup": "Lead Data Analyst",
         "marker": {
          "color": "rgb(192, 54, 157)",
          "size": [
           87000
          ],
          "sizemode": "area",
          "sizeref": 1500,
          "symbol": "circle"
         },
         "mode": "markers",
         "name": "Lead Data Analyst",
         "orientation": "h",
         "showlegend": true,
         "type": "scatter",
         "x": [
          87000
         ],
         "xaxis": "x",
         "y": [
          "Mid-level/Intermediate"
         ],
         "yaxis": "y"
        },
        {
         "hovertemplate": "<b>%{hovertext}</b><br><br>job_title=Data Engineer<br>work_year=2020<br>salary_in_usd=%{marker.size}<br>experience_level=%{y}<extra></extra>",
         "hovertext": [
          "Data Engineer",
          "Data Engineer",
          "Data Engineer",
          "Data Engineer",
          "Data Engineer",
          "Data Engineer",
          "Data Engineer",
          "Data Engineer",
          "Data Engineer",
          "Data Engineer",
          "Data Engineer"
         ],
         "legendgroup": "Data Engineer",
         "marker": {
          "color": "rgb(234, 79, 136)",
          "size": [
           41689,
           47899,
           33511,
           74130,
           106000,
           112872,
           188000,
           70139,
           54742,
           110000,
           130800
          ],
          "sizemode": "area",
          "sizeref": 1500,
          "symbol": "circle"
         },
         "mode": "markers",
         "name": "Data Engineer",
         "orientation": "h",
         "showlegend": true,
         "type": "scatter",
         "x": [
          41689,
          47899,
          33511,
          74130,
          106000,
          112872,
          188000,
          70139,
          54742,
          110000,
          130800
         ],
         "xaxis": "x",
         "y": [
          "Entry-level/Junior",
          "Senior-level/Expert",
          "Senior-level/Expert",
          "Mid-level/Intermediate",
          "Mid-level/Intermediate",
          "Mid-level/Intermediate",
          "Senior-level/Expert",
          "Mid-level/Intermediate",
          "Entry-level/Junior",
          "Mid-level/Intermediate",
          "Mid-level/Intermediate"
         ],
         "yaxis": "y"
        },
        {
         "hovertemplate": "<b>%{hovertext}</b><br><br>job_title=Data Science Consultant<br>work_year=2020<br>salary_in_usd=%{marker.size}<br>experience_level=%{y}<extra></extra>",
         "hovertext": [
          "Data Science Consultant",
          "Data Science Consultant"
         ],
         "legendgroup": "Data Science Consultant",
         "marker": {
          "color": "rgb(250, 120, 118)",
          "size": [
           5707,
           103000
          ],
          "sizemode": "area",
          "sizeref": 1500,
          "symbol": "circle"
         },
         "mode": "markers",
         "name": "Data Science Consultant",
         "orientation": "h",
         "showlegend": true,
         "type": "scatter",
         "x": [
          5707,
          103000
         ],
         "xaxis": "x",
         "y": [
          "Entry-level/Junior",
          "Mid-level/Intermediate"
         ],
         "yaxis": "y"
        },
        {
         "hovertemplate": "<b>%{hovertext}</b><br><br>job_title=BI Data Analyst<br>work_year=2020<br>salary_in_usd=%{marker.size}<br>experience_level=%{y}<extra></extra>",
         "hovertext": [
          "BI Data Analyst"
         ],
         "legendgroup": "BI Data Analyst",
         "marker": {
          "color": "rgb(246, 169, 122)",
          "size": [
           98000
          ],
          "sizemode": "area",
          "sizeref": 1500,
          "symbol": "circle"
         },
         "mode": "markers",
         "name": "BI Data Analyst",
         "orientation": "h",
         "showlegend": true,
         "type": "scatter",
         "x": [
          98000
         ],
         "xaxis": "x",
         "y": [
          "Mid-level/Intermediate"
         ],
         "yaxis": "y"
        },
        {
         "hovertemplate": "<b>%{hovertext}</b><br><br>job_title=Director of Data Science<br>work_year=2020<br>salary_in_usd=%{marker.size}<br>experience_level=%{y}<extra></extra>",
         "hovertext": [
          "Director of Data Science"
         ],
         "legendgroup": "Director of Data Science",
         "marker": {
          "color": "rgb(237, 217, 163)",
          "size": [
           325000
          ],
          "sizemode": "area",
          "sizeref": 1500,
          "symbol": "circle"
         },
         "mode": "markers",
         "name": "Director of Data Science",
         "orientation": "h",
         "showlegend": true,
         "type": "scatter",
         "x": [
          325000
         ],
         "xaxis": "x",
         "y": [
          "Executive-level/Director"
         ],
         "yaxis": "y"
        },
        {
         "hovertemplate": "<b>%{hovertext}</b><br><br>job_title=Research Scientist<br>work_year=2020<br>salary_in_usd=%{marker.size}<br>experience_level=%{y}<extra></extra>",
         "hovertext": [
          "Research Scientist",
          "Research Scientist"
         ],
         "legendgroup": "Research Scientist",
         "marker": {
          "color": "rgb(75, 41, 145)",
          "size": [
           42000,
           450000
          ],
          "sizemode": "area",
          "sizeref": 1500,
          "symbol": "circle"
         },
         "mode": "markers",
         "name": "Research Scientist",
         "orientation": "h",
         "showlegend": true,
         "type": "scatter",
         "x": [
          42000,
          450000
         ],
         "xaxis": "x",
         "y": [
          "Entry-level/Junior",
          "Mid-level/Intermediate"
         ],
         "yaxis": "y"
        },
        {
         "hovertemplate": "<b>%{hovertext}</b><br><br>job_title=Machine Learning Manager<br>work_year=2020<br>salary_in_usd=%{marker.size}<br>experience_level=%{y}<extra></extra>",
         "hovertext": [
          "Machine Learning Manager"
         ],
         "legendgroup": "Machine Learning Manager",
         "marker": {
          "color": "rgb(135, 44, 162)",
          "size": [
           117104
          ],
          "sizemode": "area",
          "sizeref": 1500,
          "symbol": "circle"
         },
         "mode": "markers",
         "name": "Machine Learning Manager",
         "orientation": "h",
         "showlegend": true,
         "type": "scatter",
         "x": [
          117104
         ],
         "xaxis": "x",
         "y": [
          "Senior-level/Expert"
         ],
         "yaxis": "y"
        },
        {
         "hovertemplate": "<b>%{hovertext}</b><br><br>job_title=Data Engineering Manager<br>work_year=2020<br>salary_in_usd=%{marker.size}<br>experience_level=%{y}<extra></extra>",
         "hovertext": [
          "Data Engineering Manager",
          "Data Engineering Manager"
         ],
         "legendgroup": "Data Engineering Manager",
         "marker": {
          "color": "rgb(192, 54, 157)",
          "size": [
           59303,
           79833
          ],
          "sizemode": "area",
          "sizeref": 1500,
          "symbol": "circle"
         },
         "mode": "markers",
         "name": "Data Engineering Manager",
         "orientation": "h",
         "showlegend": true,
         "type": "scatter",
         "x": [
          59303,
          79833
         ],
         "xaxis": "x",
         "y": [
          "Mid-level/Intermediate",
          "Executive-level/Director"
         ],
         "yaxis": "y"
        },
        {
         "hovertemplate": "<b>%{hovertext}</b><br><br>job_title=Machine Learning Infrastructure Engineer<br>work_year=2020<br>salary_in_usd=%{marker.size}<br>experience_level=%{y}<extra></extra>",
         "hovertext": [
          "Machine Learning Infrastructure Engineer"
         ],
         "legendgroup": "Machine Learning Infrastructure Engineer",
         "marker": {
          "color": "rgb(234, 79, 136)",
          "size": [
           50180
          ],
          "sizemode": "area",
          "sizeref": 1500,
          "symbol": "circle"
         },
         "mode": "markers",
         "name": "Machine Learning Infrastructure Engineer",
         "orientation": "h",
         "showlegend": true,
         "type": "scatter",
         "x": [
          50180
         ],
         "xaxis": "x",
         "y": [
          "Mid-level/Intermediate"
         ],
         "yaxis": "y"
        },
        {
         "hovertemplate": "<b>%{hovertext}</b><br><br>job_title=ML Engineer<br>work_year=2020<br>salary_in_usd=%{marker.size}<br>experience_level=%{y}<extra></extra>",
         "hovertext": [
          "ML Engineer"
         ],
         "legendgroup": "ML Engineer",
         "marker": {
          "color": "rgb(250, 120, 118)",
          "size": [
           15966
          ],
          "sizemode": "area",
          "sizeref": 1500,
          "symbol": "circle"
         },
         "mode": "markers",
         "name": "ML Engineer",
         "orientation": "h",
         "showlegend": true,
         "type": "scatter",
         "x": [
          15966
         ],
         "xaxis": "x",
         "y": [
          "Entry-level/Junior"
         ],
         "yaxis": "y"
        },
        {
         "hovertemplate": "<b>%{hovertext}</b><br><br>job_title=AI Scientist<br>work_year=2020<br>salary_in_usd=%{marker.size}<br>experience_level=%{y}<extra></extra>",
         "hovertext": [
          "AI Scientist"
         ],
         "legendgroup": "AI Scientist",
         "marker": {
          "color": "rgb(246, 169, 122)",
          "size": [
           45896
          ],
          "sizemode": "area",
          "sizeref": 1500,
          "symbol": "circle"
         },
         "mode": "markers",
         "name": "AI Scientist",
         "orientation": "h",
         "showlegend": true,
         "type": "scatter",
         "x": [
          45896
         ],
         "xaxis": "x",
         "y": [
          "Entry-level/Junior"
         ],
         "yaxis": "y"
        },
        {
         "hovertemplate": "<b>%{hovertext}</b><br><br>job_title=Computer Vision Engineer<br>work_year=2020<br>salary_in_usd=%{marker.size}<br>experience_level=%{y}<extra></extra>",
         "hovertext": [
          "Computer Vision Engineer"
         ],
         "legendgroup": "Computer Vision Engineer",
         "marker": {
          "color": "rgb(237, 217, 163)",
          "size": [
           60000
          ],
          "sizemode": "area",
          "sizeref": 1500,
          "symbol": "circle"
         },
         "mode": "markers",
         "name": "Computer Vision Engineer",
         "orientation": "h",
         "showlegend": true,
         "type": "scatter",
         "x": [
          60000
         ],
         "xaxis": "x",
         "y": [
          "Senior-level/Expert"
         ],
         "yaxis": "y"
        },
        {
         "hovertemplate": "<b>%{hovertext}</b><br><br>job_title=Principal Data Scientist<br>work_year=2020<br>salary_in_usd=%{marker.size}<br>experience_level=%{y}<extra></extra>",
         "hovertext": [
          "Principal Data Scientist"
         ],
         "legendgroup": "Principal Data Scientist",
         "marker": {
          "color": "rgb(75, 41, 145)",
          "size": [
           148261
          ],
          "sizemode": "area",
          "sizeref": 1500,
          "symbol": "circle"
         },
         "mode": "markers",
         "name": "Principal Data Scientist",
         "orientation": "h",
         "showlegend": true,
         "type": "scatter",
         "x": [
          148261
         ],
         "xaxis": "x",
         "y": [
          "Senior-level/Expert"
         ],
         "yaxis": "y"
        },
        {
         "hovertemplate": "<b>%{hovertext}</b><br><br>job_title=Data Science Manager<br>work_year=2020<br>salary_in_usd=%{marker.size}<br>experience_level=%{y}<extra></extra>",
         "hovertext": [
          "Data Science Manager"
         ],
         "legendgroup": "Data Science Manager",
         "marker": {
          "color": "rgb(135, 44, 162)",
          "size": [
           190200
          ],
          "sizemode": "area",
          "sizeref": 1500,
          "symbol": "circle"
         },
         "mode": "markers",
         "name": "Data Science Manager",
         "orientation": "h",
         "showlegend": true,
         "type": "scatter",
         "x": [
          190200
         ],
         "xaxis": "x",
         "y": [
          "Senior-level/Expert"
         ],
         "yaxis": "y"
        }
       ],
       "frames": [
        {
         "data": [
          {
           "hovertemplate": "<b>%{hovertext}</b><br><br>job_title=Data Scientist<br>work_year=2020<br>salary_in_usd=%{marker.size}<br>experience_level=%{y}<extra></extra>",
           "hovertext": [
            "Data Scientist",
            "Data Scientist",
            "Data Scientist",
            "Data Scientist",
            "Data Scientist",
            "Data Scientist",
            "Data Scientist",
            "Data Scientist",
            "Data Scientist",
            "Data Scientist",
            "Data Scientist",
            "Data Scientist",
            "Data Scientist",
            "Data Scientist",
            "Data Scientist",
            "Data Scientist",
            "Data Scientist",
            "Data Scientist",
            "Data Scientist",
            "Data Scientist",
            "Data Scientist"
           ],
           "legendgroup": "Data Scientist",
           "marker": {
            "color": "rgb(75, 41, 145)",
            "size": [
             79833,
             35735,
             51321,
             40481,
             39916,
             68428,
             45760,
             76958,
             105000,
             38776,
             118000,
             120000,
             138350,
             21669,
             412000,
             62726,
             49268,
             105000,
             91237,
             62726,
             42197
            ],
            "sizemode": "area",
            "sizeref": 1500,
            "symbol": "circle"
           },
           "mode": "markers",
           "name": "Data Scientist",
           "orientation": "h",
           "showlegend": true,
           "type": "scatter",
           "x": [
            79833,
            35735,
            51321,
            40481,
            39916,
            68428,
            45760,
            76958,
            105000,
            38776,
            118000,
            120000,
            138350,
            21669,
            412000,
            62726,
            49268,
            105000,
            91237,
            62726,
            42197
           ],
           "xaxis": "x",
           "y": [
            "Mid-level/Intermediate",
            "Mid-level/Intermediate",
            "Entry-level/Junior",
            "Mid-level/Intermediate",
            "Entry-level/Junior",
            "Senior-level/Expert",
            "Mid-level/Intermediate",
            "Mid-level/Intermediate",
            "Mid-level/Intermediate",
            "Mid-level/Intermediate",
            "Mid-level/Intermediate",
            "Senior-level/Expert",
            "Mid-level/Intermediate",
            "Entry-level/Junior",
            "Senior-level/Expert",
            "Entry-level/Junior",
            "Entry-level/Junior",
            "Entry-level/Junior",
            "Senior-level/Expert",
            "Mid-level/Intermediate",
            "Mid-level/Intermediate"
           ],
           "yaxis": "y"
          },
          {
           "hovertemplate": "<b>%{hovertext}</b><br><br>job_title=Machine Learning Scientist<br>work_year=2020<br>salary_in_usd=%{marker.size}<br>experience_level=%{y}<extra></extra>",
           "hovertext": [
            "Machine Learning Scientist"
           ],
           "legendgroup": "Machine Learning Scientist",
           "marker": {
            "color": "rgb(135, 44, 162)",
            "size": [
             260000
            ],
            "sizemode": "area",
            "sizeref": 1500,
            "symbol": "circle"
           },
           "mode": "markers",
           "name": "Machine Learning Scientist",
           "orientation": "h",
           "showlegend": true,
           "type": "scatter",
           "x": [
            260000
           ],
           "xaxis": "x",
           "y": [
            "Senior-level/Expert"
           ],
           "yaxis": "y"
          },
          {
           "hovertemplate": "<b>%{hovertext}</b><br><br>job_title=Big Data Engineer<br>work_year=2020<br>salary_in_usd=%{marker.size}<br>experience_level=%{y}<extra></extra>",
           "hovertext": [
            "Big Data Engineer",
            "Big Data Engineer",
            "Big Data Engineer"
           ],
           "legendgroup": "Big Data Engineer",
           "marker": {
            "color": "rgb(192, 54, 157)",
            "size": [
             109024,
             114047,
             70000
            ],
            "sizemode": "area",
            "sizeref": 1500,
            "symbol": "circle"
           },
           "mode": "markers",
           "name": "Big Data Engineer",
           "orientation": "h",
           "showlegend": true,
           "type": "scatter",
           "x": [
            109024,
            114047,
            70000
           ],
           "xaxis": "x",
           "y": [
            "Senior-level/Expert",
            "Senior-level/Expert",
            "Entry-level/Junior"
           ],
           "yaxis": "y"
          },
          {
           "hovertemplate": "<b>%{hovertext}</b><br><br>job_title=Product Data Analyst<br>work_year=2020<br>salary_in_usd=%{marker.size}<br>experience_level=%{y}<extra></extra>",
           "hovertext": [
            "Product Data Analyst",
            "Product Data Analyst"
           ],
           "legendgroup": "Product Data Analyst",
           "marker": {
            "color": "rgb(234, 79, 136)",
            "size": [
             20000,
             6072
            ],
            "sizemode": "area",
            "sizeref": 1500,
            "symbol": "circle"
           },
           "mode": "markers",
           "name": "Product Data Analyst",
           "orientation": "h",
           "showlegend": true,
           "type": "scatter",
           "x": [
            20000,
            6072
           ],
           "xaxis": "x",
           "y": [
            "Mid-level/Intermediate",
            "Mid-level/Intermediate"
           ],
           "yaxis": "y"
          },
          {
           "hovertemplate": "<b>%{hovertext}</b><br><br>job_title=Machine Learning Engineer<br>work_year=2020<br>salary_in_usd=%{marker.size}<br>experience_level=%{y}<extra></extra>",
           "hovertext": [
            "Machine Learning Engineer",
            "Machine Learning Engineer",
            "Machine Learning Engineer",
            "Machine Learning Engineer",
            "Machine Learning Engineer"
           ],
           "legendgroup": "Machine Learning Engineer",
           "marker": {
            "color": "rgb(250, 120, 118)",
            "size": [
             150000,
             43331,
             250000,
             138000,
             45618
            ],
            "sizemode": "area",
            "sizeref": 1500,
            "symbol": "circle"
           },
           "mode": "markers",
           "name": "Machine Learning Engineer",
           "orientation": "h",
           "showlegend": true,
           "type": "scatter",
           "x": [
            150000,
            43331,
            250000,
            138000,
            45618
           ],
           "xaxis": "x",
           "y": [
            "Senior-level/Expert",
            "Mid-level/Intermediate",
            "Entry-level/Junior",
            "Entry-level/Junior",
            "Senior-level/Expert"
           ],
           "yaxis": "y"
          },
          {
           "hovertemplate": "<b>%{hovertext}</b><br><br>job_title=Data Analyst<br>work_year=2020<br>salary_in_usd=%{marker.size}<br>experience_level=%{y}<extra></extra>",
           "hovertext": [
            "Data Analyst",
            "Data Analyst",
            "Data Analyst",
            "Data Analyst",
            "Data Analyst",
            "Data Analyst",
            "Data Analyst"
           ],
           "legendgroup": "Data Analyst",
           "marker": {
            "color": "rgb(246, 169, 122)",
            "size": [
             72000,
             85000,
             8000,
             46759,
             10000,
             6072,
             91000
            ],
            "sizemode": "area",
            "sizeref": 1500,
            "symbol": "circle"
           },
           "mode": "markers",
           "name": "Data Analyst",
           "orientation": "h",
           "showlegend": true,
           "type": "scatter",
           "x": [
            72000,
            85000,
            8000,
            46759,
            10000,
            6072,
            91000
           ],
           "xaxis": "x",
           "y": [
            "Entry-level/Junior",
            "Mid-level/Intermediate",
            "Mid-level/Intermediate",
            "Mid-level/Intermediate",
            "Entry-level/Junior",
            "Entry-level/Junior",
            "Entry-level/Junior"
           ],
           "yaxis": "y"
          },
          {
           "hovertemplate": "<b>%{hovertext}</b><br><br>job_title=Lead Data Scientist<br>work_year=2020<br>salary_in_usd=%{marker.size}<br>experience_level=%{y}<extra></extra>",
           "hovertext": [
            "Lead Data Scientist",
            "Lead Data Scientist"
           ],
           "legendgroup": "Lead Data Scientist",
           "marker": {
            "color": "rgb(237, 217, 163)",
            "size": [
             190000,
             115000
            ],
            "sizemode": "area",
            "sizeref": 1500,
            "symbol": "circle"
           },
           "mode": "markers",
           "name": "Lead Data Scientist",
           "orientation": "h",
           "showlegend": true,
           "type": "scatter",
           "x": [
            190000,
            115000
           ],
           "xaxis": "x",
           "y": [
            "Senior-level/Expert",
            "Mid-level/Intermediate"
           ],
           "yaxis": "y"
          },
          {
           "hovertemplate": "<b>%{hovertext}</b><br><br>job_title=Business Data Analyst<br>work_year=2020<br>salary_in_usd=%{marker.size}<br>experience_level=%{y}<extra></extra>",
           "hovertext": [
            "Business Data Analyst",
            "Business Data Analyst"
           ],
           "legendgroup": "Business Data Analyst",
           "marker": {
            "color": "rgb(75, 41, 145)",
            "size": [
             135000,
             100000
            ],
            "sizemode": "area",
            "sizeref": 1500,
            "symbol": "circle"
           },
           "mode": "markers",
           "name": "Business Data Analyst",
           "orientation": "h",
           "showlegend": true,
           "type": "scatter",
           "x": [
            135000,
            100000
           ],
           "xaxis": "x",
           "y": [
            "Mid-level/Intermediate",
            "Entry-level/Junior"
           ],
           "yaxis": "y"
          },
          {
           "hovertemplate": "<b>%{hovertext}</b><br><br>job_title=Lead Data Engineer<br>work_year=2020<br>salary_in_usd=%{marker.size}<br>experience_level=%{y}<extra></extra>",
           "hovertext": [
            "Lead Data Engineer",
            "Lead Data Engineer"
           ],
           "legendgroup": "Lead Data Engineer",
           "marker": {
            "color": "rgb(135, 44, 162)",
            "size": [
             125000,
             56000
            ],
            "sizemode": "area",
            "sizeref": 1500,
            "symbol": "circle"
           },
           "mode": "markers",
           "name": "Lead Data Engineer",
           "orientation": "h",
           "showlegend": true,
           "type": "scatter",
           "x": [
            125000,
            56000
           ],
           "xaxis": "x",
           "y": [
            "Senior-level/Expert",
            "Mid-level/Intermediate"
           ],
           "yaxis": "y"
          },
          {
           "hovertemplate": "<b>%{hovertext}</b><br><br>job_title=Lead Data Analyst<br>work_year=2020<br>salary_in_usd=%{marker.size}<br>experience_level=%{y}<extra></extra>",
           "hovertext": [
            "Lead Data Analyst"
           ],
           "legendgroup": "Lead Data Analyst",
           "marker": {
            "color": "rgb(192, 54, 157)",
            "size": [
             87000
            ],
            "sizemode": "area",
            "sizeref": 1500,
            "symbol": "circle"
           },
           "mode": "markers",
           "name": "Lead Data Analyst",
           "orientation": "h",
           "showlegend": true,
           "type": "scatter",
           "x": [
            87000
           ],
           "xaxis": "x",
           "y": [
            "Mid-level/Intermediate"
           ],
           "yaxis": "y"
          },
          {
           "hovertemplate": "<b>%{hovertext}</b><br><br>job_title=Data Engineer<br>work_year=2020<br>salary_in_usd=%{marker.size}<br>experience_level=%{y}<extra></extra>",
           "hovertext": [
            "Data Engineer",
            "Data Engineer",
            "Data Engineer",
            "Data Engineer",
            "Data Engineer",
            "Data Engineer",
            "Data Engineer",
            "Data Engineer",
            "Data Engineer",
            "Data Engineer",
            "Data Engineer"
           ],
           "legendgroup": "Data Engineer",
           "marker": {
            "color": "rgb(234, 79, 136)",
            "size": [
             41689,
             47899,
             33511,
             74130,
             106000,
             112872,
             188000,
             70139,
             54742,
             110000,
             130800
            ],
            "sizemode": "area",
            "sizeref": 1500,
            "symbol": "circle"
           },
           "mode": "markers",
           "name": "Data Engineer",
           "orientation": "h",
           "showlegend": true,
           "type": "scatter",
           "x": [
            41689,
            47899,
            33511,
            74130,
            106000,
            112872,
            188000,
            70139,
            54742,
            110000,
            130800
           ],
           "xaxis": "x",
           "y": [
            "Entry-level/Junior",
            "Senior-level/Expert",
            "Senior-level/Expert",
            "Mid-level/Intermediate",
            "Mid-level/Intermediate",
            "Mid-level/Intermediate",
            "Senior-level/Expert",
            "Mid-level/Intermediate",
            "Entry-level/Junior",
            "Mid-level/Intermediate",
            "Mid-level/Intermediate"
           ],
           "yaxis": "y"
          },
          {
           "hovertemplate": "<b>%{hovertext}</b><br><br>job_title=Data Science Consultant<br>work_year=2020<br>salary_in_usd=%{marker.size}<br>experience_level=%{y}<extra></extra>",
           "hovertext": [
            "Data Science Consultant",
            "Data Science Consultant"
           ],
           "legendgroup": "Data Science Consultant",
           "marker": {
            "color": "rgb(250, 120, 118)",
            "size": [
             5707,
             103000
            ],
            "sizemode": "area",
            "sizeref": 1500,
            "symbol": "circle"
           },
           "mode": "markers",
           "name": "Data Science Consultant",
           "orientation": "h",
           "showlegend": true,
           "type": "scatter",
           "x": [
            5707,
            103000
           ],
           "xaxis": "x",
           "y": [
            "Entry-level/Junior",
            "Mid-level/Intermediate"
           ],
           "yaxis": "y"
          },
          {
           "hovertemplate": "<b>%{hovertext}</b><br><br>job_title=BI Data Analyst<br>work_year=2020<br>salary_in_usd=%{marker.size}<br>experience_level=%{y}<extra></extra>",
           "hovertext": [
            "BI Data Analyst"
           ],
           "legendgroup": "BI Data Analyst",
           "marker": {
            "color": "rgb(246, 169, 122)",
            "size": [
             98000
            ],
            "sizemode": "area",
            "sizeref": 1500,
            "symbol": "circle"
           },
           "mode": "markers",
           "name": "BI Data Analyst",
           "orientation": "h",
           "showlegend": true,
           "type": "scatter",
           "x": [
            98000
           ],
           "xaxis": "x",
           "y": [
            "Mid-level/Intermediate"
           ],
           "yaxis": "y"
          },
          {
           "hovertemplate": "<b>%{hovertext}</b><br><br>job_title=Director of Data Science<br>work_year=2020<br>salary_in_usd=%{marker.size}<br>experience_level=%{y}<extra></extra>",
           "hovertext": [
            "Director of Data Science"
           ],
           "legendgroup": "Director of Data Science",
           "marker": {
            "color": "rgb(237, 217, 163)",
            "size": [
             325000
            ],
            "sizemode": "area",
            "sizeref": 1500,
            "symbol": "circle"
           },
           "mode": "markers",
           "name": "Director of Data Science",
           "orientation": "h",
           "showlegend": true,
           "type": "scatter",
           "x": [
            325000
           ],
           "xaxis": "x",
           "y": [
            "Executive-level/Director"
           ],
           "yaxis": "y"
          },
          {
           "hovertemplate": "<b>%{hovertext}</b><br><br>job_title=Research Scientist<br>work_year=2020<br>salary_in_usd=%{marker.size}<br>experience_level=%{y}<extra></extra>",
           "hovertext": [
            "Research Scientist",
            "Research Scientist"
           ],
           "legendgroup": "Research Scientist",
           "marker": {
            "color": "rgb(75, 41, 145)",
            "size": [
             42000,
             450000
            ],
            "sizemode": "area",
            "sizeref": 1500,
            "symbol": "circle"
           },
           "mode": "markers",
           "name": "Research Scientist",
           "orientation": "h",
           "showlegend": true,
           "type": "scatter",
           "x": [
            42000,
            450000
           ],
           "xaxis": "x",
           "y": [
            "Entry-level/Junior",
            "Mid-level/Intermediate"
           ],
           "yaxis": "y"
          },
          {
           "hovertemplate": "<b>%{hovertext}</b><br><br>job_title=Machine Learning Manager<br>work_year=2020<br>salary_in_usd=%{marker.size}<br>experience_level=%{y}<extra></extra>",
           "hovertext": [
            "Machine Learning Manager"
           ],
           "legendgroup": "Machine Learning Manager",
           "marker": {
            "color": "rgb(135, 44, 162)",
            "size": [
             117104
            ],
            "sizemode": "area",
            "sizeref": 1500,
            "symbol": "circle"
           },
           "mode": "markers",
           "name": "Machine Learning Manager",
           "orientation": "h",
           "showlegend": true,
           "type": "scatter",
           "x": [
            117104
           ],
           "xaxis": "x",
           "y": [
            "Senior-level/Expert"
           ],
           "yaxis": "y"
          },
          {
           "hovertemplate": "<b>%{hovertext}</b><br><br>job_title=Data Engineering Manager<br>work_year=2020<br>salary_in_usd=%{marker.size}<br>experience_level=%{y}<extra></extra>",
           "hovertext": [
            "Data Engineering Manager",
            "Data Engineering Manager"
           ],
           "legendgroup": "Data Engineering Manager",
           "marker": {
            "color": "rgb(192, 54, 157)",
            "size": [
             59303,
             79833
            ],
            "sizemode": "area",
            "sizeref": 1500,
            "symbol": "circle"
           },
           "mode": "markers",
           "name": "Data Engineering Manager",
           "orientation": "h",
           "showlegend": true,
           "type": "scatter",
           "x": [
            59303,
            79833
           ],
           "xaxis": "x",
           "y": [
            "Mid-level/Intermediate",
            "Executive-level/Director"
           ],
           "yaxis": "y"
          },
          {
           "hovertemplate": "<b>%{hovertext}</b><br><br>job_title=Machine Learning Infrastructure Engineer<br>work_year=2020<br>salary_in_usd=%{marker.size}<br>experience_level=%{y}<extra></extra>",
           "hovertext": [
            "Machine Learning Infrastructure Engineer"
           ],
           "legendgroup": "Machine Learning Infrastructure Engineer",
           "marker": {
            "color": "rgb(234, 79, 136)",
            "size": [
             50180
            ],
            "sizemode": "area",
            "sizeref": 1500,
            "symbol": "circle"
           },
           "mode": "markers",
           "name": "Machine Learning Infrastructure Engineer",
           "orientation": "h",
           "showlegend": true,
           "type": "scatter",
           "x": [
            50180
           ],
           "xaxis": "x",
           "y": [
            "Mid-level/Intermediate"
           ],
           "yaxis": "y"
          },
          {
           "hovertemplate": "<b>%{hovertext}</b><br><br>job_title=ML Engineer<br>work_year=2020<br>salary_in_usd=%{marker.size}<br>experience_level=%{y}<extra></extra>",
           "hovertext": [
            "ML Engineer"
           ],
           "legendgroup": "ML Engineer",
           "marker": {
            "color": "rgb(250, 120, 118)",
            "size": [
             15966
            ],
            "sizemode": "area",
            "sizeref": 1500,
            "symbol": "circle"
           },
           "mode": "markers",
           "name": "ML Engineer",
           "orientation": "h",
           "showlegend": true,
           "type": "scatter",
           "x": [
            15966
           ],
           "xaxis": "x",
           "y": [
            "Entry-level/Junior"
           ],
           "yaxis": "y"
          },
          {
           "hovertemplate": "<b>%{hovertext}</b><br><br>job_title=AI Scientist<br>work_year=2020<br>salary_in_usd=%{marker.size}<br>experience_level=%{y}<extra></extra>",
           "hovertext": [
            "AI Scientist"
           ],
           "legendgroup": "AI Scientist",
           "marker": {
            "color": "rgb(246, 169, 122)",
            "size": [
             45896
            ],
            "sizemode": "area",
            "sizeref": 1500,
            "symbol": "circle"
           },
           "mode": "markers",
           "name": "AI Scientist",
           "orientation": "h",
           "showlegend": true,
           "type": "scatter",
           "x": [
            45896
           ],
           "xaxis": "x",
           "y": [
            "Entry-level/Junior"
           ],
           "yaxis": "y"
          },
          {
           "hovertemplate": "<b>%{hovertext}</b><br><br>job_title=Computer Vision Engineer<br>work_year=2020<br>salary_in_usd=%{marker.size}<br>experience_level=%{y}<extra></extra>",
           "hovertext": [
            "Computer Vision Engineer"
           ],
           "legendgroup": "Computer Vision Engineer",
           "marker": {
            "color": "rgb(237, 217, 163)",
            "size": [
             60000
            ],
            "sizemode": "area",
            "sizeref": 1500,
            "symbol": "circle"
           },
           "mode": "markers",
           "name": "Computer Vision Engineer",
           "orientation": "h",
           "showlegend": true,
           "type": "scatter",
           "x": [
            60000
           ],
           "xaxis": "x",
           "y": [
            "Senior-level/Expert"
           ],
           "yaxis": "y"
          },
          {
           "hovertemplate": "<b>%{hovertext}</b><br><br>job_title=Principal Data Scientist<br>work_year=2020<br>salary_in_usd=%{marker.size}<br>experience_level=%{y}<extra></extra>",
           "hovertext": [
            "Principal Data Scientist"
           ],
           "legendgroup": "Principal Data Scientist",
           "marker": {
            "color": "rgb(75, 41, 145)",
            "size": [
             148261
            ],
            "sizemode": "area",
            "sizeref": 1500,
            "symbol": "circle"
           },
           "mode": "markers",
           "name": "Principal Data Scientist",
           "orientation": "h",
           "showlegend": true,
           "type": "scatter",
           "x": [
            148261
           ],
           "xaxis": "x",
           "y": [
            "Senior-level/Expert"
           ],
           "yaxis": "y"
          },
          {
           "hovertemplate": "<b>%{hovertext}</b><br><br>job_title=Data Science Manager<br>work_year=2020<br>salary_in_usd=%{marker.size}<br>experience_level=%{y}<extra></extra>",
           "hovertext": [
            "Data Science Manager"
           ],
           "legendgroup": "Data Science Manager",
           "marker": {
            "color": "rgb(135, 44, 162)",
            "size": [
             190200
            ],
            "sizemode": "area",
            "sizeref": 1500,
            "symbol": "circle"
           },
           "mode": "markers",
           "name": "Data Science Manager",
           "orientation": "h",
           "showlegend": true,
           "type": "scatter",
           "x": [
            190200
           ],
           "xaxis": "x",
           "y": [
            "Senior-level/Expert"
           ],
           "yaxis": "y"
          }
         ],
         "name": "2020"
        },
        {
         "data": [
          {
           "hovertemplate": "<b>%{hovertext}</b><br><br>job_title=Data Scientist<br>work_year=2021<br>salary_in_usd=%{marker.size}<br>experience_level=%{y}<extra></extra>",
           "hovertext": [
            "Data Scientist",
            "Data Scientist",
            "Data Scientist",
            "Data Scientist",
            "Data Scientist",
            "Data Scientist",
            "Data Scientist",
            "Data Scientist",
            "Data Scientist",
            "Data Scientist",
            "Data Scientist",
            "Data Scientist",
            "Data Scientist",
            "Data Scientist",
            "Data Scientist",
            "Data Scientist",
            "Data Scientist",
            "Data Scientist",
            "Data Scientist",
            "Data Scientist",
            "Data Scientist",
            "Data Scientist",
            "Data Scientist",
            "Data Scientist",
            "Data Scientist",
            "Data Scientist",
            "Data Scientist",
            "Data Scientist",
            "Data Scientist",
            "Data Scientist",
            "Data Scientist",
            "Data Scientist",
            "Data Scientist",
            "Data Scientist",
            "Data Scientist",
            "Data Scientist",
            "Data Scientist",
            "Data Scientist",
            "Data Scientist",
            "Data Scientist",
            "Data Scientist",
            "Data Scientist",
            "Data Scientist",
            "Data Scientist",
            "Data Scientist"
           ],
           "legendgroup": "Data Scientist",
           "marker": {
            "color": "rgb(75, 41, 145)",
            "size": [
             53192,
             29751,
             73000,
             50000,
             9466,
             49646,
             100000,
             80000,
             82500,
             150000,
             75774,
             13400,
             119059,
             2859,
             40038,
             5679,
             90734,
             147000,
             61467,
             37825,
             160000,
             12901,
             90734,
             116914,
             33808,
             56256,
             87738,
             88654,
             135000,
             46809,
             4000,
             103691,
             165000,
             36643,
             115000,
             90000,
             28399,
             130000,
             16904,
             25532,
             77684,
             100000,
             58000,
             20171,
             109000
            ],
            "sizemode": "area",
            "sizeref": 1500,
            "symbol": "circle"
           },
           "mode": "markers",
           "name": "Data Scientist",
           "orientation": "h",
           "showlegend": true,
           "type": "scatter",
           "x": [
            53192,
            29751,
            73000,
            50000,
            9466,
            49646,
            100000,
            80000,
            82500,
            150000,
            75774,
            13400,
            119059,
            2859,
            40038,
            5679,
            90734,
            147000,
            61467,
            37825,
            160000,
            12901,
            90734,
            116914,
            33808,
            56256,
            87738,
            88654,
            135000,
            46809,
            4000,
            103691,
            165000,
            36643,
            115000,
            90000,
            28399,
            130000,
            16904,
            25532,
            77684,
            100000,
            58000,
            20171,
            109000
           ],
           "xaxis": "x",
           "y": [
            "Senior-level/Expert",
            "Entry-level/Junior",
            "Mid-level/Intermediate",
            "Mid-level/Intermediate",
            "Mid-level/Intermediate",
            "Entry-level/Junior",
            "Entry-level/Junior",
            "Entry-level/Junior",
            "Mid-level/Intermediate",
            "Mid-level/Intermediate",
            "Mid-level/Intermediate",
            "Entry-level/Junior",
            "Mid-level/Intermediate",
            "Mid-level/Intermediate",
            "Mid-level/Intermediate",
            "Mid-level/Intermediate",
            "Mid-level/Intermediate",
            "Mid-level/Intermediate",
            "Mid-level/Intermediate",
            "Mid-level/Intermediate",
            "Mid-level/Intermediate",
            "Mid-level/Intermediate",
            "Mid-level/Intermediate",
            "Mid-level/Intermediate",
            "Mid-level/Intermediate",
            "Mid-level/Intermediate",
            "Senior-level/Expert",
            "Mid-level/Intermediate",
            "Senior-level/Expert",
            "Mid-level/Intermediate",
            "Entry-level/Junior",
            "Senior-level/Expert",
            "Senior-level/Expert",
            "Entry-level/Junior",
            "Mid-level/Intermediate",
            "Entry-level/Junior",
            "Entry-level/Junior",
            "Mid-level/Intermediate",
            "Mid-level/Intermediate",
            "Mid-level/Intermediate",
            "Senior-level/Expert",
            "Entry-level/Junior",
            "Entry-level/Junior",
            "Senior-level/Expert",
            "Mid-level/Intermediate"
           ],
           "yaxis": "y"
          },
          {
           "hovertemplate": "<b>%{hovertext}</b><br><br>job_title=Machine Learning Scientist<br>work_year=2021<br>salary_in_usd=%{marker.size}<br>experience_level=%{y}<extra></extra>",
           "hovertext": [
            "Machine Learning Scientist",
            "Machine Learning Scientist",
            "Machine Learning Scientist",
            "Machine Learning Scientist"
           ],
           "legendgroup": "Machine Learning Scientist",
           "marker": {
            "color": "rgb(135, 44, 162)",
            "size": [
             225000,
             120000,
             12000,
             225000
            ],
            "sizemode": "area",
            "sizeref": 1500,
            "symbol": "circle"
           },
           "mode": "markers",
           "name": "Machine Learning Scientist",
           "orientation": "h",
           "showlegend": true,
           "type": "scatter",
           "x": [
            225000,
            120000,
            12000,
            225000
           ],
           "xaxis": "x",
           "y": [
            "Entry-level/Junior",
            "Senior-level/Expert",
            "Mid-level/Intermediate",
            "Senior-level/Expert"
           ],
           "yaxis": "y"
          },
          {
           "hovertemplate": "<b>%{hovertext}</b><br><br>job_title=Big Data Engineer<br>work_year=2021<br>salary_in_usd=%{marker.size}<br>experience_level=%{y}<extra></extra>",
           "hovertext": [
            "Big Data Engineer",
            "Big Data Engineer",
            "Big Data Engineer",
            "Big Data Engineer",
            "Big Data Engineer"
           ],
           "legendgroup": "Big Data Engineer",
           "marker": {
            "color": "rgb(192, 54, 157)",
            "size": [
             60000,
             22611,
             18000,
             5882,
             16228
            ],
            "sizemode": "area",
            "sizeref": 1500,
            "symbol": "circle"
           },
           "mode": "markers",
           "name": "Big Data Engineer",
           "orientation": "h",
           "showlegend": true,
           "type": "scatter",
           "x": [
            60000,
            22611,
            18000,
            5882,
            16228
           ],
           "xaxis": "x",
           "y": [
            "Mid-level/Intermediate",
            "Mid-level/Intermediate",
            "Mid-level/Intermediate",
            "Entry-level/Junior",
            "Entry-level/Junior"
           ],
           "yaxis": "y"
          },
          {
           "hovertemplate": "<b>%{hovertext}</b><br><br>job_title=Machine Learning Engineer<br>work_year=2021<br>salary_in_usd=%{marker.size}<br>experience_level=%{y}<extra></extra>",
           "hovertext": [
            "Machine Learning Engineer",
            "Machine Learning Engineer",
            "Machine Learning Engineer",
            "Machine Learning Engineer",
            "Machine Learning Engineer",
            "Machine Learning Engineer",
            "Machine Learning Engineer",
            "Machine Learning Engineer",
            "Machine Learning Engineer",
            "Machine Learning Engineer",
            "Machine Learning Engineer",
            "Machine Learning Engineer",
            "Machine Learning Engineer",
            "Machine Learning Engineer",
            "Machine Learning Engineer",
            "Machine Learning Engineer",
            "Machine Learning Engineer",
            "Machine Learning Engineer"
           ],
           "legendgroup": "Machine Learning Engineer",
           "marker": {
            "color": "rgb(250, 120, 118)",
            "size": [
             47282,
             94564,
             20000,
             82744,
             125000,
             81000,
             74000,
             21844,
             24342,
             200000,
             24823,
             24823,
             88654,
             46597,
             185000,
             66265,
             85000,
             51064
            ],
            "sizemode": "area",
            "sizeref": 1500,
            "symbol": "circle"
           },
           "mode": "markers",
           "name": "Machine Learning Engineer",
           "orientation": "h",
           "showlegend": true,
           "type": "scatter",
           "x": [
            47282,
            94564,
            20000,
            82744,
            125000,
            81000,
            74000,
            21844,
            24342,
            200000,
            24823,
            24823,
            88654,
            46597,
            185000,
            66265,
            85000,
            51064
           ],
           "xaxis": "x",
           "y": [
            "Mid-level/Intermediate",
            "Senior-level/Expert",
            "Entry-level/Junior",
            "Senior-level/Expert",
            "Entry-level/Junior",
            "Entry-level/Junior",
            "Mid-level/Intermediate",
            "Entry-level/Junior",
            "Senior-level/Expert",
            "Senior-level/Expert",
            "Mid-level/Intermediate",
            "Entry-level/Junior",
            "Mid-level/Intermediate",
            "Mid-level/Intermediate",
            "Senior-level/Expert",
            "Senior-level/Expert",
            "Entry-level/Junior",
            "Mid-level/Intermediate"
           ],
           "yaxis": "y"
          },
          {
           "hovertemplate": "<b>%{hovertext}</b><br><br>job_title=Data Analyst<br>work_year=2021<br>salary_in_usd=%{marker.size}<br>experience_level=%{y}<extra></extra>",
           "hovertext": [
            "Data Analyst",
            "Data Analyst",
            "Data Analyst",
            "Data Analyst",
            "Data Analyst",
            "Data Analyst",
            "Data Analyst",
            "Data Analyst",
            "Data Analyst",
            "Data Analyst",
            "Data Analyst",
            "Data Analyst",
            "Data Analyst",
            "Data Analyst",
            "Data Analyst",
            "Data Analyst",
            "Data Analyst"
           ],
           "legendgroup": "Data Analyst",
           "marker": {
            "color": "rgb(246, 169, 122)",
            "size": [
             80000,
             59102,
             80000,
             75000,
             62000,
             51519,
             90000,
             50000,
             10354,
             90000,
             135000,
             60000,
             71786,
             200000,
             80000,
             93000,
             63831
            ],
            "sizemode": "area",
            "sizeref": 1500,
            "symbol": "circle"
           },
           "mode": "markers",
           "name": "Data Analyst",
           "orientation": "h",
           "showlegend": true,
           "type": "scatter",
           "x": [
            80000,
            59102,
            80000,
            75000,
            62000,
            51519,
            90000,
            50000,
            10354,
            90000,
            135000,
            60000,
            71786,
            200000,
            80000,
            93000,
            63831
           ],
           "xaxis": "x",
           "y": [
            "Entry-level/Junior",
            "Entry-level/Junior",
            "Senior-level/Expert",
            "Mid-level/Intermediate",
            "Mid-level/Intermediate",
            "Mid-level/Intermediate",
            "Entry-level/Junior",
            "Entry-level/Junior",
            "Entry-level/Junior",
            "Mid-level/Intermediate",
            "Mid-level/Intermediate",
            "Entry-level/Junior",
            "Senior-level/Expert",
            "Senior-level/Expert",
            "Mid-level/Intermediate",
            "Mid-level/Intermediate",
            "Senior-level/Expert"
           ],
           "yaxis": "y"
          },
          {
           "hovertemplate": "<b>%{hovertext}</b><br><br>job_title=Lead Data Scientist<br>work_year=2021<br>salary_in_usd=%{marker.size}<br>experience_level=%{y}<extra></extra>",
           "hovertext": [
            "Lead Data Scientist"
           ],
           "legendgroup": "Lead Data Scientist",
           "marker": {
            "color": "rgb(237, 217, 163)",
            "size": [
             40570
            ],
            "sizemode": "area",
            "sizeref": 1500,
            "symbol": "circle"
           },
           "mode": "markers",
           "name": "Lead Data Scientist",
           "orientation": "h",
           "showlegend": true,
           "type": "scatter",
           "x": [
            40570
           ],
           "xaxis": "x",
           "y": [
            "Senior-level/Expert"
           ],
           "yaxis": "y"
          },
          {
           "hovertemplate": "<b>%{hovertext}</b><br><br>job_title=Business Data Analyst<br>work_year=2021<br>salary_in_usd=%{marker.size}<br>experience_level=%{y}<extra></extra>",
           "hovertext": [
            "Business Data Analyst"
           ],
           "legendgroup": "Business Data Analyst",
           "marker": {
            "color": "rgb(75, 41, 145)",
            "size": [
             59102
            ],
            "sizemode": "area",
            "sizeref": 1500,
            "symbol": "circle"
           },
           "mode": "markers",
           "name": "Business Data Analyst",
           "orientation": "h",
           "showlegend": true,
           "type": "scatter",
           "x": [
            59102
           ],
           "xaxis": "x",
           "y": [
            "Entry-level/Junior"
           ],
           "yaxis": "y"
          },
          {
           "hovertemplate": "<b>%{hovertext}</b><br><br>job_title=Lead Data Engineer<br>work_year=2021<br>salary_in_usd=%{marker.size}<br>experience_level=%{y}<extra></extra>",
           "hovertext": [
            "Lead Data Engineer",
            "Lead Data Engineer",
            "Lead Data Engineer"
           ],
           "legendgroup": "Lead Data Engineer",
           "marker": {
            "color": "rgb(135, 44, 162)",
            "size": [
             276000,
             103160,
             160000
            ],
            "sizemode": "area",
            "sizeref": 1500,
            "symbol": "circle"
           },
           "mode": "markers",
           "name": "Lead Data Engineer",
           "orientation": "h",
           "showlegend": true,
           "type": "scatter",
           "x": [
            276000,
            103160,
            160000
           ],
           "xaxis": "x",
           "y": [
            "Senior-level/Expert",
            "Senior-level/Expert",
            "Senior-level/Expert"
           ],
           "yaxis": "y"
          },
          {
           "hovertemplate": "<b>%{hovertext}</b><br><br>job_title=Lead Data Analyst<br>work_year=2021<br>salary_in_usd=%{marker.size}<br>experience_level=%{y}<extra></extra>",
           "hovertext": [
            "Lead Data Analyst",
            "Lead Data Analyst"
           ],
           "legendgroup": "Lead Data Analyst",
           "marker": {
            "color": "rgb(192, 54, 157)",
            "size": [
             170000,
             19609
            ],
            "sizemode": "area",
            "sizeref": 1500,
            "symbol": "circle"
           },
           "mode": "markers",
           "name": "Lead Data Analyst",
           "orientation": "h",
           "showlegend": true,
           "type": "scatter",
           "x": [
            170000,
            19609
           ],
           "xaxis": "x",
           "y": [
            "Senior-level/Expert",
            "Mid-level/Intermediate"
           ],
           "yaxis": "y"
          },
          {
           "hovertemplate": "<b>%{hovertext}</b><br><br>job_title=Data Engineer<br>work_year=2021<br>salary_in_usd=%{marker.size}<br>experience_level=%{y}<extra></extra>",
           "hovertext": [
            "Data Engineer",
            "Data Engineer",
            "Data Engineer",
            "Data Engineer",
            "Data Engineer",
            "Data Engineer",
            "Data Engineer",
            "Data Engineer",
            "Data Engineer",
            "Data Engineer",
            "Data Engineer",
            "Data Engineer",
            "Data Engineer",
            "Data Engineer",
            "Data Engineer",
            "Data Engineer",
            "Data Engineer",
            "Data Engineer",
            "Data Engineer",
            "Data Engineer",
            "Data Engineer",
            "Data Engineer",
            "Data Engineer",
            "Data Engineer",
            "Data Engineer",
            "Data Engineer",
            "Data Engineer",
            "Data Engineer",
            "Data Engineer",
            "Data Engineer",
            "Data Engineer",
            "Data Engineer"
           ],
           "legendgroup": "Data Engineer",
           "marker": {
            "color": "rgb(234, 79, 136)",
            "size": [
             140000,
             28476,
             150000,
             115000,
             150000,
             30428,
             45391,
             200000,
             100000,
             90000,
             28369,
             80000,
             82528,
             26005,
             4000,
             76833,
             165000,
             20000,
             66022,
             21637,
             110000,
             72212,
             12103,
             96282,
             200000,
             93150,
             111775,
             28016,
             65013,
             72500,
             112000,
             69741
            ],
            "sizemode": "area",
            "sizeref": 1500,
            "symbol": "circle"
           },
           "mode": "markers",
           "name": "Data Engineer",
           "orientation": "h",
           "showlegend": true,
           "type": "scatter",
           "x": [
            140000,
            28476,
            150000,
            115000,
            150000,
            30428,
            45391,
            200000,
            100000,
            90000,
            28369,
            80000,
            82528,
            26005,
            4000,
            76833,
            165000,
            20000,
            66022,
            21637,
            110000,
            72212,
            12103,
            96282,
            200000,
            93150,
            111775,
            28016,
            65013,
            72500,
            112000,
            69741
           ],
           "xaxis": "x",
           "y": [
            "Mid-level/Intermediate",
            "Mid-level/Intermediate",
            "Senior-level/Expert",
            "Senior-level/Expert",
            "Senior-level/Expert",
            "Entry-level/Junior",
            "Mid-level/Intermediate",
            "Mid-level/Intermediate",
            "Mid-level/Intermediate",
            "Mid-level/Intermediate",
            "Mid-level/Intermediate",
            "Entry-level/Junior",
            "Mid-level/Intermediate",
            "Mid-level/Intermediate",
            "Mid-level/Intermediate",
            "Senior-level/Expert",
            "Senior-level/Expert",
            "Mid-level/Intermediate",
            "Mid-level/Intermediate",
            "Entry-level/Junior",
            "Mid-level/Intermediate",
            "Mid-level/Intermediate",
            "Mid-level/Intermediate",
            "Senior-level/Expert",
            "Mid-level/Intermediate",
            "Mid-level/Intermediate",
            "Mid-level/Intermediate",
            "Mid-level/Intermediate",
            "Entry-level/Junior",
            "Entry-level/Junior",
            "Mid-level/Intermediate",
            "Mid-level/Intermediate"
           ],
           "yaxis": "y"
          },
          {
           "hovertemplate": "<b>%{hovertext}</b><br><br>job_title=Data Science Consultant<br>work_year=2021<br>salary_in_usd=%{marker.size}<br>experience_level=%{y}<extra></extra>",
           "hovertext": [
            "Data Science Consultant",
            "Data Science Consultant",
            "Data Science Consultant",
            "Data Science Consultant",
            "Data Science Consultant"
           ],
           "legendgroup": "Data Science Consultant",
           "marker": {
            "color": "rgb(250, 120, 118)",
            "size": [
             76833,
             63831,
             69741,
             90000,
             76833
            ],
            "sizemode": "area",
            "sizeref": 1500,
            "symbol": "circle"
           },
           "mode": "markers",
           "name": "Data Science Consultant",
           "orientation": "h",
           "showlegend": true,
           "type": "scatter",
           "x": [
            76833,
            63831,
            69741,
            90000,
            76833
           ],
           "xaxis": "x",
           "y": [
            "Entry-level/Junior",
            "Entry-level/Junior",
            "Executive-level/Director",
            "Entry-level/Junior",
            "Entry-level/Junior"
           ],
           "yaxis": "y"
          },
          {
           "hovertemplate": "<b>%{hovertext}</b><br><br>job_title=BI Data Analyst<br>work_year=2021<br>salary_in_usd=%{marker.size}<br>experience_level=%{y}<extra></extra>",
           "hovertext": [
            "BI Data Analyst",
            "BI Data Analyst",
            "BI Data Analyst",
            "BI Data Analyst",
            "BI Data Analyst"
           ],
           "legendgroup": "BI Data Analyst",
           "marker": {
            "color": "rgb(246, 169, 122)",
            "size": [
             150000,
             100000,
             36259,
             55000,
             9272
            ],
            "sizemode": "area",
            "sizeref": 1500,
            "symbol": "circle"
           },
           "mode": "markers",
           "name": "BI Data Analyst",
           "orientation": "h",
           "showlegend": true,
           "type": "scatter",
           "x": [
            150000,
            100000,
            36259,
            55000,
            9272
           ],
           "xaxis": "x",
           "y": [
            "Executive-level/Director",
            "Mid-level/Intermediate",
            "Mid-level/Intermediate",
            "Entry-level/Junior",
            "Entry-level/Junior"
           ],
           "yaxis": "y"
          },
          {
           "hovertemplate": "<b>%{hovertext}</b><br><br>job_title=Director of Data Science<br>work_year=2021<br>salary_in_usd=%{marker.size}<br>experience_level=%{y}<extra></extra>",
           "hovertext": [
            "Director of Data Science",
            "Director of Data Science",
            "Director of Data Science",
            "Director of Data Science",
            "Director of Data Science"
           ],
           "legendgroup": "Director of Data Science",
           "marker": {
            "color": "rgb(237, 217, 163)",
            "size": [
             153667,
             168000,
             130026,
             250000,
             141846
            ],
            "sizemode": "area",
            "sizeref": 1500,
            "symbol": "circle"
           },
           "mode": "markers",
           "name": "Director of Data Science",
           "orientation": "h",
           "showlegend": true,
           "type": "scatter",
           "x": [
            153667,
            168000,
            130026,
            250000,
            141846
           ],
           "xaxis": "x",
           "y": [
            "Executive-level/Director",
            "Senior-level/Expert",
            "Executive-level/Director",
            "Executive-level/Director",
            "Executive-level/Director"
           ],
           "yaxis": "y"
          },
          {
           "hovertemplate": "<b>%{hovertext}</b><br><br>job_title=Research Scientist<br>work_year=2021<br>salary_in_usd=%{marker.size}<br>experience_level=%{y}<extra></extra>",
           "hovertext": [
            "Research Scientist",
            "Research Scientist",
            "Research Scientist",
            "Research Scientist",
            "Research Scientist",
            "Research Scientist",
            "Research Scientist",
            "Research Scientist",
            "Research Scientist",
            "Research Scientist"
           ],
           "legendgroup": "Research Scientist",
           "marker": {
            "color": "rgb(75, 41, 145)",
            "size": [
             82528,
             187442,
             62649,
             60757,
             96113,
             50000,
             56738,
             63810,
             100000,
             69999
            ],
            "sizemode": "area",
            "sizeref": 1500,
            "symbol": "circle"
           },
           "mode": "markers",
           "name": "Research Scientist",
           "orientation": "h",
           "showlegend": true,
           "type": "scatter",
           "x": [
            82528,
            187442,
            62649,
            60757,
            96113,
            50000,
            56738,
            63810,
            100000,
            69999
           ],
           "xaxis": "x",
           "y": [
            "Entry-level/Junior",
            "Mid-level/Intermediate",
            "Mid-level/Intermediate",
            "Senior-level/Expert",
            "Senior-level/Expert",
            "Senior-level/Expert",
            "Mid-level/Intermediate",
            "Mid-level/Intermediate",
            "Entry-level/Junior",
            "Mid-level/Intermediate"
           ],
           "yaxis": "y"
          },
          {
           "hovertemplate": "<b>%{hovertext}</b><br><br>job_title=Data Engineering Manager<br>work_year=2021<br>salary_in_usd=%{marker.size}<br>experience_level=%{y}<extra></extra>",
           "hovertext": [
            "Data Engineering Manager",
            "Data Engineering Manager",
            "Data Engineering Manager"
           ],
           "legendgroup": "Data Engineering Manager",
           "marker": {
            "color": "rgb(192, 54, 157)",
            "size": [
             150000,
             153000,
             174000
            ],
            "sizemode": "area",
            "sizeref": 1500,
            "symbol": "circle"
           },
           "mode": "markers",
           "name": "Data Engineering Manager",
           "orientation": "h",
           "showlegend": true,
           "type": "scatter",
           "x": [
            150000,
            153000,
            174000
           ],
           "xaxis": "x",
           "y": [
            "Senior-level/Expert",
            "Senior-level/Expert",
            "Senior-level/Expert"
           ],
           "yaxis": "y"
          },
          {
           "hovertemplate": "<b>%{hovertext}</b><br><br>job_title=Machine Learning Infrastructure Engineer<br>work_year=2021<br>salary_in_usd=%{marker.size}<br>experience_level=%{y}<extra></extra>",
           "hovertext": [
            "Machine Learning Infrastructure Engineer"
           ],
           "legendgroup": "Machine Learning Infrastructure Engineer",
           "marker": {
            "color": "rgb(234, 79, 136)",
            "size": [
             195000
            ],
            "sizemode": "area",
            "sizeref": 1500,
            "symbol": "circle"
           },
           "mode": "markers",
           "name": "Machine Learning Infrastructure Engineer",
           "orientation": "h",
           "showlegend": true,
           "type": "scatter",
           "x": [
            195000
           ],
           "xaxis": "x",
           "y": [
            "Senior-level/Expert"
           ],
           "yaxis": "y"
          },
          {
           "hovertemplate": "<b>%{hovertext}</b><br><br>job_title=ML Engineer<br>work_year=2021<br>salary_in_usd=%{marker.size}<br>experience_level=%{y}<extra></extra>",
           "hovertext": [
            "ML Engineer",
            "ML Engineer",
            "ML Engineer",
            "ML Engineer"
           ],
           "legendgroup": "ML Engineer",
           "marker": {
            "color": "rgb(250, 120, 118)",
            "size": [
             270000,
             63711,
             77364,
             256000
            ],
            "sizemode": "area",
            "sizeref": 1500,
            "symbol": "circle"
           },
           "mode": "markers",
           "name": "ML Engineer",
           "orientation": "h",
           "showlegend": true,
           "type": "scatter",
           "x": [
            270000,
            63711,
            77364,
            256000
           ],
           "xaxis": "x",
           "y": [
            "Mid-level/Intermediate",
            "Mid-level/Intermediate",
            "Mid-level/Intermediate",
            "Senior-level/Expert"
           ],
           "yaxis": "y"
          },
          {
           "hovertemplate": "<b>%{hovertext}</b><br><br>job_title=AI Scientist<br>work_year=2021<br>salary_in_usd=%{marker.size}<br>experience_level=%{y}<extra></extra>",
           "hovertext": [
            "AI Scientist",
            "AI Scientist",
            "AI Scientist",
            "AI Scientist"
           ],
           "legendgroup": "AI Scientist",
           "marker": {
            "color": "rgb(246, 169, 122)",
            "size": [
             12000,
             12000,
             18053,
             55000
            ],
            "sizemode": "area",
            "sizeref": 1500,
            "symbol": "circle"
           },
           "mode": "markers",
           "name": "AI Scientist",
           "orientation": "h",
           "showlegend": true,
           "type": "scatter",
           "x": [
            12000,
            12000,
            18053,
            55000
           ],
           "xaxis": "x",
           "y": [
            "Entry-level/Junior",
            "Entry-level/Junior",
            "Entry-level/Junior",
            "Senior-level/Expert"
           ],
           "yaxis": "y"
          },
          {
           "hovertemplate": "<b>%{hovertext}</b><br><br>job_title=Computer Vision Engineer<br>work_year=2021<br>salary_in_usd=%{marker.size}<br>experience_level=%{y}<extra></extra>",
           "hovertext": [
            "Computer Vision Engineer",
            "Computer Vision Engineer",
            "Computer Vision Engineer"
           ],
           "legendgroup": "Computer Vision Engineer",
           "marker": {
            "color": "rgb(237, 217, 163)",
            "size": [
             24000,
             28609,
             18907
            ],
            "sizemode": "area",
            "sizeref": 1500,
            "symbol": "circle"
           },
           "mode": "markers",
           "name": "Computer Vision Engineer",
           "orientation": "h",
           "showlegend": true,
           "type": "scatter",
           "x": [
            24000,
            28609,
            18907
           ],
           "xaxis": "x",
           "y": [
            "Senior-level/Expert",
            "Entry-level/Junior",
            "Senior-level/Expert"
           ],
           "yaxis": "y"
          },
          {
           "hovertemplate": "<b>%{hovertext}</b><br><br>job_title=Principal Data Scientist<br>work_year=2021<br>salary_in_usd=%{marker.size}<br>experience_level=%{y}<extra></extra>",
           "hovertext": [
            "Principal Data Scientist",
            "Principal Data Scientist",
            "Principal Data Scientist",
            "Principal Data Scientist",
            "Principal Data Scientist"
           ],
           "legendgroup": "Principal Data Scientist",
           "marker": {
            "color": "rgb(75, 41, 145)",
            "size": [
             151000,
             220000,
             235000,
             416000,
             173762
            ],
            "sizemode": "area",
            "sizeref": 1500,
            "symbol": "circle"
           },
           "mode": "markers",
           "name": "Principal Data Scientist",
           "orientation": "h",
           "showlegend": true,
           "type": "scatter",
           "x": [
            151000,
            220000,
            235000,
            416000,
            173762
           ],
           "xaxis": "x",
           "y": [
            "Mid-level/Intermediate",
            "Senior-level/Expert",
            "Senior-level/Expert",
            "Executive-level/Director",
            "Senior-level/Expert"
           ],
           "yaxis": "y"
          },
          {
           "hovertemplate": "<b>%{hovertext}</b><br><br>job_title=Data Science Manager<br>work_year=2021<br>salary_in_usd=%{marker.size}<br>experience_level=%{y}<extra></extra>",
           "hovertext": [
            "Data Science Manager",
            "Data Science Manager",
            "Data Science Manager",
            "Data Science Manager",
            "Data Science Manager",
            "Data Science Manager"
           ],
           "legendgroup": "Data Science Manager",
           "marker": {
            "color": "rgb(135, 44, 162)",
            "size": [
             240000,
             144000,
             152000,
             174000,
             54094,
             94665
            ],
            "sizemode": "area",
            "sizeref": 1500,
            "symbol": "circle"
           },
           "mode": "markers",
           "name": "Data Science Manager",
           "orientation": "h",
           "showlegend": true,
           "type": "scatter",
           "x": [
            240000,
            144000,
            152000,
            174000,
            54094,
            94665
           ],
           "xaxis": "x",
           "y": [
            "Senior-level/Expert",
            "Senior-level/Expert",
            "Senior-level/Expert",
            "Senior-level/Expert",
            "Senior-level/Expert",
            "Senior-level/Expert"
           ],
           "yaxis": "y"
          },
          {
           "hovertemplate": "<b>%{hovertext}</b><br><br>job_title=Head of Data<br>work_year=2021<br>salary_in_usd=%{marker.size}<br>experience_level=%{y}<extra></extra>",
           "hovertext": [
            "Head of Data",
            "Head of Data",
            "Head of Data"
           ],
           "legendgroup": "Head of Data",
           "marker": {
            "color": "rgb(192, 54, 157)",
            "size": [
             235000,
             230000,
             102839
            ],
            "sizemode": "area",
            "sizeref": 1500,
            "symbol": "circle"
           },
           "mode": "markers",
           "name": "Head of Data",
           "orientation": "h",
           "showlegend": true,
           "type": "scatter",
           "x": [
            235000,
            230000,
            102839
           ],
           "xaxis": "x",
           "y": [
            "Executive-level/Director",
            "Executive-level/Director",
            "Senior-level/Expert"
           ],
           "yaxis": "y"
          },
          {
           "hovertemplate": "<b>%{hovertext}</b><br><br>job_title=3D Computer Vision Researcher<br>work_year=2021<br>salary_in_usd=%{marker.size}<br>experience_level=%{y}<extra></extra>",
           "hovertext": [
            "3D Computer Vision Researcher"
           ],
           "legendgroup": "3D Computer Vision Researcher",
           "marker": {
            "color": "rgb(234, 79, 136)",
            "size": [
             5409
            ],
            "sizemode": "area",
            "sizeref": 1500,
            "symbol": "circle"
           },
           "mode": "markers",
           "name": "3D Computer Vision Researcher",
           "orientation": "h",
           "showlegend": true,
           "type": "scatter",
           "x": [
            5409
           ],
           "xaxis": "x",
           "y": [
            "Mid-level/Intermediate"
           ],
           "yaxis": "y"
          },
          {
           "hovertemplate": "<b>%{hovertext}</b><br><br>job_title=Data Analytics Engineer<br>work_year=2021<br>salary_in_usd=%{marker.size}<br>experience_level=%{y}<extra></extra>",
           "hovertext": [
            "Data Analytics Engineer",
            "Data Analytics Engineer",
            "Data Analytics Engineer"
           ],
           "legendgroup": "Data Analytics Engineer",
           "marker": {
            "color": "rgb(250, 120, 118)",
            "size": [
             79197,
             110000,
             50000
            ],
            "sizemode": "area",
            "sizeref": 1500,
            "symbol": "circle"
           },
           "mode": "markers",
           "name": "Data Analytics Engineer",
           "orientation": "h",
           "showlegend": true,
           "type": "scatter",
           "x": [
            79197,
            110000,
            50000
           ],
           "xaxis": "x",
           "y": [
            "Senior-level/Expert",
            "Mid-level/Intermediate",
            "Senior-level/Expert"
           ],
           "yaxis": "y"
          },
          {
           "hovertemplate": "<b>%{hovertext}</b><br><br>job_title=Applied Data Scientist<br>work_year=2021<br>salary_in_usd=%{marker.size}<br>experience_level=%{y}<extra></extra>",
           "hovertext": [
            "Applied Data Scientist",
            "Applied Data Scientist"
           ],
           "legendgroup": "Applied Data Scientist",
           "marker": {
            "color": "rgb(246, 169, 122)",
            "size": [
             54238,
             110037
            ],
            "sizemode": "area",
            "sizeref": 1500,
            "symbol": "circle"
           },
           "mode": "markers",
           "name": "Applied Data Scientist",
           "orientation": "h",
           "showlegend": true,
           "type": "scatter",
           "x": [
            54238,
            110037
           ],
           "xaxis": "x",
           "y": [
            "Mid-level/Intermediate",
            "Entry-level/Junior"
           ],
           "yaxis": "y"
          },
          {
           "hovertemplate": "<b>%{hovertext}</b><br><br>job_title=Marketing Data Analyst<br>work_year=2021<br>salary_in_usd=%{marker.size}<br>experience_level=%{y}<extra></extra>",
           "hovertext": [
            "Marketing Data Analyst"
           ],
           "legendgroup": "Marketing Data Analyst",
           "marker": {
            "color": "rgb(237, 217, 163)",
            "size": [
             88654
            ],
            "sizemode": "area",
            "sizeref": 1500,
            "symbol": "circle"
           },
           "mode": "markers",
           "name": "Marketing Data Analyst",
           "orientation": "h",
           "showlegend": true,
           "type": "scatter",
           "x": [
            88654
           ],
           "xaxis": "x",
           "y": [
            "Senior-level/Expert"
           ],
           "yaxis": "y"
          },
          {
           "hovertemplate": "<b>%{hovertext}</b><br><br>job_title=Cloud Data Engineer<br>work_year=2021<br>salary_in_usd=%{marker.size}<br>experience_level=%{y}<extra></extra>",
           "hovertext": [
            "Cloud Data Engineer",
            "Cloud Data Engineer"
           ],
           "legendgroup": "Cloud Data Engineer",
           "marker": {
            "color": "rgb(75, 41, 145)",
            "size": [
             89294,
             160000
            ],
            "sizemode": "area",
            "sizeref": 1500,
            "symbol": "circle"
           },
           "mode": "markers",
           "name": "Cloud Data Engineer",
           "orientation": "h",
           "showlegend": true,
           "type": "scatter",
           "x": [
            89294,
            160000
           ],
           "xaxis": "x",
           "y": [
            "Mid-level/Intermediate",
            "Senior-level/Expert"
           ],
           "yaxis": "y"
          },
          {
           "hovertemplate": "<b>%{hovertext}</b><br><br>job_title=Financial Data Analyst<br>work_year=2021<br>salary_in_usd=%{marker.size}<br>experience_level=%{y}<extra></extra>",
           "hovertext": [
            "Financial Data Analyst"
           ],
           "legendgroup": "Financial Data Analyst",
           "marker": {
            "color": "rgb(135, 44, 162)",
            "size": [
             450000
            ],
            "sizemode": "area",
            "sizeref": 1500,
            "symbol": "circle"
           },
           "mode": "markers",
           "name": "Financial Data Analyst",
           "orientation": "h",
           "showlegend": true,
           "type": "scatter",
           "x": [
            450000
           ],
           "xaxis": "x",
           "y": [
            "Mid-level/Intermediate"
           ],
           "yaxis": "y"
          },
          {
           "hovertemplate": "<b>%{hovertext}</b><br><br>job_title=Computer Vision Software Engineer<br>work_year=2021<br>salary_in_usd=%{marker.size}<br>experience_level=%{y}<extra></extra>",
           "hovertext": [
            "Computer Vision Software Engineer",
            "Computer Vision Software Engineer"
           ],
           "legendgroup": "Computer Vision Software Engineer",
           "marker": {
            "color": "rgb(192, 54, 157)",
            "size": [
             70000,
             95746
            ],
            "sizemode": "area",
            "sizeref": 1500,
            "symbol": "circle"
           },
           "mode": "markers",
           "name": "Computer Vision Software Engineer",
           "orientation": "h",
           "showlegend": true,
           "type": "scatter",
           "x": [
            70000,
            95746
           ],
           "xaxis": "x",
           "y": [
            "Entry-level/Junior",
            "Mid-level/Intermediate"
           ],
           "yaxis": "y"
          },
          {
           "hovertemplate": "<b>%{hovertext}</b><br><br>job_title=Director of Data Engineering<br>work_year=2021<br>salary_in_usd=%{marker.size}<br>experience_level=%{y}<extra></extra>",
           "hovertext": [
            "Director of Data Engineering",
            "Director of Data Engineering"
           ],
           "legendgroup": "Director of Data Engineering",
           "marker": {
            "color": "rgb(234, 79, 136)",
            "size": [
             113476,
             200000
            ],
            "sizemode": "area",
            "sizeref": 1500,
            "symbol": "circle"
           },
           "mode": "markers",
           "name": "Director of Data Engineering",
           "orientation": "h",
           "showlegend": true,
           "type": "scatter",
           "x": [
            113476,
            200000
           ],
           "xaxis": "x",
           "y": [
            "Senior-level/Expert",
            "Senior-level/Expert"
           ],
           "yaxis": "y"
          },
          {
           "hovertemplate": "<b>%{hovertext}</b><br><br>job_title=Data Science Engineer<br>work_year=2021<br>salary_in_usd=%{marker.size}<br>experience_level=%{y}<extra></extra>",
           "hovertext": [
            "Data Science Engineer",
            "Data Science Engineer"
           ],
           "legendgroup": "Data Science Engineer",
           "marker": {
            "color": "rgb(250, 120, 118)",
            "size": [
             40189,
             127221
            ],
            "sizemode": "area",
            "sizeref": 1500,
            "symbol": "circle"
           },
           "mode": "markers",
           "name": "Data Science Engineer",
           "orientation": "h",
           "showlegend": true,
           "type": "scatter",
           "x": [
            40189,
            127221
           ],
           "xaxis": "x",
           "y": [
            "Mid-level/Intermediate",
            "Senior-level/Expert"
           ],
           "yaxis": "y"
          },
          {
           "hovertemplate": "<b>%{hovertext}</b><br><br>job_title=Principal Data Engineer<br>work_year=2021<br>salary_in_usd=%{marker.size}<br>experience_level=%{y}<extra></extra>",
           "hovertext": [
            "Principal Data Engineer",
            "Principal Data Engineer",
            "Principal Data Engineer"
           ],
           "legendgroup": "Principal Data Engineer",
           "marker": {
            "color": "rgb(246, 169, 122)",
            "size": [
             200000,
             185000,
             600000
            ],
            "sizemode": "area",
            "sizeref": 1500,
            "symbol": "circle"
           },
           "mode": "markers",
           "name": "Principal Data Engineer",
           "orientation": "h",
           "showlegend": true,
           "type": "scatter",
           "x": [
            200000,
            185000,
            600000
           ],
           "xaxis": "x",
           "y": [
            "Senior-level/Expert",
            "Senior-level/Expert",
            "Executive-level/Director"
           ],
           "yaxis": "y"
          },
          {
           "hovertemplate": "<b>%{hovertext}</b><br><br>job_title=Machine Learning Developer<br>work_year=2021<br>salary_in_usd=%{marker.size}<br>experience_level=%{y}<extra></extra>",
           "hovertext": [
            "Machine Learning Developer"
           ],
           "legendgroup": "Machine Learning Developer",
           "marker": {
            "color": "rgb(237, 217, 163)",
            "size": [
             100000
            ],
            "sizemode": "area",
            "sizeref": 1500,
            "symbol": "circle"
           },
           "mode": "markers",
           "name": "Machine Learning Developer",
           "orientation": "h",
           "showlegend": true,
           "type": "scatter",
           "x": [
            100000
           ],
           "xaxis": "x",
           "y": [
            "Entry-level/Junior"
           ],
           "yaxis": "y"
          },
          {
           "hovertemplate": "<b>%{hovertext}</b><br><br>job_title=Applied Machine Learning Scientist<br>work_year=2021<br>salary_in_usd=%{marker.size}<br>experience_level=%{y}<extra></extra>",
           "hovertext": [
            "Applied Machine Learning Scientist",
            "Applied Machine Learning Scientist"
           ],
           "legendgroup": "Applied Machine Learning Scientist",
           "marker": {
            "color": "rgb(75, 41, 145)",
            "size": [
             38400,
             423000
            ],
            "sizemode": "area",
            "sizeref": 1500,
            "symbol": "circle"
           },
           "mode": "markers",
           "name": "Applied Machine Learning Scientist",
           "orientation": "h",
           "showlegend": true,
           "type": "scatter",
           "x": [
            38400,
            423000
           ],
           "xaxis": "x",
           "y": [
            "Mid-level/Intermediate",
            "Mid-level/Intermediate"
           ],
           "yaxis": "y"
          },
          {
           "hovertemplate": "<b>%{hovertext}</b><br><br>job_title=Data Analytics Manager<br>work_year=2021<br>salary_in_usd=%{marker.size}<br>experience_level=%{y}<extra></extra>",
           "hovertext": [
            "Data Analytics Manager",
            "Data Analytics Manager",
            "Data Analytics Manager"
           ],
           "legendgroup": "Data Analytics Manager",
           "marker": {
            "color": "rgb(135, 44, 162)",
            "size": [
             120000,
             120000,
             140000
            ],
            "sizemode": "area",
            "sizeref": 1500,
            "symbol": "circle"
           },
           "mode": "markers",
           "name": "Data Analytics Manager",
           "orientation": "h",
           "showlegend": true,
           "type": "scatter",
           "x": [
            120000,
            120000,
            140000
           ],
           "xaxis": "x",
           "y": [
            "Senior-level/Expert",
            "Senior-level/Expert",
            "Senior-level/Expert"
           ],
           "yaxis": "y"
          },
          {
           "hovertemplate": "<b>%{hovertext}</b><br><br>job_title=Head of Data Science<br>work_year=2021<br>salary_in_usd=%{marker.size}<br>experience_level=%{y}<extra></extra>",
           "hovertext": [
            "Head of Data Science",
            "Head of Data Science"
           ],
           "legendgroup": "Head of Data Science",
           "marker": {
            "color": "rgb(192, 54, 157)",
            "size": [
             85000,
             110000
            ],
            "sizemode": "area",
            "sizeref": 1500,
            "symbol": "circle"
           },
           "mode": "markers",
           "name": "Head of Data Science",
           "orientation": "h",
           "showlegend": true,
           "type": "scatter",
           "x": [
            85000,
            110000
           ],
           "xaxis": "x",
           "y": [
            "Executive-level/Director",
            "Mid-level/Intermediate"
           ],
           "yaxis": "y"
          },
          {
           "hovertemplate": "<b>%{hovertext}</b><br><br>job_title=Data Specialist<br>work_year=2021<br>salary_in_usd=%{marker.size}<br>experience_level=%{y}<extra></extra>",
           "hovertext": [
            "Data Specialist"
           ],
           "legendgroup": "Data Specialist",
           "marker": {
            "color": "rgb(234, 79, 136)",
            "size": [
             165000
            ],
            "sizemode": "area",
            "sizeref": 1500,
            "symbol": "circle"
           },
           "mode": "markers",
           "name": "Data Specialist",
           "orientation": "h",
           "showlegend": true,
           "type": "scatter",
           "x": [
            165000
           ],
           "xaxis": "x",
           "y": [
            "Senior-level/Expert"
           ],
           "yaxis": "y"
          },
          {
           "hovertemplate": "<b>%{hovertext}</b><br><br>job_title=Data Architect<br>work_year=2021<br>salary_in_usd=%{marker.size}<br>experience_level=%{y}<extra></extra>",
           "hovertext": [
            "Data Architect",
            "Data Architect",
            "Data Architect"
           ],
           "legendgroup": "Data Architect",
           "marker": {
            "color": "rgb(250, 120, 118)",
            "size": [
             150000,
             170000,
             180000
            ],
            "sizemode": "area",
            "sizeref": 1500,
            "symbol": "circle"
           },
           "mode": "markers",
           "name": "Data Architect",
           "orientation": "h",
           "showlegend": true,
           "type": "scatter",
           "x": [
            150000,
            170000,
            180000
           ],
           "xaxis": "x",
           "y": [
            "Mid-level/Intermediate",
            "Mid-level/Intermediate",
            "Mid-level/Intermediate"
           ],
           "yaxis": "y"
          },
          {
           "hovertemplate": "<b>%{hovertext}</b><br><br>job_title=Finance Data Analyst<br>work_year=2021<br>salary_in_usd=%{marker.size}<br>experience_level=%{y}<extra></extra>",
           "hovertext": [
            "Finance Data Analyst"
           ],
           "legendgroup": "Finance Data Analyst",
           "marker": {
            "color": "rgb(246, 169, 122)",
            "size": [
             61896
            ],
            "sizemode": "area",
            "sizeref": 1500,
            "symbol": "circle"
           },
           "mode": "markers",
           "name": "Finance Data Analyst",
           "orientation": "h",
           "showlegend": true,
           "type": "scatter",
           "x": [
            61896
           ],
           "xaxis": "x",
           "y": [
            "Senior-level/Expert"
           ],
           "yaxis": "y"
          },
          {
           "hovertemplate": "<b>%{hovertext}</b><br><br>job_title=Principal Data Analyst<br>work_year=2021<br>salary_in_usd=%{marker.size}<br>experience_level=%{y}<extra></extra>",
           "hovertext": [
            "Principal Data Analyst"
           ],
           "legendgroup": "Principal Data Analyst",
           "marker": {
            "color": "rgb(237, 217, 163)",
            "size": [
             170000
            ],
            "sizemode": "area",
            "sizeref": 1500,
            "symbol": "circle"
           },
           "mode": "markers",
           "name": "Principal Data Analyst",
           "orientation": "h",
           "showlegend": true,
           "type": "scatter",
           "x": [
            170000
           ],
           "xaxis": "x",
           "y": [
            "Senior-level/Expert"
           ],
           "yaxis": "y"
          },
          {
           "hovertemplate": "<b>%{hovertext}</b><br><br>job_title=Big Data Architect<br>work_year=2021<br>salary_in_usd=%{marker.size}<br>experience_level=%{y}<extra></extra>",
           "hovertext": [
            "Big Data Architect"
           ],
           "legendgroup": "Big Data Architect",
           "marker": {
            "color": "rgb(75, 41, 145)",
            "size": [
             99703
            ],
            "sizemode": "area",
            "sizeref": 1500,
            "symbol": "circle"
           },
           "mode": "markers",
           "name": "Big Data Architect",
           "orientation": "h",
           "showlegend": true,
           "type": "scatter",
           "x": [
            99703
           ],
           "xaxis": "x",
           "y": [
            "Senior-level/Expert"
           ],
           "yaxis": "y"
          },
          {
           "hovertemplate": "<b>%{hovertext}</b><br><br>job_title=Staff Data Scientist<br>work_year=2021<br>salary_in_usd=%{marker.size}<br>experience_level=%{y}<extra></extra>",
           "hovertext": [
            "Staff Data Scientist"
           ],
           "legendgroup": "Staff Data Scientist",
           "marker": {
            "color": "rgb(135, 44, 162)",
            "size": [
             105000
            ],
            "sizemode": "area",
            "sizeref": 1500,
            "symbol": "circle"
           },
           "mode": "markers",
           "name": "Staff Data Scientist",
           "orientation": "h",
           "showlegend": true,
           "type": "scatter",
           "x": [
            105000
           ],
           "xaxis": "x",
           "y": [
            "Senior-level/Expert"
           ],
           "yaxis": "y"
          }
         ],
         "name": "2021"
        },
        {
         "data": [
          {
           "hovertemplate": "<b>%{hovertext}</b><br><br>job_title=Data Scientist<br>work_year=2022<br>salary_in_usd=%{marker.size}<br>experience_level=%{y}<extra></extra>",
           "hovertext": [
            "Data Scientist",
            "Data Scientist",
            "Data Scientist",
            "Data Scientist",
            "Data Scientist",
            "Data Scientist",
            "Data Scientist",
            "Data Scientist",
            "Data Scientist",
            "Data Scientist",
            "Data Scientist",
            "Data Scientist",
            "Data Scientist",
            "Data Scientist",
            "Data Scientist",
            "Data Scientist",
            "Data Scientist",
            "Data Scientist",
            "Data Scientist",
            "Data Scientist",
            "Data Scientist",
            "Data Scientist",
            "Data Scientist",
            "Data Scientist",
            "Data Scientist",
            "Data Scientist",
            "Data Scientist",
            "Data Scientist",
            "Data Scientist",
            "Data Scientist",
            "Data Scientist",
            "Data Scientist",
            "Data Scientist",
            "Data Scientist",
            "Data Scientist",
            "Data Scientist",
            "Data Scientist",
            "Data Scientist",
            "Data Scientist",
            "Data Scientist",
            "Data Scientist",
            "Data Scientist",
            "Data Scientist",
            "Data Scientist",
            "Data Scientist",
            "Data Scientist",
            "Data Scientist",
            "Data Scientist",
            "Data Scientist",
            "Data Scientist",
            "Data Scientist",
            "Data Scientist",
            "Data Scientist",
            "Data Scientist",
            "Data Scientist",
            "Data Scientist",
            "Data Scientist",
            "Data Scientist",
            "Data Scientist",
            "Data Scientist",
            "Data Scientist",
            "Data Scientist",
            "Data Scientist",
            "Data Scientist",
            "Data Scientist",
            "Data Scientist",
            "Data Scientist",
            "Data Scientist",
            "Data Scientist",
            "Data Scientist",
            "Data Scientist",
            "Data Scientist",
            "Data Scientist",
            "Data Scientist",
            "Data Scientist",
            "Data Scientist",
            "Data Scientist"
           ],
           "legendgroup": "Data Scientist",
           "marker": {
            "color": "rgb(75, 41, 145)",
            "size": [
             130000,
             90000,
             136620,
             99360,
             117789,
             104702,
             146000,
             123000,
             65438,
             39263,
             165220,
             120160,
             180000,
             120000,
             95550,
             167000,
             123000,
             150000,
             211500,
             138600,
             170000,
             123000,
             215300,
             158200,
             180000,
             71982,
             45807,
             260000,
             180000,
             80000,
             140400,
             215300,
             31615,
             18442,
             104890,
             140000,
             220000,
             140000,
             183228,
             91614,
             185100,
             200000,
             120000,
             230000,
             100000,
             100000,
             35590,
             100000,
             165000,
             52396,
             40000,
             86703,
             48000,
             122346,
             69336,
             135000,
             78000,
             141300,
             102100,
             205300,
             140400,
             176000,
             144000,
             205300,
             140400,
             140000,
             210000,
             140000,
             210000,
             140000,
             210000,
             140000,
             230000,
             150000,
             210000,
             160000,
             130000
            ],
            "sizemode": "area",
            "sizeref": 1500,
            "symbol": "circle"
           },
           "mode": "markers",
           "name": "Data Scientist",
           "orientation": "h",
           "showlegend": true,
           "type": "scatter",
           "x": [
            130000,
            90000,
            136620,
            99360,
            117789,
            104702,
            146000,
            123000,
            65438,
            39263,
            165220,
            120160,
            180000,
            120000,
            95550,
            167000,
            123000,
            150000,
            211500,
            138600,
            170000,
            123000,
            215300,
            158200,
            180000,
            71982,
            45807,
            260000,
            180000,
            80000,
            140400,
            215300,
            31615,
            18442,
            104890,
            140000,
            220000,
            140000,
            183228,
            91614,
            185100,
            200000,
            120000,
            230000,
            100000,
            100000,
            35590,
            100000,
            165000,
            52396,
            40000,
            86703,
            48000,
            122346,
            69336,
            135000,
            78000,
            141300,
            102100,
            205300,
            140400,
            176000,
            144000,
            205300,
            140400,
            140000,
            210000,
            140000,
            210000,
            140000,
            210000,
            140000,
            230000,
            150000,
            210000,
            160000,
            130000
           ],
           "xaxis": "x",
           "y": [
            "Mid-level/Intermediate",
            "Mid-level/Intermediate",
            "Senior-level/Expert",
            "Senior-level/Expert",
            "Senior-level/Expert",
            "Senior-level/Expert",
            "Senior-level/Expert",
            "Senior-level/Expert",
            "Mid-level/Intermediate",
            "Mid-level/Intermediate",
            "Senior-level/Expert",
            "Senior-level/Expert",
            "Senior-level/Expert",
            "Senior-level/Expert",
            "Senior-level/Expert",
            "Senior-level/Expert",
            "Senior-level/Expert",
            "Senior-level/Expert",
            "Senior-level/Expert",
            "Senior-level/Expert",
            "Senior-level/Expert",
            "Senior-level/Expert",
            "Senior-level/Expert",
            "Senior-level/Expert",
            "Senior-level/Expert",
            "Mid-level/Intermediate",
            "Mid-level/Intermediate",
            "Senior-level/Expert",
            "Senior-level/Expert",
            "Senior-level/Expert",
            "Senior-level/Expert",
            "Senior-level/Expert",
            "Mid-level/Intermediate",
            "Entry-level/Junior",
            "Senior-level/Expert",
            "Senior-level/Expert",
            "Senior-level/Expert",
            "Senior-level/Expert",
            "Mid-level/Intermediate",
            "Mid-level/Intermediate",
            "Senior-level/Expert",
            "Mid-level/Intermediate",
            "Mid-level/Intermediate",
            "Senior-level/Expert",
            "Entry-level/Junior",
            "Mid-level/Intermediate",
            "Mid-level/Intermediate",
            "Senior-level/Expert",
            "Senior-level/Expert",
            "Entry-level/Junior",
            "Entry-level/Junior",
            "Entry-level/Junior",
            "Mid-level/Intermediate",
            "Mid-level/Intermediate",
            "Mid-level/Intermediate",
            "Mid-level/Intermediate",
            "Mid-level/Intermediate",
            "Mid-level/Intermediate",
            "Mid-level/Intermediate",
            "Senior-level/Expert",
            "Senior-level/Expert",
            "Senior-level/Expert",
            "Senior-level/Expert",
            "Senior-level/Expert",
            "Senior-level/Expert",
            "Senior-level/Expert",
            "Senior-level/Expert",
            "Senior-level/Expert",
            "Senior-level/Expert",
            "Senior-level/Expert",
            "Senior-level/Expert",
            "Senior-level/Expert",
            "Senior-level/Expert",
            "Senior-level/Expert",
            "Senior-level/Expert",
            "Mid-level/Intermediate",
            "Mid-level/Intermediate"
           ],
           "yaxis": "y"
          },
          {
           "hovertemplate": "<b>%{hovertext}</b><br><br>job_title=Machine Learning Scientist<br>work_year=2022<br>salary_in_usd=%{marker.size}<br>experience_level=%{y}<extra></extra>",
           "hovertext": [
            "Machine Learning Scientist",
            "Machine Learning Scientist",
            "Machine Learning Scientist"
           ],
           "legendgroup": "Machine Learning Scientist",
           "marker": {
            "color": "rgb(135, 44, 162)",
            "size": [
             160000,
             112300,
             153000
            ],
            "sizemode": "area",
            "sizeref": 1500,
            "symbol": "circle"
           },
           "mode": "markers",
           "name": "Machine Learning Scientist",
           "orientation": "h",
           "showlegend": true,
           "type": "scatter",
           "x": [
            160000,
            112300,
            153000
           ],
           "xaxis": "x",
           "y": [
            "Mid-level/Intermediate",
            "Mid-level/Intermediate",
            "Mid-level/Intermediate"
           ],
           "yaxis": "y"
          },
          {
           "hovertemplate": "<b>%{hovertext}</b><br><br>job_title=Machine Learning Engineer<br>work_year=2022<br>salary_in_usd=%{marker.size}<br>experience_level=%{y}<extra></extra>",
           "hovertext": [
            "Machine Learning Engineer",
            "Machine Learning Engineer",
            "Machine Learning Engineer",
            "Machine Learning Engineer",
            "Machine Learning Engineer",
            "Machine Learning Engineer",
            "Machine Learning Engineer",
            "Machine Learning Engineer",
            "Machine Learning Engineer",
            "Machine Learning Engineer",
            "Machine Learning Engineer",
            "Machine Learning Engineer",
            "Machine Learning Engineer",
            "Machine Learning Engineer",
            "Machine Learning Engineer",
            "Machine Learning Engineer",
            "Machine Learning Engineer",
            "Machine Learning Engineer"
           ],
           "legendgroup": "Machine Learning Engineer",
           "marker": {
            "color": "rgb(250, 120, 118)",
            "size": [
             189650,
             164996,
             37300,
             124333,
             98158,
             87932,
             189650,
             164996,
             120000,
             220000,
             120000,
             65000,
             120000,
             62651,
             87425,
             71444,
             214000,
             192600
            ],
            "sizemode": "area",
            "sizeref": 1500,
            "symbol": "circle"
           },
           "mode": "markers",
           "name": "Machine Learning Engineer",
           "orientation": "h",
           "showlegend": true,
           "type": "scatter",
           "x": [
            189650,
            164996,
            37300,
            124333,
            98158,
            87932,
            189650,
            164996,
            120000,
            220000,
            120000,
            65000,
            120000,
            62651,
            87425,
            71444,
            214000,
            192600
           ],
           "xaxis": "x",
           "y": [
            "Senior-level/Expert",
            "Senior-level/Expert",
            "Entry-level/Junior",
            "Mid-level/Intermediate",
            "Mid-level/Intermediate",
            "Mid-level/Intermediate",
            "Senior-level/Expert",
            "Senior-level/Expert",
            "Mid-level/Intermediate",
            "Senior-level/Expert",
            "Senior-level/Expert",
            "Senior-level/Expert",
            "Senior-level/Expert",
            "Senior-level/Expert",
            "Mid-level/Intermediate",
            "Senior-level/Expert",
            "Senior-level/Expert",
            "Senior-level/Expert"
           ],
           "yaxis": "y"
          },
          {
           "hovertemplate": "<b>%{hovertext}</b><br><br>job_title=Data Analyst<br>work_year=2022<br>salary_in_usd=%{marker.size}<br>experience_level=%{y}<extra></extra>",
           "hovertext": [
            "Data Analyst",
            "Data Analyst",
            "Data Analyst",
            "Data Analyst",
            "Data Analyst",
            "Data Analyst",
            "Data Analyst",
            "Data Analyst",
            "Data Analyst",
            "Data Analyst",
            "Data Analyst",
            "Data Analyst",
            "Data Analyst",
            "Data Analyst",
            "Data Analyst",
            "Data Analyst",
            "Data Analyst",
            "Data Analyst",
            "Data Analyst",
            "Data Analyst",
            "Data Analyst",
            "Data Analyst",
            "Data Analyst",
            "Data Analyst",
            "Data Analyst",
            "Data Analyst",
            "Data Analyst",
            "Data Analyst",
            "Data Analyst",
            "Data Analyst",
            "Data Analyst",
            "Data Analyst",
            "Data Analyst",
            "Data Analyst",
            "Data Analyst",
            "Data Analyst",
            "Data Analyst",
            "Data Analyst",
            "Data Analyst",
            "Data Analyst",
            "Data Analyst",
            "Data Analyst",
            "Data Analyst",
            "Data Analyst",
            "Data Analyst",
            "Data Analyst",
            "Data Analyst",
            "Data Analyst",
            "Data Analyst",
            "Data Analyst",
            "Data Analyst",
            "Data Analyst",
            "Data Analyst",
            "Data Analyst",
            "Data Analyst",
            "Data Analyst",
            "Data Analyst",
            "Data Analyst",
            "Data Analyst",
            "Data Analyst",
            "Data Analyst",
            "Data Analyst",
            "Data Analyst",
            "Data Analyst",
            "Data Analyst",
            "Data Analyst",
            "Data Analyst",
            "Data Analyst",
            "Data Analyst",
            "Data Analyst",
            "Data Analyst",
            "Data Analyst",
            "Data Analyst"
           ],
           "legendgroup": "Data Analyst",
           "marker": {
            "color": "rgb(246, 169, 122)",
            "size": [
             155000,
             120600,
             102100,
             84900,
             99000,
             116000,
             106260,
             126500,
             90320,
             124190,
             130000,
             110000,
             170000,
             115500,
             112900,
             90320,
             112900,
             90320,
             167000,
             136600,
             109280,
             135000,
             130000,
             61300,
             130000,
             61300,
             58000,
             132000,
             128875,
             93700,
             164000,
             112900,
             90320,
             115934,
             81666,
             58000,
             52351,
             39263,
             43966,
             32974,
             43966,
             32974,
             135000,
             50000,
             20000,
             135000,
             100000,
             90320,
             85000,
             75000,
             112900,
             115934,
             81666,
             99050,
             116150,
             170000,
             65438,
             80000,
             100000,
             69000,
             150075,
             126500,
             106260,
             105000,
             110925,
             45807,
             99000,
             60000,
             170000,
             67000,
             52000,
             129000,
             150000
            ],
            "sizemode": "area",
            "sizeref": 1500,
            "symbol": "circle"
           },
           "mode": "markers",
           "name": "Data Analyst",
           "orientation": "h",
           "showlegend": true,
           "type": "scatter",
           "x": [
            155000,
            120600,
            102100,
            84900,
            99000,
            116000,
            106260,
            126500,
            90320,
            124190,
            130000,
            110000,
            170000,
            115500,
            112900,
            90320,
            112900,
            90320,
            167000,
            136600,
            109280,
            135000,
            130000,
            61300,
            130000,
            61300,
            58000,
            132000,
            128875,
            93700,
            164000,
            112900,
            90320,
            115934,
            81666,
            58000,
            52351,
            39263,
            43966,
            32974,
            43966,
            32974,
            135000,
            50000,
            20000,
            135000,
            100000,
            90320,
            85000,
            75000,
            112900,
            115934,
            81666,
            99050,
            116150,
            170000,
            65438,
            80000,
            100000,
            69000,
            150075,
            126500,
            106260,
            105000,
            110925,
            45807,
            99000,
            60000,
            170000,
            67000,
            52000,
            129000,
            150000
           ],
           "xaxis": "x",
           "y": [
            "Senior-level/Expert",
            "Senior-level/Expert",
            "Senior-level/Expert",
            "Senior-level/Expert",
            "Senior-level/Expert",
            "Senior-level/Expert",
            "Mid-level/Intermediate",
            "Mid-level/Intermediate",
            "Senior-level/Expert",
            "Senior-level/Expert",
            "Executive-level/Director",
            "Executive-level/Director",
            "Senior-level/Expert",
            "Mid-level/Intermediate",
            "Senior-level/Expert",
            "Senior-level/Expert",
            "Senior-level/Expert",
            "Senior-level/Expert",
            "Mid-level/Intermediate",
            "Senior-level/Expert",
            "Senior-level/Expert",
            "Senior-level/Expert",
            "Senior-level/Expert",
            "Senior-level/Expert",
            "Senior-level/Expert",
            "Senior-level/Expert",
            "Mid-level/Intermediate",
            "Senior-level/Expert",
            "Senior-level/Expert",
            "Senior-level/Expert",
            "Senior-level/Expert",
            "Senior-level/Expert",
            "Senior-level/Expert",
            "Senior-level/Expert",
            "Senior-level/Expert",
            "Mid-level/Intermediate",
            "Mid-level/Intermediate",
            "Mid-level/Intermediate",
            "Mid-level/Intermediate",
            "Mid-level/Intermediate",
            "Mid-level/Intermediate",
            "Mid-level/Intermediate",
            "Mid-level/Intermediate",
            "Mid-level/Intermediate",
            "Mid-level/Intermediate",
            "Senior-level/Expert",
            "Senior-level/Expert",
            "Senior-level/Expert",
            "Mid-level/Intermediate",
            "Mid-level/Intermediate",
            "Senior-level/Expert",
            "Senior-level/Expert",
            "Senior-level/Expert",
            "Senior-level/Expert",
            "Senior-level/Expert",
            "Senior-level/Expert",
            "Mid-level/Intermediate",
            "Senior-level/Expert",
            "Senior-level/Expert",
            "Senior-level/Expert",
            "Senior-level/Expert",
            "Senior-level/Expert",
            "Senior-level/Expert",
            "Senior-level/Expert",
            "Senior-level/Expert",
            "Mid-level/Intermediate",
            "Senior-level/Expert",
            "Senior-level/Expert",
            "Senior-level/Expert",
            "Entry-level/Junior",
            "Entry-level/Junior",
            "Senior-level/Expert",
            "Senior-level/Expert"
           ],
           "yaxis": "y"
          },
          {
           "hovertemplate": "<b>%{hovertext}</b><br><br>job_title=Business Data Analyst<br>work_year=2022<br>salary_in_usd=%{marker.size}<br>experience_level=%{y}<extra></extra>",
           "hovertext": [
            "Business Data Analyst",
            "Business Data Analyst"
           ],
           "legendgroup": "Business Data Analyst",
           "marker": {
            "color": "rgb(75, 41, 145)",
            "size": [
             18442,
             70912
            ],
            "sizemode": "area",
            "sizeref": 1500,
            "symbol": "circle"
           },
           "mode": "markers",
           "name": "Business Data Analyst",
           "orientation": "h",
           "showlegend": true,
           "type": "scatter",
           "x": [
            18442,
            70912
           ],
           "xaxis": "x",
           "y": [
            "Mid-level/Intermediate",
            "Mid-level/Intermediate"
           ],
           "yaxis": "y"
          },
          {
           "hovertemplate": "<b>%{hovertext}</b><br><br>job_title=Lead Data Engineer<br>work_year=2022<br>salary_in_usd=%{marker.size}<br>experience_level=%{y}<extra></extra>",
           "hovertext": [
            "Lead Data Engineer"
           ],
           "legendgroup": "Lead Data Engineer",
           "marker": {
            "color": "rgb(135, 44, 162)",
            "size": [
             118187
            ],
            "sizemode": "area",
            "sizeref": 1500,
            "symbol": "circle"
           },
           "mode": "markers",
           "name": "Lead Data Engineer",
           "orientation": "h",
           "showlegend": true,
           "type": "scatter",
           "x": [
            118187
           ],
           "xaxis": "x",
           "y": [
            "Executive-level/Director"
           ],
           "yaxis": "y"
          },
          {
           "hovertemplate": "<b>%{hovertext}</b><br><br>job_title=Data Engineer<br>work_year=2022<br>salary_in_usd=%{marker.size}<br>experience_level=%{y}<extra></extra>",
           "hovertext": [
            "Data Engineer",
            "Data Engineer",
            "Data Engineer",
            "Data Engineer",
            "Data Engineer",
            "Data Engineer",
            "Data Engineer",
            "Data Engineer",
            "Data Engineer",
            "Data Engineer",
            "Data Engineer",
            "Data Engineer",
            "Data Engineer",
            "Data Engineer",
            "Data Engineer",
            "Data Engineer",
            "Data Engineer",
            "Data Engineer",
            "Data Engineer",
            "Data Engineer",
            "Data Engineer",
            "Data Engineer",
            "Data Engineer",
            "Data Engineer",
            "Data Engineer",
            "Data Engineer",
            "Data Engineer",
            "Data Engineer",
            "Data Engineer",
            "Data Engineer",
            "Data Engineer",
            "Data Engineer",
            "Data Engineer",
            "Data Engineer",
            "Data Engineer",
            "Data Engineer",
            "Data Engineer",
            "Data Engineer",
            "Data Engineer",
            "Data Engineer",
            "Data Engineer",
            "Data Engineer",
            "Data Engineer",
            "Data Engineer",
            "Data Engineer",
            "Data Engineer",
            "Data Engineer",
            "Data Engineer",
            "Data Engineer",
            "Data Engineer",
            "Data Engineer",
            "Data Engineer",
            "Data Engineer",
            "Data Engineer",
            "Data Engineer",
            "Data Engineer",
            "Data Engineer",
            "Data Engineer",
            "Data Engineer",
            "Data Engineer",
            "Data Engineer",
            "Data Engineer",
            "Data Engineer",
            "Data Engineer",
            "Data Engineer",
            "Data Engineer",
            "Data Engineer",
            "Data Engineer",
            "Data Engineer",
            "Data Engineer",
            "Data Engineer",
            "Data Engineer",
            "Data Engineer",
            "Data Engineer",
            "Data Engineer",
            "Data Engineer",
            "Data Engineer",
            "Data Engineer",
            "Data Engineer",
            "Data Engineer",
            "Data Engineer",
            "Data Engineer",
            "Data Engineer",
            "Data Engineer",
            "Data Engineer",
            "Data Engineer",
            "Data Engineer",
            "Data Engineer",
            "Data Engineer"
           ],
           "legendgroup": "Data Engineer",
           "marker": {
            "color": "rgb(234, 79, 136)",
            "size": [
             135000,
             170000,
             150000,
             52351,
             242000,
             200000,
             78526,
             52351,
             45807,
             181940,
             132320,
             220110,
             160080,
             165400,
             132320,
             243900,
             128875,
             93700,
             156600,
             108800,
             113000,
             78526,
             65438,
             160000,
             136000,
             165400,
             136994,
             101570,
             132320,
             155000,
             117789,
             209100,
             154600,
             175000,
             98158,
             183600,
             65949,
             49461,
             78526,
             58894,
             63900,
             82900,
             100800,
             49461,
             87932,
             76940,
             104702,
             91614,
             65949,
             87932,
             98158,
             78526,
             76940,
             209100,
             154600,
             180000,
             80000,
             105000,
             54957,
             120000,
             100000,
             324000,
             216000,
             210000,
             58035,
             115000,
             65000,
             68147,
             155000,
             206699,
             99100,
             130000,
             115000,
             110500,
             130000,
             160000,
             200100,
             160000,
             145000,
             70500,
             175100,
             140250,
             54000,
             100000,
             25000,
             220110,
             160080,
             154000,
             126000
            ],
            "sizemode": "area",
            "sizeref": 1500,
            "symbol": "circle"
           },
           "mode": "markers",
           "name": "Data Engineer",
           "orientation": "h",
           "showlegend": true,
           "type": "scatter",
           "x": [
            135000,
            170000,
            150000,
            52351,
            242000,
            200000,
            78526,
            52351,
            45807,
            181940,
            132320,
            220110,
            160080,
            165400,
            132320,
            243900,
            128875,
            93700,
            156600,
            108800,
            113000,
            78526,
            65438,
            160000,
            136000,
            165400,
            136994,
            101570,
            132320,
            155000,
            117789,
            209100,
            154600,
            175000,
            98158,
            183600,
            65949,
            49461,
            78526,
            58894,
            63900,
            82900,
            100800,
            49461,
            87932,
            76940,
            104702,
            91614,
            65949,
            87932,
            98158,
            78526,
            76940,
            209100,
            154600,
            180000,
            80000,
            105000,
            54957,
            120000,
            100000,
            324000,
            216000,
            210000,
            58035,
            115000,
            65000,
            68147,
            155000,
            206699,
            99100,
            130000,
            115000,
            110500,
            130000,
            160000,
            200100,
            160000,
            145000,
            70500,
            175100,
            140250,
            54000,
            100000,
            25000,
            220110,
            160080,
            154000,
            126000
           ],
           "xaxis": "x",
           "y": [
            "Senior-level/Expert",
            "Mid-level/Intermediate",
            "Mid-level/Intermediate",
            "Entry-level/Junior",
            "Executive-level/Director",
            "Executive-level/Director",
            "Mid-level/Intermediate",
            "Mid-level/Intermediate",
            "Entry-level/Junior",
            "Senior-level/Expert",
            "Senior-level/Expert",
            "Senior-level/Expert",
            "Senior-level/Expert",
            "Senior-level/Expert",
            "Senior-level/Expert",
            "Senior-level/Expert",
            "Senior-level/Expert",
            "Senior-level/Expert",
            "Senior-level/Expert",
            "Senior-level/Expert",
            "Senior-level/Expert",
            "Senior-level/Expert",
            "Senior-level/Expert",
            "Senior-level/Expert",
            "Senior-level/Expert",
            "Senior-level/Expert",
            "Senior-level/Expert",
            "Senior-level/Expert",
            "Senior-level/Expert",
            "Senior-level/Expert",
            "Mid-level/Intermediate",
            "Senior-level/Expert",
            "Senior-level/Expert",
            "Senior-level/Expert",
            "Mid-level/Intermediate",
            "Senior-level/Expert",
            "Mid-level/Intermediate",
            "Mid-level/Intermediate",
            "Mid-level/Intermediate",
            "Mid-level/Intermediate",
            "Mid-level/Intermediate",
            "Mid-level/Intermediate",
            "Senior-level/Expert",
            "Mid-level/Intermediate",
            "Mid-level/Intermediate",
            "Mid-level/Intermediate",
            "Mid-level/Intermediate",
            "Mid-level/Intermediate",
            "Mid-level/Intermediate",
            "Mid-level/Intermediate",
            "Mid-level/Intermediate",
            "Mid-level/Intermediate",
            "Mid-level/Intermediate",
            "Senior-level/Expert",
            "Senior-level/Expert",
            "Senior-level/Expert",
            "Senior-level/Expert",
            "Senior-level/Expert",
            "Mid-level/Intermediate",
            "Entry-level/Junior",
            "Senior-level/Expert",
            "Executive-level/Director",
            "Executive-level/Director",
            "Senior-level/Expert",
            "Entry-level/Junior",
            "Senior-level/Expert",
            "Entry-level/Junior",
            "Mid-level/Intermediate",
            "Senior-level/Expert",
            "Mid-level/Intermediate",
            "Mid-level/Intermediate",
            "Senior-level/Expert",
            "Senior-level/Expert",
            "Senior-level/Expert",
            "Senior-level/Expert",
            "Senior-level/Expert",
            "Senior-level/Expert",
            "Senior-level/Expert",
            "Senior-level/Expert",
            "Senior-level/Expert",
            "Senior-level/Expert",
            "Senior-level/Expert",
            "Senior-level/Expert",
            "Senior-level/Expert",
            "Senior-level/Expert",
            "Senior-level/Expert",
            "Senior-level/Expert",
            "Senior-level/Expert",
            "Senior-level/Expert"
           ],
           "yaxis": "y"
          },
          {
           "hovertemplate": "<b>%{hovertext}</b><br><br>job_title=Director of Data Science<br>work_year=2022<br>salary_in_usd=%{marker.size}<br>experience_level=%{y}<extra></extra>",
           "hovertext": [
            "Director of Data Science"
           ],
           "legendgroup": "Director of Data Science",
           "marker": {
            "color": "rgb(237, 217, 163)",
            "size": [
             196979
            ],
            "sizemode": "area",
            "sizeref": 1500,
            "symbol": "circle"
           },
           "mode": "markers",
           "name": "Director of Data Science",
           "orientation": "h",
           "showlegend": true,
           "type": "scatter",
           "x": [
            196979
           ],
           "xaxis": "x",
           "y": [
            "Executive-level/Director"
           ],
           "yaxis": "y"
          },
          {
           "hovertemplate": "<b>%{hovertext}</b><br><br>job_title=Research Scientist<br>work_year=2022<br>salary_in_usd=%{marker.size}<br>experience_level=%{y}<extra></extra>",
           "hovertext": [
            "Research Scientist",
            "Research Scientist",
            "Research Scientist",
            "Research Scientist"
           ],
           "legendgroup": "Research Scientist",
           "marker": {
            "color": "rgb(75, 41, 145)",
            "size": [
             144000,
             93427,
             64849,
             120000
            ],
            "sizemode": "area",
            "sizeref": 1500,
            "symbol": "circle"
           },
           "mode": "markers",
           "name": "Research Scientist",
           "orientation": "h",
           "showlegend": true,
           "type": "scatter",
           "x": [
            144000,
            93427,
            64849,
            120000
           ],
           "xaxis": "x",
           "y": [
            "Senior-level/Expert",
            "Senior-level/Expert",
            "Mid-level/Intermediate",
            "Entry-level/Junior"
           ],
           "yaxis": "y"
          },
          {
           "hovertemplate": "<b>%{hovertext}</b><br><br>job_title=Machine Learning Infrastructure Engineer<br>work_year=2022<br>salary_in_usd=%{marker.size}<br>experience_level=%{y}<extra></extra>",
           "hovertext": [
            "Machine Learning Infrastructure Engineer"
           ],
           "legendgroup": "Machine Learning Infrastructure Engineer",
           "marker": {
            "color": "rgb(234, 79, 136)",
            "size": [
             58255
            ],
            "sizemode": "area",
            "sizeref": 1500,
            "symbol": "circle"
           },
           "mode": "markers",
           "name": "Machine Learning Infrastructure Engineer",
           "orientation": "h",
           "showlegend": true,
           "type": "scatter",
           "x": [
            58255
           ],
           "xaxis": "x",
           "y": [
            "Mid-level/Intermediate"
           ],
           "yaxis": "y"
          },
          {
           "hovertemplate": "<b>%{hovertext}</b><br><br>job_title=ML Engineer<br>work_year=2022<br>salary_in_usd=%{marker.size}<br>experience_level=%{y}<extra></extra>",
           "hovertext": [
            "ML Engineer"
           ],
           "legendgroup": "ML Engineer",
           "marker": {
            "color": "rgb(250, 120, 118)",
            "size": [
             21983
            ],
            "sizemode": "area",
            "sizeref": 1500,
            "symbol": "circle"
           },
           "mode": "markers",
           "name": "ML Engineer",
           "orientation": "h",
           "showlegend": true,
           "type": "scatter",
           "x": [
            21983
           ],
           "xaxis": "x",
           "y": [
            "Entry-level/Junior"
           ],
           "yaxis": "y"
          },
          {
           "hovertemplate": "<b>%{hovertext}</b><br><br>job_title=AI Scientist<br>work_year=2022<br>salary_in_usd=%{marker.size}<br>experience_level=%{y}<extra></extra>",
           "hovertext": [
            "AI Scientist",
            "AI Scientist"
           ],
           "legendgroup": "AI Scientist",
           "marker": {
            "color": "rgb(246, 169, 122)",
            "size": [
             120000,
             200000
            ],
            "sizemode": "area",
            "sizeref": 1500,
            "symbol": "circle"
           },
           "mode": "markers",
           "name": "AI Scientist",
           "orientation": "h",
           "showlegend": true,
           "type": "scatter",
           "x": [
            120000,
            200000
           ],
           "xaxis": "x",
           "y": [
            "Mid-level/Intermediate",
            "Mid-level/Intermediate"
           ],
           "yaxis": "y"
          },
          {
           "hovertemplate": "<b>%{hovertext}</b><br><br>job_title=Computer Vision Engineer<br>work_year=2022<br>salary_in_usd=%{marker.size}<br>experience_level=%{y}<extra></extra>",
           "hovertext": [
            "Computer Vision Engineer",
            "Computer Vision Engineer"
           ],
           "legendgroup": "Computer Vision Engineer",
           "marker": {
            "color": "rgb(237, 217, 163)",
            "size": [
             125000,
             10000
            ],
            "sizemode": "area",
            "sizeref": 1500,
            "symbol": "circle"
           },
           "mode": "markers",
           "name": "Computer Vision Engineer",
           "orientation": "h",
           "showlegend": true,
           "type": "scatter",
           "x": [
            125000,
            10000
           ],
           "xaxis": "x",
           "y": [
            "Entry-level/Junior",
            "Entry-level/Junior"
           ],
           "yaxis": "y"
          },
          {
           "hovertemplate": "<b>%{hovertext}</b><br><br>job_title=Principal Data Scientist<br>work_year=2022<br>salary_in_usd=%{marker.size}<br>experience_level=%{y}<extra></extra>",
           "hovertext": [
            "Principal Data Scientist"
           ],
           "legendgroup": "Principal Data Scientist",
           "marker": {
            "color": "rgb(75, 41, 145)",
            "size": [
             162674
            ],
            "sizemode": "area",
            "sizeref": 1500,
            "symbol": "circle"
           },
           "mode": "markers",
           "name": "Principal Data Scientist",
           "orientation": "h",
           "showlegend": true,
           "type": "scatter",
           "x": [
            162674
           ],
           "xaxis": "x",
           "y": [
            "Senior-level/Expert"
           ],
           "yaxis": "y"
          },
          {
           "hovertemplate": "<b>%{hovertext}</b><br><br>job_title=Data Science Manager<br>work_year=2022<br>salary_in_usd=%{marker.size}<br>experience_level=%{y}<extra></extra>",
           "hovertext": [
            "Data Science Manager",
            "Data Science Manager",
            "Data Science Manager",
            "Data Science Manager",
            "Data Science Manager"
           ],
           "legendgroup": "Data Science Manager",
           "marker": {
            "color": "rgb(135, 44, 162)",
            "size": [
             161342,
             137141,
             241000,
             159000,
             152500
            ],
            "sizemode": "area",
            "sizeref": 1500,
            "symbol": "circle"
           },
           "mode": "markers",
           "name": "Data Science Manager",
           "orientation": "h",
           "showlegend": true,
           "type": "scatter",
           "x": [
            161342,
            137141,
            241000,
            159000,
            152500
           ],
           "xaxis": "x",
           "y": [
            "Senior-level/Expert",
            "Senior-level/Expert",
            "Mid-level/Intermediate",
            "Mid-level/Intermediate",
            "Senior-level/Expert"
           ],
           "yaxis": "y"
          },
          {
           "hovertemplate": "<b>%{hovertext}</b><br><br>job_title=Head of Data<br>work_year=2022<br>salary_in_usd=%{marker.size}<br>experience_level=%{y}<extra></extra>",
           "hovertext": [
            "Head of Data",
            "Head of Data"
           ],
           "legendgroup": "Head of Data",
           "marker": {
            "color": "rgb(192, 54, 157)",
            "size": [
             200000,
             32974
            ],
            "sizemode": "area",
            "sizeref": 1500,
            "symbol": "circle"
           },
           "mode": "markers",
           "name": "Head of Data",
           "orientation": "h",
           "showlegend": true,
           "type": "scatter",
           "x": [
            200000,
            32974
           ],
           "xaxis": "x",
           "y": [
            "Senior-level/Expert",
            "Mid-level/Intermediate"
           ],
           "yaxis": "y"
          },
          {
           "hovertemplate": "<b>%{hovertext}</b><br><br>job_title=Data Analytics Engineer<br>work_year=2022<br>salary_in_usd=%{marker.size}<br>experience_level=%{y}<extra></extra>",
           "hovertext": [
            "Data Analytics Engineer"
           ],
           "legendgroup": "Data Analytics Engineer",
           "marker": {
            "color": "rgb(250, 120, 118)",
            "size": [
             20000
            ],
            "sizemode": "area",
            "sizeref": 1500,
            "symbol": "circle"
           },
           "mode": "markers",
           "name": "Data Analytics Engineer",
           "orientation": "h",
           "showlegend": true,
           "type": "scatter",
           "x": [
            20000
           ],
           "xaxis": "x",
           "y": [
            "Entry-level/Junior"
           ],
           "yaxis": "y"
          },
          {
           "hovertemplate": "<b>%{hovertext}</b><br><br>job_title=Applied Data Scientist<br>work_year=2022<br>salary_in_usd=%{marker.size}<br>experience_level=%{y}<extra></extra>",
           "hovertext": [
            "Applied Data Scientist",
            "Applied Data Scientist",
            "Applied Data Scientist"
           ],
           "legendgroup": "Applied Data Scientist",
           "marker": {
            "color": "rgb(246, 169, 122)",
            "size": [
             157000,
             380000,
             177000
            ],
            "sizemode": "area",
            "sizeref": 1500,
            "symbol": "circle"
           },
           "mode": "markers",
           "name": "Applied Data Scientist",
           "orientation": "h",
           "showlegend": true,
           "type": "scatter",
           "x": [
            157000,
            380000,
            177000
           ],
           "xaxis": "x",
           "y": [
            "Mid-level/Intermediate",
            "Senior-level/Expert",
            "Senior-level/Expert"
           ],
           "yaxis": "y"
          },
          {
           "hovertemplate": "<b>%{hovertext}</b><br><br>job_title=Financial Data Analyst<br>work_year=2022<br>salary_in_usd=%{marker.size}<br>experience_level=%{y}<extra></extra>",
           "hovertext": [
            "Financial Data Analyst"
           ],
           "legendgroup": "Financial Data Analyst",
           "marker": {
            "color": "rgb(135, 44, 162)",
            "size": [
             100000
            ],
            "sizemode": "area",
            "sizeref": 1500,
            "symbol": "circle"
           },
           "mode": "markers",
           "name": "Financial Data Analyst",
           "orientation": "h",
           "showlegend": true,
           "type": "scatter",
           "x": [
            100000
           ],
           "xaxis": "x",
           "y": [
            "Entry-level/Junior"
           ],
           "yaxis": "y"
          },
          {
           "hovertemplate": "<b>%{hovertext}</b><br><br>job_title=Computer Vision Software Engineer<br>work_year=2022<br>salary_in_usd=%{marker.size}<br>experience_level=%{y}<extra></extra>",
           "hovertext": [
            "Computer Vision Software Engineer"
           ],
           "legendgroup": "Computer Vision Software Engineer",
           "marker": {
            "color": "rgb(192, 54, 157)",
            "size": [
             150000
            ],
            "sizemode": "area",
            "sizeref": 1500,
            "symbol": "circle"
           },
           "mode": "markers",
           "name": "Computer Vision Software Engineer",
           "orientation": "h",
           "showlegend": true,
           "type": "scatter",
           "x": [
            150000
           ],
           "xaxis": "x",
           "y": [
            "Entry-level/Junior"
           ],
           "yaxis": "y"
          },
          {
           "hovertemplate": "<b>%{hovertext}</b><br><br>job_title=Data Science Engineer<br>work_year=2022<br>salary_in_usd=%{marker.size}<br>experience_level=%{y}<extra></extra>",
           "hovertext": [
            "Data Science Engineer"
           ],
           "legendgroup": "Data Science Engineer",
           "marker": {
            "color": "rgb(250, 120, 118)",
            "size": [
             60000
            ],
            "sizemode": "area",
            "sizeref": 1500,
            "symbol": "circle"
           },
           "mode": "markers",
           "name": "Data Science Engineer",
           "orientation": "h",
           "showlegend": true,
           "type": "scatter",
           "x": [
            60000
           ],
           "xaxis": "x",
           "y": [
            "Senior-level/Expert"
           ],
           "yaxis": "y"
          },
          {
           "hovertemplate": "<b>%{hovertext}</b><br><br>job_title=Machine Learning Developer<br>work_year=2022<br>salary_in_usd=%{marker.size}<br>experience_level=%{y}<extra></extra>",
           "hovertext": [
            "Machine Learning Developer",
            "Machine Learning Developer"
           ],
           "legendgroup": "Machine Learning Developer",
           "marker": {
            "color": "rgb(237, 217, 163)",
            "size": [
             78791,
             78791
            ],
            "sizemode": "area",
            "sizeref": 1500,
            "symbol": "circle"
           },
           "mode": "markers",
           "name": "Machine Learning Developer",
           "orientation": "h",
           "showlegend": true,
           "type": "scatter",
           "x": [
            78791,
            78791
           ],
           "xaxis": "x",
           "y": [
            "Mid-level/Intermediate",
            "Senior-level/Expert"
           ],
           "yaxis": "y"
          },
          {
           "hovertemplate": "<b>%{hovertext}</b><br><br>job_title=Applied Machine Learning Scientist<br>work_year=2022<br>salary_in_usd=%{marker.size}<br>experience_level=%{y}<extra></extra>",
           "hovertext": [
            "Applied Machine Learning Scientist",
            "Applied Machine Learning Scientist"
           ],
           "legendgroup": "Applied Machine Learning Scientist",
           "marker": {
            "color": "rgb(75, 41, 145)",
            "size": [
             31875,
             75000
            ],
            "sizemode": "area",
            "sizeref": 1500,
            "symbol": "circle"
           },
           "mode": "markers",
           "name": "Applied Machine Learning Scientist",
           "orientation": "h",
           "showlegend": true,
           "type": "scatter",
           "x": [
            31875,
            75000
           ],
           "xaxis": "x",
           "y": [
            "Entry-level/Junior",
            "Mid-level/Intermediate"
           ],
           "yaxis": "y"
          },
          {
           "hovertemplate": "<b>%{hovertext}</b><br><br>job_title=Data Analytics Manager<br>work_year=2022<br>salary_in_usd=%{marker.size}<br>experience_level=%{y}<extra></extra>",
           "hovertext": [
            "Data Analytics Manager",
            "Data Analytics Manager",
            "Data Analytics Manager",
            "Data Analytics Manager"
           ],
           "legendgroup": "Data Analytics Manager",
           "marker": {
            "color": "rgb(135, 44, 162)",
            "size": [
             145000,
             105400,
             150260,
             109280
            ],
            "sizemode": "area",
            "sizeref": 1500,
            "symbol": "circle"
           },
           "mode": "markers",
           "name": "Data Analytics Manager",
           "orientation": "h",
           "showlegend": true,
           "type": "scatter",
           "x": [
            145000,
            105400,
            150260,
            109280
           ],
           "xaxis": "x",
           "y": [
            "Senior-level/Expert",
            "Senior-level/Expert",
            "Senior-level/Expert",
            "Senior-level/Expert"
           ],
           "yaxis": "y"
          },
          {
           "hovertemplate": "<b>%{hovertext}</b><br><br>job_title=Head of Data Science<br>work_year=2022<br>salary_in_usd=%{marker.size}<br>experience_level=%{y}<extra></extra>",
           "hovertext": [
            "Head of Data Science",
            "Head of Data Science"
           ],
           "legendgroup": "Head of Data Science",
           "marker": {
            "color": "rgb(192, 54, 157)",
            "size": [
             224000,
             167875
            ],
            "sizemode": "area",
            "sizeref": 1500,
            "symbol": "circle"
           },
           "mode": "markers",
           "name": "Head of Data Science",
           "orientation": "h",
           "showlegend": true,
           "type": "scatter",
           "x": [
            224000,
            167875
           ],
           "xaxis": "x",
           "y": [
            "Executive-level/Director",
            "Executive-level/Director"
           ],
           "yaxis": "y"
          },
          {
           "hovertemplate": "<b>%{hovertext}</b><br><br>job_title=Data Architect<br>work_year=2022<br>salary_in_usd=%{marker.size}<br>experience_level=%{y}<extra></extra>",
           "hovertext": [
            "Data Architect",
            "Data Architect",
            "Data Architect",
            "Data Architect",
            "Data Architect",
            "Data Architect",
            "Data Architect",
            "Data Architect"
           ],
           "legendgroup": "Data Architect",
           "marker": {
            "color": "rgb(250, 120, 118)",
            "size": [
             192400,
             90700,
             208775,
             147800,
             266400,
             213120,
             192564,
             144854
            ],
            "sizemode": "area",
            "sizeref": 1500,
            "symbol": "circle"
           },
           "mode": "markers",
           "name": "Data Architect",
           "orientation": "h",
           "showlegend": true,
           "type": "scatter",
           "x": [
            192400,
            90700,
            208775,
            147800,
            266400,
            213120,
            192564,
            144854
           ],
           "xaxis": "x",
           "y": [
            "Senior-level/Expert",
            "Senior-level/Expert",
            "Senior-level/Expert",
            "Senior-level/Expert",
            "Senior-level/Expert",
            "Senior-level/Expert",
            "Senior-level/Expert",
            "Senior-level/Expert"
           ],
           "yaxis": "y"
          },
          {
           "hovertemplate": "<b>%{hovertext}</b><br><br>job_title=Principal Data Analyst<br>work_year=2022<br>salary_in_usd=%{marker.size}<br>experience_level=%{y}<extra></extra>",
           "hovertext": [
            "Principal Data Analyst"
           ],
           "legendgroup": "Principal Data Analyst",
           "marker": {
            "color": "rgb(237, 217, 163)",
            "size": [
             75000
            ],
            "sizemode": "area",
            "sizeref": 1500,
            "symbol": "circle"
           },
           "mode": "markers",
           "name": "Principal Data Analyst",
           "orientation": "h",
           "showlegend": true,
           "type": "scatter",
           "x": [
            75000
           ],
           "xaxis": "x",
           "y": [
            "Mid-level/Intermediate"
           ],
           "yaxis": "y"
          },
          {
           "hovertemplate": "<b>%{hovertext}</b><br><br>job_title=Analytics Engineer<br>work_year=2022<br>salary_in_usd=%{marker.size}<br>experience_level=%{y}<extra></extra>",
           "hovertext": [
            "Analytics Engineer",
            "Analytics Engineer",
            "Analytics Engineer",
            "Analytics Engineer"
           ],
           "legendgroup": "Analytics Engineer",
           "marker": {
            "color": "rgb(192, 54, 157)",
            "size": [
             175000,
             135000,
             205300,
             184700
            ],
            "sizemode": "area",
            "sizeref": 1500,
            "symbol": "circle"
           },
           "mode": "markers",
           "name": "Analytics Engineer",
           "orientation": "h",
           "showlegend": true,
           "type": "scatter",
           "x": [
            175000,
            135000,
            205300,
            184700
           ],
           "xaxis": "x",
           "y": [
            "Executive-level/Director",
            "Executive-level/Director",
            "Senior-level/Expert",
            "Senior-level/Expert"
           ],
           "yaxis": "y"
          },
          {
           "hovertemplate": "<b>%{hovertext}</b><br><br>job_title=ETL Developer<br>work_year=2022<br>salary_in_usd=%{marker.size}<br>experience_level=%{y}<extra></extra>",
           "hovertext": [
            "ETL Developer",
            "ETL Developer"
           ],
           "legendgroup": "ETL Developer",
           "marker": {
            "color": "rgb(234, 79, 136)",
            "size": [
             54957,
             54957
            ],
            "sizemode": "area",
            "sizeref": 1500,
            "symbol": "circle"
           },
           "mode": "markers",
           "name": "ETL Developer",
           "orientation": "h",
           "showlegend": true,
           "type": "scatter",
           "x": [
            54957,
            54957
           ],
           "xaxis": "x",
           "y": [
            "Mid-level/Intermediate",
            "Mid-level/Intermediate"
           ],
           "yaxis": "y"
          },
          {
           "hovertemplate": "<b>%{hovertext}</b><br><br>job_title=Head of Machine Learning<br>work_year=2022<br>salary_in_usd=%{marker.size}<br>experience_level=%{y}<extra></extra>",
           "hovertext": [
            "Head of Machine Learning"
           ],
           "legendgroup": "Head of Machine Learning",
           "marker": {
            "color": "rgb(250, 120, 118)",
            "size": [
             79039
            ],
            "sizemode": "area",
            "sizeref": 1500,
            "symbol": "circle"
           },
           "mode": "markers",
           "name": "Head of Machine Learning",
           "orientation": "h",
           "showlegend": true,
           "type": "scatter",
           "x": [
            79039
           ],
           "xaxis": "x",
           "y": [
            "Executive-level/Director"
           ],
           "yaxis": "y"
          },
          {
           "hovertemplate": "<b>%{hovertext}</b><br><br>job_title=NLP Engineer<br>work_year=2022<br>salary_in_usd=%{marker.size}<br>experience_level=%{y}<extra></extra>",
           "hovertext": [
            "NLP Engineer"
           ],
           "legendgroup": "NLP Engineer",
           "marker": {
            "color": "rgb(246, 169, 122)",
            "size": [
             37236
            ],
            "sizemode": "area",
            "sizeref": 1500,
            "symbol": "circle"
           },
           "mode": "markers",
           "name": "NLP Engineer",
           "orientation": "h",
           "showlegend": true,
           "type": "scatter",
           "x": [
            37236
           ],
           "xaxis": "x",
           "y": [
            "Mid-level/Intermediate"
           ],
           "yaxis": "y"
          },
          {
           "hovertemplate": "<b>%{hovertext}</b><br><br>job_title=Lead Machine Learning Engineer<br>work_year=2022<br>salary_in_usd=%{marker.size}<br>experience_level=%{y}<extra></extra>",
           "hovertext": [
            "Lead Machine Learning Engineer"
           ],
           "legendgroup": "Lead Machine Learning Engineer",
           "marker": {
            "color": "rgb(237, 217, 163)",
            "size": [
             87932
            ],
            "sizemode": "area",
            "sizeref": 1500,
            "symbol": "circle"
           },
           "mode": "markers",
           "name": "Lead Machine Learning Engineer",
           "orientation": "h",
           "showlegend": true,
           "type": "scatter",
           "x": [
            87932
           ],
           "xaxis": "x",
           "y": [
            "Senior-level/Expert"
           ],
           "yaxis": "y"
          },
          {
           "hovertemplate": "<b>%{hovertext}</b><br><br>job_title=Data Analytics Lead<br>work_year=2022<br>salary_in_usd=%{marker.size}<br>experience_level=%{y}<extra></extra>",
           "hovertext": [
            "Data Analytics Lead"
           ],
           "legendgroup": "Data Analytics Lead",
           "marker": {
            "color": "rgb(75, 41, 145)",
            "size": [
             405000
            ],
            "sizemode": "area",
            "sizeref": 1500,
            "symbol": "circle"
           },
           "mode": "markers",
           "name": "Data Analytics Lead",
           "orientation": "h",
           "showlegend": true,
           "type": "scatter",
           "x": [
            405000
           ],
           "xaxis": "x",
           "y": [
            "Senior-level/Expert"
           ],
           "yaxis": "y"
          }
         ],
         "name": "2022"
        }
       ],
       "layout": {
        "legend": {
         "itemsizing": "constant",
         "title": {
          "text": "job_title"
         },
         "tracegroupgap": 0
        },
        "sliders": [
         {
          "active": 0,
          "currentvalue": {
           "prefix": "work_year="
          },
          "len": 0.9,
          "pad": {
           "b": 10,
           "t": 60
          },
          "steps": [
           {
            "args": [
             [
              "2020"
             ],
             {
              "frame": {
               "duration": 0,
               "redraw": false
              },
              "fromcurrent": true,
              "mode": "immediate",
              "transition": {
               "duration": 0,
               "easing": "linear"
              }
             }
            ],
            "label": "2020",
            "method": "animate"
           },
           {
            "args": [
             [
              "2021"
             ],
             {
              "frame": {
               "duration": 0,
               "redraw": false
              },
              "fromcurrent": true,
              "mode": "immediate",
              "transition": {
               "duration": 0,
               "easing": "linear"
              }
             }
            ],
            "label": "2021",
            "method": "animate"
           },
           {
            "args": [
             [
              "2022"
             ],
             {
              "frame": {
               "duration": 0,
               "redraw": false
              },
              "fromcurrent": true,
              "mode": "immediate",
              "transition": {
               "duration": 0,
               "easing": "linear"
              }
             }
            ],
            "label": "2022",
            "method": "animate"
           }
          ],
          "x": 0.1,
          "xanchor": "left",
          "y": 0,
          "yanchor": "top"
         }
        ],
        "template": {
         "data": {
          "bar": [
           {
            "error_x": {
             "color": "#f2f5fa"
            },
            "error_y": {
             "color": "#f2f5fa"
            },
            "marker": {
             "line": {
              "color": "rgb(17,17,17)",
              "width": 0.5
             },
             "pattern": {
              "fillmode": "overlay",
              "size": 10,
              "solidity": 0.2
             }
            },
            "type": "bar"
           }
          ],
          "barpolar": [
           {
            "marker": {
             "line": {
              "color": "rgb(17,17,17)",
              "width": 0.5
             },
             "pattern": {
              "fillmode": "overlay",
              "size": 10,
              "solidity": 0.2
             }
            },
            "type": "barpolar"
           }
          ],
          "carpet": [
           {
            "aaxis": {
             "endlinecolor": "#A2B1C6",
             "gridcolor": "#506784",
             "linecolor": "#506784",
             "minorgridcolor": "#506784",
             "startlinecolor": "#A2B1C6"
            },
            "baxis": {
             "endlinecolor": "#A2B1C6",
             "gridcolor": "#506784",
             "linecolor": "#506784",
             "minorgridcolor": "#506784",
             "startlinecolor": "#A2B1C6"
            },
            "type": "carpet"
           }
          ],
          "choropleth": [
           {
            "colorbar": {
             "outlinewidth": 0,
             "ticks": ""
            },
            "type": "choropleth"
           }
          ],
          "contour": [
           {
            "colorbar": {
             "outlinewidth": 0,
             "ticks": ""
            },
            "colorscale": [
             [
              0,
              "#0d0887"
             ],
             [
              0.1111111111111111,
              "#46039f"
             ],
             [
              0.2222222222222222,
              "#7201a8"
             ],
             [
              0.3333333333333333,
              "#9c179e"
             ],
             [
              0.4444444444444444,
              "#bd3786"
             ],
             [
              0.5555555555555556,
              "#d8576b"
             ],
             [
              0.6666666666666666,
              "#ed7953"
             ],
             [
              0.7777777777777778,
              "#fb9f3a"
             ],
             [
              0.8888888888888888,
              "#fdca26"
             ],
             [
              1,
              "#f0f921"
             ]
            ],
            "type": "contour"
           }
          ],
          "contourcarpet": [
           {
            "colorbar": {
             "outlinewidth": 0,
             "ticks": ""
            },
            "type": "contourcarpet"
           }
          ],
          "heatmap": [
           {
            "colorbar": {
             "outlinewidth": 0,
             "ticks": ""
            },
            "colorscale": [
             [
              0,
              "#0d0887"
             ],
             [
              0.1111111111111111,
              "#46039f"
             ],
             [
              0.2222222222222222,
              "#7201a8"
             ],
             [
              0.3333333333333333,
              "#9c179e"
             ],
             [
              0.4444444444444444,
              "#bd3786"
             ],
             [
              0.5555555555555556,
              "#d8576b"
             ],
             [
              0.6666666666666666,
              "#ed7953"
             ],
             [
              0.7777777777777778,
              "#fb9f3a"
             ],
             [
              0.8888888888888888,
              "#fdca26"
             ],
             [
              1,
              "#f0f921"
             ]
            ],
            "type": "heatmap"
           }
          ],
          "heatmapgl": [
           {
            "colorbar": {
             "outlinewidth": 0,
             "ticks": ""
            },
            "colorscale": [
             [
              0,
              "#0d0887"
             ],
             [
              0.1111111111111111,
              "#46039f"
             ],
             [
              0.2222222222222222,
              "#7201a8"
             ],
             [
              0.3333333333333333,
              "#9c179e"
             ],
             [
              0.4444444444444444,
              "#bd3786"
             ],
             [
              0.5555555555555556,
              "#d8576b"
             ],
             [
              0.6666666666666666,
              "#ed7953"
             ],
             [
              0.7777777777777778,
              "#fb9f3a"
             ],
             [
              0.8888888888888888,
              "#fdca26"
             ],
             [
              1,
              "#f0f921"
             ]
            ],
            "type": "heatmapgl"
           }
          ],
          "histogram": [
           {
            "marker": {
             "pattern": {
              "fillmode": "overlay",
              "size": 10,
              "solidity": 0.2
             }
            },
            "type": "histogram"
           }
          ],
          "histogram2d": [
           {
            "colorbar": {
             "outlinewidth": 0,
             "ticks": ""
            },
            "colorscale": [
             [
              0,
              "#0d0887"
             ],
             [
              0.1111111111111111,
              "#46039f"
             ],
             [
              0.2222222222222222,
              "#7201a8"
             ],
             [
              0.3333333333333333,
              "#9c179e"
             ],
             [
              0.4444444444444444,
              "#bd3786"
             ],
             [
              0.5555555555555556,
              "#d8576b"
             ],
             [
              0.6666666666666666,
              "#ed7953"
             ],
             [
              0.7777777777777778,
              "#fb9f3a"
             ],
             [
              0.8888888888888888,
              "#fdca26"
             ],
             [
              1,
              "#f0f921"
             ]
            ],
            "type": "histogram2d"
           }
          ],
          "histogram2dcontour": [
           {
            "colorbar": {
             "outlinewidth": 0,
             "ticks": ""
            },
            "colorscale": [
             [
              0,
              "#0d0887"
             ],
             [
              0.1111111111111111,
              "#46039f"
             ],
             [
              0.2222222222222222,
              "#7201a8"
             ],
             [
              0.3333333333333333,
              "#9c179e"
             ],
             [
              0.4444444444444444,
              "#bd3786"
             ],
             [
              0.5555555555555556,
              "#d8576b"
             ],
             [
              0.6666666666666666,
              "#ed7953"
             ],
             [
              0.7777777777777778,
              "#fb9f3a"
             ],
             [
              0.8888888888888888,
              "#fdca26"
             ],
             [
              1,
              "#f0f921"
             ]
            ],
            "type": "histogram2dcontour"
           }
          ],
          "mesh3d": [
           {
            "colorbar": {
             "outlinewidth": 0,
             "ticks": ""
            },
            "type": "mesh3d"
           }
          ],
          "parcoords": [
           {
            "line": {
             "colorbar": {
              "outlinewidth": 0,
              "ticks": ""
             }
            },
            "type": "parcoords"
           }
          ],
          "pie": [
           {
            "automargin": true,
            "type": "pie"
           }
          ],
          "scatter": [
           {
            "marker": {
             "line": {
              "color": "#283442"
             }
            },
            "type": "scatter"
           }
          ],
          "scatter3d": [
           {
            "line": {
             "colorbar": {
              "outlinewidth": 0,
              "ticks": ""
             }
            },
            "marker": {
             "colorbar": {
              "outlinewidth": 0,
              "ticks": ""
             }
            },
            "type": "scatter3d"
           }
          ],
          "scattercarpet": [
           {
            "marker": {
             "colorbar": {
              "outlinewidth": 0,
              "ticks": ""
             }
            },
            "type": "scattercarpet"
           }
          ],
          "scattergeo": [
           {
            "marker": {
             "colorbar": {
              "outlinewidth": 0,
              "ticks": ""
             }
            },
            "type": "scattergeo"
           }
          ],
          "scattergl": [
           {
            "marker": {
             "line": {
              "color": "#283442"
             }
            },
            "type": "scattergl"
           }
          ],
          "scattermapbox": [
           {
            "marker": {
             "colorbar": {
              "outlinewidth": 0,
              "ticks": ""
             }
            },
            "type": "scattermapbox"
           }
          ],
          "scatterpolar": [
           {
            "marker": {
             "colorbar": {
              "outlinewidth": 0,
              "ticks": ""
             }
            },
            "type": "scatterpolar"
           }
          ],
          "scatterpolargl": [
           {
            "marker": {
             "colorbar": {
              "outlinewidth": 0,
              "ticks": ""
             }
            },
            "type": "scatterpolargl"
           }
          ],
          "scatterternary": [
           {
            "marker": {
             "colorbar": {
              "outlinewidth": 0,
              "ticks": ""
             }
            },
            "type": "scatterternary"
           }
          ],
          "surface": [
           {
            "colorbar": {
             "outlinewidth": 0,
             "ticks": ""
            },
            "colorscale": [
             [
              0,
              "#0d0887"
             ],
             [
              0.1111111111111111,
              "#46039f"
             ],
             [
              0.2222222222222222,
              "#7201a8"
             ],
             [
              0.3333333333333333,
              "#9c179e"
             ],
             [
              0.4444444444444444,
              "#bd3786"
             ],
             [
              0.5555555555555556,
              "#d8576b"
             ],
             [
              0.6666666666666666,
              "#ed7953"
             ],
             [
              0.7777777777777778,
              "#fb9f3a"
             ],
             [
              0.8888888888888888,
              "#fdca26"
             ],
             [
              1,
              "#f0f921"
             ]
            ],
            "type": "surface"
           }
          ],
          "table": [
           {
            "cells": {
             "fill": {
              "color": "#506784"
             },
             "line": {
              "color": "rgb(17,17,17)"
             }
            },
            "header": {
             "fill": {
              "color": "#2a3f5f"
             },
             "line": {
              "color": "rgb(17,17,17)"
             }
            },
            "type": "table"
           }
          ]
         },
         "layout": {
          "annotationdefaults": {
           "arrowcolor": "#f2f5fa",
           "arrowhead": 0,
           "arrowwidth": 1
          },
          "autotypenumbers": "strict",
          "coloraxis": {
           "colorbar": {
            "outlinewidth": 0,
            "ticks": ""
           }
          },
          "colorscale": {
           "diverging": [
            [
             0,
             "#8e0152"
            ],
            [
             0.1,
             "#c51b7d"
            ],
            [
             0.2,
             "#de77ae"
            ],
            [
             0.3,
             "#f1b6da"
            ],
            [
             0.4,
             "#fde0ef"
            ],
            [
             0.5,
             "#f7f7f7"
            ],
            [
             0.6,
             "#e6f5d0"
            ],
            [
             0.7,
             "#b8e186"
            ],
            [
             0.8,
             "#7fbc41"
            ],
            [
             0.9,
             "#4d9221"
            ],
            [
             1,
             "#276419"
            ]
           ],
           "sequential": [
            [
             0,
             "#0d0887"
            ],
            [
             0.1111111111111111,
             "#46039f"
            ],
            [
             0.2222222222222222,
             "#7201a8"
            ],
            [
             0.3333333333333333,
             "#9c179e"
            ],
            [
             0.4444444444444444,
             "#bd3786"
            ],
            [
             0.5555555555555556,
             "#d8576b"
            ],
            [
             0.6666666666666666,
             "#ed7953"
            ],
            [
             0.7777777777777778,
             "#fb9f3a"
            ],
            [
             0.8888888888888888,
             "#fdca26"
            ],
            [
             1,
             "#f0f921"
            ]
           ],
           "sequentialminus": [
            [
             0,
             "#0d0887"
            ],
            [
             0.1111111111111111,
             "#46039f"
            ],
            [
             0.2222222222222222,
             "#7201a8"
            ],
            [
             0.3333333333333333,
             "#9c179e"
            ],
            [
             0.4444444444444444,
             "#bd3786"
            ],
            [
             0.5555555555555556,
             "#d8576b"
            ],
            [
             0.6666666666666666,
             "#ed7953"
            ],
            [
             0.7777777777777778,
             "#fb9f3a"
            ],
            [
             0.8888888888888888,
             "#fdca26"
            ],
            [
             1,
             "#f0f921"
            ]
           ]
          },
          "colorway": [
           "#636efa",
           "#EF553B",
           "#00cc96",
           "#ab63fa",
           "#FFA15A",
           "#19d3f3",
           "#FF6692",
           "#B6E880",
           "#FF97FF",
           "#FECB52"
          ],
          "font": {
           "color": "#f2f5fa"
          },
          "geo": {
           "bgcolor": "rgb(17,17,17)",
           "lakecolor": "rgb(17,17,17)",
           "landcolor": "rgb(17,17,17)",
           "showlakes": true,
           "showland": true,
           "subunitcolor": "#506784"
          },
          "hoverlabel": {
           "align": "left"
          },
          "hovermode": "closest",
          "mapbox": {
           "style": "dark"
          },
          "paper_bgcolor": "rgb(17,17,17)",
          "plot_bgcolor": "rgb(17,17,17)",
          "polar": {
           "angularaxis": {
            "gridcolor": "#506784",
            "linecolor": "#506784",
            "ticks": ""
           },
           "bgcolor": "rgb(17,17,17)",
           "radialaxis": {
            "gridcolor": "#506784",
            "linecolor": "#506784",
            "ticks": ""
           }
          },
          "scene": {
           "xaxis": {
            "backgroundcolor": "rgb(17,17,17)",
            "gridcolor": "#506784",
            "gridwidth": 2,
            "linecolor": "#506784",
            "showbackground": true,
            "ticks": "",
            "zerolinecolor": "#C8D4E3"
           },
           "yaxis": {
            "backgroundcolor": "rgb(17,17,17)",
            "gridcolor": "#506784",
            "gridwidth": 2,
            "linecolor": "#506784",
            "showbackground": true,
            "ticks": "",
            "zerolinecolor": "#C8D4E3"
           },
           "zaxis": {
            "backgroundcolor": "rgb(17,17,17)",
            "gridcolor": "#506784",
            "gridwidth": 2,
            "linecolor": "#506784",
            "showbackground": true,
            "ticks": "",
            "zerolinecolor": "#C8D4E3"
           }
          },
          "shapedefaults": {
           "line": {
            "color": "#f2f5fa"
           }
          },
          "sliderdefaults": {
           "bgcolor": "#C8D4E3",
           "bordercolor": "rgb(17,17,17)",
           "borderwidth": 1,
           "tickwidth": 0
          },
          "ternary": {
           "aaxis": {
            "gridcolor": "#506784",
            "linecolor": "#506784",
            "ticks": ""
           },
           "baxis": {
            "gridcolor": "#506784",
            "linecolor": "#506784",
            "ticks": ""
           },
           "bgcolor": "rgb(17,17,17)",
           "caxis": {
            "gridcolor": "#506784",
            "linecolor": "#506784",
            "ticks": ""
           }
          },
          "title": {
           "x": 0.05
          },
          "updatemenudefaults": {
           "bgcolor": "#506784",
           "borderwidth": 0
          },
          "xaxis": {
           "automargin": true,
           "gridcolor": "#283442",
           "linecolor": "#506784",
           "ticks": "",
           "title": {
            "standoff": 15
           },
           "zerolinecolor": "#283442",
           "zerolinewidth": 2
          },
          "yaxis": {
           "automargin": true,
           "gridcolor": "#283442",
           "linecolor": "#506784",
           "ticks": "",
           "title": {
            "standoff": 15
           },
           "zerolinecolor": "#283442",
           "zerolinewidth": 2
          }
         }
        },
        "title": {
         "text": "Co-relation b/w experience level, salary and job title on a year basis"
        },
        "updatemenus": [
         {
          "buttons": [
           {
            "args": [
             null,
             {
              "frame": {
               "duration": 500,
               "redraw": false
              },
              "fromcurrent": true,
              "mode": "immediate",
              "transition": {
               "duration": 500,
               "easing": "linear"
              }
             }
            ],
            "label": "&#9654;",
            "method": "animate"
           },
           {
            "args": [
             [
              null
             ],
             {
              "frame": {
               "duration": 0,
               "redraw": false
              },
              "fromcurrent": true,
              "mode": "immediate",
              "transition": {
               "duration": 0,
               "easing": "linear"
              }
             }
            ],
            "label": "&#9724;",
            "method": "animate"
           }
          ],
          "direction": "left",
          "pad": {
           "r": 10,
           "t": 70
          },
          "showactive": false,
          "type": "buttons",
          "x": 0.1,
          "xanchor": "right",
          "y": 0,
          "yanchor": "top"
         }
        ],
        "xaxis": {
         "anchor": "y",
         "domain": [
          0,
          1
         ],
         "title": {
          "text": "salary_in_usd"
         }
        },
        "yaxis": {
         "anchor": "x",
         "categoryarray": [
          "Entry",
          "Mid",
          "Senior",
          "Executive"
         ],
         "domain": [
          0,
          1
         ],
         "title": {
          "text": "experience_level"
         }
        }
       }
      }
     },
     "metadata": {},
     "output_type": "display_data"
    }
   ],
   "source": [
    "px.scatter(df, x = 'salary_in_usd', y = 'experience_level',\n",
    "           size = 'salary_in_usd',\n",
    "           hover_name = 'job_title',\n",
    "           color = 'job_title', \n",
    "           color_discrete_sequence=px.colors.sequential.Agsunset, template = 'plotly_dark',\n",
    "           animation_frame = 'work_year',\n",
    "           title = 'Co-relation b/w experience level, salary and job title on a year basis').update_yaxes(categoryarray = ['Entry', 'Mid', 'Senior', 'Executive'])"
   ]
  },
  {
   "cell_type": "markdown",
   "metadata": {},
   "source": [
    "# Conclusion\n",
    "\n",
    "The prominence of data science roles is on a marked rise. \n",
    "\n",
    "For professionals eyeing the zenith of pay scales, the United States emerges as the front-runner. However, it's essential to contextualize this perspective. While the U.S. does offer higher salaries, a holistic understanding would entail examining factors like the cost of living, healthcare provisions, and more.\n",
    "\n",
    "Larger and medium-sized companies tend to be more generous with compensation compared to their smaller counterparts.\n",
    "\n",
    "As we stride into 2022, contract-based and full-time positions appear to be the most lucrative employment types.\n",
    "\n",
    "Roles like Data Engineers, Data Scientists, and Machine Learning Engineers stand out, commanding noteworthy average salaries, showcasing their market value.\n",
    "\n",
    "The ascendancy of remote positions is evident, both in terms of popularity and pay scale. This shift could arguably be attributed to the recent pandemic.\n",
    "\n",
    "A significant uptick in salary can be observed as one transitions into senior-level roles.\n",
    "\n",
    "It's imperative to note that a substantial portion of our dataset originates from the U.S., where wages are notably higher than in other nations. Consequently, the presented average salaries might not be truly representative of global trends. Using them as a yardstick for global salary expectations might be misleading.\n",
    "\n",
    "Concluding from the analysis, venturing into a data science-centric career path seems promising, especially considering the salary prospects and flexibility of remote work.\n"
   ]
  }
 ],
 "metadata": {
  "kernelspec": {
   "display_name": "dt740",
   "language": "python",
   "name": "python3"
  },
  "language_info": {
   "codemirror_mode": {
    "name": "ipython",
    "version": 3
   },
   "file_extension": ".py",
   "mimetype": "text/x-python",
   "name": "python",
   "nbconvert_exporter": "python",
   "pygments_lexer": "ipython3",
   "version": "3.10.4"
  },
  "orig_nbformat": 4
 },
 "nbformat": 4,
 "nbformat_minor": 2
}
